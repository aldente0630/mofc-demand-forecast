{
 "cells": [
  {
   "cell_type": "code",
   "execution_count": 1,
   "id": "a2d59165-02ca-4369-a94e-3e6ec73d65b8",
   "metadata": {},
   "outputs": [],
   "source": [
    "%load_ext autoreload\n",
    "%autoreload 2"
   ]
  },
  {
   "cell_type": "code",
   "execution_count": 2,
   "id": "04e94915-cfe3-41eb-ab51-5b55074eccc4",
   "metadata": {},
   "outputs": [
    {
     "name": "stdout",
     "output_type": "stream",
     "text": [
      "<VERSION>\n",
      "category_encoders: 2.2.2, gluonts: 0.8.0, mxnet: 1.8.0\n"
     ]
    }
   ],
   "source": [
    "import itertools\n",
    "import os\n",
    "import warnings\n",
    "import category_encoders\n",
    "import gluonts\n",
    "import mxnet\n",
    "import altair as alt\n",
    "import numpy as np\n",
    "import pandas as pd\n",
    "from pathlib import Path\n",
    "from sklearn.preprocessing import MinMaxScaler, OrdinalEncoder\n",
    "from category_encoders.hashing import HashingEncoder\n",
    "from gluonts.dataset.multivariate_grouper import MultivariateGrouper\n",
    "from gluonts.evaluation import Evaluator, MultivariateEvaluator\n",
    "from gluonts.evaluation.backtest import make_evaluation_predictions\n",
    "from gluonts.dataset.common import ListDataset\n",
    "from gluonts.dataset.field_names import FieldName\n",
    "from gluonts.model.deepar import DeepAREstimator\n",
    "from gluonts.model.deepvar import DeepVAREstimator\n",
    "from gluonts.model.predictor import Predictor\n",
    "from gluonts.mx.distribution import (\n",
    "    LowrankMultivariateGaussianOutput,\n",
    "    NegativeBinomialOutput, \n",
    "    PoissonOutput,\n",
    ")\n",
    "from gluonts.mx.trainer import Trainer\n",
    "from mxnet.context import num_gpus\n",
    "from utils.evaluation import WRMSSEEvaluator\n",
    "from utils.misc import dump_pickle, load_pickle\n",
    "\n",
    "\n",
    "mxnet.random.seed(42)\n",
    "np.random.seed(42)\n",
    "warnings.filterwarnings(\"ignore\")\n",
    "print(f\"<VERSION>\\ncategory_encoders: {category_encoders.__version__}, gluonts: {gluonts.__version__}, mxnet: {mxnet.__version__}\")"
   ]
  },
  {
   "cell_type": "markdown",
   "id": "e3935438-e3c0-41e5-87ab-5c5a64f53b3a",
   "metadata": {},
   "source": [
    "The Kaggle dataset was saved in the local directory `~/data/mofc-sales-forecast` in advance."
   ]
  },
  {
   "cell_type": "code",
   "execution_count": 3,
   "id": "a1ea8ceb-ddf6-49d8-9311-77d26cc5282d",
   "metadata": {},
   "outputs": [],
   "source": [
    "DATA_PATH = \"../../data/mofc-sales-forecast\"\n",
    "MODEL_PATH = \"models\"\n",
    "\n",
    "calendar = pd.read_csv(os.path.join(DATA_PATH, \"calendar.csv\"))\n",
    "selling_prices = pd.read_csv(os.path.join(DATA_PATH, \"sell_prices.csv\"))\n",
    "df_train_valid = pd.read_csv(os.path.join(DATA_PATH, \"sales_train_validation.csv\"))\n",
    "df_train_eval = pd.read_csv(os.path.join(DATA_PATH, \"sales_train_evaluation.csv\"))\n",
    "sample_submission = pd.read_csv(os.path.join(DATA_PATH, \"sample_submission.csv\"))"
   ]
  },
  {
   "cell_type": "code",
   "execution_count": 86,
   "id": "738144a6-729f-4e48-8844-8f7d284a8016",
   "metadata": {},
   "outputs": [
    {
     "name": "stdout",
     "output_type": "stream",
     "text": [
      "3049 out of 30490 IDs were selected for a test.\n"
     ]
    }
   ],
   "source": [
    "key_names = [\"id\", \"item_id\", \"dept_id\", \"cat_id\", \"store_id\", \"state_id\"]\n",
    "submission_ids = df_train_eval[\"id\"].unique()\n",
    "date_names = [\"d_\" + str(i) for i in range(1, 1942)]\n",
    "dates = calendar[\"date\"].unique()\n",
    "test_steps = 28\n",
    "\n",
    "key_pairs = list(itertools.product(submission_ids, dates))\n",
    "key_pairs = pd.DataFrame(key_pairs, columns=[\"id\", \"date\"])\n",
    "\n",
    "test_samplle_ratio = 0.1\n",
    "\n",
    "if test_samplle_ratio == 1.0:\n",
    "    test_sampled_ids = submission_ids\n",
    "else:\n",
    "    test_sampled_ids = np.random.choice(\n",
    "        submission_ids, round(test_samplle_ratio * len(submission_ids)), replace=False\n",
    "    ).tolist()\n",
    "    \n",
    "print(\n",
    "    f\"{len(test_sampled_ids)} out of {len(submission_ids)} IDs were selected for a test.\"\n",
    ")\n",
    "\n",
    "test_sampled_ids = load_pickle(\"ids.pkl\") # Removed"
   ]
  },
  {
   "cell_type": "markdown",
   "id": "dc9edd18-b652-4fed-86e9-97a7cdc40e08",
   "metadata": {},
   "source": [
    "# Data Preprocessing"
   ]
  },
  {
   "cell_type": "code",
   "execution_count": 5,
   "id": "f7d39a4d-d7d8-432b-a50f-8d480b250bbf",
   "metadata": {},
   "outputs": [],
   "source": [
    "target = df_train_eval[[\"id\"] + date_names]\n",
    "target = target.set_index(\"id\").T.reset_index()\n",
    "date_dict = calendar[[\"date\", \"d\"]].set_index(\"d\").to_dict()[\"date\"]\n",
    "target[\"index\"] = target[\"index\"].replace(date_dict)\n",
    "target.columns = [\"date\"] + target.columns[1:].tolist()\n",
    "target = target.set_index(\"date\")"
   ]
  },
  {
   "cell_type": "code",
   "execution_count": 6,
   "id": "0ae6db7f-f6ca-4fb8-8bec-7659a8681bc6",
   "metadata": {},
   "outputs": [],
   "source": [
    "feature_names = [\"event_name_1\", \"event_type_1\", \"event_name_2\", \"event_type_2\"]\n",
    "events = calendar[[\"date\"] + feature_names].fillna(\"NA\")\n",
    "train = events[events[\"date\"] < dates[-2 * test_steps]][feature_names]\n",
    "\n",
    "encoder = HashingEncoder(drop_invariant=True)\n",
    "_ = encoder.fit(train)\n",
    "encoded = encoder.transform(events[feature_names])\n",
    "events = pd.concat([events[[\"date\"]], encoded], axis=1)\n",
    "\n",
    "time_related = calendar[[\"date\", \"wday\", \"month\"]]\n",
    "time_related[\"day\"] = time_related[\"date\"].map(lambda x: int(x.split(\"-\")[2]))\n",
    "\n",
    "feat_dynamic_cat = events.merge(time_related).set_index(\"date\")\n",
    "\n",
    "scaler = MinMaxScaler()\n",
    "scaled = scaler.fit_transform(feat_dynamic_cat)\n",
    "feat_dynamic_cat = pd.DataFrame(\n",
    "    scaled, columns=feat_dynamic_cat.columns, index=feat_dynamic_cat.index\n",
    ")\n",
    "n_feat_dynamic_cat = feat_dynamic_cat.shape[1]"
   ]
  },
  {
   "cell_type": "code",
   "execution_count": 7,
   "id": "042273de-a9e6-4422-a7d7-7ce528ef6f08",
   "metadata": {},
   "outputs": [],
   "source": [
    "prices = (\n",
    "    df_train_eval[[\"id\", \"store_id\", \"item_id\"]]\n",
    "    .merge(selling_prices, how=\"left\")\n",
    "    .drop([\"store_id\", \"item_id\"], axis=1)\n",
    ")\n",
    "week_to_date = calendar[[\"date\", \"wm_yr_wk\"]].drop_duplicates()\n",
    "prices = week_to_date.merge(prices, how=\"left\").drop(\n",
    "    [\"wm_yr_wk\"], axis=1\n",
    ")\n",
    "\n",
    "scaler = MinMaxScaler()\n",
    "train = prices[prices[\"date\"] < dates[-2 * test_steps]][[\"sell_price\"]]\n",
    "\n",
    "_ = scaler.fit(train)\n",
    "prices[\"sell_price\"] = scaler.transform(prices[[\"sell_price\"]])\n",
    "prices = prices.pivot(index=\"date\", columns=\"id\", values=\"sell_price\")\n",
    "prices = prices.fillna(method=\"bfill\")\n",
    "\n",
    "snap = calendar[[\"date\", \"snap_CA\", \"snap_TX\", \"snap_WI\"]]\n",
    "snap.columns = [\"date\", \"CA\", \"TX\", \"WI\"]\n",
    "snap = pd.melt(\n",
    "    snap,\n",
    "    id_vars=\"date\",\n",
    "    value_vars=[\"CA\", \"TX\", \"WI\"],\n",
    "    var_name=\"state_id\",\n",
    "    value_name=\"snap\",\n",
    ")\n",
    "snap = key_pairs.merge(df_train_eval[[\"id\", \"state_id\"]], how=\"left\").merge(\n",
    "    snap, on=[\"date\", \"state_id\"], how=\"left\"\n",
    ")\n",
    "snap = snap.pivot(index=\"date\", columns=\"id\", values=\"snap\")\n",
    "\n",
    "feat_dynamic_real = pd.concat([prices, snap], axis=1)\n",
    "n_feat_dynamic_real = int(feat_dynamic_real.shape[1] / target.shape[1])"
   ]
  },
  {
   "cell_type": "code",
   "execution_count": 8,
   "id": "0e5e5832-c6e2-4e0b-874d-4e50006d5af3",
   "metadata": {},
   "outputs": [],
   "source": [
    "feature_names = [\"item_id\", \"dept_id\", \"cat_id\", \"store_id\", \"state_id\"]\n",
    "feat_static_cat = df_train_eval[[\"id\"] + feature_names]\n",
    "\n",
    "encoder = OrdinalEncoder()\n",
    "feat_static_cat[feature_names] = encoder.fit_transform(feat_static_cat[feature_names])\n",
    "feat_static_cat[feature_names] = feat_static_cat[feature_names].astype(int)\n",
    "feat_static_cat = feat_static_cat.set_index(\"id\").T\n",
    "\n",
    "cardinality = [len(category) for category in encoder.categories_]"
   ]
  },
  {
   "cell_type": "code",
   "execution_count": 44,
   "id": "b1e94eeb-ac21-4344-869b-c08b51092fb2",
   "metadata": {},
   "outputs": [],
   "source": [
    "def split_into_n_array(x, n):\n",
    "    return np.hsplit(x.values.T.ravel(), n)\n",
    "\n",
    "\n",
    "train_list = []\n",
    "for test_sampled_id in test_sampled_ids:\n",
    "    dict_by_id = {\n",
    "        FieldName.TARGET: target[test_sampled_id].iloc[:-test_steps].values,\n",
    "        FieldName.START: target.index[0],\n",
    "        FieldName.FEAT_DYNAMIC_REAL: split_into_n_array(\n",
    "            feat_dynamic_cat.iloc[: -2 * test_steps], \n",
    "            n_feat_dynamic_cat,\n",
    "        )\n",
    "        + split_into_n_array(\n",
    "            feat_dynamic_real[test_sampled_id].iloc[: -2 * test_steps],\n",
    "            n_feat_dynamic_real,\n",
    "        ),\n",
    "        FieldName.FEAT_STATIC_CAT: feat_static_cat[test_sampled_id].values,\n",
    "    }\n",
    "    train_list.append(dict_by_id)\n",
    "\n",
    "test_list = []\n",
    "for test_sampled_id in test_sampled_ids:\n",
    "    dict_by_id = {\n",
    "        FieldName.TARGET: target[test_sampled_id].values,\n",
    "        FieldName.START: target.index[0],\n",
    "        FieldName.FEAT_DYNAMIC_REAL: split_into_n_array(\n",
    "            feat_dynamic_cat.iloc[: -test_steps], \n",
    "            n_feat_dynamic_cat,\n",
    "        )\n",
    "        + split_into_n_array(\n",
    "            feat_dynamic_real[test_sampled_id].iloc[: -test_steps],\n",
    "            n_feat_dynamic_real,\n",
    "        ),\n",
    "        FieldName.FEAT_STATIC_CAT: feat_static_cat[test_sampled_id].values,\n",
    "    }\n",
    "    test_list.append(dict_by_id)\n",
    "    \n",
    "train_dataset = ListDataset(train_list, freq=\"D\")\n",
    "test_dataset = ListDataset(test_list, freq=\"D\")"
   ]
  },
  {
   "cell_type": "markdown",
   "id": "9c9b1c0b-04ba-4a34-978b-86b5b924af81",
   "metadata": {},
   "source": [
    "# DeepAR: Model Training"
   ]
  },
  {
   "cell_type": "code",
   "execution_count": null,
   "id": "aedcf2e0-d9af-4f1d-a51b-32fe46581f67",
   "metadata": {},
   "outputs": [],
   "source": [
    "device = \"gpu\" if num_gpus() > 0 else \"cpu\"\n",
    "trainer = Trainer(\n",
    "    ctx=device,\n",
    "    epochs=200,\n",
    "    num_batches_per_epoch=50,\n",
    "    learning_rate=0.001,\n",
    "    hybridize=True,\n",
    ")"
   ]
  },
  {
   "cell_type": "code",
   "execution_count": null,
   "id": "9b489c21-badd-4bfa-8407-e0f1cf0f815d",
   "metadata": {},
   "outputs": [],
   "source": [
    "deepar_estimator = DeepAREstimator(\n",
    "    freq=\"D\", \n",
    "    prediction_length=test_steps,\n",
    "    trainer=trainer,\n",
    "    context_length=2 * test_steps,\n",
    "    num_layers=2,\n",
    "    num_cells=40,\n",
    "    cell_type=\"lstm\",\n",
    "    dropout_rate=0.2,\n",
    "    use_feat_dynamic_real=True,\n",
    "    use_feat_static_cat=True,\n",
    "    use_feat_static_real=False,\n",
    "    cardinality=cardinality,\n",
    "    distr_output=NegativeBinomialOutput(),\n",
    "    # distr_output=PoissonOutput(), \n",
    "    batch_size=30,\n",
    ")"
   ]
  },
  {
   "cell_type": "code",
   "execution_count": null,
   "id": "037efb06-81ec-4875-b587-1a0b41d28bac",
   "metadata": {},
   "outputs": [],
   "source": [
    "%%time\n",
    "deepar_predictor = deepar_estimator.train(train_dataset)\n",
    "os.makedirs(MODEL_PATH, exist_ok=True)\n",
    "deepar_predictor.serialize(Path(os.path.join(MODEL_PATH, \"deepar\")))"
   ]
  },
  {
   "cell_type": "markdown",
   "id": "cf9bab3d-d4b2-4d5b-a0fd-3f307ebfdbe6",
   "metadata": {},
   "source": [
    "# DeepAR: Model Evaluation"
   ]
  },
  {
   "cell_type": "code",
   "execution_count": null,
   "id": "758f8a4f-48b0-4a2c-978a-b621336b9276",
   "metadata": {},
   "outputs": [],
   "source": [
    "deepar_predictor = Predictor.deserialize(Path(os.path.join(MODEL_PATH, \"deepar\")))"
   ]
  },
  {
   "cell_type": "code",
   "execution_count": null,
   "id": "b33084a2-5bbf-4f4a-841d-5e13c111b129",
   "metadata": {},
   "outputs": [],
   "source": [
    "%%time\n",
    "forecast_iter, ts_iter = make_evaluation_predictions( \n",
    "    dataset=test_dataset,\n",
    "    predictor=deepar_predictor, \n",
    "    num_samples=100,\n",
    ") \n",
    "forecasts = list(forecast_iter)\n",
    "tss = list(ts_iter)"
   ]
  },
  {
   "cell_type": "code",
   "execution_count": null,
   "id": "0f2f5f87-12e2-41ee-bdc9-66f1d6fc5e3f",
   "metadata": {},
   "outputs": [],
   "source": [
    "num_series = len(test_sampled_ids)\n",
    "\n",
    "evaluator = Evaluator(quantiles=[0.1, 0.5, 0.9])\n",
    "agg_metrics, item_metrics = evaluator(\n",
    "    iter(tss), iter(forecasts), num_series=num_series\n",
    ")"
   ]
  },
  {
   "cell_type": "code",
   "execution_count": null,
   "id": "907b3737-3aef-44d6-ae6e-795d7a665582",
   "metadata": {},
   "outputs": [],
   "source": [
    "string = \"\"\n",
    "for key, value in agg_metrics.items():\n",
    "    if not np.isnan(value):\n",
    "        string += key + \": \" + f\"{value:.4f}\\n\"\n",
    "        \n",
    "print(string[:-2])"
   ]
  },
  {
   "cell_type": "code",
   "execution_count": 54,
   "id": "eb414f5d-1229-4581-be1f-3d401b0b862a",
   "metadata": {},
   "outputs": [
    {
     "data": {
      "application/vnd.jupyter.widget-view+json": {
       "model_id": "5afab05d36f04ea6a20643fc02d3eaef",
       "version_major": 2,
       "version_minor": 0
      },
      "text/plain": [
       "  0%|          | 0/12 [00:00<?, ?it/s]"
      ]
     },
     "metadata": {},
     "output_type": "display_data"
    }
   ],
   "source": [
    "sampled_df_train_eval = (\n",
    "    df_train_eval.set_index(\"id\").loc[test_sampled_ids].reset_index()\n",
    ")\n",
    "sampled_df_train = sampled_df_train_eval.loc[:, key_names + date_names[:-test_steps]]\n",
    "sampled_df_test = sampled_df_train_eval.loc[:, date_names[-test_steps:]]\n",
    "\n",
    "evaluator = WRMSSEEvaluator(\n",
    "    sampled_df_train, sampled_df_test, calendar, selling_prices, test_steps\n",
    ")"
   ]
  },
  {
   "cell_type": "code",
   "execution_count": null,
   "id": "2aae0735-1034-432e-aa67-92fab8069ea3",
   "metadata": {},
   "outputs": [],
   "source": [
    "predictions = [forecast.mean for forecast in forecasts]\n",
    "sampled_df_pred = pd.DataFrame(predictions, columns=sampled_df_test.columns)\n",
    "\n",
    "wrmsse = evaluator.score(sampled_df_pred)\n",
    "\n",
    "print(f\"DeepAR WRMSSE: {wrmsse:.6f}\")"
   ]
  },
  {
   "cell_type": "code",
   "execution_count": 81,
   "id": "5b53b8ed-43b5-4419-9149-36cf741603ac",
   "metadata": {},
   "outputs": [],
   "source": [
    "def plot_forecast(source, test_steps, plot_id=None, model_name=None, start_date=None):\n",
    "    if start_date is not None:\n",
    "        source = source[source[\"time\"] >= start_date]\n",
    "\n",
    "    points = (\n",
    "        alt.Chart(source)\n",
    "        .mark_circle(size=10.0, color=\"#000000\")\n",
    "        .encode(\n",
    "            x=alt.X(\"time:T\", axis=alt.Axis(title=\"Date\")),\n",
    "            y=alt.Y(\"y\", axis=alt.Axis(title=\"Sales\")),\n",
    "            tooltip=[\"time:T\", \"y:Q\"],\n",
    "        )\n",
    "    )\n",
    "\n",
    "    line = (\n",
    "        alt.Chart(source)\n",
    "        .mark_line(size=1.0, color=\"#4267B2\")\n",
    "        .encode(\n",
    "            x=\"time:T\",\n",
    "            y=\"fcst\",\n",
    "        )\n",
    "    )\n",
    "\n",
    "    band_90 = (\n",
    "        alt.Chart(source)\n",
    "        .mark_area(opacity=0.25, color=\"#4267B2\")\n",
    "        .encode(\n",
    "            x=\"time:T\",\n",
    "            y=\"fcst_lower_05\",\n",
    "            y2=\"fcst_upper_95\",\n",
    "        )\n",
    "    )\n",
    "\n",
    "    band_50 = (\n",
    "        alt.Chart(source)\n",
    "        .mark_area(opacity=0.5, color=\"#4267B2\")\n",
    "        .encode(\n",
    "            x=\"time:T\",\n",
    "            y=\"fcst_lower_25\",\n",
    "            y2=\"fcst_upper_75\",\n",
    "        )\n",
    "    )\n",
    "\n",
    "    rule = (\n",
    "        alt.Chart(source[[\"time\"]].iloc[-test_steps : -test_steps + 1])\n",
    "        .mark_rule(size=1.0, color=\"#FF0000\", strokeDash=[2, 2])\n",
    "        .encode(x=\"time:T\")\n",
    "    )\n",
    "\n",
    "    title = \"Sales Forecast\"\n",
    "    if plot_id is not None:\n",
    "        title += f\" for '{plot_id}'\"\n",
    "    if model_name is not None:\n",
    "        title = f\"{model_name}: \" + title\n",
    "\n",
    "    return (points + line + band_90 + band_50 + rule).properties(title=title, width=1000, height=300)"
   ]
  },
  {
   "cell_type": "code",
   "execution_count": null,
   "id": "4b0319af-1f7a-4617-ad8a-8ad635f8b92b",
   "metadata": {},
   "outputs": [],
   "source": [
    "plot_index = 2  # 2, 3, 9\n",
    "plot_id = test_sampled_ids[plot_index]\n",
    "\n",
    "y = target[[plot_id]].reset_index()\n",
    "y.columns = [\"time\", \"y\"]\n",
    "y[\"time\"] = pd.to_datetime(y[\"time\"])\n",
    "\n",
    "forecast = pd.DataFrame(\n",
    "    [forecasts[plot_index].mean]\n",
    "    + [forecasts[plot_index].quantile(p) for p in [0.05, 0.25, 0.75, 0.95]],\n",
    "    columns=forecasts[plot_index].index,\n",
    ").T.reset_index()\n",
    "forecast.columns = [\n",
    "    \"time\",\n",
    "    \"fcst\",\n",
    "    \"fcst_lower_05\",\n",
    "    \"fcst_lower_25\",\n",
    "    \"fcst_upper_75\",\n",
    "    \"fcst_upper_95\",\n",
    "]\n",
    "\n",
    "source = y.merge(forecast, how=\"left\")\n",
    "plot_forecast(\n",
    "    source, test_steps, plot_id=plot_id, model_name=\"DeepAR\", start_date=\"2015-05-23\"\n",
    ")"
   ]
  },
  {
   "cell_type": "markdown",
   "id": "4426be8f-ef22-46aa-95b3-4c5ee243b659",
   "metadata": {},
   "source": [
    "# DeepVAR: Model Training"
   ]
  },
  {
   "cell_type": "code",
   "execution_count": 45,
   "id": "b36b98a3-ba02-42bb-8460-87802361d8e1",
   "metadata": {},
   "outputs": [],
   "source": [
    "train_grouper = MultivariateGrouper(max_target_dim=num_series)\n",
    "train_dataset = train_grouper(train_dataset)\n",
    "\n",
    "test_grouper = MultivariateGrouper(max_target_dim=num_series)\n",
    "test_dataset = test_grouper(test_dataset)"
   ]
  },
  {
   "cell_type": "code",
   "execution_count": 47,
   "id": "8f616055-ff46-413f-b267-e61af09bbb9a",
   "metadata": {},
   "outputs": [],
   "source": [
    "trainer = Trainer(\n",
    "    ctx=device,\n",
    "    epochs=200,\n",
    "    num_batches_per_epoch=50,\n",
    "    learning_rate=0.001,\n",
    "    hybridize=True,\n",
    ")"
   ]
  },
  {
   "cell_type": "code",
   "execution_count": 48,
   "id": "f32c52db-6eb8-43ae-b862-24704543728e",
   "metadata": {},
   "outputs": [],
   "source": [
    "deepvar_estimator = DeepVAREstimator(\n",
    "    freq=\"D\", \n",
    "    prediction_length=test_steps,\n",
    "    target_dim=target_dim,\n",
    "    trainer=trainer,\n",
    "    context_length=2 * test_steps,\n",
    "    num_layers=2,\n",
    "    num_cells=40,\n",
    "    cell_type=\"lstm\",\n",
    "    dropout_rate=0.2,\n",
    "    cardinality=cardinality,\n",
    "    distr_output=LowrankMultivariateGaussianOutput(dim=num_series, rank=5),\n",
    "    batch_size=30,\n",
    ")"
   ]
  },
  {
   "cell_type": "code",
   "execution_count": 49,
   "id": "508b550c-5463-4eaa-9456-efc49f1b7dba",
   "metadata": {},
   "outputs": [
    {
     "name": "stderr",
     "output_type": "stream",
     "text": [
      "100%|██████████| 50/50 [05:17<00:00,  6.36s/it, epoch=1/1, avg_epoch_loss=1.19e+18]\n",
      "WARNING:root:Serializing RepresentableBlockPredictor instances does not save the prediction network structure in a backwards-compatible manner. Be careful not to use this method in production.\n"
     ]
    },
    {
     "name": "stdout",
     "output_type": "stream",
     "text": [
      "CPU times: user 5min 13s, sys: 5.13 s, total: 5min 18s\n",
      "Wall time: 5min 18s\n"
     ]
    }
   ],
   "source": [
    "%%time\n",
    "deepvar_predictor = deepvar_estimator.train(train_dataset)\n",
    "deepvar_predictor.serialize(Path(os.path.join(MODEL_PATH, \"deepvar\")))"
   ]
  },
  {
   "cell_type": "markdown",
   "id": "b3c94554-75b9-495b-ad1e-1498009a1f56",
   "metadata": {},
   "source": [
    "# DeepVAR: Model Evaluation"
   ]
  },
  {
   "cell_type": "code",
   "execution_count": null,
   "id": "0b0cad13-e71f-4d9e-a09b-2548565ee8a8",
   "metadata": {},
   "outputs": [],
   "source": [
    "deepvar_predictor = Predictor.deserialize(Path(os.path.join(MODEL_PATH, \"deepvar\")))"
   ]
  },
  {
   "cell_type": "code",
   "execution_count": 50,
   "id": "cc5b9267-049b-4b3b-9023-aae28bcbec42",
   "metadata": {},
   "outputs": [
    {
     "name": "stdout",
     "output_type": "stream",
     "text": [
      "CPU times: user 1.9 s, sys: 312 ms, total: 2.21 s\n",
      "Wall time: 2.08 s\n"
     ]
    }
   ],
   "source": [
    "%%time\n",
    "forecast_iter, ts_iter = make_evaluation_predictions( \n",
    "    dataset=test_dataset,\n",
    "    predictor=deepvar_predictor, \n",
    "    num_samples=100,\n",
    ") \n",
    "forecasts = list(forecast_iter)\n",
    "tss = list(ts_iter)"
   ]
  },
  {
   "cell_type": "code",
   "execution_count": 91,
   "id": "b231b76d-97ce-4418-8532-65e3b56b5c59",
   "metadata": {},
   "outputs": [
    {
     "name": "stderr",
     "output_type": "stream",
     "text": [
      "Running evaluation: 1it [00:00, 21.92it/s]\n"
     ]
    }
   ],
   "source": [
    "evaluator = MultivariateEvaluator(quantiles=[0.1, 0.5, 0.9])\n",
    "agg_metrics = evaluator.calculate_aggregate_multivariate_metrics(\n",
    "    iter(tss), iter(forecasts), np.mean\n",
    ")"
   ]
  },
  {
   "cell_type": "code",
   "execution_count": 92,
   "id": "96be2e24-589c-4bac-bf44-c697f8b89753",
   "metadata": {},
   "outputs": [
    {
     "name": "stdout",
     "output_type": "stream",
     "text": [
      "MSE: 1.9899\n",
      "abs_error: 38.9937\n",
      "abs_target_sum: 38.6891\n",
      "abs_target_mean: 1.3818\n",
      "seasonal_error: 0.1393\n",
      "MASE: 9.9953\n",
      "MAPE: 1.0085\n",
      "sMAPE: 1.9974\n",
      "MSIS: 347.5966\n",
      "QuantileLoss[0.1]: 8.4748\n",
      "Coverage[0.1]: 0.0000\n",
      "QuantileLoss[0.5]: 38.9937\n",
      "Coverage[0.5]: 0.0000\n",
      "QuantileLoss[0.9]: 64.0414\n",
      "Coverage[0.9]: 0.0000\n",
      "RMSE: 1.4106\n",
      "NRMSE: 1.0209\n",
      "ND: 1.0079\n",
      "wQuantileLoss[0.1]: 0.2190\n",
      "wQuantileLoss[0.5]: 1.0079\n",
      "wQuantileLoss[0.9]: 1.6553\n",
      "mean_absolute_QuantileLoss: 37.1699\n",
      "mean_wQuantileLoss: 0.9607\n",
      "MAE_Coverage: 0.500\n"
     ]
    }
   ],
   "source": [
    "string = \"\"\n",
    "for key, value in agg_metrics.items():\n",
    "    if not np.isnan(value):\n",
    "        string += key + \": \" + f\"{value:.4f}\\n\"\n",
    "        \n",
    "print(string[:-2])"
   ]
  },
  {
   "cell_type": "code",
   "execution_count": 66,
   "id": "c565b0ec-521f-4bb7-a6b1-43dfa271da59",
   "metadata": {},
   "outputs": [
    {
     "name": "stdout",
     "output_type": "stream",
     "text": [
      "DeepVAR WRMSSE: 4.705680\n"
     ]
    }
   ],
   "source": [
    "predictions = [forecast.mean for forecast in forecasts]\n",
    "sampled_df_pred = pd.DataFrame(predictions[0].T, columns=sampled_df_test.columns)\n",
    "\n",
    "wrmsse = evaluator.score(sampled_df_pred)\n",
    "\n",
    "print(f\"DeepVAR WRMSSE: {wrmsse:.6f}\")"
   ]
  },
  {
   "cell_type": "code",
   "execution_count": 82,
   "id": "06edae37-8a0c-4dcc-a505-d665cf4440a0",
   "metadata": {},
   "outputs": [
    {
     "data": {
      "text/html": [
       "\n",
       "<div id=\"altair-viz-0908adb617fd4ae7b524432c5a550fb0\"></div>\n",
       "<script type=\"text/javascript\">\n",
       "  (function(spec, embedOpt){\n",
       "    let outputDiv = document.currentScript.previousElementSibling;\n",
       "    if (outputDiv.id !== \"altair-viz-0908adb617fd4ae7b524432c5a550fb0\") {\n",
       "      outputDiv = document.getElementById(\"altair-viz-0908adb617fd4ae7b524432c5a550fb0\");\n",
       "    }\n",
       "    const paths = {\n",
       "      \"vega\": \"https://cdn.jsdelivr.net/npm//vega@5?noext\",\n",
       "      \"vega-lib\": \"https://cdn.jsdelivr.net/npm//vega-lib?noext\",\n",
       "      \"vega-lite\": \"https://cdn.jsdelivr.net/npm//vega-lite@4.8.1?noext\",\n",
       "      \"vega-embed\": \"https://cdn.jsdelivr.net/npm//vega-embed@6?noext\",\n",
       "    };\n",
       "\n",
       "    function loadScript(lib) {\n",
       "      return new Promise(function(resolve, reject) {\n",
       "        var s = document.createElement('script');\n",
       "        s.src = paths[lib];\n",
       "        s.async = true;\n",
       "        s.onload = () => resolve(paths[lib]);\n",
       "        s.onerror = () => reject(`Error loading script: ${paths[lib]}`);\n",
       "        document.getElementsByTagName(\"head\")[0].appendChild(s);\n",
       "      });\n",
       "    }\n",
       "\n",
       "    function showError(err) {\n",
       "      outputDiv.innerHTML = `<div class=\"error\" style=\"color:red;\">${err}</div>`;\n",
       "      throw err;\n",
       "    }\n",
       "\n",
       "    function displayChart(vegaEmbed) {\n",
       "      vegaEmbed(outputDiv, spec, embedOpt)\n",
       "        .catch(err => showError(`Javascript Error: ${err.message}<br>This usually means there's a typo in your chart specification. See the javascript console for the full traceback.`));\n",
       "    }\n",
       "\n",
       "    if(typeof define === \"function\" && define.amd) {\n",
       "      requirejs.config({paths});\n",
       "      require([\"vega-embed\"], displayChart, err => showError(`Error loading script: ${err.message}`));\n",
       "    } else if (typeof vegaEmbed === \"function\") {\n",
       "      displayChart(vegaEmbed);\n",
       "    } else {\n",
       "      loadScript(\"vega\")\n",
       "        .then(() => loadScript(\"vega-lite\"))\n",
       "        .then(() => loadScript(\"vega-embed\"))\n",
       "        .catch(showError)\n",
       "        .then(() => displayChart(vegaEmbed));\n",
       "    }\n",
       "  })({\"config\": {\"view\": {\"continuousWidth\": 400, \"continuousHeight\": 300}}, \"layer\": [{\"mark\": {\"type\": \"circle\", \"color\": \"#000000\", \"size\": 10.0}, \"encoding\": {\"tooltip\": [{\"type\": \"temporal\", \"field\": \"time\"}, {\"type\": \"quantitative\", \"field\": \"y\"}], \"x\": {\"type\": \"temporal\", \"axis\": {\"title\": \"Date\"}, \"field\": \"time\"}, \"y\": {\"type\": \"quantitative\", \"axis\": {\"title\": \"Sales\"}, \"field\": \"y\"}}}, {\"mark\": {\"type\": \"line\", \"color\": \"#4267B2\", \"size\": 1.0}, \"encoding\": {\"x\": {\"type\": \"temporal\", \"field\": \"time\"}, \"y\": {\"type\": \"quantitative\", \"field\": \"fcst\"}}}, {\"mark\": {\"type\": \"area\", \"color\": \"#4267B2\", \"opacity\": 0.25}, \"encoding\": {\"x\": {\"type\": \"temporal\", \"field\": \"time\"}, \"y\": {\"type\": \"quantitative\", \"field\": \"fcst_lower_05\"}, \"y2\": {\"field\": \"fcst_upper_95\"}}}, {\"mark\": {\"type\": \"area\", \"color\": \"#4267B2\", \"opacity\": 0.5}, \"encoding\": {\"x\": {\"type\": \"temporal\", \"field\": \"time\"}, \"y\": {\"type\": \"quantitative\", \"field\": \"fcst_lower_25\"}, \"y2\": {\"field\": \"fcst_upper_75\"}}}, {\"data\": {\"name\": \"data-302bc33366dfe1498bc0394fc8325ea5\"}, \"mark\": {\"type\": \"rule\", \"color\": \"#FF0000\", \"size\": 1.0, \"strokeDash\": [2, 2]}, \"encoding\": {\"x\": {\"type\": \"temporal\", \"field\": \"time\"}}}], \"data\": {\"name\": \"data-c7698e94d32ee9a409bfb4bd349f1b5b\"}, \"height\": 300, \"title\": \"DeepAR: Sales Forecast for 'FOODS_3_034_TX_2_evaluation'\", \"width\": 1000, \"$schema\": \"https://vega.github.io/schema/vega-lite/v4.8.1.json\", \"datasets\": {\"data-c7698e94d32ee9a409bfb4bd349f1b5b\": [{\"time\": \"2015-05-23T00:00:00\", \"y\": 1, \"fcst\": null, \"fcst_lower_05\": null, \"fcst_lower_25\": null, \"fcst_upper_75\": null, \"fcst_upper_95\": null}, {\"time\": \"2015-05-24T00:00:00\", \"y\": 1, \"fcst\": null, \"fcst_lower_05\": null, \"fcst_lower_25\": null, \"fcst_upper_75\": null, \"fcst_upper_95\": null}, {\"time\": \"2015-05-25T00:00:00\", \"y\": 1, \"fcst\": null, \"fcst_lower_05\": null, \"fcst_lower_25\": null, \"fcst_upper_75\": null, \"fcst_upper_95\": null}, {\"time\": \"2015-05-26T00:00:00\", \"y\": 1, \"fcst\": null, \"fcst_lower_05\": null, \"fcst_lower_25\": null, \"fcst_upper_75\": null, \"fcst_upper_95\": null}, {\"time\": \"2015-05-27T00:00:00\", \"y\": 4, \"fcst\": null, \"fcst_lower_05\": null, \"fcst_lower_25\": null, \"fcst_upper_75\": null, \"fcst_upper_95\": null}, {\"time\": \"2015-05-28T00:00:00\", \"y\": 2, \"fcst\": null, \"fcst_lower_05\": null, \"fcst_lower_25\": null, \"fcst_upper_75\": null, \"fcst_upper_95\": null}, {\"time\": \"2015-05-29T00:00:00\", \"y\": 1, \"fcst\": null, \"fcst_lower_05\": null, \"fcst_lower_25\": null, \"fcst_upper_75\": null, \"fcst_upper_95\": null}, {\"time\": \"2015-05-30T00:00:00\", \"y\": 3, \"fcst\": null, \"fcst_lower_05\": null, \"fcst_lower_25\": null, \"fcst_upper_75\": null, \"fcst_upper_95\": null}, {\"time\": \"2015-05-31T00:00:00\", \"y\": 4, \"fcst\": null, \"fcst_lower_05\": null, \"fcst_lower_25\": null, \"fcst_upper_75\": null, \"fcst_upper_95\": null}, {\"time\": \"2015-06-01T00:00:00\", \"y\": 10, \"fcst\": null, \"fcst_lower_05\": null, \"fcst_lower_25\": null, \"fcst_upper_75\": null, \"fcst_upper_95\": null}, {\"time\": \"2015-06-02T00:00:00\", \"y\": 4, \"fcst\": null, \"fcst_lower_05\": null, \"fcst_lower_25\": null, \"fcst_upper_75\": null, \"fcst_upper_95\": null}, {\"time\": \"2015-06-03T00:00:00\", \"y\": 3, \"fcst\": null, \"fcst_lower_05\": null, \"fcst_lower_25\": null, \"fcst_upper_75\": null, \"fcst_upper_95\": null}, {\"time\": \"2015-06-04T00:00:00\", \"y\": 3, \"fcst\": null, \"fcst_lower_05\": null, \"fcst_lower_25\": null, \"fcst_upper_75\": null, \"fcst_upper_95\": null}, {\"time\": \"2015-06-05T00:00:00\", \"y\": 3, \"fcst\": null, \"fcst_lower_05\": null, \"fcst_lower_25\": null, \"fcst_upper_75\": null, \"fcst_upper_95\": null}, {\"time\": \"2015-06-06T00:00:00\", \"y\": 3, \"fcst\": null, \"fcst_lower_05\": null, \"fcst_lower_25\": null, \"fcst_upper_75\": null, \"fcst_upper_95\": null}, {\"time\": \"2015-06-07T00:00:00\", \"y\": 3, \"fcst\": null, \"fcst_lower_05\": null, \"fcst_lower_25\": null, \"fcst_upper_75\": null, \"fcst_upper_95\": null}, {\"time\": \"2015-06-08T00:00:00\", \"y\": 5, \"fcst\": null, \"fcst_lower_05\": null, \"fcst_lower_25\": null, \"fcst_upper_75\": null, \"fcst_upper_95\": null}, {\"time\": \"2015-06-09T00:00:00\", \"y\": 2, \"fcst\": null, \"fcst_lower_05\": null, \"fcst_lower_25\": null, \"fcst_upper_75\": null, \"fcst_upper_95\": null}, {\"time\": \"2015-06-10T00:00:00\", \"y\": 2, \"fcst\": null, \"fcst_lower_05\": null, \"fcst_lower_25\": null, \"fcst_upper_75\": null, \"fcst_upper_95\": null}, {\"time\": \"2015-06-11T00:00:00\", \"y\": 2, \"fcst\": null, \"fcst_lower_05\": null, \"fcst_lower_25\": null, \"fcst_upper_75\": null, \"fcst_upper_95\": null}, {\"time\": \"2015-06-12T00:00:00\", \"y\": 2, \"fcst\": null, \"fcst_lower_05\": null, \"fcst_lower_25\": null, \"fcst_upper_75\": null, \"fcst_upper_95\": null}, {\"time\": \"2015-06-13T00:00:00\", \"y\": 0, \"fcst\": null, \"fcst_lower_05\": null, \"fcst_lower_25\": null, \"fcst_upper_75\": null, \"fcst_upper_95\": null}, {\"time\": \"2015-06-14T00:00:00\", \"y\": 3, \"fcst\": null, \"fcst_lower_05\": null, \"fcst_lower_25\": null, \"fcst_upper_75\": null, \"fcst_upper_95\": null}, {\"time\": \"2015-06-15T00:00:00\", \"y\": 41, \"fcst\": null, \"fcst_lower_05\": null, \"fcst_lower_25\": null, \"fcst_upper_75\": null, \"fcst_upper_95\": null}, {\"time\": \"2015-06-16T00:00:00\", \"y\": 1, \"fcst\": null, \"fcst_lower_05\": null, \"fcst_lower_25\": null, \"fcst_upper_75\": null, \"fcst_upper_95\": null}, {\"time\": \"2015-06-17T00:00:00\", \"y\": 0, \"fcst\": null, \"fcst_lower_05\": null, \"fcst_lower_25\": null, \"fcst_upper_75\": null, \"fcst_upper_95\": null}, {\"time\": \"2015-06-18T00:00:00\", \"y\": 0, \"fcst\": null, \"fcst_lower_05\": null, \"fcst_lower_25\": null, \"fcst_upper_75\": null, \"fcst_upper_95\": null}, {\"time\": \"2015-06-19T00:00:00\", \"y\": 0, \"fcst\": null, \"fcst_lower_05\": null, \"fcst_lower_25\": null, \"fcst_upper_75\": null, \"fcst_upper_95\": null}, {\"time\": \"2015-06-20T00:00:00\", \"y\": 0, \"fcst\": null, \"fcst_lower_05\": null, \"fcst_lower_25\": null, \"fcst_upper_75\": null, \"fcst_upper_95\": null}, {\"time\": \"2015-06-21T00:00:00\", \"y\": 0, \"fcst\": null, \"fcst_lower_05\": null, \"fcst_lower_25\": null, \"fcst_upper_75\": null, \"fcst_upper_95\": null}, {\"time\": \"2015-06-22T00:00:00\", \"y\": 0, \"fcst\": null, \"fcst_lower_05\": null, \"fcst_lower_25\": null, \"fcst_upper_75\": null, \"fcst_upper_95\": null}, {\"time\": \"2015-06-23T00:00:00\", \"y\": 0, \"fcst\": null, \"fcst_lower_05\": null, \"fcst_lower_25\": null, \"fcst_upper_75\": null, \"fcst_upper_95\": null}, {\"time\": \"2015-06-24T00:00:00\", \"y\": 4, \"fcst\": null, \"fcst_lower_05\": null, \"fcst_lower_25\": null, \"fcst_upper_75\": null, \"fcst_upper_95\": null}, {\"time\": \"2015-06-25T00:00:00\", \"y\": 1, \"fcst\": null, \"fcst_lower_05\": null, \"fcst_lower_25\": null, \"fcst_upper_75\": null, \"fcst_upper_95\": null}, {\"time\": \"2015-06-26T00:00:00\", \"y\": 1, \"fcst\": null, \"fcst_lower_05\": null, \"fcst_lower_25\": null, \"fcst_upper_75\": null, \"fcst_upper_95\": null}, {\"time\": \"2015-06-27T00:00:00\", \"y\": 4, \"fcst\": null, \"fcst_lower_05\": null, \"fcst_lower_25\": null, \"fcst_upper_75\": null, \"fcst_upper_95\": null}, {\"time\": \"2015-06-28T00:00:00\", \"y\": 2, \"fcst\": null, \"fcst_lower_05\": null, \"fcst_lower_25\": null, \"fcst_upper_75\": null, \"fcst_upper_95\": null}, {\"time\": \"2015-06-29T00:00:00\", \"y\": 3, \"fcst\": null, \"fcst_lower_05\": null, \"fcst_lower_25\": null, \"fcst_upper_75\": null, \"fcst_upper_95\": null}, {\"time\": \"2015-06-30T00:00:00\", \"y\": 3, \"fcst\": null, \"fcst_lower_05\": null, \"fcst_lower_25\": null, \"fcst_upper_75\": null, \"fcst_upper_95\": null}, {\"time\": \"2015-07-01T00:00:00\", \"y\": 1, \"fcst\": null, \"fcst_lower_05\": null, \"fcst_lower_25\": null, \"fcst_upper_75\": null, \"fcst_upper_95\": null}, {\"time\": \"2015-07-02T00:00:00\", \"y\": 0, \"fcst\": null, \"fcst_lower_05\": null, \"fcst_lower_25\": null, \"fcst_upper_75\": null, \"fcst_upper_95\": null}, {\"time\": \"2015-07-03T00:00:00\", \"y\": 2, \"fcst\": null, \"fcst_lower_05\": null, \"fcst_lower_25\": null, \"fcst_upper_75\": null, \"fcst_upper_95\": null}, {\"time\": \"2015-07-04T00:00:00\", \"y\": 1, \"fcst\": null, \"fcst_lower_05\": null, \"fcst_lower_25\": null, \"fcst_upper_75\": null, \"fcst_upper_95\": null}, {\"time\": \"2015-07-05T00:00:00\", \"y\": 2, \"fcst\": null, \"fcst_lower_05\": null, \"fcst_lower_25\": null, \"fcst_upper_75\": null, \"fcst_upper_95\": null}, {\"time\": \"2015-07-06T00:00:00\", \"y\": 6, \"fcst\": null, \"fcst_lower_05\": null, \"fcst_lower_25\": null, \"fcst_upper_75\": null, \"fcst_upper_95\": null}, {\"time\": \"2015-07-07T00:00:00\", \"y\": 2, \"fcst\": null, \"fcst_lower_05\": null, \"fcst_lower_25\": null, \"fcst_upper_75\": null, \"fcst_upper_95\": null}, {\"time\": \"2015-07-08T00:00:00\", \"y\": 2, \"fcst\": null, \"fcst_lower_05\": null, \"fcst_lower_25\": null, \"fcst_upper_75\": null, \"fcst_upper_95\": null}, {\"time\": \"2015-07-09T00:00:00\", \"y\": 4, \"fcst\": null, \"fcst_lower_05\": null, \"fcst_lower_25\": null, \"fcst_upper_75\": null, \"fcst_upper_95\": null}, {\"time\": \"2015-07-10T00:00:00\", \"y\": 2, \"fcst\": null, \"fcst_lower_05\": null, \"fcst_lower_25\": null, \"fcst_upper_75\": null, \"fcst_upper_95\": null}, {\"time\": \"2015-07-11T00:00:00\", \"y\": 3, \"fcst\": null, \"fcst_lower_05\": null, \"fcst_lower_25\": null, \"fcst_upper_75\": null, \"fcst_upper_95\": null}, {\"time\": \"2015-07-12T00:00:00\", \"y\": 5, \"fcst\": null, \"fcst_lower_05\": null, \"fcst_lower_25\": null, \"fcst_upper_75\": null, \"fcst_upper_95\": null}, {\"time\": \"2015-07-13T00:00:00\", \"y\": 3, \"fcst\": null, \"fcst_lower_05\": null, \"fcst_lower_25\": null, \"fcst_upper_75\": null, \"fcst_upper_95\": null}, {\"time\": \"2015-07-14T00:00:00\", \"y\": 4, \"fcst\": null, \"fcst_lower_05\": null, \"fcst_lower_25\": null, \"fcst_upper_75\": null, \"fcst_upper_95\": null}, {\"time\": \"2015-07-15T00:00:00\", \"y\": 1, \"fcst\": null, \"fcst_lower_05\": null, \"fcst_lower_25\": null, \"fcst_upper_75\": null, \"fcst_upper_95\": null}, {\"time\": \"2015-07-16T00:00:00\", \"y\": 0, \"fcst\": null, \"fcst_lower_05\": null, \"fcst_lower_25\": null, \"fcst_upper_75\": null, \"fcst_upper_95\": null}, {\"time\": \"2015-07-17T00:00:00\", \"y\": 0, \"fcst\": null, \"fcst_lower_05\": null, \"fcst_lower_25\": null, \"fcst_upper_75\": null, \"fcst_upper_95\": null}, {\"time\": \"2015-07-18T00:00:00\", \"y\": 2, \"fcst\": null, \"fcst_lower_05\": null, \"fcst_lower_25\": null, \"fcst_upper_75\": null, \"fcst_upper_95\": null}, {\"time\": \"2015-07-19T00:00:00\", \"y\": 2, \"fcst\": null, \"fcst_lower_05\": null, \"fcst_lower_25\": null, \"fcst_upper_75\": null, \"fcst_upper_95\": null}, {\"time\": \"2015-07-20T00:00:00\", \"y\": 6, \"fcst\": null, \"fcst_lower_05\": null, \"fcst_lower_25\": null, \"fcst_upper_75\": null, \"fcst_upper_95\": null}, {\"time\": \"2015-07-21T00:00:00\", \"y\": 0, \"fcst\": null, \"fcst_lower_05\": null, \"fcst_lower_25\": null, \"fcst_upper_75\": null, \"fcst_upper_95\": null}, {\"time\": \"2015-07-22T00:00:00\", \"y\": 2, \"fcst\": null, \"fcst_lower_05\": null, \"fcst_lower_25\": null, \"fcst_upper_75\": null, \"fcst_upper_95\": null}, {\"time\": \"2015-07-23T00:00:00\", \"y\": 2, \"fcst\": null, \"fcst_lower_05\": null, \"fcst_lower_25\": null, \"fcst_upper_75\": null, \"fcst_upper_95\": null}, {\"time\": \"2015-07-24T00:00:00\", \"y\": 2, \"fcst\": null, \"fcst_lower_05\": null, \"fcst_lower_25\": null, \"fcst_upper_75\": null, \"fcst_upper_95\": null}, {\"time\": \"2015-07-25T00:00:00\", \"y\": 0, \"fcst\": null, \"fcst_lower_05\": null, \"fcst_lower_25\": null, \"fcst_upper_75\": null, \"fcst_upper_95\": null}, {\"time\": \"2015-07-26T00:00:00\", \"y\": 6, \"fcst\": null, \"fcst_lower_05\": null, \"fcst_lower_25\": null, \"fcst_upper_75\": null, \"fcst_upper_95\": null}, {\"time\": \"2015-07-27T00:00:00\", \"y\": 7, \"fcst\": null, \"fcst_lower_05\": null, \"fcst_lower_25\": null, \"fcst_upper_75\": null, \"fcst_upper_95\": null}, {\"time\": \"2015-07-28T00:00:00\", \"y\": 2, \"fcst\": null, \"fcst_lower_05\": null, \"fcst_lower_25\": null, \"fcst_upper_75\": null, \"fcst_upper_95\": null}, {\"time\": \"2015-07-29T00:00:00\", \"y\": 0, \"fcst\": null, \"fcst_lower_05\": null, \"fcst_lower_25\": null, \"fcst_upper_75\": null, \"fcst_upper_95\": null}, {\"time\": \"2015-07-30T00:00:00\", \"y\": 0, \"fcst\": null, \"fcst_lower_05\": null, \"fcst_lower_25\": null, \"fcst_upper_75\": null, \"fcst_upper_95\": null}, {\"time\": \"2015-07-31T00:00:00\", \"y\": 0, \"fcst\": null, \"fcst_lower_05\": null, \"fcst_lower_25\": null, \"fcst_upper_75\": null, \"fcst_upper_95\": null}, {\"time\": \"2015-08-01T00:00:00\", \"y\": 3, \"fcst\": null, \"fcst_lower_05\": null, \"fcst_lower_25\": null, \"fcst_upper_75\": null, \"fcst_upper_95\": null}, {\"time\": \"2015-08-02T00:00:00\", \"y\": 1, \"fcst\": null, \"fcst_lower_05\": null, \"fcst_lower_25\": null, \"fcst_upper_75\": null, \"fcst_upper_95\": null}, {\"time\": \"2015-08-03T00:00:00\", \"y\": 2, \"fcst\": null, \"fcst_lower_05\": null, \"fcst_lower_25\": null, \"fcst_upper_75\": null, \"fcst_upper_95\": null}, {\"time\": \"2015-08-04T00:00:00\", \"y\": 1, \"fcst\": null, \"fcst_lower_05\": null, \"fcst_lower_25\": null, \"fcst_upper_75\": null, \"fcst_upper_95\": null}, {\"time\": \"2015-08-05T00:00:00\", \"y\": 0, \"fcst\": null, \"fcst_lower_05\": null, \"fcst_lower_25\": null, \"fcst_upper_75\": null, \"fcst_upper_95\": null}, {\"time\": \"2015-08-06T00:00:00\", \"y\": 4, \"fcst\": null, \"fcst_lower_05\": null, \"fcst_lower_25\": null, \"fcst_upper_75\": null, \"fcst_upper_95\": null}, {\"time\": \"2015-08-07T00:00:00\", \"y\": 1, \"fcst\": null, \"fcst_lower_05\": null, \"fcst_lower_25\": null, \"fcst_upper_75\": null, \"fcst_upper_95\": null}, {\"time\": \"2015-08-08T00:00:00\", \"y\": 4, \"fcst\": null, \"fcst_lower_05\": null, \"fcst_lower_25\": null, \"fcst_upper_75\": null, \"fcst_upper_95\": null}, {\"time\": \"2015-08-09T00:00:00\", \"y\": 6, \"fcst\": null, \"fcst_lower_05\": null, \"fcst_lower_25\": null, \"fcst_upper_75\": null, \"fcst_upper_95\": null}, {\"time\": \"2015-08-10T00:00:00\", \"y\": 3, \"fcst\": null, \"fcst_lower_05\": null, \"fcst_lower_25\": null, \"fcst_upper_75\": null, \"fcst_upper_95\": null}, {\"time\": \"2015-08-11T00:00:00\", \"y\": 2, \"fcst\": null, \"fcst_lower_05\": null, \"fcst_lower_25\": null, \"fcst_upper_75\": null, \"fcst_upper_95\": null}, {\"time\": \"2015-08-12T00:00:00\", \"y\": 1, \"fcst\": null, \"fcst_lower_05\": null, \"fcst_lower_25\": null, \"fcst_upper_75\": null, \"fcst_upper_95\": null}, {\"time\": \"2015-08-13T00:00:00\", \"y\": 1, \"fcst\": null, \"fcst_lower_05\": null, \"fcst_lower_25\": null, \"fcst_upper_75\": null, \"fcst_upper_95\": null}, {\"time\": \"2015-08-14T00:00:00\", \"y\": 0, \"fcst\": null, \"fcst_lower_05\": null, \"fcst_lower_25\": null, \"fcst_upper_75\": null, \"fcst_upper_95\": null}, {\"time\": \"2015-08-15T00:00:00\", \"y\": 3, \"fcst\": null, \"fcst_lower_05\": null, \"fcst_lower_25\": null, \"fcst_upper_75\": null, \"fcst_upper_95\": null}, {\"time\": \"2015-08-16T00:00:00\", \"y\": 2, \"fcst\": null, \"fcst_lower_05\": null, \"fcst_lower_25\": null, \"fcst_upper_75\": null, \"fcst_upper_95\": null}, {\"time\": \"2015-08-17T00:00:00\", \"y\": 3, \"fcst\": null, \"fcst_lower_05\": null, \"fcst_lower_25\": null, \"fcst_upper_75\": null, \"fcst_upper_95\": null}, {\"time\": \"2015-08-18T00:00:00\", \"y\": 1, \"fcst\": null, \"fcst_lower_05\": null, \"fcst_lower_25\": null, \"fcst_upper_75\": null, \"fcst_upper_95\": null}, {\"time\": \"2015-08-19T00:00:00\", \"y\": 2, \"fcst\": null, \"fcst_lower_05\": null, \"fcst_lower_25\": null, \"fcst_upper_75\": null, \"fcst_upper_95\": null}, {\"time\": \"2015-08-20T00:00:00\", \"y\": 1, \"fcst\": null, \"fcst_lower_05\": null, \"fcst_lower_25\": null, \"fcst_upper_75\": null, \"fcst_upper_95\": null}, {\"time\": \"2015-08-21T00:00:00\", \"y\": 1, \"fcst\": null, \"fcst_lower_05\": null, \"fcst_lower_25\": null, \"fcst_upper_75\": null, \"fcst_upper_95\": null}, {\"time\": \"2015-08-22T00:00:00\", \"y\": 1, \"fcst\": null, \"fcst_lower_05\": null, \"fcst_lower_25\": null, \"fcst_upper_75\": null, \"fcst_upper_95\": null}, {\"time\": \"2015-08-23T00:00:00\", \"y\": 4, \"fcst\": null, \"fcst_lower_05\": null, \"fcst_lower_25\": null, \"fcst_upper_75\": null, \"fcst_upper_95\": null}, {\"time\": \"2015-08-24T00:00:00\", \"y\": 0, \"fcst\": null, \"fcst_lower_05\": null, \"fcst_lower_25\": null, \"fcst_upper_75\": null, \"fcst_upper_95\": null}, {\"time\": \"2015-08-25T00:00:00\", \"y\": 1, \"fcst\": null, \"fcst_lower_05\": null, \"fcst_lower_25\": null, \"fcst_upper_75\": null, \"fcst_upper_95\": null}, {\"time\": \"2015-08-26T00:00:00\", \"y\": 0, \"fcst\": null, \"fcst_lower_05\": null, \"fcst_lower_25\": null, \"fcst_upper_75\": null, \"fcst_upper_95\": null}, {\"time\": \"2015-08-27T00:00:00\", \"y\": 0, \"fcst\": null, \"fcst_lower_05\": null, \"fcst_lower_25\": null, \"fcst_upper_75\": null, \"fcst_upper_95\": null}, {\"time\": \"2015-08-28T00:00:00\", \"y\": 2, \"fcst\": null, \"fcst_lower_05\": null, \"fcst_lower_25\": null, \"fcst_upper_75\": null, \"fcst_upper_95\": null}, {\"time\": \"2015-08-29T00:00:00\", \"y\": 0, \"fcst\": null, \"fcst_lower_05\": null, \"fcst_lower_25\": null, \"fcst_upper_75\": null, \"fcst_upper_95\": null}, {\"time\": \"2015-08-30T00:00:00\", \"y\": 4, \"fcst\": null, \"fcst_lower_05\": null, \"fcst_lower_25\": null, \"fcst_upper_75\": null, \"fcst_upper_95\": null}, {\"time\": \"2015-08-31T00:00:00\", \"y\": 2, \"fcst\": null, \"fcst_lower_05\": null, \"fcst_lower_25\": null, \"fcst_upper_75\": null, \"fcst_upper_95\": null}, {\"time\": \"2015-09-01T00:00:00\", \"y\": 0, \"fcst\": null, \"fcst_lower_05\": null, \"fcst_lower_25\": null, \"fcst_upper_75\": null, \"fcst_upper_95\": null}, {\"time\": \"2015-09-02T00:00:00\", \"y\": 3, \"fcst\": null, \"fcst_lower_05\": null, \"fcst_lower_25\": null, \"fcst_upper_75\": null, \"fcst_upper_95\": null}, {\"time\": \"2015-09-03T00:00:00\", \"y\": 1, \"fcst\": null, \"fcst_lower_05\": null, \"fcst_lower_25\": null, \"fcst_upper_75\": null, \"fcst_upper_95\": null}, {\"time\": \"2015-09-04T00:00:00\", \"y\": 2, \"fcst\": null, \"fcst_lower_05\": null, \"fcst_lower_25\": null, \"fcst_upper_75\": null, \"fcst_upper_95\": null}, {\"time\": \"2015-09-05T00:00:00\", \"y\": 0, \"fcst\": null, \"fcst_lower_05\": null, \"fcst_lower_25\": null, \"fcst_upper_75\": null, \"fcst_upper_95\": null}, {\"time\": \"2015-09-06T00:00:00\", \"y\": 0, \"fcst\": null, \"fcst_lower_05\": null, \"fcst_lower_25\": null, \"fcst_upper_75\": null, \"fcst_upper_95\": null}, {\"time\": \"2015-09-07T00:00:00\", \"y\": 3, \"fcst\": null, \"fcst_lower_05\": null, \"fcst_lower_25\": null, \"fcst_upper_75\": null, \"fcst_upper_95\": null}, {\"time\": \"2015-09-08T00:00:00\", \"y\": 2, \"fcst\": null, \"fcst_lower_05\": null, \"fcst_lower_25\": null, \"fcst_upper_75\": null, \"fcst_upper_95\": null}, {\"time\": \"2015-09-09T00:00:00\", \"y\": 0, \"fcst\": null, \"fcst_lower_05\": null, \"fcst_lower_25\": null, \"fcst_upper_75\": null, \"fcst_upper_95\": null}, {\"time\": \"2015-09-10T00:00:00\", \"y\": 1, \"fcst\": null, \"fcst_lower_05\": null, \"fcst_lower_25\": null, \"fcst_upper_75\": null, \"fcst_upper_95\": null}, {\"time\": \"2015-09-11T00:00:00\", \"y\": 0, \"fcst\": null, \"fcst_lower_05\": null, \"fcst_lower_25\": null, \"fcst_upper_75\": null, \"fcst_upper_95\": null}, {\"time\": \"2015-09-12T00:00:00\", \"y\": 0, \"fcst\": null, \"fcst_lower_05\": null, \"fcst_lower_25\": null, \"fcst_upper_75\": null, \"fcst_upper_95\": null}, {\"time\": \"2015-09-13T00:00:00\", \"y\": 3, \"fcst\": null, \"fcst_lower_05\": null, \"fcst_lower_25\": null, \"fcst_upper_75\": null, \"fcst_upper_95\": null}, {\"time\": \"2015-09-14T00:00:00\", \"y\": 2, \"fcst\": null, \"fcst_lower_05\": null, \"fcst_lower_25\": null, \"fcst_upper_75\": null, \"fcst_upper_95\": null}, {\"time\": \"2015-09-15T00:00:00\", \"y\": 0, \"fcst\": null, \"fcst_lower_05\": null, \"fcst_lower_25\": null, \"fcst_upper_75\": null, \"fcst_upper_95\": null}, {\"time\": \"2015-09-16T00:00:00\", \"y\": 0, \"fcst\": null, \"fcst_lower_05\": null, \"fcst_lower_25\": null, \"fcst_upper_75\": null, \"fcst_upper_95\": null}, {\"time\": \"2015-09-17T00:00:00\", \"y\": 1, \"fcst\": null, \"fcst_lower_05\": null, \"fcst_lower_25\": null, \"fcst_upper_75\": null, \"fcst_upper_95\": null}, {\"time\": \"2015-09-18T00:00:00\", \"y\": 0, \"fcst\": null, \"fcst_lower_05\": null, \"fcst_lower_25\": null, \"fcst_upper_75\": null, \"fcst_upper_95\": null}, {\"time\": \"2015-09-19T00:00:00\", \"y\": 0, \"fcst\": null, \"fcst_lower_05\": null, \"fcst_lower_25\": null, \"fcst_upper_75\": null, \"fcst_upper_95\": null}, {\"time\": \"2015-09-20T00:00:00\", \"y\": 2, \"fcst\": null, \"fcst_lower_05\": null, \"fcst_lower_25\": null, \"fcst_upper_75\": null, \"fcst_upper_95\": null}, {\"time\": \"2015-09-21T00:00:00\", \"y\": 1, \"fcst\": null, \"fcst_lower_05\": null, \"fcst_lower_25\": null, \"fcst_upper_75\": null, \"fcst_upper_95\": null}, {\"time\": \"2015-09-22T00:00:00\", \"y\": 0, \"fcst\": null, \"fcst_lower_05\": null, \"fcst_lower_25\": null, \"fcst_upper_75\": null, \"fcst_upper_95\": null}, {\"time\": \"2015-09-23T00:00:00\", \"y\": 1, \"fcst\": null, \"fcst_lower_05\": null, \"fcst_lower_25\": null, \"fcst_upper_75\": null, \"fcst_upper_95\": null}, {\"time\": \"2015-09-24T00:00:00\", \"y\": 1, \"fcst\": null, \"fcst_lower_05\": null, \"fcst_lower_25\": null, \"fcst_upper_75\": null, \"fcst_upper_95\": null}, {\"time\": \"2015-09-25T00:00:00\", \"y\": 0, \"fcst\": null, \"fcst_lower_05\": null, \"fcst_lower_25\": null, \"fcst_upper_75\": null, \"fcst_upper_95\": null}, {\"time\": \"2015-09-26T00:00:00\", \"y\": 1, \"fcst\": null, \"fcst_lower_05\": null, \"fcst_lower_25\": null, \"fcst_upper_75\": null, \"fcst_upper_95\": null}, {\"time\": \"2015-09-27T00:00:00\", \"y\": 3, \"fcst\": null, \"fcst_lower_05\": null, \"fcst_lower_25\": null, \"fcst_upper_75\": null, \"fcst_upper_95\": null}, {\"time\": \"2015-09-28T00:00:00\", \"y\": 1, \"fcst\": null, \"fcst_lower_05\": null, \"fcst_lower_25\": null, \"fcst_upper_75\": null, \"fcst_upper_95\": null}, {\"time\": \"2015-09-29T00:00:00\", \"y\": 0, \"fcst\": null, \"fcst_lower_05\": null, \"fcst_lower_25\": null, \"fcst_upper_75\": null, \"fcst_upper_95\": null}, {\"time\": \"2015-09-30T00:00:00\", \"y\": 1, \"fcst\": null, \"fcst_lower_05\": null, \"fcst_lower_25\": null, \"fcst_upper_75\": null, \"fcst_upper_95\": null}, {\"time\": \"2015-10-01T00:00:00\", \"y\": 2, \"fcst\": null, \"fcst_lower_05\": null, \"fcst_lower_25\": null, \"fcst_upper_75\": null, \"fcst_upper_95\": null}, {\"time\": \"2015-10-02T00:00:00\", \"y\": 0, \"fcst\": null, \"fcst_lower_05\": null, \"fcst_lower_25\": null, \"fcst_upper_75\": null, \"fcst_upper_95\": null}, {\"time\": \"2015-10-03T00:00:00\", \"y\": 2, \"fcst\": null, \"fcst_lower_05\": null, \"fcst_lower_25\": null, \"fcst_upper_75\": null, \"fcst_upper_95\": null}, {\"time\": \"2015-10-04T00:00:00\", \"y\": 3, \"fcst\": null, \"fcst_lower_05\": null, \"fcst_lower_25\": null, \"fcst_upper_75\": null, \"fcst_upper_95\": null}, {\"time\": \"2015-10-05T00:00:00\", \"y\": 0, \"fcst\": null, \"fcst_lower_05\": null, \"fcst_lower_25\": null, \"fcst_upper_75\": null, \"fcst_upper_95\": null}, {\"time\": \"2015-10-06T00:00:00\", \"y\": 3, \"fcst\": null, \"fcst_lower_05\": null, \"fcst_lower_25\": null, \"fcst_upper_75\": null, \"fcst_upper_95\": null}, {\"time\": \"2015-10-07T00:00:00\", \"y\": 1, \"fcst\": null, \"fcst_lower_05\": null, \"fcst_lower_25\": null, \"fcst_upper_75\": null, \"fcst_upper_95\": null}, {\"time\": \"2015-10-08T00:00:00\", \"y\": 1, \"fcst\": null, \"fcst_lower_05\": null, \"fcst_lower_25\": null, \"fcst_upper_75\": null, \"fcst_upper_95\": null}, {\"time\": \"2015-10-09T00:00:00\", \"y\": 2, \"fcst\": null, \"fcst_lower_05\": null, \"fcst_lower_25\": null, \"fcst_upper_75\": null, \"fcst_upper_95\": null}, {\"time\": \"2015-10-10T00:00:00\", \"y\": 1, \"fcst\": null, \"fcst_lower_05\": null, \"fcst_lower_25\": null, \"fcst_upper_75\": null, \"fcst_upper_95\": null}, {\"time\": \"2015-10-11T00:00:00\", \"y\": 1, \"fcst\": null, \"fcst_lower_05\": null, \"fcst_lower_25\": null, \"fcst_upper_75\": null, \"fcst_upper_95\": null}, {\"time\": \"2015-10-12T00:00:00\", \"y\": 0, \"fcst\": null, \"fcst_lower_05\": null, \"fcst_lower_25\": null, \"fcst_upper_75\": null, \"fcst_upper_95\": null}, {\"time\": \"2015-10-13T00:00:00\", \"y\": 1, \"fcst\": null, \"fcst_lower_05\": null, \"fcst_lower_25\": null, \"fcst_upper_75\": null, \"fcst_upper_95\": null}, {\"time\": \"2015-10-14T00:00:00\", \"y\": 2, \"fcst\": null, \"fcst_lower_05\": null, \"fcst_lower_25\": null, \"fcst_upper_75\": null, \"fcst_upper_95\": null}, {\"time\": \"2015-10-15T00:00:00\", \"y\": 0, \"fcst\": null, \"fcst_lower_05\": null, \"fcst_lower_25\": null, \"fcst_upper_75\": null, \"fcst_upper_95\": null}, {\"time\": \"2015-10-16T00:00:00\", \"y\": 1, \"fcst\": null, \"fcst_lower_05\": null, \"fcst_lower_25\": null, \"fcst_upper_75\": null, \"fcst_upper_95\": null}, {\"time\": \"2015-10-17T00:00:00\", \"y\": 2, \"fcst\": null, \"fcst_lower_05\": null, \"fcst_lower_25\": null, \"fcst_upper_75\": null, \"fcst_upper_95\": null}, {\"time\": \"2015-10-18T00:00:00\", \"y\": 1, \"fcst\": null, \"fcst_lower_05\": null, \"fcst_lower_25\": null, \"fcst_upper_75\": null, \"fcst_upper_95\": null}, {\"time\": \"2015-10-19T00:00:00\", \"y\": 0, \"fcst\": null, \"fcst_lower_05\": null, \"fcst_lower_25\": null, \"fcst_upper_75\": null, \"fcst_upper_95\": null}, {\"time\": \"2015-10-20T00:00:00\", \"y\": 1, \"fcst\": null, \"fcst_lower_05\": null, \"fcst_lower_25\": null, \"fcst_upper_75\": null, \"fcst_upper_95\": null}, {\"time\": \"2015-10-21T00:00:00\", \"y\": 2, \"fcst\": null, \"fcst_lower_05\": null, \"fcst_lower_25\": null, \"fcst_upper_75\": null, \"fcst_upper_95\": null}, {\"time\": \"2015-10-22T00:00:00\", \"y\": 1, \"fcst\": null, \"fcst_lower_05\": null, \"fcst_lower_25\": null, \"fcst_upper_75\": null, \"fcst_upper_95\": null}, {\"time\": \"2015-10-23T00:00:00\", \"y\": 2, \"fcst\": null, \"fcst_lower_05\": null, \"fcst_lower_25\": null, \"fcst_upper_75\": null, \"fcst_upper_95\": null}, {\"time\": \"2015-10-24T00:00:00\", \"y\": 0, \"fcst\": null, \"fcst_lower_05\": null, \"fcst_lower_25\": null, \"fcst_upper_75\": null, \"fcst_upper_95\": null}, {\"time\": \"2015-10-25T00:00:00\", \"y\": 6, \"fcst\": null, \"fcst_lower_05\": null, \"fcst_lower_25\": null, \"fcst_upper_75\": null, \"fcst_upper_95\": null}, {\"time\": \"2015-10-26T00:00:00\", \"y\": 1, \"fcst\": null, \"fcst_lower_05\": null, \"fcst_lower_25\": null, \"fcst_upper_75\": null, \"fcst_upper_95\": null}, {\"time\": \"2015-10-27T00:00:00\", \"y\": 4, \"fcst\": null, \"fcst_lower_05\": null, \"fcst_lower_25\": null, \"fcst_upper_75\": null, \"fcst_upper_95\": null}, {\"time\": \"2015-10-28T00:00:00\", \"y\": 0, \"fcst\": null, \"fcst_lower_05\": null, \"fcst_lower_25\": null, \"fcst_upper_75\": null, \"fcst_upper_95\": null}, {\"time\": \"2015-10-29T00:00:00\", \"y\": 2, \"fcst\": null, \"fcst_lower_05\": null, \"fcst_lower_25\": null, \"fcst_upper_75\": null, \"fcst_upper_95\": null}, {\"time\": \"2015-10-30T00:00:00\", \"y\": 0, \"fcst\": null, \"fcst_lower_05\": null, \"fcst_lower_25\": null, \"fcst_upper_75\": null, \"fcst_upper_95\": null}, {\"time\": \"2015-10-31T00:00:00\", \"y\": 1, \"fcst\": null, \"fcst_lower_05\": null, \"fcst_lower_25\": null, \"fcst_upper_75\": null, \"fcst_upper_95\": null}, {\"time\": \"2015-11-01T00:00:00\", \"y\": 2, \"fcst\": null, \"fcst_lower_05\": null, \"fcst_lower_25\": null, \"fcst_upper_75\": null, \"fcst_upper_95\": null}, {\"time\": \"2015-11-02T00:00:00\", \"y\": 0, \"fcst\": null, \"fcst_lower_05\": null, \"fcst_lower_25\": null, \"fcst_upper_75\": null, \"fcst_upper_95\": null}, {\"time\": \"2015-11-03T00:00:00\", \"y\": 2, \"fcst\": null, \"fcst_lower_05\": null, \"fcst_lower_25\": null, \"fcst_upper_75\": null, \"fcst_upper_95\": null}, {\"time\": \"2015-11-04T00:00:00\", \"y\": 0, \"fcst\": null, \"fcst_lower_05\": null, \"fcst_lower_25\": null, \"fcst_upper_75\": null, \"fcst_upper_95\": null}, {\"time\": \"2015-11-05T00:00:00\", \"y\": 0, \"fcst\": null, \"fcst_lower_05\": null, \"fcst_lower_25\": null, \"fcst_upper_75\": null, \"fcst_upper_95\": null}, {\"time\": \"2015-11-06T00:00:00\", \"y\": 0, \"fcst\": null, \"fcst_lower_05\": null, \"fcst_lower_25\": null, \"fcst_upper_75\": null, \"fcst_upper_95\": null}, {\"time\": \"2015-11-07T00:00:00\", \"y\": 0, \"fcst\": null, \"fcst_lower_05\": null, \"fcst_lower_25\": null, \"fcst_upper_75\": null, \"fcst_upper_95\": null}, {\"time\": \"2015-11-08T00:00:00\", \"y\": 0, \"fcst\": null, \"fcst_lower_05\": null, \"fcst_lower_25\": null, \"fcst_upper_75\": null, \"fcst_upper_95\": null}, {\"time\": \"2015-11-09T00:00:00\", \"y\": 2, \"fcst\": null, \"fcst_lower_05\": null, \"fcst_lower_25\": null, \"fcst_upper_75\": null, \"fcst_upper_95\": null}, {\"time\": \"2015-11-10T00:00:00\", \"y\": 1, \"fcst\": null, \"fcst_lower_05\": null, \"fcst_lower_25\": null, \"fcst_upper_75\": null, \"fcst_upper_95\": null}, {\"time\": \"2015-11-11T00:00:00\", \"y\": 1, \"fcst\": null, \"fcst_lower_05\": null, \"fcst_lower_25\": null, \"fcst_upper_75\": null, \"fcst_upper_95\": null}, {\"time\": \"2015-11-12T00:00:00\", \"y\": 2, \"fcst\": null, \"fcst_lower_05\": null, \"fcst_lower_25\": null, \"fcst_upper_75\": null, \"fcst_upper_95\": null}, {\"time\": \"2015-11-13T00:00:00\", \"y\": 1, \"fcst\": null, \"fcst_lower_05\": null, \"fcst_lower_25\": null, \"fcst_upper_75\": null, \"fcst_upper_95\": null}, {\"time\": \"2015-11-14T00:00:00\", \"y\": 0, \"fcst\": null, \"fcst_lower_05\": null, \"fcst_lower_25\": null, \"fcst_upper_75\": null, \"fcst_upper_95\": null}, {\"time\": \"2015-11-15T00:00:00\", \"y\": 0, \"fcst\": null, \"fcst_lower_05\": null, \"fcst_lower_25\": null, \"fcst_upper_75\": null, \"fcst_upper_95\": null}, {\"time\": \"2015-11-16T00:00:00\", \"y\": 1, \"fcst\": null, \"fcst_lower_05\": null, \"fcst_lower_25\": null, \"fcst_upper_75\": null, \"fcst_upper_95\": null}, {\"time\": \"2015-11-17T00:00:00\", \"y\": 0, \"fcst\": null, \"fcst_lower_05\": null, \"fcst_lower_25\": null, \"fcst_upper_75\": null, \"fcst_upper_95\": null}, {\"time\": \"2015-11-18T00:00:00\", \"y\": 0, \"fcst\": null, \"fcst_lower_05\": null, \"fcst_lower_25\": null, \"fcst_upper_75\": null, \"fcst_upper_95\": null}, {\"time\": \"2015-11-19T00:00:00\", \"y\": 1, \"fcst\": null, \"fcst_lower_05\": null, \"fcst_lower_25\": null, \"fcst_upper_75\": null, \"fcst_upper_95\": null}, {\"time\": \"2015-11-20T00:00:00\", \"y\": 2, \"fcst\": null, \"fcst_lower_05\": null, \"fcst_lower_25\": null, \"fcst_upper_75\": null, \"fcst_upper_95\": null}, {\"time\": \"2015-11-21T00:00:00\", \"y\": 1, \"fcst\": null, \"fcst_lower_05\": null, \"fcst_lower_25\": null, \"fcst_upper_75\": null, \"fcst_upper_95\": null}, {\"time\": \"2015-11-22T00:00:00\", \"y\": 1, \"fcst\": null, \"fcst_lower_05\": null, \"fcst_lower_25\": null, \"fcst_upper_75\": null, \"fcst_upper_95\": null}, {\"time\": \"2015-11-23T00:00:00\", \"y\": 0, \"fcst\": null, \"fcst_lower_05\": null, \"fcst_lower_25\": null, \"fcst_upper_75\": null, \"fcst_upper_95\": null}, {\"time\": \"2015-11-24T00:00:00\", \"y\": 0, \"fcst\": null, \"fcst_lower_05\": null, \"fcst_lower_25\": null, \"fcst_upper_75\": null, \"fcst_upper_95\": null}, {\"time\": \"2015-11-25T00:00:00\", \"y\": 1, \"fcst\": null, \"fcst_lower_05\": null, \"fcst_lower_25\": null, \"fcst_upper_75\": null, \"fcst_upper_95\": null}, {\"time\": \"2015-11-26T00:00:00\", \"y\": 0, \"fcst\": null, \"fcst_lower_05\": null, \"fcst_lower_25\": null, \"fcst_upper_75\": null, \"fcst_upper_95\": null}, {\"time\": \"2015-11-27T00:00:00\", \"y\": 0, \"fcst\": null, \"fcst_lower_05\": null, \"fcst_lower_25\": null, \"fcst_upper_75\": null, \"fcst_upper_95\": null}, {\"time\": \"2015-11-28T00:00:00\", \"y\": 1, \"fcst\": null, \"fcst_lower_05\": null, \"fcst_lower_25\": null, \"fcst_upper_75\": null, \"fcst_upper_95\": null}, {\"time\": \"2015-11-29T00:00:00\", \"y\": 0, \"fcst\": null, \"fcst_lower_05\": null, \"fcst_lower_25\": null, \"fcst_upper_75\": null, \"fcst_upper_95\": null}, {\"time\": \"2015-11-30T00:00:00\", \"y\": 2, \"fcst\": null, \"fcst_lower_05\": null, \"fcst_lower_25\": null, \"fcst_upper_75\": null, \"fcst_upper_95\": null}, {\"time\": \"2015-12-01T00:00:00\", \"y\": 2, \"fcst\": null, \"fcst_lower_05\": null, \"fcst_lower_25\": null, \"fcst_upper_75\": null, \"fcst_upper_95\": null}, {\"time\": \"2015-12-02T00:00:00\", \"y\": 1, \"fcst\": null, \"fcst_lower_05\": null, \"fcst_lower_25\": null, \"fcst_upper_75\": null, \"fcst_upper_95\": null}, {\"time\": \"2015-12-03T00:00:00\", \"y\": 1, \"fcst\": null, \"fcst_lower_05\": null, \"fcst_lower_25\": null, \"fcst_upper_75\": null, \"fcst_upper_95\": null}, {\"time\": \"2015-12-04T00:00:00\", \"y\": 1, \"fcst\": null, \"fcst_lower_05\": null, \"fcst_lower_25\": null, \"fcst_upper_75\": null, \"fcst_upper_95\": null}, {\"time\": \"2015-12-05T00:00:00\", \"y\": 1, \"fcst\": null, \"fcst_lower_05\": null, \"fcst_lower_25\": null, \"fcst_upper_75\": null, \"fcst_upper_95\": null}, {\"time\": \"2015-12-06T00:00:00\", \"y\": 1, \"fcst\": null, \"fcst_lower_05\": null, \"fcst_lower_25\": null, \"fcst_upper_75\": null, \"fcst_upper_95\": null}, {\"time\": \"2015-12-07T00:00:00\", \"y\": 0, \"fcst\": null, \"fcst_lower_05\": null, \"fcst_lower_25\": null, \"fcst_upper_75\": null, \"fcst_upper_95\": null}, {\"time\": \"2015-12-08T00:00:00\", \"y\": 0, \"fcst\": null, \"fcst_lower_05\": null, \"fcst_lower_25\": null, \"fcst_upper_75\": null, \"fcst_upper_95\": null}, {\"time\": \"2015-12-09T00:00:00\", \"y\": 0, \"fcst\": null, \"fcst_lower_05\": null, \"fcst_lower_25\": null, \"fcst_upper_75\": null, \"fcst_upper_95\": null}, {\"time\": \"2015-12-10T00:00:00\", \"y\": 1, \"fcst\": null, \"fcst_lower_05\": null, \"fcst_lower_25\": null, \"fcst_upper_75\": null, \"fcst_upper_95\": null}, {\"time\": \"2015-12-11T00:00:00\", \"y\": 0, \"fcst\": null, \"fcst_lower_05\": null, \"fcst_lower_25\": null, \"fcst_upper_75\": null, \"fcst_upper_95\": null}, {\"time\": \"2015-12-12T00:00:00\", \"y\": 0, \"fcst\": null, \"fcst_lower_05\": null, \"fcst_lower_25\": null, \"fcst_upper_75\": null, \"fcst_upper_95\": null}, {\"time\": \"2015-12-13T00:00:00\", \"y\": 1, \"fcst\": null, \"fcst_lower_05\": null, \"fcst_lower_25\": null, \"fcst_upper_75\": null, \"fcst_upper_95\": null}, {\"time\": \"2015-12-14T00:00:00\", \"y\": 1, \"fcst\": null, \"fcst_lower_05\": null, \"fcst_lower_25\": null, \"fcst_upper_75\": null, \"fcst_upper_95\": null}, {\"time\": \"2015-12-15T00:00:00\", \"y\": 1, \"fcst\": null, \"fcst_lower_05\": null, \"fcst_lower_25\": null, \"fcst_upper_75\": null, \"fcst_upper_95\": null}, {\"time\": \"2015-12-16T00:00:00\", \"y\": 1, \"fcst\": null, \"fcst_lower_05\": null, \"fcst_lower_25\": null, \"fcst_upper_75\": null, \"fcst_upper_95\": null}, {\"time\": \"2015-12-17T00:00:00\", \"y\": 0, \"fcst\": null, \"fcst_lower_05\": null, \"fcst_lower_25\": null, \"fcst_upper_75\": null, \"fcst_upper_95\": null}, {\"time\": \"2015-12-18T00:00:00\", \"y\": 1, \"fcst\": null, \"fcst_lower_05\": null, \"fcst_lower_25\": null, \"fcst_upper_75\": null, \"fcst_upper_95\": null}, {\"time\": \"2015-12-19T00:00:00\", \"y\": 1, \"fcst\": null, \"fcst_lower_05\": null, \"fcst_lower_25\": null, \"fcst_upper_75\": null, \"fcst_upper_95\": null}, {\"time\": \"2015-12-20T00:00:00\", \"y\": 0, \"fcst\": null, \"fcst_lower_05\": null, \"fcst_lower_25\": null, \"fcst_upper_75\": null, \"fcst_upper_95\": null}, {\"time\": \"2015-12-21T00:00:00\", \"y\": 1, \"fcst\": null, \"fcst_lower_05\": null, \"fcst_lower_25\": null, \"fcst_upper_75\": null, \"fcst_upper_95\": null}, {\"time\": \"2015-12-22T00:00:00\", \"y\": 3, \"fcst\": null, \"fcst_lower_05\": null, \"fcst_lower_25\": null, \"fcst_upper_75\": null, \"fcst_upper_95\": null}, {\"time\": \"2015-12-23T00:00:00\", \"y\": 0, \"fcst\": null, \"fcst_lower_05\": null, \"fcst_lower_25\": null, \"fcst_upper_75\": null, \"fcst_upper_95\": null}, {\"time\": \"2015-12-24T00:00:00\", \"y\": 1, \"fcst\": null, \"fcst_lower_05\": null, \"fcst_lower_25\": null, \"fcst_upper_75\": null, \"fcst_upper_95\": null}, {\"time\": \"2015-12-25T00:00:00\", \"y\": 0, \"fcst\": null, \"fcst_lower_05\": null, \"fcst_lower_25\": null, \"fcst_upper_75\": null, \"fcst_upper_95\": null}, {\"time\": \"2015-12-26T00:00:00\", \"y\": 0, \"fcst\": null, \"fcst_lower_05\": null, \"fcst_lower_25\": null, \"fcst_upper_75\": null, \"fcst_upper_95\": null}, {\"time\": \"2015-12-27T00:00:00\", \"y\": 0, \"fcst\": null, \"fcst_lower_05\": null, \"fcst_lower_25\": null, \"fcst_upper_75\": null, \"fcst_upper_95\": null}, {\"time\": \"2015-12-28T00:00:00\", \"y\": 3, \"fcst\": null, \"fcst_lower_05\": null, \"fcst_lower_25\": null, \"fcst_upper_75\": null, \"fcst_upper_95\": null}, {\"time\": \"2015-12-29T00:00:00\", \"y\": 2, \"fcst\": null, \"fcst_lower_05\": null, \"fcst_lower_25\": null, \"fcst_upper_75\": null, \"fcst_upper_95\": null}, {\"time\": \"2015-12-30T00:00:00\", \"y\": 0, \"fcst\": null, \"fcst_lower_05\": null, \"fcst_lower_25\": null, \"fcst_upper_75\": null, \"fcst_upper_95\": null}, {\"time\": \"2015-12-31T00:00:00\", \"y\": 1, \"fcst\": null, \"fcst_lower_05\": null, \"fcst_lower_25\": null, \"fcst_upper_75\": null, \"fcst_upper_95\": null}, {\"time\": \"2016-01-01T00:00:00\", \"y\": 0, \"fcst\": null, \"fcst_lower_05\": null, \"fcst_lower_25\": null, \"fcst_upper_75\": null, \"fcst_upper_95\": null}, {\"time\": \"2016-01-02T00:00:00\", \"y\": 0, \"fcst\": null, \"fcst_lower_05\": null, \"fcst_lower_25\": null, \"fcst_upper_75\": null, \"fcst_upper_95\": null}, {\"time\": \"2016-01-03T00:00:00\", \"y\": 4, \"fcst\": null, \"fcst_lower_05\": null, \"fcst_lower_25\": null, \"fcst_upper_75\": null, \"fcst_upper_95\": null}, {\"time\": \"2016-01-04T00:00:00\", \"y\": 0, \"fcst\": null, \"fcst_lower_05\": null, \"fcst_lower_25\": null, \"fcst_upper_75\": null, \"fcst_upper_95\": null}, {\"time\": \"2016-01-05T00:00:00\", \"y\": 2, \"fcst\": null, \"fcst_lower_05\": null, \"fcst_lower_25\": null, \"fcst_upper_75\": null, \"fcst_upper_95\": null}, {\"time\": \"2016-01-06T00:00:00\", \"y\": 2, \"fcst\": null, \"fcst_lower_05\": null, \"fcst_lower_25\": null, \"fcst_upper_75\": null, \"fcst_upper_95\": null}, {\"time\": \"2016-01-07T00:00:00\", \"y\": 2, \"fcst\": null, \"fcst_lower_05\": null, \"fcst_lower_25\": null, \"fcst_upper_75\": null, \"fcst_upper_95\": null}, {\"time\": \"2016-01-08T00:00:00\", \"y\": 0, \"fcst\": null, \"fcst_lower_05\": null, \"fcst_lower_25\": null, \"fcst_upper_75\": null, \"fcst_upper_95\": null}, {\"time\": \"2016-01-09T00:00:00\", \"y\": 2, \"fcst\": null, \"fcst_lower_05\": null, \"fcst_lower_25\": null, \"fcst_upper_75\": null, \"fcst_upper_95\": null}, {\"time\": \"2016-01-10T00:00:00\", \"y\": 0, \"fcst\": null, \"fcst_lower_05\": null, \"fcst_lower_25\": null, \"fcst_upper_75\": null, \"fcst_upper_95\": null}, {\"time\": \"2016-01-11T00:00:00\", \"y\": 4, \"fcst\": null, \"fcst_lower_05\": null, \"fcst_lower_25\": null, \"fcst_upper_75\": null, \"fcst_upper_95\": null}, {\"time\": \"2016-01-12T00:00:00\", \"y\": 2, \"fcst\": null, \"fcst_lower_05\": null, \"fcst_lower_25\": null, \"fcst_upper_75\": null, \"fcst_upper_95\": null}, {\"time\": \"2016-01-13T00:00:00\", \"y\": 1, \"fcst\": null, \"fcst_lower_05\": null, \"fcst_lower_25\": null, \"fcst_upper_75\": null, \"fcst_upper_95\": null}, {\"time\": \"2016-01-14T00:00:00\", \"y\": 1, \"fcst\": null, \"fcst_lower_05\": null, \"fcst_lower_25\": null, \"fcst_upper_75\": null, \"fcst_upper_95\": null}, {\"time\": \"2016-01-15T00:00:00\", \"y\": 0, \"fcst\": null, \"fcst_lower_05\": null, \"fcst_lower_25\": null, \"fcst_upper_75\": null, \"fcst_upper_95\": null}, {\"time\": \"2016-01-16T00:00:00\", \"y\": 1, \"fcst\": null, \"fcst_lower_05\": null, \"fcst_lower_25\": null, \"fcst_upper_75\": null, \"fcst_upper_95\": null}, {\"time\": \"2016-01-17T00:00:00\", \"y\": 3, \"fcst\": null, \"fcst_lower_05\": null, \"fcst_lower_25\": null, \"fcst_upper_75\": null, \"fcst_upper_95\": null}, {\"time\": \"2016-01-18T00:00:00\", \"y\": 1, \"fcst\": null, \"fcst_lower_05\": null, \"fcst_lower_25\": null, \"fcst_upper_75\": null, \"fcst_upper_95\": null}, {\"time\": \"2016-01-19T00:00:00\", \"y\": 0, \"fcst\": null, \"fcst_lower_05\": null, \"fcst_lower_25\": null, \"fcst_upper_75\": null, \"fcst_upper_95\": null}, {\"time\": \"2016-01-20T00:00:00\", \"y\": 1, \"fcst\": null, \"fcst_lower_05\": null, \"fcst_lower_25\": null, \"fcst_upper_75\": null, \"fcst_upper_95\": null}, {\"time\": \"2016-01-21T00:00:00\", \"y\": 0, \"fcst\": null, \"fcst_lower_05\": null, \"fcst_lower_25\": null, \"fcst_upper_75\": null, \"fcst_upper_95\": null}, {\"time\": \"2016-01-22T00:00:00\", \"y\": 0, \"fcst\": null, \"fcst_lower_05\": null, \"fcst_lower_25\": null, \"fcst_upper_75\": null, \"fcst_upper_95\": null}, {\"time\": \"2016-01-23T00:00:00\", \"y\": 1, \"fcst\": null, \"fcst_lower_05\": null, \"fcst_lower_25\": null, \"fcst_upper_75\": null, \"fcst_upper_95\": null}, {\"time\": \"2016-01-24T00:00:00\", \"y\": 0, \"fcst\": null, \"fcst_lower_05\": null, \"fcst_lower_25\": null, \"fcst_upper_75\": null, \"fcst_upper_95\": null}, {\"time\": \"2016-01-25T00:00:00\", \"y\": 2, \"fcst\": null, \"fcst_lower_05\": null, \"fcst_lower_25\": null, \"fcst_upper_75\": null, \"fcst_upper_95\": null}, {\"time\": \"2016-01-26T00:00:00\", \"y\": 2, \"fcst\": null, \"fcst_lower_05\": null, \"fcst_lower_25\": null, \"fcst_upper_75\": null, \"fcst_upper_95\": null}, {\"time\": \"2016-01-27T00:00:00\", \"y\": 0, \"fcst\": null, \"fcst_lower_05\": null, \"fcst_lower_25\": null, \"fcst_upper_75\": null, \"fcst_upper_95\": null}, {\"time\": \"2016-01-28T00:00:00\", \"y\": 3, \"fcst\": null, \"fcst_lower_05\": null, \"fcst_lower_25\": null, \"fcst_upper_75\": null, \"fcst_upper_95\": null}, {\"time\": \"2016-01-29T00:00:00\", \"y\": 0, \"fcst\": null, \"fcst_lower_05\": null, \"fcst_lower_25\": null, \"fcst_upper_75\": null, \"fcst_upper_95\": null}, {\"time\": \"2016-01-30T00:00:00\", \"y\": 3, \"fcst\": null, \"fcst_lower_05\": null, \"fcst_lower_25\": null, \"fcst_upper_75\": null, \"fcst_upper_95\": null}, {\"time\": \"2016-01-31T00:00:00\", \"y\": 5, \"fcst\": null, \"fcst_lower_05\": null, \"fcst_lower_25\": null, \"fcst_upper_75\": null, \"fcst_upper_95\": null}, {\"time\": \"2016-02-01T00:00:00\", \"y\": 2, \"fcst\": null, \"fcst_lower_05\": null, \"fcst_lower_25\": null, \"fcst_upper_75\": null, \"fcst_upper_95\": null}, {\"time\": \"2016-02-02T00:00:00\", \"y\": 3, \"fcst\": null, \"fcst_lower_05\": null, \"fcst_lower_25\": null, \"fcst_upper_75\": null, \"fcst_upper_95\": null}, {\"time\": \"2016-02-03T00:00:00\", \"y\": 3, \"fcst\": null, \"fcst_lower_05\": null, \"fcst_lower_25\": null, \"fcst_upper_75\": null, \"fcst_upper_95\": null}, {\"time\": \"2016-02-04T00:00:00\", \"y\": 0, \"fcst\": null, \"fcst_lower_05\": null, \"fcst_lower_25\": null, \"fcst_upper_75\": null, \"fcst_upper_95\": null}, {\"time\": \"2016-02-05T00:00:00\", \"y\": 1, \"fcst\": null, \"fcst_lower_05\": null, \"fcst_lower_25\": null, \"fcst_upper_75\": null, \"fcst_upper_95\": null}, {\"time\": \"2016-02-06T00:00:00\", \"y\": 0, \"fcst\": null, \"fcst_lower_05\": null, \"fcst_lower_25\": null, \"fcst_upper_75\": null, \"fcst_upper_95\": null}, {\"time\": \"2016-02-07T00:00:00\", \"y\": 2, \"fcst\": null, \"fcst_lower_05\": null, \"fcst_lower_25\": null, \"fcst_upper_75\": null, \"fcst_upper_95\": null}, {\"time\": \"2016-02-08T00:00:00\", \"y\": 3, \"fcst\": null, \"fcst_lower_05\": null, \"fcst_lower_25\": null, \"fcst_upper_75\": null, \"fcst_upper_95\": null}, {\"time\": \"2016-02-09T00:00:00\", \"y\": 1, \"fcst\": null, \"fcst_lower_05\": null, \"fcst_lower_25\": null, \"fcst_upper_75\": null, \"fcst_upper_95\": null}, {\"time\": \"2016-02-10T00:00:00\", \"y\": 1, \"fcst\": null, \"fcst_lower_05\": null, \"fcst_lower_25\": null, \"fcst_upper_75\": null, \"fcst_upper_95\": null}, {\"time\": \"2016-02-11T00:00:00\", \"y\": 0, \"fcst\": null, \"fcst_lower_05\": null, \"fcst_lower_25\": null, \"fcst_upper_75\": null, \"fcst_upper_95\": null}, {\"time\": \"2016-02-12T00:00:00\", \"y\": 1, \"fcst\": null, \"fcst_lower_05\": null, \"fcst_lower_25\": null, \"fcst_upper_75\": null, \"fcst_upper_95\": null}, {\"time\": \"2016-02-13T00:00:00\", \"y\": 1, \"fcst\": null, \"fcst_lower_05\": null, \"fcst_lower_25\": null, \"fcst_upper_75\": null, \"fcst_upper_95\": null}, {\"time\": \"2016-02-14T00:00:00\", \"y\": 1, \"fcst\": null, \"fcst_lower_05\": null, \"fcst_lower_25\": null, \"fcst_upper_75\": null, \"fcst_upper_95\": null}, {\"time\": \"2016-02-15T00:00:00\", \"y\": 2, \"fcst\": null, \"fcst_lower_05\": null, \"fcst_lower_25\": null, \"fcst_upper_75\": null, \"fcst_upper_95\": null}, {\"time\": \"2016-02-16T00:00:00\", \"y\": 0, \"fcst\": null, \"fcst_lower_05\": null, \"fcst_lower_25\": null, \"fcst_upper_75\": null, \"fcst_upper_95\": null}, {\"time\": \"2016-02-17T00:00:00\", \"y\": 1, \"fcst\": null, \"fcst_lower_05\": null, \"fcst_lower_25\": null, \"fcst_upper_75\": null, \"fcst_upper_95\": null}, {\"time\": \"2016-02-18T00:00:00\", \"y\": 0, \"fcst\": null, \"fcst_lower_05\": null, \"fcst_lower_25\": null, \"fcst_upper_75\": null, \"fcst_upper_95\": null}, {\"time\": \"2016-02-19T00:00:00\", \"y\": 5, \"fcst\": null, \"fcst_lower_05\": null, \"fcst_lower_25\": null, \"fcst_upper_75\": null, \"fcst_upper_95\": null}, {\"time\": \"2016-02-20T00:00:00\", \"y\": 1, \"fcst\": null, \"fcst_lower_05\": null, \"fcst_lower_25\": null, \"fcst_upper_75\": null, \"fcst_upper_95\": null}, {\"time\": \"2016-02-21T00:00:00\", \"y\": 0, \"fcst\": null, \"fcst_lower_05\": null, \"fcst_lower_25\": null, \"fcst_upper_75\": null, \"fcst_upper_95\": null}, {\"time\": \"2016-02-22T00:00:00\", \"y\": 3, \"fcst\": null, \"fcst_lower_05\": null, \"fcst_lower_25\": null, \"fcst_upper_75\": null, \"fcst_upper_95\": null}, {\"time\": \"2016-02-23T00:00:00\", \"y\": 0, \"fcst\": null, \"fcst_lower_05\": null, \"fcst_lower_25\": null, \"fcst_upper_75\": null, \"fcst_upper_95\": null}, {\"time\": \"2016-02-24T00:00:00\", \"y\": 2, \"fcst\": null, \"fcst_lower_05\": null, \"fcst_lower_25\": null, \"fcst_upper_75\": null, \"fcst_upper_95\": null}, {\"time\": \"2016-02-25T00:00:00\", \"y\": 2, \"fcst\": null, \"fcst_lower_05\": null, \"fcst_lower_25\": null, \"fcst_upper_75\": null, \"fcst_upper_95\": null}, {\"time\": \"2016-02-26T00:00:00\", \"y\": 0, \"fcst\": null, \"fcst_lower_05\": null, \"fcst_lower_25\": null, \"fcst_upper_75\": null, \"fcst_upper_95\": null}, {\"time\": \"2016-02-27T00:00:00\", \"y\": 3, \"fcst\": null, \"fcst_lower_05\": null, \"fcst_lower_25\": null, \"fcst_upper_75\": null, \"fcst_upper_95\": null}, {\"time\": \"2016-02-28T00:00:00\", \"y\": 7, \"fcst\": null, \"fcst_lower_05\": null, \"fcst_lower_25\": null, \"fcst_upper_75\": null, \"fcst_upper_95\": null}, {\"time\": \"2016-02-29T00:00:00\", \"y\": 3, \"fcst\": null, \"fcst_lower_05\": null, \"fcst_lower_25\": null, \"fcst_upper_75\": null, \"fcst_upper_95\": null}, {\"time\": \"2016-03-01T00:00:00\", \"y\": 2, \"fcst\": null, \"fcst_lower_05\": null, \"fcst_lower_25\": null, \"fcst_upper_75\": null, \"fcst_upper_95\": null}, {\"time\": \"2016-03-02T00:00:00\", \"y\": 0, \"fcst\": null, \"fcst_lower_05\": null, \"fcst_lower_25\": null, \"fcst_upper_75\": null, \"fcst_upper_95\": null}, {\"time\": \"2016-03-03T00:00:00\", \"y\": 2, \"fcst\": null, \"fcst_lower_05\": null, \"fcst_lower_25\": null, \"fcst_upper_75\": null, \"fcst_upper_95\": null}, {\"time\": \"2016-03-04T00:00:00\", \"y\": 1, \"fcst\": null, \"fcst_lower_05\": null, \"fcst_lower_25\": null, \"fcst_upper_75\": null, \"fcst_upper_95\": null}, {\"time\": \"2016-03-05T00:00:00\", \"y\": 1, \"fcst\": null, \"fcst_lower_05\": null, \"fcst_lower_25\": null, \"fcst_upper_75\": null, \"fcst_upper_95\": null}, {\"time\": \"2016-03-06T00:00:00\", \"y\": 2, \"fcst\": null, \"fcst_lower_05\": null, \"fcst_lower_25\": null, \"fcst_upper_75\": null, \"fcst_upper_95\": null}, {\"time\": \"2016-03-07T00:00:00\", \"y\": 4, \"fcst\": null, \"fcst_lower_05\": null, \"fcst_lower_25\": null, \"fcst_upper_75\": null, \"fcst_upper_95\": null}, {\"time\": \"2016-03-08T00:00:00\", \"y\": 4, \"fcst\": null, \"fcst_lower_05\": null, \"fcst_lower_25\": null, \"fcst_upper_75\": null, \"fcst_upper_95\": null}, {\"time\": \"2016-03-09T00:00:00\", \"y\": 2, \"fcst\": null, \"fcst_lower_05\": null, \"fcst_lower_25\": null, \"fcst_upper_75\": null, \"fcst_upper_95\": null}, {\"time\": \"2016-03-10T00:00:00\", \"y\": 2, \"fcst\": null, \"fcst_lower_05\": null, \"fcst_lower_25\": null, \"fcst_upper_75\": null, \"fcst_upper_95\": null}, {\"time\": \"2016-03-11T00:00:00\", \"y\": 0, \"fcst\": null, \"fcst_lower_05\": null, \"fcst_lower_25\": null, \"fcst_upper_75\": null, \"fcst_upper_95\": null}, {\"time\": \"2016-03-12T00:00:00\", \"y\": 2, \"fcst\": null, \"fcst_lower_05\": null, \"fcst_lower_25\": null, \"fcst_upper_75\": null, \"fcst_upper_95\": null}, {\"time\": \"2016-03-13T00:00:00\", \"y\": 2, \"fcst\": null, \"fcst_lower_05\": null, \"fcst_lower_25\": null, \"fcst_upper_75\": null, \"fcst_upper_95\": null}, {\"time\": \"2016-03-14T00:00:00\", \"y\": 2, \"fcst\": null, \"fcst_lower_05\": null, \"fcst_lower_25\": null, \"fcst_upper_75\": null, \"fcst_upper_95\": null}, {\"time\": \"2016-03-15T00:00:00\", \"y\": 2, \"fcst\": null, \"fcst_lower_05\": null, \"fcst_lower_25\": null, \"fcst_upper_75\": null, \"fcst_upper_95\": null}, {\"time\": \"2016-03-16T00:00:00\", \"y\": 2, \"fcst\": null, \"fcst_lower_05\": null, \"fcst_lower_25\": null, \"fcst_upper_75\": null, \"fcst_upper_95\": null}, {\"time\": \"2016-03-17T00:00:00\", \"y\": 3, \"fcst\": null, \"fcst_lower_05\": null, \"fcst_lower_25\": null, \"fcst_upper_75\": null, \"fcst_upper_95\": null}, {\"time\": \"2016-03-18T00:00:00\", \"y\": 1, \"fcst\": null, \"fcst_lower_05\": null, \"fcst_lower_25\": null, \"fcst_upper_75\": null, \"fcst_upper_95\": null}, {\"time\": \"2016-03-19T00:00:00\", \"y\": 2, \"fcst\": null, \"fcst_lower_05\": null, \"fcst_lower_25\": null, \"fcst_upper_75\": null, \"fcst_upper_95\": null}, {\"time\": \"2016-03-20T00:00:00\", \"y\": 2, \"fcst\": null, \"fcst_lower_05\": null, \"fcst_lower_25\": null, \"fcst_upper_75\": null, \"fcst_upper_95\": null}, {\"time\": \"2016-03-21T00:00:00\", \"y\": 4, \"fcst\": null, \"fcst_lower_05\": null, \"fcst_lower_25\": null, \"fcst_upper_75\": null, \"fcst_upper_95\": null}, {\"time\": \"2016-03-22T00:00:00\", \"y\": 3, \"fcst\": null, \"fcst_lower_05\": null, \"fcst_lower_25\": null, \"fcst_upper_75\": null, \"fcst_upper_95\": null}, {\"time\": \"2016-03-23T00:00:00\", \"y\": 1, \"fcst\": null, \"fcst_lower_05\": null, \"fcst_lower_25\": null, \"fcst_upper_75\": null, \"fcst_upper_95\": null}, {\"time\": \"2016-03-24T00:00:00\", \"y\": 1, \"fcst\": null, \"fcst_lower_05\": null, \"fcst_lower_25\": null, \"fcst_upper_75\": null, \"fcst_upper_95\": null}, {\"time\": \"2016-03-25T00:00:00\", \"y\": 1, \"fcst\": null, \"fcst_lower_05\": null, \"fcst_lower_25\": null, \"fcst_upper_75\": null, \"fcst_upper_95\": null}, {\"time\": \"2016-03-26T00:00:00\", \"y\": 1, \"fcst\": null, \"fcst_lower_05\": null, \"fcst_lower_25\": null, \"fcst_upper_75\": null, \"fcst_upper_95\": null}, {\"time\": \"2016-03-27T00:00:00\", \"y\": 2, \"fcst\": null, \"fcst_lower_05\": null, \"fcst_lower_25\": null, \"fcst_upper_75\": null, \"fcst_upper_95\": null}, {\"time\": \"2016-03-28T00:00:00\", \"y\": 0, \"fcst\": null, \"fcst_lower_05\": null, \"fcst_lower_25\": null, \"fcst_upper_75\": null, \"fcst_upper_95\": null}, {\"time\": \"2016-03-29T00:00:00\", \"y\": 0, \"fcst\": null, \"fcst_lower_05\": null, \"fcst_lower_25\": null, \"fcst_upper_75\": null, \"fcst_upper_95\": null}, {\"time\": \"2016-03-30T00:00:00\", \"y\": 1, \"fcst\": null, \"fcst_lower_05\": null, \"fcst_lower_25\": null, \"fcst_upper_75\": null, \"fcst_upper_95\": null}, {\"time\": \"2016-03-31T00:00:00\", \"y\": 4, \"fcst\": null, \"fcst_lower_05\": null, \"fcst_lower_25\": null, \"fcst_upper_75\": null, \"fcst_upper_95\": null}, {\"time\": \"2016-04-01T00:00:00\", \"y\": 1, \"fcst\": null, \"fcst_lower_05\": null, \"fcst_lower_25\": null, \"fcst_upper_75\": null, \"fcst_upper_95\": null}, {\"time\": \"2016-04-02T00:00:00\", \"y\": 0, \"fcst\": null, \"fcst_lower_05\": null, \"fcst_lower_25\": null, \"fcst_upper_75\": null, \"fcst_upper_95\": null}, {\"time\": \"2016-04-03T00:00:00\", \"y\": 0, \"fcst\": null, \"fcst_lower_05\": null, \"fcst_lower_25\": null, \"fcst_upper_75\": null, \"fcst_upper_95\": null}, {\"time\": \"2016-04-04T00:00:00\", \"y\": 0, \"fcst\": null, \"fcst_lower_05\": null, \"fcst_lower_25\": null, \"fcst_upper_75\": null, \"fcst_upper_95\": null}, {\"time\": \"2016-04-05T00:00:00\", \"y\": 0, \"fcst\": null, \"fcst_lower_05\": null, \"fcst_lower_25\": null, \"fcst_upper_75\": null, \"fcst_upper_95\": null}, {\"time\": \"2016-04-06T00:00:00\", \"y\": 3, \"fcst\": null, \"fcst_lower_05\": null, \"fcst_lower_25\": null, \"fcst_upper_75\": null, \"fcst_upper_95\": null}, {\"time\": \"2016-04-07T00:00:00\", \"y\": 2, \"fcst\": null, \"fcst_lower_05\": null, \"fcst_lower_25\": null, \"fcst_upper_75\": null, \"fcst_upper_95\": null}, {\"time\": \"2016-04-08T00:00:00\", \"y\": 1, \"fcst\": null, \"fcst_lower_05\": null, \"fcst_lower_25\": null, \"fcst_upper_75\": null, \"fcst_upper_95\": null}, {\"time\": \"2016-04-09T00:00:00\", \"y\": 1, \"fcst\": null, \"fcst_lower_05\": null, \"fcst_lower_25\": null, \"fcst_upper_75\": null, \"fcst_upper_95\": null}, {\"time\": \"2016-04-10T00:00:00\", \"y\": 0, \"fcst\": null, \"fcst_lower_05\": null, \"fcst_lower_25\": null, \"fcst_upper_75\": null, \"fcst_upper_95\": null}, {\"time\": \"2016-04-11T00:00:00\", \"y\": 2, \"fcst\": null, \"fcst_lower_05\": null, \"fcst_lower_25\": null, \"fcst_upper_75\": null, \"fcst_upper_95\": null}, {\"time\": \"2016-04-12T00:00:00\", \"y\": 5, \"fcst\": null, \"fcst_lower_05\": null, \"fcst_lower_25\": null, \"fcst_upper_75\": null, \"fcst_upper_95\": null}, {\"time\": \"2016-04-13T00:00:00\", \"y\": 0, \"fcst\": null, \"fcst_lower_05\": null, \"fcst_lower_25\": null, \"fcst_upper_75\": null, \"fcst_upper_95\": null}, {\"time\": \"2016-04-14T00:00:00\", \"y\": 1, \"fcst\": null, \"fcst_lower_05\": null, \"fcst_lower_25\": null, \"fcst_upper_75\": null, \"fcst_upper_95\": null}, {\"time\": \"2016-04-15T00:00:00\", \"y\": 1, \"fcst\": null, \"fcst_lower_05\": null, \"fcst_lower_25\": null, \"fcst_upper_75\": null, \"fcst_upper_95\": null}, {\"time\": \"2016-04-16T00:00:00\", \"y\": 1, \"fcst\": null, \"fcst_lower_05\": null, \"fcst_lower_25\": null, \"fcst_upper_75\": null, \"fcst_upper_95\": null}, {\"time\": \"2016-04-17T00:00:00\", \"y\": 3, \"fcst\": null, \"fcst_lower_05\": null, \"fcst_lower_25\": null, \"fcst_upper_75\": null, \"fcst_upper_95\": null}, {\"time\": \"2016-04-18T00:00:00\", \"y\": 0, \"fcst\": null, \"fcst_lower_05\": null, \"fcst_lower_25\": null, \"fcst_upper_75\": null, \"fcst_upper_95\": null}, {\"time\": \"2016-04-19T00:00:00\", \"y\": 3, \"fcst\": null, \"fcst_lower_05\": null, \"fcst_lower_25\": null, \"fcst_upper_75\": null, \"fcst_upper_95\": null}, {\"time\": \"2016-04-20T00:00:00\", \"y\": 2, \"fcst\": null, \"fcst_lower_05\": null, \"fcst_lower_25\": null, \"fcst_upper_75\": null, \"fcst_upper_95\": null}, {\"time\": \"2016-04-21T00:00:00\", \"y\": 0, \"fcst\": null, \"fcst_lower_05\": null, \"fcst_lower_25\": null, \"fcst_upper_75\": null, \"fcst_upper_95\": null}, {\"time\": \"2016-04-22T00:00:00\", \"y\": 1, \"fcst\": null, \"fcst_lower_05\": null, \"fcst_lower_25\": null, \"fcst_upper_75\": null, \"fcst_upper_95\": null}, {\"time\": \"2016-04-23T00:00:00\", \"y\": 2, \"fcst\": null, \"fcst_lower_05\": null, \"fcst_lower_25\": null, \"fcst_upper_75\": null, \"fcst_upper_95\": null}, {\"time\": \"2016-04-24T00:00:00\", \"y\": 4, \"fcst\": null, \"fcst_lower_05\": null, \"fcst_lower_25\": null, \"fcst_upper_75\": null, \"fcst_upper_95\": null}, {\"time\": \"2016-04-25T00:00:00\", \"y\": 1, \"fcst\": -0.0897480696439743, \"fcst_lower_05\": -0.5630098581314087, \"fcst_lower_25\": -0.32872459292411804, \"fcst_upper_75\": 0.10430818051099777, \"fcst_upper_95\": 0.42293035984039307}, {\"time\": \"2016-04-26T00:00:00\", \"y\": 4, \"fcst\": -0.030853629112243652, \"fcst_lower_05\": -0.3165247142314911, \"fcst_lower_25\": -0.16000138223171234, \"fcst_upper_75\": 0.08937303721904755, \"fcst_upper_95\": 0.25247833132743835}, {\"time\": \"2016-04-27T00:00:00\", \"y\": 0, \"fcst\": -0.039006706327199936, \"fcst_lower_05\": -0.5792930126190186, \"fcst_lower_25\": -0.2849687337875366, \"fcst_upper_75\": 0.16623498499393463, \"fcst_upper_95\": 0.5082879662513733}, {\"time\": \"2016-04-28T00:00:00\", \"y\": 3, \"fcst\": 0.45069655776023865, \"fcst_lower_05\": -2.0123674869537354, \"fcst_lower_25\": -0.4598716199398041, \"fcst_upper_75\": 1.3879611492156982, \"fcst_upper_95\": 2.841481924057007}, {\"time\": \"2016-04-29T00:00:00\", \"y\": 3, \"fcst\": -0.17055471241474152, \"fcst_lower_05\": -1.1024585962295532, \"fcst_lower_25\": -0.6360195279121399, \"fcst_upper_75\": 0.2533471882343292, \"fcst_upper_95\": 0.8756206631660461}, {\"time\": \"2016-04-30T00:00:00\", \"y\": 2, \"fcst\": 0.00551504036411643, \"fcst_lower_05\": -1.0754203796386719, \"fcst_lower_25\": -0.37383803725242615, \"fcst_upper_75\": 0.4185132384300232, \"fcst_upper_95\": 0.9236871004104614}, {\"time\": \"2016-05-01T00:00:00\", \"y\": 2, \"fcst\": 0.6476377844810486, \"fcst_lower_05\": -2.9140660762786865, \"fcst_lower_25\": -0.48160943388938904, \"fcst_upper_75\": 2.0921061038970947, \"fcst_upper_95\": 4.163629531860352}, {\"time\": \"2016-05-02T00:00:00\", \"y\": 6, \"fcst\": -0.09879115968942642, \"fcst_lower_05\": -0.8482930660247803, \"fcst_lower_25\": -0.39242878556251526, \"fcst_upper_75\": 0.24623467028141022, \"fcst_upper_95\": 0.5645344853401184}, {\"time\": \"2016-05-03T00:00:00\", \"y\": 1, \"fcst\": 0.008459617383778095, \"fcst_lower_05\": -0.14487478137016296, \"fcst_lower_25\": -0.055927205830812454, \"fcst_upper_75\": 0.07564191520214081, \"fcst_upper_95\": 0.14551396667957306}, {\"time\": \"2016-05-04T00:00:00\", \"y\": 1, \"fcst\": 0.22096402943134308, \"fcst_lower_05\": -3.859175443649292, \"fcst_lower_25\": -1.4579386711120605, \"fcst_upper_75\": 1.9087649583816528, \"fcst_upper_95\": 3.801880121231079}, {\"time\": \"2016-05-05T00:00:00\", \"y\": 2, \"fcst\": 0.06659594923257828, \"fcst_lower_05\": -0.455418199300766, \"fcst_lower_25\": -0.20169486105442047, \"fcst_upper_75\": 0.33280205726623535, \"fcst_upper_95\": 0.6203522086143494}, {\"time\": \"2016-05-06T00:00:00\", \"y\": 4, \"fcst\": -0.5063063502311707, \"fcst_lower_05\": -3.981792449951172, \"fcst_lower_25\": -2.216259479522705, \"fcst_upper_75\": 0.9690380692481995, \"fcst_upper_95\": 3.225215196609497}, {\"time\": \"2016-05-07T00:00:00\", \"y\": 1, \"fcst\": 0.01809147745370865, \"fcst_lower_05\": -1.8661136627197266, \"fcst_lower_25\": -0.7106091976165771, \"fcst_upper_75\": 0.9359249472618103, \"fcst_upper_95\": 1.838922381401062}, {\"time\": \"2016-05-08T00:00:00\", \"y\": 0, \"fcst\": -0.5972481369972229, \"fcst_lower_05\": -3.7522330284118652, \"fcst_lower_25\": -1.7645021677017212, \"fcst_upper_75\": 0.735093891620636, \"fcst_upper_95\": 2.672642469406128}, {\"time\": \"2016-05-09T00:00:00\", \"y\": 1, \"fcst\": -4.078328493051231e-05, \"fcst_lower_05\": -0.9232362508773804, \"fcst_lower_25\": -0.2936396896839142, \"fcst_upper_75\": 0.3477860689163208, \"fcst_upper_95\": 0.9045684933662415}, {\"time\": \"2016-05-10T00:00:00\", \"y\": 0, \"fcst\": 0.08127652853727341, \"fcst_lower_05\": -0.928756058216095, \"fcst_lower_25\": -0.2780667841434479, \"fcst_upper_75\": 0.4260998070240021, \"fcst_upper_95\": 1.0893855094909668}, {\"time\": \"2016-05-11T00:00:00\", \"y\": 0, \"fcst\": 2.61397830464416e-11, \"fcst_lower_05\": -1.7306379940240646e-10, \"fcst_lower_25\": -6.901267751713291e-11, \"fcst_upper_75\": 1.187213244380203e-10, \"fcst_upper_95\": 2.2934687482489835e-10}, {\"time\": \"2016-05-12T00:00:00\", \"y\": 0, \"fcst\": 0.053826332092285156, \"fcst_lower_05\": -0.42958760261535645, \"fcst_lower_25\": -0.11397483944892883, \"fcst_upper_75\": 0.219013050198555, \"fcst_upper_95\": 0.502565860748291}, {\"time\": \"2016-05-13T00:00:00\", \"y\": 2, \"fcst\": -0.0024259916972368956, \"fcst_lower_05\": -0.7538903951644897, \"fcst_lower_25\": -0.3531002998352051, \"fcst_upper_75\": 0.3621705174446106, \"fcst_upper_95\": 0.7122502326965332}, {\"time\": \"2016-05-14T00:00:00\", \"y\": 0, \"fcst\": 0.012186658568680286, \"fcst_lower_05\": -1.068884253501892, \"fcst_lower_25\": -0.4268418252468109, \"fcst_upper_75\": 0.4013105034828186, \"fcst_upper_95\": 0.9862219095230103}, {\"time\": \"2016-05-15T00:00:00\", \"y\": 4, \"fcst\": -0.19076590240001678, \"fcst_lower_05\": -1.8014193773269653, \"fcst_lower_25\": -0.8928564190864563, \"fcst_upper_75\": 0.5837317705154419, \"fcst_upper_95\": 1.3778055906295776}, {\"time\": \"2016-05-16T00:00:00\", \"y\": 1, \"fcst\": -0.0201431792229414, \"fcst_lower_05\": -0.3856293559074402, \"fcst_lower_25\": -0.14854367077350616, \"fcst_upper_75\": 0.13048768043518066, \"fcst_upper_95\": 0.3089464604854584}, {\"time\": \"2016-05-17T00:00:00\", \"y\": 1, \"fcst\": 0.0345013253390789, \"fcst_lower_05\": -1.356909155845642, \"fcst_lower_25\": -0.4835057556629181, \"fcst_upper_75\": 0.5973408222198486, \"fcst_upper_95\": 1.1560758352279663}, {\"time\": \"2016-05-18T00:00:00\", \"y\": 1, \"fcst\": 0.022066738456487656, \"fcst_lower_05\": -0.419964462518692, \"fcst_lower_25\": -0.16525675356388092, \"fcst_upper_75\": 0.19319404661655426, \"fcst_upper_95\": 0.5446802377700806}, {\"time\": \"2016-05-19T00:00:00\", \"y\": 2, \"fcst\": -0.09713612496852875, \"fcst_lower_05\": -0.5881169438362122, \"fcst_lower_25\": -0.27705541253089905, \"fcst_upper_75\": 0.09999240934848785, \"fcst_upper_95\": 0.3541765809059143}, {\"time\": \"2016-05-20T00:00:00\", \"y\": 1, \"fcst\": 0.9720491170883179, \"fcst_lower_05\": -10.023114204406738, \"fcst_lower_25\": -2.670119524002075, \"fcst_upper_75\": 5.155984878540039, \"fcst_upper_95\": 10.198296546936035}, {\"time\": \"2016-05-21T00:00:00\", \"y\": 3, \"fcst\": -0.054019927978515625, \"fcst_lower_05\": -1.5778635740280151, \"fcst_lower_25\": -0.5844002962112427, \"fcst_upper_75\": 0.566103994846344, \"fcst_upper_95\": 1.1960011720657349}, {\"time\": \"2016-05-22T00:00:00\", \"y\": 0, \"fcst\": -0.17944040894508362, \"fcst_lower_05\": -1.8939718008041382, \"fcst_lower_25\": -0.8676306009292603, \"fcst_upper_75\": 0.6410585045814514, \"fcst_upper_95\": 1.3163390159606934}], \"data-302bc33366dfe1498bc0394fc8325ea5\": [{\"time\": \"2016-04-25T00:00:00\"}]}}, {\"mode\": \"vega-lite\"});\n",
       "</script>"
      ],
      "text/plain": [
       "alt.LayerChart(...)"
      ]
     },
     "execution_count": 82,
     "metadata": {},
     "output_type": "execute_result"
    }
   ],
   "source": [
    "plot_index = 2  # 2, 3, 9\n",
    "plot_id = test_sampled_ids[plot_index]\n",
    "\n",
    "y = target[[plot_id]].reset_index()\n",
    "y.columns = [\"time\", \"y\"]\n",
    "y[\"time\"] = pd.to_datetime(y[\"time\"])\n",
    "\n",
    "forecast = pd.DataFrame(\n",
    "    [forecasts[0].mean[plot_index][-test_steps:]]\n",
    "    + [forecasts[0].quantile(p)[plot_index][-test_steps:] for p in [0.05, 0.25, 0.75, 0.95]],\n",
    "    columns=forecasts[0].index,\n",
    ").T.reset_index()\n",
    "forecast.columns = [\n",
    "    \"time\",\n",
    "    \"fcst\",\n",
    "    \"fcst_lower_05\",\n",
    "    \"fcst_lower_25\",\n",
    "    \"fcst_upper_75\",\n",
    "    \"fcst_upper_95\",\n",
    "]\n",
    "\n",
    "source = y.merge(forecast, how=\"left\")\n",
    "plot_forecast(\n",
    "    source, test_steps, plot_id=plot_id, model_name=\"DeepAR\", start_date=\"2015-05-23\"\n",
    ")"
   ]
  },
  {
   "cell_type": "markdown",
   "id": "3decfb94-68e3-43a0-9fa9-61522595226f",
   "metadata": {},
   "source": [
    "# DeepAR: Prediction"
   ]
  },
  {
   "cell_type": "code",
   "execution_count": null,
   "id": "5488e7ec-c421-4ebe-86ec-0d64f9880fd4",
   "metadata": {},
   "outputs": [],
   "source": [
    "feature_names = [\"event_name_1\", \"event_type_1\", \"event_name_2\", \"event_type_2\"]\n",
    "events = calendar[[\"date\"] + feature_names].fillna(\"NA\")\n",
    "train = events[events[\"date\"] < dates[-test_steps]][feature_names]\n",
    "\n",
    "encoder = HashingEncoder(drop_invariant=True)\n",
    "_ = encoder.fit(train)\n",
    "encoded = encoder.transform(events[feature_names])\n",
    "events = pd.concat([events[[\"date\"]], encoded], axis=1)\n",
    "\n",
    "feat_dynamic_cat = events.merge(time_related).set_index(\"date\")\n",
    "\n",
    "scaler = MinMaxScaler()\n",
    "scaled = scaler.fit_transform(feat_dynamic_cat)\n",
    "feat_dynamic_cat = pd.DataFrame(\n",
    "    scaled, columns=feat_dynamic_cat.columns, index=feat_dynamic_cat.index\n",
    ")"
   ]
  },
  {
   "cell_type": "code",
   "execution_count": null,
   "id": "d4599568-2a70-41a8-9578-28dd87ab7bfd",
   "metadata": {},
   "outputs": [],
   "source": [
    "prices = (\n",
    "    df_train_eval[[\"id\", \"store_id\", \"item_id\"]]\n",
    "    .merge(selling_prices, how=\"left\")\n",
    "    .drop([\"store_id\", \"item_id\"], axis=1)\n",
    ")\n",
    "week_to_date = calendar[[\"date\", \"wm_yr_wk\"]].drop_duplicates()\n",
    "prices = week_to_date.merge(prices, how=\"left\").drop(\n",
    "    [\"wm_yr_wk\"], axis=1\n",
    ")\n",
    "\n",
    "scaler = MinMaxScaler()\n",
    "train = prices[prices[\"date\"] < dates[-test_steps]][[\"sell_price\"]]\n",
    "\n",
    "_ = scaler.fit(train)\n",
    "prices[\"sell_price\"] = scaler.transform(prices[[\"sell_price\"]])\n",
    "prices = prices.pivot(index=\"date\", columns=\"id\", values=\"sell_price\")\n",
    "prices = prices.fillna(method=\"bfill\")\n",
    "\n",
    "feat_dynamic_real = pd.concat([prices, snap], axis=1)"
   ]
  },
  {
   "cell_type": "code",
   "execution_count": null,
   "id": "638d0ca7-6209-4301-8eb1-f11c7803eb66",
   "metadata": {},
   "outputs": [],
   "source": [
    "train_list = []\n",
    "for submission_id in submission_ids:\n",
    "    dict_by_id = {\n",
    "        FieldName.TARGET: target[submission_id].values,\n",
    "        FieldName.START: target.index[0],\n",
    "        FieldName.FEAT_DYNAMIC_REAL: split_into_n_array(\n",
    "            feat_dynamic_cat.iloc[:-test_steps],\n",
    "            n_feat_dynamic_cat,\n",
    "        )\n",
    "        + split_into_n_array(\n",
    "            feat_dynamic_real[submission_id].iloc[:-test_steps],\n",
    "            n_feat_dynamic_real,\n",
    "        ),\n",
    "        FieldName.FEAT_STATIC_CAT: feat_static_cat[submission_id].values,\n",
    "    }\n",
    "    train_list.append(dict_by_id)\n",
    "\n",
    "test_list = []\n",
    "for submission_id in submission_ids:\n",
    "    dict_by_id = {\n",
    "        FieldName.TARGET: np.append(\n",
    "            target[submission_id].values, np.repeat(np.nan, test_steps)\n",
    "        ),\n",
    "        FieldName.START: target.index[0],\n",
    "        FieldName.FEAT_DYNAMIC_REAL: split_into_n_array(\n",
    "            feat_dynamic_cat,\n",
    "            n_feat_dynamic_cat,\n",
    "        )\n",
    "        + split_into_n_array(\n",
    "            feat_dynamic_real[submission_id],\n",
    "            n_feat_dynamic_real,\n",
    "        ),\n",
    "        FieldName.FEAT_STATIC_CAT: feat_static_cat[submission_id].values,\n",
    "    }\n",
    "    test_list.append(dict_by_id)\n",
    "\n",
    "train_dataset = ListDataset(train_list, freq=\"D\")\n",
    "test_dataset = ListDataset(test_list, freq=\"D\")"
   ]
  },
  {
   "cell_type": "code",
   "execution_count": null,
   "id": "7e2d6b7a-4c6c-47e1-bd5f-7b8ca1b0aba0",
   "metadata": {},
   "outputs": [],
   "source": [
    "trainer = Trainer(\n",
    "    ctx=device,\n",
    "    epochs=200,\n",
    "    num_batches_per_epoch=50,\n",
    "    learning_rate=0.001,\n",
    "    hybridize=True,\n",
    ")"
   ]
  },
  {
   "cell_type": "code",
   "execution_count": null,
   "id": "11339b98-262e-4575-883a-a83e0d5e69cb",
   "metadata": {},
   "outputs": [],
   "source": [
    "deepar_estimator = DeepAREstimator(\n",
    "    freq=\"D\", \n",
    "    prediction_length=test_steps,\n",
    "    trainer=trainer,\n",
    "    context_length=2 * test_steps,\n",
    "    num_layers=2,\n",
    "    num_cells=40,\n",
    "    cell_type=\"lstm\",\n",
    "    dropout_rate=0.2,\n",
    "    use_feat_dynamic_real=True,\n",
    "    use_feat_static_cat=True,\n",
    "    use_feat_static_real=False,\n",
    "    cardinality=cardinality,\n",
    "    distr_output=NegativeBinomialOutput(),  \n",
    "    # distr_output=PoissonOutput(), \n",
    "    batch_size=30,\n",
    ")"
   ]
  },
  {
   "cell_type": "code",
   "execution_count": null,
   "id": "37a3930c-7a7a-4bec-8efb-90a97758924c",
   "metadata": {},
   "outputs": [],
   "source": [
    "%%time\n",
    "deepar_predictor = deepar_estimator.train(train_dataset)"
   ]
  },
  {
   "cell_type": "code",
   "execution_count": null,
   "id": "12c2d95d-6766-4a24-98f0-cf4b1e217680",
   "metadata": {},
   "outputs": [],
   "source": [
    "%%time\n",
    "forecast_iter, ts_iter = make_evaluation_predictions( \n",
    "    dataset=test_dataset,\n",
    "    predictor=deepar_predictor, \n",
    "    num_samples=100,\n",
    ") \n",
    "forecasts = list(forecast_iter)\n",
    "tss = list(ts_iter)"
   ]
  },
  {
   "cell_type": "code",
   "execution_count": null,
   "id": "8c9cc279-f6f8-45f3-8c43-4adfa734f17c",
   "metadata": {},
   "outputs": [],
   "source": [
    "column_names = [\"F\" + str(i) for i in range(1, 29)]\n",
    "valid_submission = df_train_eval.loc[\n",
    "    :, [\"id\"] + date_names[-test_steps:]\n",
    "]\n",
    "valid_submission.columns = [\"id\"] + column_names\n",
    "valid_submission[\"id\"] = valid_submission[\"id\"].str.replace(\"evaluation\", \"validation\")\n",
    "eval_submission = pd.DataFrame(\n",
    "    [forecast.mean for forecast in forecasts],\n",
    "    columns=column_names,\n",
    "    index=submission_ids,\n",
    ").reset_index()\n",
    "eval_submission.columns = [\"id\"] + eval_submission.columns[1:].tolist()\n",
    "submission = pd.concat([valid_submission, eval_submission])\n",
    "submission.to_csv(\"submission.csv\", index=False)"
   ]
  }
 ],
 "metadata": {
  "kernelspec": {
   "display_name": "Python 3",
   "language": "python",
   "name": "python3"
  },
  "language_info": {
   "codemirror_mode": {
    "name": "ipython",
    "version": 3
   },
   "file_extension": ".py",
   "mimetype": "text/x-python",
   "name": "python",
   "nbconvert_exporter": "python",
   "pygments_lexer": "ipython3",
   "version": "3.9.4"
  }
 },
 "nbformat": 4,
 "nbformat_minor": 5
}
