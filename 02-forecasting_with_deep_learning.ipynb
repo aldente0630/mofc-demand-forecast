{
 "cells": [
  {
   "cell_type": "code",
   "execution_count": 1,
   "id": "a2d59165-02ca-4369-a94e-3e6ec73d65b8",
   "metadata": {},
   "outputs": [],
   "source": [
    "%load_ext autoreload\n",
    "%autoreload 2"
   ]
  },
  {
   "cell_type": "code",
   "execution_count": 2,
   "id": "04e94915-cfe3-41eb-ab51-5b55074eccc4",
   "metadata": {},
   "outputs": [
    {
     "name": "stdout",
     "output_type": "stream",
     "text": [
      "<VERSION>\n",
      "category_encoders: 2.2.2, gluonts: 0.8.0, mxnet: 1.8.0\n"
     ]
    }
   ],
   "source": [
    "import itertools\n",
    "import os\n",
    "import warnings\n",
    "import category_encoders\n",
    "import gluonts\n",
    "import mxnet\n",
    "import altair as alt\n",
    "import numpy as np\n",
    "import pandas as pd\n",
    "from pathlib import Path\n",
    "from sklearn.preprocessing import MinMaxScaler, OrdinalEncoder\n",
    "from category_encoders.hashing import HashingEncoder\n",
    "from gluonts.dataset.multivariate_grouper import MultivariateGrouper\n",
    "from gluonts.evaluation import Evaluator, MultivariateEvaluator\n",
    "from gluonts.evaluation.backtest import make_evaluation_predictions\n",
    "from gluonts.dataset.common import ListDataset\n",
    "from gluonts.dataset.field_names import FieldName\n",
    "from gluonts.model.deepar import DeepAREstimator\n",
    "from gluonts.model.deepvar import DeepVAREstimator\n",
    "from gluonts.model.predictor import Predictor\n",
    "from gluonts.mx.distribution import (\n",
    "    LowrankMultivariateGaussianOutput,\n",
    "    NegativeBinomialOutput, \n",
    "    PoissonOutput,\n",
    ")\n",
    "from gluonts.mx.trainer import Trainer\n",
    "from mxnet.context import num_gpus\n",
    "from utils.evaluation import WRMSSEEvaluator\n",
    "\n",
    "\n",
    "mxnet.random.seed(42)\n",
    "np.random.seed(42)\n",
    "warnings.filterwarnings(\"ignore\")\n",
    "print(f\"<VERSION>\\ncategory_encoders: {category_encoders.__version__}, gluonts: {gluonts.__version__}, mxnet: {mxnet.__version__}\")"
   ]
  },
  {
   "cell_type": "markdown",
   "id": "e3935438-e3c0-41e5-87ab-5c5a64f53b3a",
   "metadata": {},
   "source": [
    "The Kaggle dataset was saved in the local directory `~/data/mofc-demand-forecast` in advance."
   ]
  },
  {
   "cell_type": "code",
   "execution_count": 3,
   "id": "a1ea8ceb-ddf6-49d8-9311-77d26cc5282d",
   "metadata": {},
   "outputs": [],
   "source": [
    "DATA_PATH = \"../../data/mofc-demand-forecast\"\n",
    "MODEL_PATH = \"models\"\n",
    "\n",
    "calendar = pd.read_csv(os.path.join(DATA_PATH, \"calendar.csv\"))\n",
    "selling_prices = pd.read_csv(os.path.join(DATA_PATH, \"sell_prices.csv\"))\n",
    "df_train_valid = pd.read_csv(os.path.join(DATA_PATH, \"sales_train_validation.csv\"))\n",
    "df_train_eval = pd.read_csv(os.path.join(DATA_PATH, \"sales_train_evaluation.csv\"))\n",
    "sample_submission = pd.read_csv(os.path.join(DATA_PATH, \"sample_submission.csv\"))"
   ]
  },
  {
   "cell_type": "code",
   "execution_count": 4,
   "id": "738144a6-729f-4e48-8844-8f7d284a8016",
   "metadata": {},
   "outputs": [
    {
     "name": "stdout",
     "output_type": "stream",
     "text": [
      "3049 out of 30490 IDs were selected for testing.\n"
     ]
    }
   ],
   "source": [
    "key_names = [\"id\", \"item_id\", \"dept_id\", \"cat_id\", \"store_id\", \"state_id\"]\n",
    "all_ids = df_train_eval[\"id\"].unique()\n",
    "date_names = [\"d_\" + str(i) for i in range(1, 1942)]\n",
    "dates = calendar[\"date\"].unique()\n",
    "test_steps = 28\n",
    "\n",
    "key_pairs = list(itertools.product(all_ids, dates))\n",
    "key_pairs = pd.DataFrame(key_pairs, columns=[\"id\", \"date\"])\n",
    "\n",
    "test_sample_ratio = 0.1\n",
    "\n",
    "if test_sample_ratio == 1.0:\n",
    "    test_sampled_ids = all_ids\n",
    "else:\n",
    "    test_sampled_ids = np.random.choice(\n",
    "        all_ids, round(test_sample_ratio * len(all_ids)), replace=False\n",
    "    ).tolist()\n",
    "    \n",
    "print(\n",
    "    f\"{len(test_sampled_ids)} out of {len(all_ids)} IDs were selected for testing.\"\n",
    ")"
   ]
  },
  {
   "cell_type": "markdown",
   "id": "dc9edd18-b652-4fed-86e9-97a7cdc40e08",
   "metadata": {},
   "source": [
    "# Data Preprocessing"
   ]
  },
  {
   "cell_type": "code",
   "execution_count": 5,
   "id": "f7d39a4d-d7d8-432b-a50f-8d480b250bbf",
   "metadata": {},
   "outputs": [],
   "source": [
    "target = df_train_eval[[\"id\"] + date_names]\n",
    "target = target.set_index(\"id\").T.reset_index()\n",
    "date_dict = calendar[[\"date\", \"d\"]].set_index(\"d\").to_dict()[\"date\"]\n",
    "target[\"index\"] = target[\"index\"].replace(date_dict)\n",
    "target.columns = [\"date\"] + target.columns[1:].tolist()\n",
    "target = target.set_index(\"date\")"
   ]
  },
  {
   "cell_type": "code",
   "execution_count": 6,
   "id": "0ae6db7f-f6ca-4fb8-8bec-7659a8681bc6",
   "metadata": {},
   "outputs": [],
   "source": [
    "feature_names = [\"event_name_1\", \"event_type_1\", \"event_name_2\", \"event_type_2\"]\n",
    "events = calendar[[\"date\"] + feature_names].fillna(\"NA\")\n",
    "train = events[events[\"date\"] < dates[-2 * test_steps]][feature_names]\n",
    "\n",
    "encoder = HashingEncoder(drop_invariant=True)\n",
    "_ = encoder.fit(train)\n",
    "encoded = encoder.transform(events[feature_names])\n",
    "events = pd.concat([events[[\"date\"]], encoded], axis=1)\n",
    "\n",
    "time_related = calendar[[\"date\", \"wday\", \"month\"]]\n",
    "time_related[\"day\"] = time_related[\"date\"].map(lambda x: int(x.split(\"-\")[2]))\n",
    "\n",
    "feat_dynamic_cat = events.merge(time_related).set_index(\"date\")\n",
    "\n",
    "scaler = MinMaxScaler()\n",
    "scaled = scaler.fit_transform(feat_dynamic_cat)\n",
    "feat_dynamic_cat = pd.DataFrame(\n",
    "    scaled, columns=feat_dynamic_cat.columns, index=feat_dynamic_cat.index\n",
    ")\n",
    "n_feat_dynamic_cat = feat_dynamic_cat.shape[1]"
   ]
  },
  {
   "cell_type": "code",
   "execution_count": 7,
   "id": "042273de-a9e6-4422-a7d7-7ce528ef6f08",
   "metadata": {},
   "outputs": [],
   "source": [
    "prices = (\n",
    "    df_train_eval[[\"id\", \"store_id\", \"item_id\"]]\n",
    "    .merge(selling_prices, how=\"left\")\n",
    "    .drop([\"store_id\", \"item_id\"], axis=1)\n",
    ")\n",
    "week_to_date = calendar[[\"date\", \"wm_yr_wk\"]].drop_duplicates()\n",
    "prices = week_to_date.merge(prices, how=\"left\").drop(\n",
    "    [\"wm_yr_wk\"], axis=1\n",
    ")\n",
    "\n",
    "scaler = MinMaxScaler()\n",
    "train = prices[prices[\"date\"] < dates[-2 * test_steps]][[\"sell_price\"]]\n",
    "\n",
    "_ = scaler.fit(train)\n",
    "prices[\"sell_price\"] = scaler.transform(prices[[\"sell_price\"]])\n",
    "prices = prices.pivot(index=\"date\", columns=\"id\", values=\"sell_price\")\n",
    "prices = prices.fillna(method=\"bfill\")\n",
    "\n",
    "snap = calendar[[\"date\", \"snap_CA\", \"snap_TX\", \"snap_WI\"]]\n",
    "snap.columns = [\"date\", \"CA\", \"TX\", \"WI\"]\n",
    "snap = pd.melt(\n",
    "    snap,\n",
    "    id_vars=\"date\",\n",
    "    value_vars=[\"CA\", \"TX\", \"WI\"],\n",
    "    var_name=\"state_id\",\n",
    "    value_name=\"snap\",\n",
    ")\n",
    "snap = key_pairs.merge(df_train_eval[[\"id\", \"state_id\"]], how=\"left\").merge(\n",
    "    snap, on=[\"date\", \"state_id\"], how=\"left\"\n",
    ")\n",
    "snap = snap.pivot(index=\"date\", columns=\"id\", values=\"snap\")\n",
    "\n",
    "feat_dynamic_real = pd.concat([prices, snap], axis=1)\n",
    "n_feat_dynamic_real = int(feat_dynamic_real.shape[1] / target.shape[1])"
   ]
  },
  {
   "cell_type": "code",
   "execution_count": 8,
   "id": "0e5e5832-c6e2-4e0b-874d-4e50006d5af3",
   "metadata": {},
   "outputs": [],
   "source": [
    "feature_names = [\"item_id\", \"dept_id\", \"cat_id\", \"store_id\", \"state_id\"]\n",
    "feat_static_cat = df_train_eval[[\"id\"] + feature_names]\n",
    "\n",
    "encoder = OrdinalEncoder()\n",
    "feat_static_cat[feature_names] = encoder.fit_transform(feat_static_cat[feature_names])\n",
    "feat_static_cat[feature_names] = feat_static_cat[feature_names].astype(int)\n",
    "feat_static_cat = feat_static_cat.set_index(\"id\").T\n",
    "\n",
    "cardinality = [len(category) for category in encoder.categories_]"
   ]
  },
  {
   "cell_type": "code",
   "execution_count": 9,
   "id": "b1e94eeb-ac21-4344-869b-c08b51092fb2",
   "metadata": {},
   "outputs": [],
   "source": [
    "def split_into_n_array(x, n):\n",
    "    return np.hsplit(x.values.T.ravel(), n)\n",
    "\n",
    "\n",
    "train_list = []\n",
    "for test_sampled_id in test_sampled_ids:\n",
    "    dict_by_id = {\n",
    "        FieldName.TARGET: target[test_sampled_id].iloc[:-test_steps].values,\n",
    "        FieldName.START: target.index[0],\n",
    "        FieldName.FEAT_DYNAMIC_REAL: split_into_n_array(\n",
    "            feat_dynamic_cat.iloc[: -2 * test_steps], \n",
    "            n_feat_dynamic_cat,\n",
    "        )\n",
    "        + split_into_n_array(\n",
    "            feat_dynamic_real[test_sampled_id].iloc[: -2 * test_steps],\n",
    "            n_feat_dynamic_real,\n",
    "        ),\n",
    "        FieldName.FEAT_STATIC_CAT: feat_static_cat[test_sampled_id].values,\n",
    "    }\n",
    "    train_list.append(dict_by_id)\n",
    "\n",
    "test_list = []\n",
    "for test_sampled_id in test_sampled_ids:\n",
    "    dict_by_id = {\n",
    "        FieldName.TARGET: target[test_sampled_id].values,\n",
    "        FieldName.START: target.index[0],\n",
    "        FieldName.FEAT_DYNAMIC_REAL: split_into_n_array(\n",
    "            feat_dynamic_cat.iloc[: -test_steps], \n",
    "            n_feat_dynamic_cat,\n",
    "        )\n",
    "        + split_into_n_array(\n",
    "            feat_dynamic_real[test_sampled_id].iloc[: -test_steps],\n",
    "            n_feat_dynamic_real,\n",
    "        ),\n",
    "        FieldName.FEAT_STATIC_CAT: feat_static_cat[test_sampled_id].values,\n",
    "    }\n",
    "    test_list.append(dict_by_id)\n",
    "    \n",
    "train_dataset = ListDataset(train_list, freq=\"D\")\n",
    "test_dataset = ListDataset(test_list, freq=\"D\")"
   ]
  },
  {
   "cell_type": "markdown",
   "id": "9c9b1c0b-04ba-4a34-978b-86b5b924af81",
   "metadata": {},
   "source": [
    "# DeepAR: Model Training"
   ]
  },
  {
   "cell_type": "code",
   "execution_count": 10,
   "id": "aedcf2e0-d9af-4f1d-a51b-32fe46581f67",
   "metadata": {},
   "outputs": [],
   "source": [
    "device = \"gpu\" if num_gpus() > 0 else \"cpu\"\n",
    "trainer = Trainer(\n",
    "    ctx=device,\n",
    "    epochs=200,\n",
    "    num_batches_per_epoch=50,\n",
    "    learning_rate=0.001,\n",
    "    hybridize=True,\n",
    ")"
   ]
  },
  {
   "cell_type": "code",
   "execution_count": 11,
   "id": "9b489c21-badd-4bfa-8407-e0f1cf0f815d",
   "metadata": {},
   "outputs": [],
   "source": [
    "deepar_estimator = DeepAREstimator(\n",
    "    freq=\"D\", \n",
    "    prediction_length=test_steps,\n",
    "    trainer=trainer,\n",
    "    context_length=2 * test_steps,\n",
    "    num_layers=2,\n",
    "    num_cells=40,\n",
    "    cell_type=\"lstm\",\n",
    "    dropout_rate=0.1,\n",
    "    use_feat_dynamic_real=True,\n",
    "    use_feat_static_cat=True,\n",
    "    use_feat_static_real=False,\n",
    "    cardinality=cardinality,\n",
    "    distr_output=NegativeBinomialOutput(),\n",
    "    # distr_output=PoissonOutput(), \n",
    "    batch_size=30,\n",
    ")"
   ]
  },
  {
   "cell_type": "code",
   "execution_count": 12,
   "id": "037efb06-81ec-4875-b587-1a0b41d28bac",
   "metadata": {},
   "outputs": [
    {
     "name": "stderr",
     "output_type": "stream",
     "text": [
      "100%|██████████| 50/50 [00:04<00:00, 10.18it/s, epoch=1/200, avg_epoch_loss=0.935]\n",
      "100%|██████████| 50/50 [00:04<00:00, 10.97it/s, epoch=2/200, avg_epoch_loss=0.87]\n",
      "100%|██████████| 50/50 [00:04<00:00, 10.91it/s, epoch=3/200, avg_epoch_loss=0.886]\n",
      "100%|██████████| 50/50 [00:04<00:00, 10.94it/s, epoch=4/200, avg_epoch_loss=0.876]\n",
      "100%|██████████| 50/50 [00:04<00:00, 10.98it/s, epoch=5/200, avg_epoch_loss=0.865]\n",
      "100%|██████████| 50/50 [00:04<00:00, 10.91it/s, epoch=6/200, avg_epoch_loss=0.894]\n",
      "100%|██████████| 50/50 [00:04<00:00, 10.95it/s, epoch=7/200, avg_epoch_loss=0.835]\n",
      "100%|██████████| 50/50 [00:04<00:00, 10.90it/s, epoch=8/200, avg_epoch_loss=0.834]\n",
      "100%|██████████| 50/50 [00:04<00:00, 11.00it/s, epoch=9/200, avg_epoch_loss=0.878]\n",
      "100%|██████████| 50/50 [00:04<00:00, 10.97it/s, epoch=10/200, avg_epoch_loss=0.924]\n",
      "100%|██████████| 50/50 [00:04<00:00, 11.01it/s, epoch=11/200, avg_epoch_loss=0.865]\n",
      "100%|██████████| 50/50 [00:04<00:00, 11.01it/s, epoch=12/200, avg_epoch_loss=0.875]\n",
      "100%|██████████| 50/50 [00:04<00:00, 10.99it/s, epoch=13/200, avg_epoch_loss=0.855]\n",
      "100%|██████████| 50/50 [00:04<00:00, 10.95it/s, epoch=14/200, avg_epoch_loss=0.833]\n",
      "100%|██████████| 50/50 [00:04<00:00, 10.95it/s, epoch=15/200, avg_epoch_loss=0.826]\n",
      "100%|██████████| 50/50 [00:04<00:00, 11.02it/s, epoch=16/200, avg_epoch_loss=0.865]\n",
      "100%|██████████| 50/50 [00:04<00:00, 11.03it/s, epoch=17/200, avg_epoch_loss=0.874]\n",
      "100%|██████████| 50/50 [00:04<00:00, 10.99it/s, epoch=18/200, avg_epoch_loss=0.87]\n",
      "100%|██████████| 50/50 [00:04<00:00, 11.06it/s, epoch=19/200, avg_epoch_loss=0.826]\n",
      "100%|██████████| 50/50 [00:04<00:00, 10.37it/s, epoch=20/200, avg_epoch_loss=0.842]\n",
      "100%|██████████| 50/50 [00:04<00:00, 10.62it/s, epoch=21/200, avg_epoch_loss=0.807]\n",
      "100%|██████████| 50/50 [00:04<00:00, 10.58it/s, epoch=22/200, avg_epoch_loss=0.846]\n",
      "100%|██████████| 50/50 [00:04<00:00, 10.88it/s, epoch=23/200, avg_epoch_loss=0.844]\n",
      "100%|██████████| 50/50 [00:04<00:00, 10.85it/s, epoch=24/200, avg_epoch_loss=0.847]\n",
      "100%|██████████| 50/50 [00:04<00:00, 10.90it/s, epoch=25/200, avg_epoch_loss=0.827]\n",
      "100%|██████████| 50/50 [00:04<00:00, 10.90it/s, epoch=26/200, avg_epoch_loss=0.834]\n",
      "100%|██████████| 50/50 [00:04<00:00, 10.91it/s, epoch=27/200, avg_epoch_loss=0.853]\n",
      "100%|██████████| 50/50 [00:04<00:00, 10.94it/s, epoch=28/200, avg_epoch_loss=0.861]\n",
      "100%|██████████| 50/50 [00:04<00:00, 10.86it/s, epoch=29/200, avg_epoch_loss=0.847]\n",
      "100%|██████████| 50/50 [00:04<00:00, 10.92it/s, epoch=30/200, avg_epoch_loss=0.887]\n",
      "100%|██████████| 50/50 [00:04<00:00, 10.93it/s, epoch=31/200, avg_epoch_loss=0.864]\n",
      "100%|██████████| 50/50 [00:04<00:00, 10.95it/s, epoch=32/200, avg_epoch_loss=0.871]\n",
      "100%|██████████| 50/50 [00:04<00:00, 10.84it/s, epoch=33/200, avg_epoch_loss=0.847]\n",
      "100%|██████████| 50/50 [00:04<00:00, 10.95it/s, epoch=34/200, avg_epoch_loss=0.846]\n",
      "100%|██████████| 50/50 [00:04<00:00, 10.85it/s, epoch=35/200, avg_epoch_loss=0.868]\n",
      "100%|██████████| 50/50 [00:04<00:00, 10.92it/s, epoch=36/200, avg_epoch_loss=0.844]\n",
      "100%|██████████| 50/50 [00:04<00:00, 10.95it/s, epoch=37/200, avg_epoch_loss=0.834]\n",
      "100%|██████████| 50/50 [00:04<00:00, 10.94it/s, epoch=38/200, avg_epoch_loss=0.82]\n",
      "100%|██████████| 50/50 [00:04<00:00, 10.97it/s, epoch=39/200, avg_epoch_loss=0.807]\n",
      "100%|██████████| 50/50 [00:04<00:00, 10.93it/s, epoch=40/200, avg_epoch_loss=0.861]\n",
      "100%|██████████| 50/50 [00:04<00:00, 11.03it/s, epoch=41/200, avg_epoch_loss=0.831]\n",
      "100%|██████████| 50/50 [00:04<00:00, 10.98it/s, epoch=42/200, avg_epoch_loss=0.873]\n",
      "100%|██████████| 50/50 [00:04<00:00, 10.95it/s, epoch=43/200, avg_epoch_loss=0.853]\n",
      "100%|██████████| 50/50 [00:04<00:00, 10.92it/s, epoch=44/200, avg_epoch_loss=0.868]\n",
      "100%|██████████| 50/50 [00:04<00:00, 10.91it/s, epoch=45/200, avg_epoch_loss=0.836]\n",
      "100%|██████████| 50/50 [00:04<00:00, 10.95it/s, epoch=46/200, avg_epoch_loss=0.882]\n",
      "100%|██████████| 50/50 [00:04<00:00, 10.88it/s, epoch=47/200, avg_epoch_loss=0.86]\n",
      "100%|██████████| 50/50 [00:04<00:00, 10.93it/s, epoch=48/200, avg_epoch_loss=0.846]\n",
      "100%|██████████| 50/50 [00:04<00:00, 10.91it/s, epoch=49/200, avg_epoch_loss=0.857]\n",
      "100%|██████████| 50/50 [00:04<00:00, 10.95it/s, epoch=50/200, avg_epoch_loss=0.863]\n",
      "100%|██████████| 50/50 [00:04<00:00, 10.90it/s, epoch=51/200, avg_epoch_loss=0.852]\n",
      "100%|██████████| 50/50 [00:04<00:00, 10.85it/s, epoch=52/200, avg_epoch_loss=0.85]\n",
      "100%|██████████| 50/50 [00:04<00:00, 10.99it/s, epoch=53/200, avg_epoch_loss=0.879]\n",
      "100%|██████████| 50/50 [00:04<00:00, 10.93it/s, epoch=54/200, avg_epoch_loss=0.824]\n",
      "100%|██████████| 50/50 [00:04<00:00, 11.00it/s, epoch=55/200, avg_epoch_loss=0.888]\n",
      "100%|██████████| 50/50 [00:04<00:00, 10.89it/s, epoch=56/200, avg_epoch_loss=0.851]\n",
      "100%|██████████| 50/50 [00:04<00:00, 10.96it/s, epoch=57/200, avg_epoch_loss=0.822]\n",
      "100%|██████████| 50/50 [00:04<00:00, 10.88it/s, epoch=58/200, avg_epoch_loss=0.851]\n",
      "100%|██████████| 50/50 [00:04<00:00, 10.89it/s, epoch=59/200, avg_epoch_loss=0.851]\n",
      "100%|██████████| 50/50 [00:04<00:00, 10.97it/s, epoch=60/200, avg_epoch_loss=0.875]\n",
      "100%|██████████| 50/50 [00:04<00:00, 10.95it/s, epoch=61/200, avg_epoch_loss=0.902]\n",
      "100%|██████████| 50/50 [00:04<00:00, 11.00it/s, epoch=62/200, avg_epoch_loss=0.842]\n",
      "100%|██████████| 50/50 [00:04<00:00, 10.90it/s, epoch=63/200, avg_epoch_loss=0.82]\n",
      "100%|██████████| 50/50 [00:04<00:00, 10.99it/s, epoch=64/200, avg_epoch_loss=0.812]\n",
      "100%|██████████| 50/50 [00:04<00:00, 10.98it/s, epoch=65/200, avg_epoch_loss=0.876]\n",
      "100%|██████████| 50/50 [00:04<00:00, 10.98it/s, epoch=66/200, avg_epoch_loss=0.854]\n",
      "100%|██████████| 50/50 [00:04<00:00, 10.73it/s, epoch=67/200, avg_epoch_loss=0.839]\n",
      "100%|██████████| 50/50 [00:04<00:00, 10.50it/s, epoch=68/200, avg_epoch_loss=0.862]\n",
      "100%|██████████| 50/50 [00:04<00:00, 11.03it/s, epoch=69/200, avg_epoch_loss=0.85]\n",
      "100%|██████████| 50/50 [00:04<00:00, 10.99it/s, epoch=70/200, avg_epoch_loss=0.834]\n",
      "100%|██████████| 50/50 [00:04<00:00, 11.01it/s, epoch=71/200, avg_epoch_loss=0.869]\n",
      "100%|██████████| 50/50 [00:04<00:00, 11.00it/s, epoch=72/200, avg_epoch_loss=0.855]\n",
      "100%|██████████| 50/50 [00:04<00:00, 10.99it/s, epoch=73/200, avg_epoch_loss=0.869]\n",
      "100%|██████████| 50/50 [00:04<00:00, 11.00it/s, epoch=74/200, avg_epoch_loss=0.836]\n",
      "100%|██████████| 50/50 [00:04<00:00, 11.03it/s, epoch=75/200, avg_epoch_loss=0.824]\n",
      "100%|██████████| 50/50 [00:04<00:00, 11.05it/s, epoch=76/200, avg_epoch_loss=0.83]\n",
      "100%|██████████| 50/50 [00:04<00:00, 10.86it/s, epoch=77/200, avg_epoch_loss=0.865]\n",
      "100%|██████████| 50/50 [00:04<00:00, 10.97it/s, epoch=78/200, avg_epoch_loss=0.876]\n",
      "100%|██████████| 50/50 [00:04<00:00, 10.80it/s, epoch=79/200, avg_epoch_loss=0.839]\n",
      "100%|██████████| 50/50 [00:04<00:00, 11.02it/s, epoch=80/200, avg_epoch_loss=0.822]\n",
      "100%|██████████| 50/50 [00:04<00:00, 11.06it/s, epoch=81/200, avg_epoch_loss=0.863]\n",
      "WARNING:root:Serializing RepresentableBlockPredictor instances does not save the prediction network structure in a backwards-compatible manner. Be careful not to use this method in production.\n"
     ]
    },
    {
     "name": "stdout",
     "output_type": "stream",
     "text": [
      "Early stopping based on learning rate scheduler callback (min_lr was reached).\n",
      "CPU times: user 6min 11s, sys: 10.2 s, total: 6min 21s\n",
      "Wall time: 6min 12s\n"
     ]
    }
   ],
   "source": [
    "%%time\n",
    "deepar_predictor = deepar_estimator.train(train_dataset)\n",
    "\n",
    "os.makedirs(os.path.join(MODEL_PATH, \"deepar\"), exist_ok=True)\n",
    "deepar_predictor.serialize(Path(os.path.join(MODEL_PATH, \"deepar\")))"
   ]
  },
  {
   "cell_type": "markdown",
   "id": "cf9bab3d-d4b2-4d5b-a0fd-3f307ebfdbe6",
   "metadata": {},
   "source": [
    "# DeepAR: Model Evaluation"
   ]
  },
  {
   "cell_type": "code",
   "execution_count": 13,
   "id": "758f8a4f-48b0-4a2c-978a-b621336b9276",
   "metadata": {},
   "outputs": [],
   "source": [
    "deepar_predictor = Predictor.deserialize(Path(os.path.join(MODEL_PATH, \"deepar\")))"
   ]
  },
  {
   "cell_type": "code",
   "execution_count": 14,
   "id": "b33084a2-5bbf-4f4a-841d-5e13c111b129",
   "metadata": {},
   "outputs": [
    {
     "name": "stdout",
     "output_type": "stream",
     "text": [
      "CPU times: user 1min 32s, sys: 11.4 s, total: 1min 43s\n",
      "Wall time: 1min 30s\n"
     ]
    }
   ],
   "source": [
    "%%time\n",
    "forecast_iter, ts_iter = make_evaluation_predictions( \n",
    "    dataset=test_dataset,\n",
    "    predictor=deepar_predictor, \n",
    "    num_samples=100,\n",
    ") \n",
    "forecasts = list(forecast_iter)\n",
    "tss = list(ts_iter)"
   ]
  },
  {
   "cell_type": "code",
   "execution_count": 15,
   "id": "0f2f5f87-12e2-41ee-bdc9-66f1d6fc5e3f",
   "metadata": {},
   "outputs": [
    {
     "name": "stderr",
     "output_type": "stream",
     "text": [
      "Running evaluation: 100%|██████████| 3049/3049 [00:00<00:00, 48787.91it/s]\n"
     ]
    }
   ],
   "source": [
    "num_series = len(test_sampled_ids)\n",
    "\n",
    "evaluator = Evaluator(quantiles=[0.1, 0.5, 0.9])\n",
    "agg_metrics, item_metrics = evaluator(\n",
    "    iter(tss), iter(forecasts), num_series=num_series\n",
    ")"
   ]
  },
  {
   "cell_type": "code",
   "execution_count": 16,
   "id": "907b3737-3aef-44d6-ae6e-795d7a665582",
   "metadata": {},
   "outputs": [
    {
     "name": "stdout",
     "output_type": "stream",
     "text": [
      "MSE: 4.9731\n",
      "abs_error: 81637.0000\n",
      "abs_target_sum: 117963.0000\n",
      "abs_target_mean: 1.3818\n",
      "seasonal_error: 0.9078\n",
      "MASE: 1.4058\n",
      "MAPE: 0.7671\n",
      "sMAPE: 1.5382\n",
      "MSIS: 11.7334\n",
      "QuantileLoss[0.1]: 22262.4000\n",
      "Coverage[0.1]: 0.0078\n",
      "QuantileLoss[0.5]: 81637.0000\n",
      "Coverage[0.5]: 0.1660\n",
      "QuantileLoss[0.9]: 58147.2000\n",
      "Coverage[0.9]: 0.7299\n",
      "RMSE: 2.2300\n",
      "NRMSE: 1.6139\n",
      "ND: 0.6921\n",
      "wQuantileLoss[0.1]: 0.1887\n",
      "wQuantileLoss[0.5]: 0.6921\n",
      "wQuantileLoss[0.9]: 0.4929\n",
      "mean_absolute_QuantileLoss: 54015.5333\n",
      "mean_wQuantileLoss: 0.4579\n",
      "MAE_Coverage: 0.198\n"
     ]
    }
   ],
   "source": [
    "string = \"\"\n",
    "for key, value in agg_metrics.items():\n",
    "    if not np.isnan(value):\n",
    "        string += key + \": \" + f\"{value:.4f}\\n\"\n",
    "        \n",
    "print(string[:-2])"
   ]
  },
  {
   "cell_type": "code",
   "execution_count": 17,
   "id": "eb414f5d-1229-4581-be1f-3d401b0b862a",
   "metadata": {},
   "outputs": [
    {
     "data": {
      "application/vnd.jupyter.widget-view+json": {
       "model_id": "62588cb551a840358dac6830c47974fa",
       "version_major": 2,
       "version_minor": 0
      },
      "text/plain": [
       "  0%|          | 0/12 [00:00<?, ?it/s]"
      ]
     },
     "metadata": {},
     "output_type": "display_data"
    }
   ],
   "source": [
    "sampled_df_train_eval = (\n",
    "    df_train_eval.set_index(\"id\").loc[test_sampled_ids].reset_index()\n",
    ")\n",
    "sampled_df_train = sampled_df_train_eval.loc[:, key_names + date_names[:-test_steps]]\n",
    "sampled_df_test = sampled_df_train_eval.loc[:, date_names[-test_steps:]]\n",
    "\n",
    "wrmsse_evaluator = WRMSSEEvaluator(\n",
    "    sampled_df_train, sampled_df_test, calendar, selling_prices, test_steps\n",
    ")"
   ]
  },
  {
   "cell_type": "code",
   "execution_count": 18,
   "id": "2aae0735-1034-432e-aa67-92fab8069ea3",
   "metadata": {},
   "outputs": [
    {
     "name": "stdout",
     "output_type": "stream",
     "text": [
      "DeepAR WRMSSE: 0.698085\n"
     ]
    }
   ],
   "source": [
    "predictions = [forecast.mean for forecast in forecasts]\n",
    "sampled_df_pred = pd.DataFrame(predictions, columns=sampled_df_test.columns)\n",
    "\n",
    "wrmsse = wrmsse_evaluator.score(sampled_df_pred)\n",
    "\n",
    "print(f\"DeepAR WRMSSE: {wrmsse:.6f}\")"
   ]
  },
  {
   "cell_type": "code",
   "execution_count": 19,
   "id": "5b53b8ed-43b5-4419-9149-36cf741603ac",
   "metadata": {},
   "outputs": [],
   "source": [
    "def plot_forecast(source, test_steps, plot_id=None, model_name=None, start_date=None):\n",
    "    if start_date is not None:\n",
    "        source = source[source[\"time\"] >= start_date]\n",
    "\n",
    "    points = (\n",
    "        alt.Chart(source)\n",
    "        .mark_circle(size=10.0, color=\"#000000\")\n",
    "        .encode(\n",
    "            x=alt.X(\"time:T\", axis=alt.Axis(title=\"Date\")),\n",
    "            y=alt.Y(\"y\", axis=alt.Axis(title=\"Sales\")),\n",
    "            tooltip=[\"time:T\", \"y:Q\"],\n",
    "        )\n",
    "    )\n",
    "\n",
    "    line = (\n",
    "        alt.Chart(source)\n",
    "        .mark_line(size=1.0, color=\"#4267B2\")\n",
    "        .encode(\n",
    "            x=\"time:T\",\n",
    "            y=\"fcst\",\n",
    "        )\n",
    "    )\n",
    "\n",
    "    band_90 = (\n",
    "        alt.Chart(source)\n",
    "        .mark_area(opacity=0.25, color=\"#4267B2\")\n",
    "        .encode(\n",
    "            x=\"time:T\",\n",
    "            y=\"fcst_lower_05\",\n",
    "            y2=\"fcst_upper_95\",\n",
    "        )\n",
    "    )\n",
    "\n",
    "    band_50 = (\n",
    "        alt.Chart(source)\n",
    "        .mark_area(opacity=0.5, color=\"#4267B2\")\n",
    "        .encode(\n",
    "            x=\"time:T\",\n",
    "            y=\"fcst_lower_25\",\n",
    "            y2=\"fcst_upper_75\",\n",
    "        )\n",
    "    )\n",
    "\n",
    "    rule = (\n",
    "        alt.Chart(source[[\"time\"]].iloc[-test_steps : -test_steps + 1])\n",
    "        .mark_rule(size=1.0, color=\"#FF0000\", strokeDash=[2, 2])\n",
    "        .encode(x=\"time:T\")\n",
    "    )\n",
    "\n",
    "    title = \"Sales Forecast\"\n",
    "    if plot_id is not None:\n",
    "        title += f\" for '{plot_id}'\"\n",
    "    if model_name is not None:\n",
    "        title = f\"{model_name}: \" + title\n",
    "\n",
    "    return (points + line + band_90 + band_50 + rule).properties(title=title, width=1000, height=300)"
   ]
  },
  {
   "cell_type": "code",
   "execution_count": 20,
   "id": "4b0319af-1f7a-4617-ad8a-8ad635f8b92b",
   "metadata": {},
   "outputs": [
    {
     "data": {
      "text/html": [
       "\n",
       "<div id=\"altair-viz-bc48520f320d4740bc6dde561d16ad4b\"></div>\n",
       "<script type=\"text/javascript\">\n",
       "  (function(spec, embedOpt){\n",
       "    let outputDiv = document.currentScript.previousElementSibling;\n",
       "    if (outputDiv.id !== \"altair-viz-bc48520f320d4740bc6dde561d16ad4b\") {\n",
       "      outputDiv = document.getElementById(\"altair-viz-bc48520f320d4740bc6dde561d16ad4b\");\n",
       "    }\n",
       "    const paths = {\n",
       "      \"vega\": \"https://cdn.jsdelivr.net/npm//vega@5?noext\",\n",
       "      \"vega-lib\": \"https://cdn.jsdelivr.net/npm//vega-lib?noext\",\n",
       "      \"vega-lite\": \"https://cdn.jsdelivr.net/npm//vega-lite@4.8.1?noext\",\n",
       "      \"vega-embed\": \"https://cdn.jsdelivr.net/npm//vega-embed@6?noext\",\n",
       "    };\n",
       "\n",
       "    function loadScript(lib) {\n",
       "      return new Promise(function(resolve, reject) {\n",
       "        var s = document.createElement('script');\n",
       "        s.src = paths[lib];\n",
       "        s.async = true;\n",
       "        s.onload = () => resolve(paths[lib]);\n",
       "        s.onerror = () => reject(`Error loading script: ${paths[lib]}`);\n",
       "        document.getElementsByTagName(\"head\")[0].appendChild(s);\n",
       "      });\n",
       "    }\n",
       "\n",
       "    function showError(err) {\n",
       "      outputDiv.innerHTML = `<div class=\"error\" style=\"color:red;\">${err}</div>`;\n",
       "      throw err;\n",
       "    }\n",
       "\n",
       "    function displayChart(vegaEmbed) {\n",
       "      vegaEmbed(outputDiv, spec, embedOpt)\n",
       "        .catch(err => showError(`Javascript Error: ${err.message}<br>This usually means there's a typo in your chart specification. See the javascript console for the full traceback.`));\n",
       "    }\n",
       "\n",
       "    if(typeof define === \"function\" && define.amd) {\n",
       "      requirejs.config({paths});\n",
       "      require([\"vega-embed\"], displayChart, err => showError(`Error loading script: ${err.message}`));\n",
       "    } else if (typeof vegaEmbed === \"function\") {\n",
       "      displayChart(vegaEmbed);\n",
       "    } else {\n",
       "      loadScript(\"vega\")\n",
       "        .then(() => loadScript(\"vega-lite\"))\n",
       "        .then(() => loadScript(\"vega-embed\"))\n",
       "        .catch(showError)\n",
       "        .then(() => displayChart(vegaEmbed));\n",
       "    }\n",
       "  })({\"config\": {\"view\": {\"continuousWidth\": 400, \"continuousHeight\": 300}}, \"layer\": [{\"mark\": {\"type\": \"circle\", \"color\": \"#000000\", \"size\": 10.0}, \"encoding\": {\"tooltip\": [{\"type\": \"temporal\", \"field\": \"time\"}, {\"type\": \"quantitative\", \"field\": \"y\"}], \"x\": {\"type\": \"temporal\", \"axis\": {\"title\": \"Date\"}, \"field\": \"time\"}, \"y\": {\"type\": \"quantitative\", \"axis\": {\"title\": \"Sales\"}, \"field\": \"y\"}}}, {\"mark\": {\"type\": \"line\", \"color\": \"#4267B2\", \"size\": 1.0}, \"encoding\": {\"x\": {\"type\": \"temporal\", \"field\": \"time\"}, \"y\": {\"type\": \"quantitative\", \"field\": \"fcst\"}}}, {\"mark\": {\"type\": \"area\", \"color\": \"#4267B2\", \"opacity\": 0.25}, \"encoding\": {\"x\": {\"type\": \"temporal\", \"field\": \"time\"}, \"y\": {\"type\": \"quantitative\", \"field\": \"fcst_lower_05\"}, \"y2\": {\"field\": \"fcst_upper_95\"}}}, {\"mark\": {\"type\": \"area\", \"color\": \"#4267B2\", \"opacity\": 0.5}, \"encoding\": {\"x\": {\"type\": \"temporal\", \"field\": \"time\"}, \"y\": {\"type\": \"quantitative\", \"field\": \"fcst_lower_25\"}, \"y2\": {\"field\": \"fcst_upper_75\"}}}, {\"data\": {\"name\": \"data-302bc33366dfe1498bc0394fc8325ea5\"}, \"mark\": {\"type\": \"rule\", \"color\": \"#FF0000\", \"size\": 1.0, \"strokeDash\": [2, 2]}, \"encoding\": {\"x\": {\"type\": \"temporal\", \"field\": \"time\"}}}], \"data\": {\"name\": \"data-5955a88131d78602b819f846fee478c7\"}, \"height\": 300, \"title\": \"DeepAR: Sales Forecast for 'FOODS_3_409_CA_3_evaluation'\", \"width\": 1000, \"$schema\": \"https://vega.github.io/schema/vega-lite/v4.8.1.json\", \"datasets\": {\"data-5955a88131d78602b819f846fee478c7\": [{\"time\": \"2015-05-23T00:00:00\", \"y\": 0, \"fcst\": null, \"fcst_lower_05\": null, \"fcst_lower_25\": null, \"fcst_upper_75\": null, \"fcst_upper_95\": null}, {\"time\": \"2015-05-24T00:00:00\", \"y\": 0, \"fcst\": null, \"fcst_lower_05\": null, \"fcst_lower_25\": null, \"fcst_upper_75\": null, \"fcst_upper_95\": null}, {\"time\": \"2015-05-25T00:00:00\", \"y\": 0, \"fcst\": null, \"fcst_lower_05\": null, \"fcst_lower_25\": null, \"fcst_upper_75\": null, \"fcst_upper_95\": null}, {\"time\": \"2015-05-26T00:00:00\", \"y\": 0, \"fcst\": null, \"fcst_lower_05\": null, \"fcst_lower_25\": null, \"fcst_upper_75\": null, \"fcst_upper_95\": null}, {\"time\": \"2015-05-27T00:00:00\", \"y\": 0, \"fcst\": null, \"fcst_lower_05\": null, \"fcst_lower_25\": null, \"fcst_upper_75\": null, \"fcst_upper_95\": null}, {\"time\": \"2015-05-28T00:00:00\", \"y\": 0, \"fcst\": null, \"fcst_lower_05\": null, \"fcst_lower_25\": null, \"fcst_upper_75\": null, \"fcst_upper_95\": null}, {\"time\": \"2015-05-29T00:00:00\", \"y\": 0, \"fcst\": null, \"fcst_lower_05\": null, \"fcst_lower_25\": null, \"fcst_upper_75\": null, \"fcst_upper_95\": null}, {\"time\": \"2015-05-30T00:00:00\", \"y\": 0, \"fcst\": null, \"fcst_lower_05\": null, \"fcst_lower_25\": null, \"fcst_upper_75\": null, \"fcst_upper_95\": null}, {\"time\": \"2015-05-31T00:00:00\", \"y\": 2, \"fcst\": null, \"fcst_lower_05\": null, \"fcst_lower_25\": null, \"fcst_upper_75\": null, \"fcst_upper_95\": null}, {\"time\": \"2015-06-01T00:00:00\", \"y\": 0, \"fcst\": null, \"fcst_lower_05\": null, \"fcst_lower_25\": null, \"fcst_upper_75\": null, \"fcst_upper_95\": null}, {\"time\": \"2015-06-02T00:00:00\", \"y\": 1, \"fcst\": null, \"fcst_lower_05\": null, \"fcst_lower_25\": null, \"fcst_upper_75\": null, \"fcst_upper_95\": null}, {\"time\": \"2015-06-03T00:00:00\", \"y\": 1, \"fcst\": null, \"fcst_lower_05\": null, \"fcst_lower_25\": null, \"fcst_upper_75\": null, \"fcst_upper_95\": null}, {\"time\": \"2015-06-04T00:00:00\", \"y\": 1, \"fcst\": null, \"fcst_lower_05\": null, \"fcst_lower_25\": null, \"fcst_upper_75\": null, \"fcst_upper_95\": null}, {\"time\": \"2015-06-05T00:00:00\", \"y\": 0, \"fcst\": null, \"fcst_lower_05\": null, \"fcst_lower_25\": null, \"fcst_upper_75\": null, \"fcst_upper_95\": null}, {\"time\": \"2015-06-06T00:00:00\", \"y\": 0, \"fcst\": null, \"fcst_lower_05\": null, \"fcst_lower_25\": null, \"fcst_upper_75\": null, \"fcst_upper_95\": null}, {\"time\": \"2015-06-07T00:00:00\", \"y\": 0, \"fcst\": null, \"fcst_lower_05\": null, \"fcst_lower_25\": null, \"fcst_upper_75\": null, \"fcst_upper_95\": null}, {\"time\": \"2015-06-08T00:00:00\", \"y\": 2, \"fcst\": null, \"fcst_lower_05\": null, \"fcst_lower_25\": null, \"fcst_upper_75\": null, \"fcst_upper_95\": null}, {\"time\": \"2015-06-09T00:00:00\", \"y\": 2, \"fcst\": null, \"fcst_lower_05\": null, \"fcst_lower_25\": null, \"fcst_upper_75\": null, \"fcst_upper_95\": null}, {\"time\": \"2015-06-10T00:00:00\", \"y\": 1, \"fcst\": null, \"fcst_lower_05\": null, \"fcst_lower_25\": null, \"fcst_upper_75\": null, \"fcst_upper_95\": null}, {\"time\": \"2015-06-11T00:00:00\", \"y\": 1, \"fcst\": null, \"fcst_lower_05\": null, \"fcst_lower_25\": null, \"fcst_upper_75\": null, \"fcst_upper_95\": null}, {\"time\": \"2015-06-12T00:00:00\", \"y\": 0, \"fcst\": null, \"fcst_lower_05\": null, \"fcst_lower_25\": null, \"fcst_upper_75\": null, \"fcst_upper_95\": null}, {\"time\": \"2015-06-13T00:00:00\", \"y\": 4, \"fcst\": null, \"fcst_lower_05\": null, \"fcst_lower_25\": null, \"fcst_upper_75\": null, \"fcst_upper_95\": null}, {\"time\": \"2015-06-14T00:00:00\", \"y\": 0, \"fcst\": null, \"fcst_lower_05\": null, \"fcst_lower_25\": null, \"fcst_upper_75\": null, \"fcst_upper_95\": null}, {\"time\": \"2015-06-15T00:00:00\", \"y\": 0, \"fcst\": null, \"fcst_lower_05\": null, \"fcst_lower_25\": null, \"fcst_upper_75\": null, \"fcst_upper_95\": null}, {\"time\": \"2015-06-16T00:00:00\", \"y\": 0, \"fcst\": null, \"fcst_lower_05\": null, \"fcst_lower_25\": null, \"fcst_upper_75\": null, \"fcst_upper_95\": null}, {\"time\": \"2015-06-17T00:00:00\", \"y\": 0, \"fcst\": null, \"fcst_lower_05\": null, \"fcst_lower_25\": null, \"fcst_upper_75\": null, \"fcst_upper_95\": null}, {\"time\": \"2015-06-18T00:00:00\", \"y\": 0, \"fcst\": null, \"fcst_lower_05\": null, \"fcst_lower_25\": null, \"fcst_upper_75\": null, \"fcst_upper_95\": null}, {\"time\": \"2015-06-19T00:00:00\", \"y\": 0, \"fcst\": null, \"fcst_lower_05\": null, \"fcst_lower_25\": null, \"fcst_upper_75\": null, \"fcst_upper_95\": null}, {\"time\": \"2015-06-20T00:00:00\", \"y\": 1, \"fcst\": null, \"fcst_lower_05\": null, \"fcst_lower_25\": null, \"fcst_upper_75\": null, \"fcst_upper_95\": null}, {\"time\": \"2015-06-21T00:00:00\", \"y\": 0, \"fcst\": null, \"fcst_lower_05\": null, \"fcst_lower_25\": null, \"fcst_upper_75\": null, \"fcst_upper_95\": null}, {\"time\": \"2015-06-22T00:00:00\", \"y\": 2, \"fcst\": null, \"fcst_lower_05\": null, \"fcst_lower_25\": null, \"fcst_upper_75\": null, \"fcst_upper_95\": null}, {\"time\": \"2015-06-23T00:00:00\", \"y\": 0, \"fcst\": null, \"fcst_lower_05\": null, \"fcst_lower_25\": null, \"fcst_upper_75\": null, \"fcst_upper_95\": null}, {\"time\": \"2015-06-24T00:00:00\", \"y\": 0, \"fcst\": null, \"fcst_lower_05\": null, \"fcst_lower_25\": null, \"fcst_upper_75\": null, \"fcst_upper_95\": null}, {\"time\": \"2015-06-25T00:00:00\", \"y\": 1, \"fcst\": null, \"fcst_lower_05\": null, \"fcst_lower_25\": null, \"fcst_upper_75\": null, \"fcst_upper_95\": null}, {\"time\": \"2015-06-26T00:00:00\", \"y\": 2, \"fcst\": null, \"fcst_lower_05\": null, \"fcst_lower_25\": null, \"fcst_upper_75\": null, \"fcst_upper_95\": null}, {\"time\": \"2015-06-27T00:00:00\", \"y\": 0, \"fcst\": null, \"fcst_lower_05\": null, \"fcst_lower_25\": null, \"fcst_upper_75\": null, \"fcst_upper_95\": null}, {\"time\": \"2015-06-28T00:00:00\", \"y\": 0, \"fcst\": null, \"fcst_lower_05\": null, \"fcst_lower_25\": null, \"fcst_upper_75\": null, \"fcst_upper_95\": null}, {\"time\": \"2015-06-29T00:00:00\", \"y\": 1, \"fcst\": null, \"fcst_lower_05\": null, \"fcst_lower_25\": null, \"fcst_upper_75\": null, \"fcst_upper_95\": null}, {\"time\": \"2015-06-30T00:00:00\", \"y\": 0, \"fcst\": null, \"fcst_lower_05\": null, \"fcst_lower_25\": null, \"fcst_upper_75\": null, \"fcst_upper_95\": null}, {\"time\": \"2015-07-01T00:00:00\", \"y\": 1, \"fcst\": null, \"fcst_lower_05\": null, \"fcst_lower_25\": null, \"fcst_upper_75\": null, \"fcst_upper_95\": null}, {\"time\": \"2015-07-02T00:00:00\", \"y\": 1, \"fcst\": null, \"fcst_lower_05\": null, \"fcst_lower_25\": null, \"fcst_upper_75\": null, \"fcst_upper_95\": null}, {\"time\": \"2015-07-03T00:00:00\", \"y\": 0, \"fcst\": null, \"fcst_lower_05\": null, \"fcst_lower_25\": null, \"fcst_upper_75\": null, \"fcst_upper_95\": null}, {\"time\": \"2015-07-04T00:00:00\", \"y\": 1, \"fcst\": null, \"fcst_lower_05\": null, \"fcst_lower_25\": null, \"fcst_upper_75\": null, \"fcst_upper_95\": null}, {\"time\": \"2015-07-05T00:00:00\", \"y\": 0, \"fcst\": null, \"fcst_lower_05\": null, \"fcst_lower_25\": null, \"fcst_upper_75\": null, \"fcst_upper_95\": null}, {\"time\": \"2015-07-06T00:00:00\", \"y\": 1, \"fcst\": null, \"fcst_lower_05\": null, \"fcst_lower_25\": null, \"fcst_upper_75\": null, \"fcst_upper_95\": null}, {\"time\": \"2015-07-07T00:00:00\", \"y\": 1, \"fcst\": null, \"fcst_lower_05\": null, \"fcst_lower_25\": null, \"fcst_upper_75\": null, \"fcst_upper_95\": null}, {\"time\": \"2015-07-08T00:00:00\", \"y\": 0, \"fcst\": null, \"fcst_lower_05\": null, \"fcst_lower_25\": null, \"fcst_upper_75\": null, \"fcst_upper_95\": null}, {\"time\": \"2015-07-09T00:00:00\", \"y\": 2, \"fcst\": null, \"fcst_lower_05\": null, \"fcst_lower_25\": null, \"fcst_upper_75\": null, \"fcst_upper_95\": null}, {\"time\": \"2015-07-10T00:00:00\", \"y\": 1, \"fcst\": null, \"fcst_lower_05\": null, \"fcst_lower_25\": null, \"fcst_upper_75\": null, \"fcst_upper_95\": null}, {\"time\": \"2015-07-11T00:00:00\", \"y\": 4, \"fcst\": null, \"fcst_lower_05\": null, \"fcst_lower_25\": null, \"fcst_upper_75\": null, \"fcst_upper_95\": null}, {\"time\": \"2015-07-12T00:00:00\", \"y\": 2, \"fcst\": null, \"fcst_lower_05\": null, \"fcst_lower_25\": null, \"fcst_upper_75\": null, \"fcst_upper_95\": null}, {\"time\": \"2015-07-13T00:00:00\", \"y\": 1, \"fcst\": null, \"fcst_lower_05\": null, \"fcst_lower_25\": null, \"fcst_upper_75\": null, \"fcst_upper_95\": null}, {\"time\": \"2015-07-14T00:00:00\", \"y\": 2, \"fcst\": null, \"fcst_lower_05\": null, \"fcst_lower_25\": null, \"fcst_upper_75\": null, \"fcst_upper_95\": null}, {\"time\": \"2015-07-15T00:00:00\", \"y\": 1, \"fcst\": null, \"fcst_lower_05\": null, \"fcst_lower_25\": null, \"fcst_upper_75\": null, \"fcst_upper_95\": null}, {\"time\": \"2015-07-16T00:00:00\", \"y\": 1, \"fcst\": null, \"fcst_lower_05\": null, \"fcst_lower_25\": null, \"fcst_upper_75\": null, \"fcst_upper_95\": null}, {\"time\": \"2015-07-17T00:00:00\", \"y\": 1, \"fcst\": null, \"fcst_lower_05\": null, \"fcst_lower_25\": null, \"fcst_upper_75\": null, \"fcst_upper_95\": null}, {\"time\": \"2015-07-18T00:00:00\", \"y\": 5, \"fcst\": null, \"fcst_lower_05\": null, \"fcst_lower_25\": null, \"fcst_upper_75\": null, \"fcst_upper_95\": null}, {\"time\": \"2015-07-19T00:00:00\", \"y\": 0, \"fcst\": null, \"fcst_lower_05\": null, \"fcst_lower_25\": null, \"fcst_upper_75\": null, \"fcst_upper_95\": null}, {\"time\": \"2015-07-20T00:00:00\", \"y\": 0, \"fcst\": null, \"fcst_lower_05\": null, \"fcst_lower_25\": null, \"fcst_upper_75\": null, \"fcst_upper_95\": null}, {\"time\": \"2015-07-21T00:00:00\", \"y\": 2, \"fcst\": null, \"fcst_lower_05\": null, \"fcst_lower_25\": null, \"fcst_upper_75\": null, \"fcst_upper_95\": null}, {\"time\": \"2015-07-22T00:00:00\", \"y\": 2, \"fcst\": null, \"fcst_lower_05\": null, \"fcst_lower_25\": null, \"fcst_upper_75\": null, \"fcst_upper_95\": null}, {\"time\": \"2015-07-23T00:00:00\", \"y\": 1, \"fcst\": null, \"fcst_lower_05\": null, \"fcst_lower_25\": null, \"fcst_upper_75\": null, \"fcst_upper_95\": null}, {\"time\": \"2015-07-24T00:00:00\", \"y\": 1, \"fcst\": null, \"fcst_lower_05\": null, \"fcst_lower_25\": null, \"fcst_upper_75\": null, \"fcst_upper_95\": null}, {\"time\": \"2015-07-25T00:00:00\", \"y\": 0, \"fcst\": null, \"fcst_lower_05\": null, \"fcst_lower_25\": null, \"fcst_upper_75\": null, \"fcst_upper_95\": null}, {\"time\": \"2015-07-26T00:00:00\", \"y\": 4, \"fcst\": null, \"fcst_lower_05\": null, \"fcst_lower_25\": null, \"fcst_upper_75\": null, \"fcst_upper_95\": null}, {\"time\": \"2015-07-27T00:00:00\", \"y\": 0, \"fcst\": null, \"fcst_lower_05\": null, \"fcst_lower_25\": null, \"fcst_upper_75\": null, \"fcst_upper_95\": null}, {\"time\": \"2015-07-28T00:00:00\", \"y\": 1, \"fcst\": null, \"fcst_lower_05\": null, \"fcst_lower_25\": null, \"fcst_upper_75\": null, \"fcst_upper_95\": null}, {\"time\": \"2015-07-29T00:00:00\", \"y\": 0, \"fcst\": null, \"fcst_lower_05\": null, \"fcst_lower_25\": null, \"fcst_upper_75\": null, \"fcst_upper_95\": null}, {\"time\": \"2015-07-30T00:00:00\", \"y\": 0, \"fcst\": null, \"fcst_lower_05\": null, \"fcst_lower_25\": null, \"fcst_upper_75\": null, \"fcst_upper_95\": null}, {\"time\": \"2015-07-31T00:00:00\", \"y\": 1, \"fcst\": null, \"fcst_lower_05\": null, \"fcst_lower_25\": null, \"fcst_upper_75\": null, \"fcst_upper_95\": null}, {\"time\": \"2015-08-01T00:00:00\", \"y\": 1, \"fcst\": null, \"fcst_lower_05\": null, \"fcst_lower_25\": null, \"fcst_upper_75\": null, \"fcst_upper_95\": null}, {\"time\": \"2015-08-02T00:00:00\", \"y\": 1, \"fcst\": null, \"fcst_lower_05\": null, \"fcst_lower_25\": null, \"fcst_upper_75\": null, \"fcst_upper_95\": null}, {\"time\": \"2015-08-03T00:00:00\", \"y\": 0, \"fcst\": null, \"fcst_lower_05\": null, \"fcst_lower_25\": null, \"fcst_upper_75\": null, \"fcst_upper_95\": null}, {\"time\": \"2015-08-04T00:00:00\", \"y\": 1, \"fcst\": null, \"fcst_lower_05\": null, \"fcst_lower_25\": null, \"fcst_upper_75\": null, \"fcst_upper_95\": null}, {\"time\": \"2015-08-05T00:00:00\", \"y\": 0, \"fcst\": null, \"fcst_lower_05\": null, \"fcst_lower_25\": null, \"fcst_upper_75\": null, \"fcst_upper_95\": null}, {\"time\": \"2015-08-06T00:00:00\", \"y\": 1, \"fcst\": null, \"fcst_lower_05\": null, \"fcst_lower_25\": null, \"fcst_upper_75\": null, \"fcst_upper_95\": null}, {\"time\": \"2015-08-07T00:00:00\", \"y\": 1, \"fcst\": null, \"fcst_lower_05\": null, \"fcst_lower_25\": null, \"fcst_upper_75\": null, \"fcst_upper_95\": null}, {\"time\": \"2015-08-08T00:00:00\", \"y\": 5, \"fcst\": null, \"fcst_lower_05\": null, \"fcst_lower_25\": null, \"fcst_upper_75\": null, \"fcst_upper_95\": null}, {\"time\": \"2015-08-09T00:00:00\", \"y\": 2, \"fcst\": null, \"fcst_lower_05\": null, \"fcst_lower_25\": null, \"fcst_upper_75\": null, \"fcst_upper_95\": null}, {\"time\": \"2015-08-10T00:00:00\", \"y\": 0, \"fcst\": null, \"fcst_lower_05\": null, \"fcst_lower_25\": null, \"fcst_upper_75\": null, \"fcst_upper_95\": null}, {\"time\": \"2015-08-11T00:00:00\", \"y\": 1, \"fcst\": null, \"fcst_lower_05\": null, \"fcst_lower_25\": null, \"fcst_upper_75\": null, \"fcst_upper_95\": null}, {\"time\": \"2015-08-12T00:00:00\", \"y\": 0, \"fcst\": null, \"fcst_lower_05\": null, \"fcst_lower_25\": null, \"fcst_upper_75\": null, \"fcst_upper_95\": null}, {\"time\": \"2015-08-13T00:00:00\", \"y\": 0, \"fcst\": null, \"fcst_lower_05\": null, \"fcst_lower_25\": null, \"fcst_upper_75\": null, \"fcst_upper_95\": null}, {\"time\": \"2015-08-14T00:00:00\", \"y\": 0, \"fcst\": null, \"fcst_lower_05\": null, \"fcst_lower_25\": null, \"fcst_upper_75\": null, \"fcst_upper_95\": null}, {\"time\": \"2015-08-15T00:00:00\", \"y\": 2, \"fcst\": null, \"fcst_lower_05\": null, \"fcst_lower_25\": null, \"fcst_upper_75\": null, \"fcst_upper_95\": null}, {\"time\": \"2015-08-16T00:00:00\", \"y\": 0, \"fcst\": null, \"fcst_lower_05\": null, \"fcst_lower_25\": null, \"fcst_upper_75\": null, \"fcst_upper_95\": null}, {\"time\": \"2015-08-17T00:00:00\", \"y\": 0, \"fcst\": null, \"fcst_lower_05\": null, \"fcst_lower_25\": null, \"fcst_upper_75\": null, \"fcst_upper_95\": null}, {\"time\": \"2015-08-18T00:00:00\", \"y\": 0, \"fcst\": null, \"fcst_lower_05\": null, \"fcst_lower_25\": null, \"fcst_upper_75\": null, \"fcst_upper_95\": null}, {\"time\": \"2015-08-19T00:00:00\", \"y\": 2, \"fcst\": null, \"fcst_lower_05\": null, \"fcst_lower_25\": null, \"fcst_upper_75\": null, \"fcst_upper_95\": null}, {\"time\": \"2015-08-20T00:00:00\", \"y\": 1, \"fcst\": null, \"fcst_lower_05\": null, \"fcst_lower_25\": null, \"fcst_upper_75\": null, \"fcst_upper_95\": null}, {\"time\": \"2015-08-21T00:00:00\", \"y\": 0, \"fcst\": null, \"fcst_lower_05\": null, \"fcst_lower_25\": null, \"fcst_upper_75\": null, \"fcst_upper_95\": null}, {\"time\": \"2015-08-22T00:00:00\", \"y\": 4, \"fcst\": null, \"fcst_lower_05\": null, \"fcst_lower_25\": null, \"fcst_upper_75\": null, \"fcst_upper_95\": null}, {\"time\": \"2015-08-23T00:00:00\", \"y\": 0, \"fcst\": null, \"fcst_lower_05\": null, \"fcst_lower_25\": null, \"fcst_upper_75\": null, \"fcst_upper_95\": null}, {\"time\": \"2015-08-24T00:00:00\", \"y\": 0, \"fcst\": null, \"fcst_lower_05\": null, \"fcst_lower_25\": null, \"fcst_upper_75\": null, \"fcst_upper_95\": null}, {\"time\": \"2015-08-25T00:00:00\", \"y\": 0, \"fcst\": null, \"fcst_lower_05\": null, \"fcst_lower_25\": null, \"fcst_upper_75\": null, \"fcst_upper_95\": null}, {\"time\": \"2015-08-26T00:00:00\", \"y\": 1, \"fcst\": null, \"fcst_lower_05\": null, \"fcst_lower_25\": null, \"fcst_upper_75\": null, \"fcst_upper_95\": null}, {\"time\": \"2015-08-27T00:00:00\", \"y\": 3, \"fcst\": null, \"fcst_lower_05\": null, \"fcst_lower_25\": null, \"fcst_upper_75\": null, \"fcst_upper_95\": null}, {\"time\": \"2015-08-28T00:00:00\", \"y\": 1, \"fcst\": null, \"fcst_lower_05\": null, \"fcst_lower_25\": null, \"fcst_upper_75\": null, \"fcst_upper_95\": null}, {\"time\": \"2015-08-29T00:00:00\", \"y\": 0, \"fcst\": null, \"fcst_lower_05\": null, \"fcst_lower_25\": null, \"fcst_upper_75\": null, \"fcst_upper_95\": null}, {\"time\": \"2015-08-30T00:00:00\", \"y\": 1, \"fcst\": null, \"fcst_lower_05\": null, \"fcst_lower_25\": null, \"fcst_upper_75\": null, \"fcst_upper_95\": null}, {\"time\": \"2015-08-31T00:00:00\", \"y\": 0, \"fcst\": null, \"fcst_lower_05\": null, \"fcst_lower_25\": null, \"fcst_upper_75\": null, \"fcst_upper_95\": null}, {\"time\": \"2015-09-01T00:00:00\", \"y\": 0, \"fcst\": null, \"fcst_lower_05\": null, \"fcst_lower_25\": null, \"fcst_upper_75\": null, \"fcst_upper_95\": null}, {\"time\": \"2015-09-02T00:00:00\", \"y\": 0, \"fcst\": null, \"fcst_lower_05\": null, \"fcst_lower_25\": null, \"fcst_upper_75\": null, \"fcst_upper_95\": null}, {\"time\": \"2015-09-03T00:00:00\", \"y\": 0, \"fcst\": null, \"fcst_lower_05\": null, \"fcst_lower_25\": null, \"fcst_upper_75\": null, \"fcst_upper_95\": null}, {\"time\": \"2015-09-04T00:00:00\", \"y\": 0, \"fcst\": null, \"fcst_lower_05\": null, \"fcst_lower_25\": null, \"fcst_upper_75\": null, \"fcst_upper_95\": null}, {\"time\": \"2015-09-05T00:00:00\", \"y\": 0, \"fcst\": null, \"fcst_lower_05\": null, \"fcst_lower_25\": null, \"fcst_upper_75\": null, \"fcst_upper_95\": null}, {\"time\": \"2015-09-06T00:00:00\", \"y\": 3, \"fcst\": null, \"fcst_lower_05\": null, \"fcst_lower_25\": null, \"fcst_upper_75\": null, \"fcst_upper_95\": null}, {\"time\": \"2015-09-07T00:00:00\", \"y\": 2, \"fcst\": null, \"fcst_lower_05\": null, \"fcst_lower_25\": null, \"fcst_upper_75\": null, \"fcst_upper_95\": null}, {\"time\": \"2015-09-08T00:00:00\", \"y\": 2, \"fcst\": null, \"fcst_lower_05\": null, \"fcst_lower_25\": null, \"fcst_upper_75\": null, \"fcst_upper_95\": null}, {\"time\": \"2015-09-09T00:00:00\", \"y\": 0, \"fcst\": null, \"fcst_lower_05\": null, \"fcst_lower_25\": null, \"fcst_upper_75\": null, \"fcst_upper_95\": null}, {\"time\": \"2015-09-10T00:00:00\", \"y\": 1, \"fcst\": null, \"fcst_lower_05\": null, \"fcst_lower_25\": null, \"fcst_upper_75\": null, \"fcst_upper_95\": null}, {\"time\": \"2015-09-11T00:00:00\", \"y\": 3, \"fcst\": null, \"fcst_lower_05\": null, \"fcst_lower_25\": null, \"fcst_upper_75\": null, \"fcst_upper_95\": null}, {\"time\": \"2015-09-12T00:00:00\", \"y\": 0, \"fcst\": null, \"fcst_lower_05\": null, \"fcst_lower_25\": null, \"fcst_upper_75\": null, \"fcst_upper_95\": null}, {\"time\": \"2015-09-13T00:00:00\", \"y\": 1, \"fcst\": null, \"fcst_lower_05\": null, \"fcst_lower_25\": null, \"fcst_upper_75\": null, \"fcst_upper_95\": null}, {\"time\": \"2015-09-14T00:00:00\", \"y\": 1, \"fcst\": null, \"fcst_lower_05\": null, \"fcst_lower_25\": null, \"fcst_upper_75\": null, \"fcst_upper_95\": null}, {\"time\": \"2015-09-15T00:00:00\", \"y\": 0, \"fcst\": null, \"fcst_lower_05\": null, \"fcst_lower_25\": null, \"fcst_upper_75\": null, \"fcst_upper_95\": null}, {\"time\": \"2015-09-16T00:00:00\", \"y\": 3, \"fcst\": null, \"fcst_lower_05\": null, \"fcst_lower_25\": null, \"fcst_upper_75\": null, \"fcst_upper_95\": null}, {\"time\": \"2015-09-17T00:00:00\", \"y\": 0, \"fcst\": null, \"fcst_lower_05\": null, \"fcst_lower_25\": null, \"fcst_upper_75\": null, \"fcst_upper_95\": null}, {\"time\": \"2015-09-18T00:00:00\", \"y\": 0, \"fcst\": null, \"fcst_lower_05\": null, \"fcst_lower_25\": null, \"fcst_upper_75\": null, \"fcst_upper_95\": null}, {\"time\": \"2015-09-19T00:00:00\", \"y\": 2, \"fcst\": null, \"fcst_lower_05\": null, \"fcst_lower_25\": null, \"fcst_upper_75\": null, \"fcst_upper_95\": null}, {\"time\": \"2015-09-20T00:00:00\", \"y\": 3, \"fcst\": null, \"fcst_lower_05\": null, \"fcst_lower_25\": null, \"fcst_upper_75\": null, \"fcst_upper_95\": null}, {\"time\": \"2015-09-21T00:00:00\", \"y\": 0, \"fcst\": null, \"fcst_lower_05\": null, \"fcst_lower_25\": null, \"fcst_upper_75\": null, \"fcst_upper_95\": null}, {\"time\": \"2015-09-22T00:00:00\", \"y\": 0, \"fcst\": null, \"fcst_lower_05\": null, \"fcst_lower_25\": null, \"fcst_upper_75\": null, \"fcst_upper_95\": null}, {\"time\": \"2015-09-23T00:00:00\", \"y\": 0, \"fcst\": null, \"fcst_lower_05\": null, \"fcst_lower_25\": null, \"fcst_upper_75\": null, \"fcst_upper_95\": null}, {\"time\": \"2015-09-24T00:00:00\", \"y\": 0, \"fcst\": null, \"fcst_lower_05\": null, \"fcst_lower_25\": null, \"fcst_upper_75\": null, \"fcst_upper_95\": null}, {\"time\": \"2015-09-25T00:00:00\", \"y\": 0, \"fcst\": null, \"fcst_lower_05\": null, \"fcst_lower_25\": null, \"fcst_upper_75\": null, \"fcst_upper_95\": null}, {\"time\": \"2015-09-26T00:00:00\", \"y\": 1, \"fcst\": null, \"fcst_lower_05\": null, \"fcst_lower_25\": null, \"fcst_upper_75\": null, \"fcst_upper_95\": null}, {\"time\": \"2015-09-27T00:00:00\", \"y\": 2, \"fcst\": null, \"fcst_lower_05\": null, \"fcst_lower_25\": null, \"fcst_upper_75\": null, \"fcst_upper_95\": null}, {\"time\": \"2015-09-28T00:00:00\", \"y\": 0, \"fcst\": null, \"fcst_lower_05\": null, \"fcst_lower_25\": null, \"fcst_upper_75\": null, \"fcst_upper_95\": null}, {\"time\": \"2015-09-29T00:00:00\", \"y\": 0, \"fcst\": null, \"fcst_lower_05\": null, \"fcst_lower_25\": null, \"fcst_upper_75\": null, \"fcst_upper_95\": null}, {\"time\": \"2015-09-30T00:00:00\", \"y\": 0, \"fcst\": null, \"fcst_lower_05\": null, \"fcst_lower_25\": null, \"fcst_upper_75\": null, \"fcst_upper_95\": null}, {\"time\": \"2015-10-01T00:00:00\", \"y\": 0, \"fcst\": null, \"fcst_lower_05\": null, \"fcst_lower_25\": null, \"fcst_upper_75\": null, \"fcst_upper_95\": null}, {\"time\": \"2015-10-02T00:00:00\", \"y\": 0, \"fcst\": null, \"fcst_lower_05\": null, \"fcst_lower_25\": null, \"fcst_upper_75\": null, \"fcst_upper_95\": null}, {\"time\": \"2015-10-03T00:00:00\", \"y\": 0, \"fcst\": null, \"fcst_lower_05\": null, \"fcst_lower_25\": null, \"fcst_upper_75\": null, \"fcst_upper_95\": null}, {\"time\": \"2015-10-04T00:00:00\", \"y\": 1, \"fcst\": null, \"fcst_lower_05\": null, \"fcst_lower_25\": null, \"fcst_upper_75\": null, \"fcst_upper_95\": null}, {\"time\": \"2015-10-05T00:00:00\", \"y\": 2, \"fcst\": null, \"fcst_lower_05\": null, \"fcst_lower_25\": null, \"fcst_upper_75\": null, \"fcst_upper_95\": null}, {\"time\": \"2015-10-06T00:00:00\", \"y\": 1, \"fcst\": null, \"fcst_lower_05\": null, \"fcst_lower_25\": null, \"fcst_upper_75\": null, \"fcst_upper_95\": null}, {\"time\": \"2015-10-07T00:00:00\", \"y\": 0, \"fcst\": null, \"fcst_lower_05\": null, \"fcst_lower_25\": null, \"fcst_upper_75\": null, \"fcst_upper_95\": null}, {\"time\": \"2015-10-08T00:00:00\", \"y\": 1, \"fcst\": null, \"fcst_lower_05\": null, \"fcst_lower_25\": null, \"fcst_upper_75\": null, \"fcst_upper_95\": null}, {\"time\": \"2015-10-09T00:00:00\", \"y\": 0, \"fcst\": null, \"fcst_lower_05\": null, \"fcst_lower_25\": null, \"fcst_upper_75\": null, \"fcst_upper_95\": null}, {\"time\": \"2015-10-10T00:00:00\", \"y\": 1, \"fcst\": null, \"fcst_lower_05\": null, \"fcst_lower_25\": null, \"fcst_upper_75\": null, \"fcst_upper_95\": null}, {\"time\": \"2015-10-11T00:00:00\", \"y\": 1, \"fcst\": null, \"fcst_lower_05\": null, \"fcst_lower_25\": null, \"fcst_upper_75\": null, \"fcst_upper_95\": null}, {\"time\": \"2015-10-12T00:00:00\", \"y\": 2, \"fcst\": null, \"fcst_lower_05\": null, \"fcst_lower_25\": null, \"fcst_upper_75\": null, \"fcst_upper_95\": null}, {\"time\": \"2015-10-13T00:00:00\", \"y\": 0, \"fcst\": null, \"fcst_lower_05\": null, \"fcst_lower_25\": null, \"fcst_upper_75\": null, \"fcst_upper_95\": null}, {\"time\": \"2015-10-14T00:00:00\", \"y\": 0, \"fcst\": null, \"fcst_lower_05\": null, \"fcst_lower_25\": null, \"fcst_upper_75\": null, \"fcst_upper_95\": null}, {\"time\": \"2015-10-15T00:00:00\", \"y\": 0, \"fcst\": null, \"fcst_lower_05\": null, \"fcst_lower_25\": null, \"fcst_upper_75\": null, \"fcst_upper_95\": null}, {\"time\": \"2015-10-16T00:00:00\", \"y\": 0, \"fcst\": null, \"fcst_lower_05\": null, \"fcst_lower_25\": null, \"fcst_upper_75\": null, \"fcst_upper_95\": null}, {\"time\": \"2015-10-17T00:00:00\", \"y\": 0, \"fcst\": null, \"fcst_lower_05\": null, \"fcst_lower_25\": null, \"fcst_upper_75\": null, \"fcst_upper_95\": null}, {\"time\": \"2015-10-18T00:00:00\", \"y\": 2, \"fcst\": null, \"fcst_lower_05\": null, \"fcst_lower_25\": null, \"fcst_upper_75\": null, \"fcst_upper_95\": null}, {\"time\": \"2015-10-19T00:00:00\", \"y\": 0, \"fcst\": null, \"fcst_lower_05\": null, \"fcst_lower_25\": null, \"fcst_upper_75\": null, \"fcst_upper_95\": null}, {\"time\": \"2015-10-20T00:00:00\", \"y\": 3, \"fcst\": null, \"fcst_lower_05\": null, \"fcst_lower_25\": null, \"fcst_upper_75\": null, \"fcst_upper_95\": null}, {\"time\": \"2015-10-21T00:00:00\", \"y\": 1, \"fcst\": null, \"fcst_lower_05\": null, \"fcst_lower_25\": null, \"fcst_upper_75\": null, \"fcst_upper_95\": null}, {\"time\": \"2015-10-22T00:00:00\", \"y\": 0, \"fcst\": null, \"fcst_lower_05\": null, \"fcst_lower_25\": null, \"fcst_upper_75\": null, \"fcst_upper_95\": null}, {\"time\": \"2015-10-23T00:00:00\", \"y\": 1, \"fcst\": null, \"fcst_lower_05\": null, \"fcst_lower_25\": null, \"fcst_upper_75\": null, \"fcst_upper_95\": null}, {\"time\": \"2015-10-24T00:00:00\", \"y\": 1, \"fcst\": null, \"fcst_lower_05\": null, \"fcst_lower_25\": null, \"fcst_upper_75\": null, \"fcst_upper_95\": null}, {\"time\": \"2015-10-25T00:00:00\", \"y\": 0, \"fcst\": null, \"fcst_lower_05\": null, \"fcst_lower_25\": null, \"fcst_upper_75\": null, \"fcst_upper_95\": null}, {\"time\": \"2015-10-26T00:00:00\", \"y\": 1, \"fcst\": null, \"fcst_lower_05\": null, \"fcst_lower_25\": null, \"fcst_upper_75\": null, \"fcst_upper_95\": null}, {\"time\": \"2015-10-27T00:00:00\", \"y\": 1, \"fcst\": null, \"fcst_lower_05\": null, \"fcst_lower_25\": null, \"fcst_upper_75\": null, \"fcst_upper_95\": null}, {\"time\": \"2015-10-28T00:00:00\", \"y\": 1, \"fcst\": null, \"fcst_lower_05\": null, \"fcst_lower_25\": null, \"fcst_upper_75\": null, \"fcst_upper_95\": null}, {\"time\": \"2015-10-29T00:00:00\", \"y\": 0, \"fcst\": null, \"fcst_lower_05\": null, \"fcst_lower_25\": null, \"fcst_upper_75\": null, \"fcst_upper_95\": null}, {\"time\": \"2015-10-30T00:00:00\", \"y\": 0, \"fcst\": null, \"fcst_lower_05\": null, \"fcst_lower_25\": null, \"fcst_upper_75\": null, \"fcst_upper_95\": null}, {\"time\": \"2015-10-31T00:00:00\", \"y\": 1, \"fcst\": null, \"fcst_lower_05\": null, \"fcst_lower_25\": null, \"fcst_upper_75\": null, \"fcst_upper_95\": null}, {\"time\": \"2015-11-01T00:00:00\", \"y\": 2, \"fcst\": null, \"fcst_lower_05\": null, \"fcst_lower_25\": null, \"fcst_upper_75\": null, \"fcst_upper_95\": null}, {\"time\": \"2015-11-02T00:00:00\", \"y\": 0, \"fcst\": null, \"fcst_lower_05\": null, \"fcst_lower_25\": null, \"fcst_upper_75\": null, \"fcst_upper_95\": null}, {\"time\": \"2015-11-03T00:00:00\", \"y\": 0, \"fcst\": null, \"fcst_lower_05\": null, \"fcst_lower_25\": null, \"fcst_upper_75\": null, \"fcst_upper_95\": null}, {\"time\": \"2015-11-04T00:00:00\", \"y\": 1, \"fcst\": null, \"fcst_lower_05\": null, \"fcst_lower_25\": null, \"fcst_upper_75\": null, \"fcst_upper_95\": null}, {\"time\": \"2015-11-05T00:00:00\", \"y\": 0, \"fcst\": null, \"fcst_lower_05\": null, \"fcst_lower_25\": null, \"fcst_upper_75\": null, \"fcst_upper_95\": null}, {\"time\": \"2015-11-06T00:00:00\", \"y\": 0, \"fcst\": null, \"fcst_lower_05\": null, \"fcst_lower_25\": null, \"fcst_upper_75\": null, \"fcst_upper_95\": null}, {\"time\": \"2015-11-07T00:00:00\", \"y\": 2, \"fcst\": null, \"fcst_lower_05\": null, \"fcst_lower_25\": null, \"fcst_upper_75\": null, \"fcst_upper_95\": null}, {\"time\": \"2015-11-08T00:00:00\", \"y\": 1, \"fcst\": null, \"fcst_lower_05\": null, \"fcst_lower_25\": null, \"fcst_upper_75\": null, \"fcst_upper_95\": null}, {\"time\": \"2015-11-09T00:00:00\", \"y\": 2, \"fcst\": null, \"fcst_lower_05\": null, \"fcst_lower_25\": null, \"fcst_upper_75\": null, \"fcst_upper_95\": null}, {\"time\": \"2015-11-10T00:00:00\", \"y\": 0, \"fcst\": null, \"fcst_lower_05\": null, \"fcst_lower_25\": null, \"fcst_upper_75\": null, \"fcst_upper_95\": null}, {\"time\": \"2015-11-11T00:00:00\", \"y\": 0, \"fcst\": null, \"fcst_lower_05\": null, \"fcst_lower_25\": null, \"fcst_upper_75\": null, \"fcst_upper_95\": null}, {\"time\": \"2015-11-12T00:00:00\", \"y\": 0, \"fcst\": null, \"fcst_lower_05\": null, \"fcst_lower_25\": null, \"fcst_upper_75\": null, \"fcst_upper_95\": null}, {\"time\": \"2015-11-13T00:00:00\", \"y\": 0, \"fcst\": null, \"fcst_lower_05\": null, \"fcst_lower_25\": null, \"fcst_upper_75\": null, \"fcst_upper_95\": null}, {\"time\": \"2015-11-14T00:00:00\", \"y\": 1, \"fcst\": null, \"fcst_lower_05\": null, \"fcst_lower_25\": null, \"fcst_upper_75\": null, \"fcst_upper_95\": null}, {\"time\": \"2015-11-15T00:00:00\", \"y\": 1, \"fcst\": null, \"fcst_lower_05\": null, \"fcst_lower_25\": null, \"fcst_upper_75\": null, \"fcst_upper_95\": null}, {\"time\": \"2015-11-16T00:00:00\", \"y\": 1, \"fcst\": null, \"fcst_lower_05\": null, \"fcst_lower_25\": null, \"fcst_upper_75\": null, \"fcst_upper_95\": null}, {\"time\": \"2015-11-17T00:00:00\", \"y\": 1, \"fcst\": null, \"fcst_lower_05\": null, \"fcst_lower_25\": null, \"fcst_upper_75\": null, \"fcst_upper_95\": null}, {\"time\": \"2015-11-18T00:00:00\", \"y\": 0, \"fcst\": null, \"fcst_lower_05\": null, \"fcst_lower_25\": null, \"fcst_upper_75\": null, \"fcst_upper_95\": null}, {\"time\": \"2015-11-19T00:00:00\", \"y\": 0, \"fcst\": null, \"fcst_lower_05\": null, \"fcst_lower_25\": null, \"fcst_upper_75\": null, \"fcst_upper_95\": null}, {\"time\": \"2015-11-20T00:00:00\", \"y\": 0, \"fcst\": null, \"fcst_lower_05\": null, \"fcst_lower_25\": null, \"fcst_upper_75\": null, \"fcst_upper_95\": null}, {\"time\": \"2015-11-21T00:00:00\", \"y\": 0, \"fcst\": null, \"fcst_lower_05\": null, \"fcst_lower_25\": null, \"fcst_upper_75\": null, \"fcst_upper_95\": null}, {\"time\": \"2015-11-22T00:00:00\", \"y\": 2, \"fcst\": null, \"fcst_lower_05\": null, \"fcst_lower_25\": null, \"fcst_upper_75\": null, \"fcst_upper_95\": null}, {\"time\": \"2015-11-23T00:00:00\", \"y\": 2, \"fcst\": null, \"fcst_lower_05\": null, \"fcst_lower_25\": null, \"fcst_upper_75\": null, \"fcst_upper_95\": null}, {\"time\": \"2015-11-24T00:00:00\", \"y\": 0, \"fcst\": null, \"fcst_lower_05\": null, \"fcst_lower_25\": null, \"fcst_upper_75\": null, \"fcst_upper_95\": null}, {\"time\": \"2015-11-25T00:00:00\", \"y\": 0, \"fcst\": null, \"fcst_lower_05\": null, \"fcst_lower_25\": null, \"fcst_upper_75\": null, \"fcst_upper_95\": null}, {\"time\": \"2015-11-26T00:00:00\", \"y\": 1, \"fcst\": null, \"fcst_lower_05\": null, \"fcst_lower_25\": null, \"fcst_upper_75\": null, \"fcst_upper_95\": null}, {\"time\": \"2015-11-27T00:00:00\", \"y\": 0, \"fcst\": null, \"fcst_lower_05\": null, \"fcst_lower_25\": null, \"fcst_upper_75\": null, \"fcst_upper_95\": null}, {\"time\": \"2015-11-28T00:00:00\", \"y\": 2, \"fcst\": null, \"fcst_lower_05\": null, \"fcst_lower_25\": null, \"fcst_upper_75\": null, \"fcst_upper_95\": null}, {\"time\": \"2015-11-29T00:00:00\", \"y\": 0, \"fcst\": null, \"fcst_lower_05\": null, \"fcst_lower_25\": null, \"fcst_upper_75\": null, \"fcst_upper_95\": null}, {\"time\": \"2015-11-30T00:00:00\", \"y\": 0, \"fcst\": null, \"fcst_lower_05\": null, \"fcst_lower_25\": null, \"fcst_upper_75\": null, \"fcst_upper_95\": null}, {\"time\": \"2015-12-01T00:00:00\", \"y\": 0, \"fcst\": null, \"fcst_lower_05\": null, \"fcst_lower_25\": null, \"fcst_upper_75\": null, \"fcst_upper_95\": null}, {\"time\": \"2015-12-02T00:00:00\", \"y\": 0, \"fcst\": null, \"fcst_lower_05\": null, \"fcst_lower_25\": null, \"fcst_upper_75\": null, \"fcst_upper_95\": null}, {\"time\": \"2015-12-03T00:00:00\", \"y\": 0, \"fcst\": null, \"fcst_lower_05\": null, \"fcst_lower_25\": null, \"fcst_upper_75\": null, \"fcst_upper_95\": null}, {\"time\": \"2015-12-04T00:00:00\", \"y\": 0, \"fcst\": null, \"fcst_lower_05\": null, \"fcst_lower_25\": null, \"fcst_upper_75\": null, \"fcst_upper_95\": null}, {\"time\": \"2015-12-05T00:00:00\", \"y\": 0, \"fcst\": null, \"fcst_lower_05\": null, \"fcst_lower_25\": null, \"fcst_upper_75\": null, \"fcst_upper_95\": null}, {\"time\": \"2015-12-06T00:00:00\", \"y\": 0, \"fcst\": null, \"fcst_lower_05\": null, \"fcst_lower_25\": null, \"fcst_upper_75\": null, \"fcst_upper_95\": null}, {\"time\": \"2015-12-07T00:00:00\", \"y\": 0, \"fcst\": null, \"fcst_lower_05\": null, \"fcst_lower_25\": null, \"fcst_upper_75\": null, \"fcst_upper_95\": null}, {\"time\": \"2015-12-08T00:00:00\", \"y\": 0, \"fcst\": null, \"fcst_lower_05\": null, \"fcst_lower_25\": null, \"fcst_upper_75\": null, \"fcst_upper_95\": null}, {\"time\": \"2015-12-09T00:00:00\", \"y\": 0, \"fcst\": null, \"fcst_lower_05\": null, \"fcst_lower_25\": null, \"fcst_upper_75\": null, \"fcst_upper_95\": null}, {\"time\": \"2015-12-10T00:00:00\", \"y\": 0, \"fcst\": null, \"fcst_lower_05\": null, \"fcst_lower_25\": null, \"fcst_upper_75\": null, \"fcst_upper_95\": null}, {\"time\": \"2015-12-11T00:00:00\", \"y\": 2, \"fcst\": null, \"fcst_lower_05\": null, \"fcst_lower_25\": null, \"fcst_upper_75\": null, \"fcst_upper_95\": null}, {\"time\": \"2015-12-12T00:00:00\", \"y\": 1, \"fcst\": null, \"fcst_lower_05\": null, \"fcst_lower_25\": null, \"fcst_upper_75\": null, \"fcst_upper_95\": null}, {\"time\": \"2015-12-13T00:00:00\", \"y\": 0, \"fcst\": null, \"fcst_lower_05\": null, \"fcst_lower_25\": null, \"fcst_upper_75\": null, \"fcst_upper_95\": null}, {\"time\": \"2015-12-14T00:00:00\", \"y\": 1, \"fcst\": null, \"fcst_lower_05\": null, \"fcst_lower_25\": null, \"fcst_upper_75\": null, \"fcst_upper_95\": null}, {\"time\": \"2015-12-15T00:00:00\", \"y\": 0, \"fcst\": null, \"fcst_lower_05\": null, \"fcst_lower_25\": null, \"fcst_upper_75\": null, \"fcst_upper_95\": null}, {\"time\": \"2015-12-16T00:00:00\", \"y\": 0, \"fcst\": null, \"fcst_lower_05\": null, \"fcst_lower_25\": null, \"fcst_upper_75\": null, \"fcst_upper_95\": null}, {\"time\": \"2015-12-17T00:00:00\", \"y\": 1, \"fcst\": null, \"fcst_lower_05\": null, \"fcst_lower_25\": null, \"fcst_upper_75\": null, \"fcst_upper_95\": null}, {\"time\": \"2015-12-18T00:00:00\", \"y\": 0, \"fcst\": null, \"fcst_lower_05\": null, \"fcst_lower_25\": null, \"fcst_upper_75\": null, \"fcst_upper_95\": null}, {\"time\": \"2015-12-19T00:00:00\", \"y\": 1, \"fcst\": null, \"fcst_lower_05\": null, \"fcst_lower_25\": null, \"fcst_upper_75\": null, \"fcst_upper_95\": null}, {\"time\": \"2015-12-20T00:00:00\", \"y\": 0, \"fcst\": null, \"fcst_lower_05\": null, \"fcst_lower_25\": null, \"fcst_upper_75\": null, \"fcst_upper_95\": null}, {\"time\": \"2015-12-21T00:00:00\", \"y\": 1, \"fcst\": null, \"fcst_lower_05\": null, \"fcst_lower_25\": null, \"fcst_upper_75\": null, \"fcst_upper_95\": null}, {\"time\": \"2015-12-22T00:00:00\", \"y\": 1, \"fcst\": null, \"fcst_lower_05\": null, \"fcst_lower_25\": null, \"fcst_upper_75\": null, \"fcst_upper_95\": null}, {\"time\": \"2015-12-23T00:00:00\", \"y\": 0, \"fcst\": null, \"fcst_lower_05\": null, \"fcst_lower_25\": null, \"fcst_upper_75\": null, \"fcst_upper_95\": null}, {\"time\": \"2015-12-24T00:00:00\", \"y\": 0, \"fcst\": null, \"fcst_lower_05\": null, \"fcst_lower_25\": null, \"fcst_upper_75\": null, \"fcst_upper_95\": null}, {\"time\": \"2015-12-25T00:00:00\", \"y\": 0, \"fcst\": null, \"fcst_lower_05\": null, \"fcst_lower_25\": null, \"fcst_upper_75\": null, \"fcst_upper_95\": null}, {\"time\": \"2015-12-26T00:00:00\", \"y\": 0, \"fcst\": null, \"fcst_lower_05\": null, \"fcst_lower_25\": null, \"fcst_upper_75\": null, \"fcst_upper_95\": null}, {\"time\": \"2015-12-27T00:00:00\", \"y\": 0, \"fcst\": null, \"fcst_lower_05\": null, \"fcst_lower_25\": null, \"fcst_upper_75\": null, \"fcst_upper_95\": null}, {\"time\": \"2015-12-28T00:00:00\", \"y\": 0, \"fcst\": null, \"fcst_lower_05\": null, \"fcst_lower_25\": null, \"fcst_upper_75\": null, \"fcst_upper_95\": null}, {\"time\": \"2015-12-29T00:00:00\", \"y\": 0, \"fcst\": null, \"fcst_lower_05\": null, \"fcst_lower_25\": null, \"fcst_upper_75\": null, \"fcst_upper_95\": null}, {\"time\": \"2015-12-30T00:00:00\", \"y\": 0, \"fcst\": null, \"fcst_lower_05\": null, \"fcst_lower_25\": null, \"fcst_upper_75\": null, \"fcst_upper_95\": null}, {\"time\": \"2015-12-31T00:00:00\", \"y\": 0, \"fcst\": null, \"fcst_lower_05\": null, \"fcst_lower_25\": null, \"fcst_upper_75\": null, \"fcst_upper_95\": null}, {\"time\": \"2016-01-01T00:00:00\", \"y\": 0, \"fcst\": null, \"fcst_lower_05\": null, \"fcst_lower_25\": null, \"fcst_upper_75\": null, \"fcst_upper_95\": null}, {\"time\": \"2016-01-02T00:00:00\", \"y\": 1, \"fcst\": null, \"fcst_lower_05\": null, \"fcst_lower_25\": null, \"fcst_upper_75\": null, \"fcst_upper_95\": null}, {\"time\": \"2016-01-03T00:00:00\", \"y\": 0, \"fcst\": null, \"fcst_lower_05\": null, \"fcst_lower_25\": null, \"fcst_upper_75\": null, \"fcst_upper_95\": null}, {\"time\": \"2016-01-04T00:00:00\", \"y\": 2, \"fcst\": null, \"fcst_lower_05\": null, \"fcst_lower_25\": null, \"fcst_upper_75\": null, \"fcst_upper_95\": null}, {\"time\": \"2016-01-05T00:00:00\", \"y\": 0, \"fcst\": null, \"fcst_lower_05\": null, \"fcst_lower_25\": null, \"fcst_upper_75\": null, \"fcst_upper_95\": null}, {\"time\": \"2016-01-06T00:00:00\", \"y\": 0, \"fcst\": null, \"fcst_lower_05\": null, \"fcst_lower_25\": null, \"fcst_upper_75\": null, \"fcst_upper_95\": null}, {\"time\": \"2016-01-07T00:00:00\", \"y\": 0, \"fcst\": null, \"fcst_lower_05\": null, \"fcst_lower_25\": null, \"fcst_upper_75\": null, \"fcst_upper_95\": null}, {\"time\": \"2016-01-08T00:00:00\", \"y\": 2, \"fcst\": null, \"fcst_lower_05\": null, \"fcst_lower_25\": null, \"fcst_upper_75\": null, \"fcst_upper_95\": null}, {\"time\": \"2016-01-09T00:00:00\", \"y\": 0, \"fcst\": null, \"fcst_lower_05\": null, \"fcst_lower_25\": null, \"fcst_upper_75\": null, \"fcst_upper_95\": null}, {\"time\": \"2016-01-10T00:00:00\", \"y\": 2, \"fcst\": null, \"fcst_lower_05\": null, \"fcst_lower_25\": null, \"fcst_upper_75\": null, \"fcst_upper_95\": null}, {\"time\": \"2016-01-11T00:00:00\", \"y\": 0, \"fcst\": null, \"fcst_lower_05\": null, \"fcst_lower_25\": null, \"fcst_upper_75\": null, \"fcst_upper_95\": null}, {\"time\": \"2016-01-12T00:00:00\", \"y\": 1, \"fcst\": null, \"fcst_lower_05\": null, \"fcst_lower_25\": null, \"fcst_upper_75\": null, \"fcst_upper_95\": null}, {\"time\": \"2016-01-13T00:00:00\", \"y\": 0, \"fcst\": null, \"fcst_lower_05\": null, \"fcst_lower_25\": null, \"fcst_upper_75\": null, \"fcst_upper_95\": null}, {\"time\": \"2016-01-14T00:00:00\", \"y\": 0, \"fcst\": null, \"fcst_lower_05\": null, \"fcst_lower_25\": null, \"fcst_upper_75\": null, \"fcst_upper_95\": null}, {\"time\": \"2016-01-15T00:00:00\", \"y\": 1, \"fcst\": null, \"fcst_lower_05\": null, \"fcst_lower_25\": null, \"fcst_upper_75\": null, \"fcst_upper_95\": null}, {\"time\": \"2016-01-16T00:00:00\", \"y\": 1, \"fcst\": null, \"fcst_lower_05\": null, \"fcst_lower_25\": null, \"fcst_upper_75\": null, \"fcst_upper_95\": null}, {\"time\": \"2016-01-17T00:00:00\", \"y\": 2, \"fcst\": null, \"fcst_lower_05\": null, \"fcst_lower_25\": null, \"fcst_upper_75\": null, \"fcst_upper_95\": null}, {\"time\": \"2016-01-18T00:00:00\", \"y\": 0, \"fcst\": null, \"fcst_lower_05\": null, \"fcst_lower_25\": null, \"fcst_upper_75\": null, \"fcst_upper_95\": null}, {\"time\": \"2016-01-19T00:00:00\", \"y\": 0, \"fcst\": null, \"fcst_lower_05\": null, \"fcst_lower_25\": null, \"fcst_upper_75\": null, \"fcst_upper_95\": null}, {\"time\": \"2016-01-20T00:00:00\", \"y\": 0, \"fcst\": null, \"fcst_lower_05\": null, \"fcst_lower_25\": null, \"fcst_upper_75\": null, \"fcst_upper_95\": null}, {\"time\": \"2016-01-21T00:00:00\", \"y\": 1, \"fcst\": null, \"fcst_lower_05\": null, \"fcst_lower_25\": null, \"fcst_upper_75\": null, \"fcst_upper_95\": null}, {\"time\": \"2016-01-22T00:00:00\", \"y\": 0, \"fcst\": null, \"fcst_lower_05\": null, \"fcst_lower_25\": null, \"fcst_upper_75\": null, \"fcst_upper_95\": null}, {\"time\": \"2016-01-23T00:00:00\", \"y\": 0, \"fcst\": null, \"fcst_lower_05\": null, \"fcst_lower_25\": null, \"fcst_upper_75\": null, \"fcst_upper_95\": null}, {\"time\": \"2016-01-24T00:00:00\", \"y\": 0, \"fcst\": null, \"fcst_lower_05\": null, \"fcst_lower_25\": null, \"fcst_upper_75\": null, \"fcst_upper_95\": null}, {\"time\": \"2016-01-25T00:00:00\", \"y\": 1, \"fcst\": null, \"fcst_lower_05\": null, \"fcst_lower_25\": null, \"fcst_upper_75\": null, \"fcst_upper_95\": null}, {\"time\": \"2016-01-26T00:00:00\", \"y\": 0, \"fcst\": null, \"fcst_lower_05\": null, \"fcst_lower_25\": null, \"fcst_upper_75\": null, \"fcst_upper_95\": null}, {\"time\": \"2016-01-27T00:00:00\", \"y\": 1, \"fcst\": null, \"fcst_lower_05\": null, \"fcst_lower_25\": null, \"fcst_upper_75\": null, \"fcst_upper_95\": null}, {\"time\": \"2016-01-28T00:00:00\", \"y\": 0, \"fcst\": null, \"fcst_lower_05\": null, \"fcst_lower_25\": null, \"fcst_upper_75\": null, \"fcst_upper_95\": null}, {\"time\": \"2016-01-29T00:00:00\", \"y\": 2, \"fcst\": null, \"fcst_lower_05\": null, \"fcst_lower_25\": null, \"fcst_upper_75\": null, \"fcst_upper_95\": null}, {\"time\": \"2016-01-30T00:00:00\", \"y\": 0, \"fcst\": null, \"fcst_lower_05\": null, \"fcst_lower_25\": null, \"fcst_upper_75\": null, \"fcst_upper_95\": null}, {\"time\": \"2016-01-31T00:00:00\", \"y\": 0, \"fcst\": null, \"fcst_lower_05\": null, \"fcst_lower_25\": null, \"fcst_upper_75\": null, \"fcst_upper_95\": null}, {\"time\": \"2016-02-01T00:00:00\", \"y\": 0, \"fcst\": null, \"fcst_lower_05\": null, \"fcst_lower_25\": null, \"fcst_upper_75\": null, \"fcst_upper_95\": null}, {\"time\": \"2016-02-02T00:00:00\", \"y\": 0, \"fcst\": null, \"fcst_lower_05\": null, \"fcst_lower_25\": null, \"fcst_upper_75\": null, \"fcst_upper_95\": null}, {\"time\": \"2016-02-03T00:00:00\", \"y\": 0, \"fcst\": null, \"fcst_lower_05\": null, \"fcst_lower_25\": null, \"fcst_upper_75\": null, \"fcst_upper_95\": null}, {\"time\": \"2016-02-04T00:00:00\", \"y\": 0, \"fcst\": null, \"fcst_lower_05\": null, \"fcst_lower_25\": null, \"fcst_upper_75\": null, \"fcst_upper_95\": null}, {\"time\": \"2016-02-05T00:00:00\", \"y\": 0, \"fcst\": null, \"fcst_lower_05\": null, \"fcst_lower_25\": null, \"fcst_upper_75\": null, \"fcst_upper_95\": null}, {\"time\": \"2016-02-06T00:00:00\", \"y\": 0, \"fcst\": null, \"fcst_lower_05\": null, \"fcst_lower_25\": null, \"fcst_upper_75\": null, \"fcst_upper_95\": null}, {\"time\": \"2016-02-07T00:00:00\", \"y\": 0, \"fcst\": null, \"fcst_lower_05\": null, \"fcst_lower_25\": null, \"fcst_upper_75\": null, \"fcst_upper_95\": null}, {\"time\": \"2016-02-08T00:00:00\", \"y\": 1, \"fcst\": null, \"fcst_lower_05\": null, \"fcst_lower_25\": null, \"fcst_upper_75\": null, \"fcst_upper_95\": null}, {\"time\": \"2016-02-09T00:00:00\", \"y\": 1, \"fcst\": null, \"fcst_lower_05\": null, \"fcst_lower_25\": null, \"fcst_upper_75\": null, \"fcst_upper_95\": null}, {\"time\": \"2016-02-10T00:00:00\", \"y\": 1, \"fcst\": null, \"fcst_lower_05\": null, \"fcst_lower_25\": null, \"fcst_upper_75\": null, \"fcst_upper_95\": null}, {\"time\": \"2016-02-11T00:00:00\", \"y\": 0, \"fcst\": null, \"fcst_lower_05\": null, \"fcst_lower_25\": null, \"fcst_upper_75\": null, \"fcst_upper_95\": null}, {\"time\": \"2016-02-12T00:00:00\", \"y\": 0, \"fcst\": null, \"fcst_lower_05\": null, \"fcst_lower_25\": null, \"fcst_upper_75\": null, \"fcst_upper_95\": null}, {\"time\": \"2016-02-13T00:00:00\", \"y\": 0, \"fcst\": null, \"fcst_lower_05\": null, \"fcst_lower_25\": null, \"fcst_upper_75\": null, \"fcst_upper_95\": null}, {\"time\": \"2016-02-14T00:00:00\", \"y\": 0, \"fcst\": null, \"fcst_lower_05\": null, \"fcst_lower_25\": null, \"fcst_upper_75\": null, \"fcst_upper_95\": null}, {\"time\": \"2016-02-15T00:00:00\", \"y\": 1, \"fcst\": null, \"fcst_lower_05\": null, \"fcst_lower_25\": null, \"fcst_upper_75\": null, \"fcst_upper_95\": null}, {\"time\": \"2016-02-16T00:00:00\", \"y\": 0, \"fcst\": null, \"fcst_lower_05\": null, \"fcst_lower_25\": null, \"fcst_upper_75\": null, \"fcst_upper_95\": null}, {\"time\": \"2016-02-17T00:00:00\", \"y\": 0, \"fcst\": null, \"fcst_lower_05\": null, \"fcst_lower_25\": null, \"fcst_upper_75\": null, \"fcst_upper_95\": null}, {\"time\": \"2016-02-18T00:00:00\", \"y\": 2, \"fcst\": null, \"fcst_lower_05\": null, \"fcst_lower_25\": null, \"fcst_upper_75\": null, \"fcst_upper_95\": null}, {\"time\": \"2016-02-19T00:00:00\", \"y\": 1, \"fcst\": null, \"fcst_lower_05\": null, \"fcst_lower_25\": null, \"fcst_upper_75\": null, \"fcst_upper_95\": null}, {\"time\": \"2016-02-20T00:00:00\", \"y\": 1, \"fcst\": null, \"fcst_lower_05\": null, \"fcst_lower_25\": null, \"fcst_upper_75\": null, \"fcst_upper_95\": null}, {\"time\": \"2016-02-21T00:00:00\", \"y\": 1, \"fcst\": null, \"fcst_lower_05\": null, \"fcst_lower_25\": null, \"fcst_upper_75\": null, \"fcst_upper_95\": null}, {\"time\": \"2016-02-22T00:00:00\", \"y\": 2, \"fcst\": null, \"fcst_lower_05\": null, \"fcst_lower_25\": null, \"fcst_upper_75\": null, \"fcst_upper_95\": null}, {\"time\": \"2016-02-23T00:00:00\", \"y\": 0, \"fcst\": null, \"fcst_lower_05\": null, \"fcst_lower_25\": null, \"fcst_upper_75\": null, \"fcst_upper_95\": null}, {\"time\": \"2016-02-24T00:00:00\", \"y\": 2, \"fcst\": null, \"fcst_lower_05\": null, \"fcst_lower_25\": null, \"fcst_upper_75\": null, \"fcst_upper_95\": null}, {\"time\": \"2016-02-25T00:00:00\", \"y\": 0, \"fcst\": null, \"fcst_lower_05\": null, \"fcst_lower_25\": null, \"fcst_upper_75\": null, \"fcst_upper_95\": null}, {\"time\": \"2016-02-26T00:00:00\", \"y\": 1, \"fcst\": null, \"fcst_lower_05\": null, \"fcst_lower_25\": null, \"fcst_upper_75\": null, \"fcst_upper_95\": null}, {\"time\": \"2016-02-27T00:00:00\", \"y\": 0, \"fcst\": null, \"fcst_lower_05\": null, \"fcst_lower_25\": null, \"fcst_upper_75\": null, \"fcst_upper_95\": null}, {\"time\": \"2016-02-28T00:00:00\", \"y\": 0, \"fcst\": null, \"fcst_lower_05\": null, \"fcst_lower_25\": null, \"fcst_upper_75\": null, \"fcst_upper_95\": null}, {\"time\": \"2016-02-29T00:00:00\", \"y\": 1, \"fcst\": null, \"fcst_lower_05\": null, \"fcst_lower_25\": null, \"fcst_upper_75\": null, \"fcst_upper_95\": null}, {\"time\": \"2016-03-01T00:00:00\", \"y\": 0, \"fcst\": null, \"fcst_lower_05\": null, \"fcst_lower_25\": null, \"fcst_upper_75\": null, \"fcst_upper_95\": null}, {\"time\": \"2016-03-02T00:00:00\", \"y\": 0, \"fcst\": null, \"fcst_lower_05\": null, \"fcst_lower_25\": null, \"fcst_upper_75\": null, \"fcst_upper_95\": null}, {\"time\": \"2016-03-03T00:00:00\", \"y\": 0, \"fcst\": null, \"fcst_lower_05\": null, \"fcst_lower_25\": null, \"fcst_upper_75\": null, \"fcst_upper_95\": null}, {\"time\": \"2016-03-04T00:00:00\", \"y\": 0, \"fcst\": null, \"fcst_lower_05\": null, \"fcst_lower_25\": null, \"fcst_upper_75\": null, \"fcst_upper_95\": null}, {\"time\": \"2016-03-05T00:00:00\", \"y\": 0, \"fcst\": null, \"fcst_lower_05\": null, \"fcst_lower_25\": null, \"fcst_upper_75\": null, \"fcst_upper_95\": null}, {\"time\": \"2016-03-06T00:00:00\", \"y\": 1, \"fcst\": null, \"fcst_lower_05\": null, \"fcst_lower_25\": null, \"fcst_upper_75\": null, \"fcst_upper_95\": null}, {\"time\": \"2016-03-07T00:00:00\", \"y\": 2, \"fcst\": null, \"fcst_lower_05\": null, \"fcst_lower_25\": null, \"fcst_upper_75\": null, \"fcst_upper_95\": null}, {\"time\": \"2016-03-08T00:00:00\", \"y\": 1, \"fcst\": null, \"fcst_lower_05\": null, \"fcst_lower_25\": null, \"fcst_upper_75\": null, \"fcst_upper_95\": null}, {\"time\": \"2016-03-09T00:00:00\", \"y\": 0, \"fcst\": null, \"fcst_lower_05\": null, \"fcst_lower_25\": null, \"fcst_upper_75\": null, \"fcst_upper_95\": null}, {\"time\": \"2016-03-10T00:00:00\", \"y\": 4, \"fcst\": null, \"fcst_lower_05\": null, \"fcst_lower_25\": null, \"fcst_upper_75\": null, \"fcst_upper_95\": null}, {\"time\": \"2016-03-11T00:00:00\", \"y\": 0, \"fcst\": null, \"fcst_lower_05\": null, \"fcst_lower_25\": null, \"fcst_upper_75\": null, \"fcst_upper_95\": null}, {\"time\": \"2016-03-12T00:00:00\", \"y\": 0, \"fcst\": null, \"fcst_lower_05\": null, \"fcst_lower_25\": null, \"fcst_upper_75\": null, \"fcst_upper_95\": null}, {\"time\": \"2016-03-13T00:00:00\", \"y\": 3, \"fcst\": null, \"fcst_lower_05\": null, \"fcst_lower_25\": null, \"fcst_upper_75\": null, \"fcst_upper_95\": null}, {\"time\": \"2016-03-14T00:00:00\", \"y\": 1, \"fcst\": null, \"fcst_lower_05\": null, \"fcst_lower_25\": null, \"fcst_upper_75\": null, \"fcst_upper_95\": null}, {\"time\": \"2016-03-15T00:00:00\", \"y\": 1, \"fcst\": null, \"fcst_lower_05\": null, \"fcst_lower_25\": null, \"fcst_upper_75\": null, \"fcst_upper_95\": null}, {\"time\": \"2016-03-16T00:00:00\", \"y\": 1, \"fcst\": null, \"fcst_lower_05\": null, \"fcst_lower_25\": null, \"fcst_upper_75\": null, \"fcst_upper_95\": null}, {\"time\": \"2016-03-17T00:00:00\", \"y\": 0, \"fcst\": null, \"fcst_lower_05\": null, \"fcst_lower_25\": null, \"fcst_upper_75\": null, \"fcst_upper_95\": null}, {\"time\": \"2016-03-18T00:00:00\", \"y\": 0, \"fcst\": null, \"fcst_lower_05\": null, \"fcst_lower_25\": null, \"fcst_upper_75\": null, \"fcst_upper_95\": null}, {\"time\": \"2016-03-19T00:00:00\", \"y\": 0, \"fcst\": null, \"fcst_lower_05\": null, \"fcst_lower_25\": null, \"fcst_upper_75\": null, \"fcst_upper_95\": null}, {\"time\": \"2016-03-20T00:00:00\", \"y\": 2, \"fcst\": null, \"fcst_lower_05\": null, \"fcst_lower_25\": null, \"fcst_upper_75\": null, \"fcst_upper_95\": null}, {\"time\": \"2016-03-21T00:00:00\", \"y\": 1, \"fcst\": null, \"fcst_lower_05\": null, \"fcst_lower_25\": null, \"fcst_upper_75\": null, \"fcst_upper_95\": null}, {\"time\": \"2016-03-22T00:00:00\", \"y\": 0, \"fcst\": null, \"fcst_lower_05\": null, \"fcst_lower_25\": null, \"fcst_upper_75\": null, \"fcst_upper_95\": null}, {\"time\": \"2016-03-23T00:00:00\", \"y\": 0, \"fcst\": null, \"fcst_lower_05\": null, \"fcst_lower_25\": null, \"fcst_upper_75\": null, \"fcst_upper_95\": null}, {\"time\": \"2016-03-24T00:00:00\", \"y\": 0, \"fcst\": null, \"fcst_lower_05\": null, \"fcst_lower_25\": null, \"fcst_upper_75\": null, \"fcst_upper_95\": null}, {\"time\": \"2016-03-25T00:00:00\", \"y\": 0, \"fcst\": null, \"fcst_lower_05\": null, \"fcst_lower_25\": null, \"fcst_upper_75\": null, \"fcst_upper_95\": null}, {\"time\": \"2016-03-26T00:00:00\", \"y\": 0, \"fcst\": null, \"fcst_lower_05\": null, \"fcst_lower_25\": null, \"fcst_upper_75\": null, \"fcst_upper_95\": null}, {\"time\": \"2016-03-27T00:00:00\", \"y\": 1, \"fcst\": null, \"fcst_lower_05\": null, \"fcst_lower_25\": null, \"fcst_upper_75\": null, \"fcst_upper_95\": null}, {\"time\": \"2016-03-28T00:00:00\", \"y\": 2, \"fcst\": null, \"fcst_lower_05\": null, \"fcst_lower_25\": null, \"fcst_upper_75\": null, \"fcst_upper_95\": null}, {\"time\": \"2016-03-29T00:00:00\", \"y\": 0, \"fcst\": null, \"fcst_lower_05\": null, \"fcst_lower_25\": null, \"fcst_upper_75\": null, \"fcst_upper_95\": null}, {\"time\": \"2016-03-30T00:00:00\", \"y\": 0, \"fcst\": null, \"fcst_lower_05\": null, \"fcst_lower_25\": null, \"fcst_upper_75\": null, \"fcst_upper_95\": null}, {\"time\": \"2016-03-31T00:00:00\", \"y\": 0, \"fcst\": null, \"fcst_lower_05\": null, \"fcst_lower_25\": null, \"fcst_upper_75\": null, \"fcst_upper_95\": null}, {\"time\": \"2016-04-01T00:00:00\", \"y\": 0, \"fcst\": null, \"fcst_lower_05\": null, \"fcst_lower_25\": null, \"fcst_upper_75\": null, \"fcst_upper_95\": null}, {\"time\": \"2016-04-02T00:00:00\", \"y\": 0, \"fcst\": null, \"fcst_lower_05\": null, \"fcst_lower_25\": null, \"fcst_upper_75\": null, \"fcst_upper_95\": null}, {\"time\": \"2016-04-03T00:00:00\", \"y\": 0, \"fcst\": null, \"fcst_lower_05\": null, \"fcst_lower_25\": null, \"fcst_upper_75\": null, \"fcst_upper_95\": null}, {\"time\": \"2016-04-04T00:00:00\", \"y\": 3, \"fcst\": null, \"fcst_lower_05\": null, \"fcst_lower_25\": null, \"fcst_upper_75\": null, \"fcst_upper_95\": null}, {\"time\": \"2016-04-05T00:00:00\", \"y\": 1, \"fcst\": null, \"fcst_lower_05\": null, \"fcst_lower_25\": null, \"fcst_upper_75\": null, \"fcst_upper_95\": null}, {\"time\": \"2016-04-06T00:00:00\", \"y\": 1, \"fcst\": null, \"fcst_lower_05\": null, \"fcst_lower_25\": null, \"fcst_upper_75\": null, \"fcst_upper_95\": null}, {\"time\": \"2016-04-07T00:00:00\", \"y\": 0, \"fcst\": null, \"fcst_lower_05\": null, \"fcst_lower_25\": null, \"fcst_upper_75\": null, \"fcst_upper_95\": null}, {\"time\": \"2016-04-08T00:00:00\", \"y\": 0, \"fcst\": null, \"fcst_lower_05\": null, \"fcst_lower_25\": null, \"fcst_upper_75\": null, \"fcst_upper_95\": null}, {\"time\": \"2016-04-09T00:00:00\", \"y\": 0, \"fcst\": null, \"fcst_lower_05\": null, \"fcst_lower_25\": null, \"fcst_upper_75\": null, \"fcst_upper_95\": null}, {\"time\": \"2016-04-10T00:00:00\", \"y\": 0, \"fcst\": null, \"fcst_lower_05\": null, \"fcst_lower_25\": null, \"fcst_upper_75\": null, \"fcst_upper_95\": null}, {\"time\": \"2016-04-11T00:00:00\", \"y\": 0, \"fcst\": null, \"fcst_lower_05\": null, \"fcst_lower_25\": null, \"fcst_upper_75\": null, \"fcst_upper_95\": null}, {\"time\": \"2016-04-12T00:00:00\", \"y\": 1, \"fcst\": null, \"fcst_lower_05\": null, \"fcst_lower_25\": null, \"fcst_upper_75\": null, \"fcst_upper_95\": null}, {\"time\": \"2016-04-13T00:00:00\", \"y\": 1, \"fcst\": null, \"fcst_lower_05\": null, \"fcst_lower_25\": null, \"fcst_upper_75\": null, \"fcst_upper_95\": null}, {\"time\": \"2016-04-14T00:00:00\", \"y\": 0, \"fcst\": null, \"fcst_lower_05\": null, \"fcst_lower_25\": null, \"fcst_upper_75\": null, \"fcst_upper_95\": null}, {\"time\": \"2016-04-15T00:00:00\", \"y\": 0, \"fcst\": null, \"fcst_lower_05\": null, \"fcst_lower_25\": null, \"fcst_upper_75\": null, \"fcst_upper_95\": null}, {\"time\": \"2016-04-16T00:00:00\", \"y\": 0, \"fcst\": null, \"fcst_lower_05\": null, \"fcst_lower_25\": null, \"fcst_upper_75\": null, \"fcst_upper_95\": null}, {\"time\": \"2016-04-17T00:00:00\", \"y\": 1, \"fcst\": null, \"fcst_lower_05\": null, \"fcst_lower_25\": null, \"fcst_upper_75\": null, \"fcst_upper_95\": null}, {\"time\": \"2016-04-18T00:00:00\", \"y\": 0, \"fcst\": null, \"fcst_lower_05\": null, \"fcst_lower_25\": null, \"fcst_upper_75\": null, \"fcst_upper_95\": null}, {\"time\": \"2016-04-19T00:00:00\", \"y\": 0, \"fcst\": null, \"fcst_lower_05\": null, \"fcst_lower_25\": null, \"fcst_upper_75\": null, \"fcst_upper_95\": null}, {\"time\": \"2016-04-20T00:00:00\", \"y\": 1, \"fcst\": null, \"fcst_lower_05\": null, \"fcst_lower_25\": null, \"fcst_upper_75\": null, \"fcst_upper_95\": null}, {\"time\": \"2016-04-21T00:00:00\", \"y\": 1, \"fcst\": null, \"fcst_lower_05\": null, \"fcst_lower_25\": null, \"fcst_upper_75\": null, \"fcst_upper_95\": null}, {\"time\": \"2016-04-22T00:00:00\", \"y\": 2, \"fcst\": null, \"fcst_lower_05\": null, \"fcst_lower_25\": null, \"fcst_upper_75\": null, \"fcst_upper_95\": null}, {\"time\": \"2016-04-23T00:00:00\", \"y\": 0, \"fcst\": null, \"fcst_lower_05\": null, \"fcst_lower_25\": null, \"fcst_upper_75\": null, \"fcst_upper_95\": null}, {\"time\": \"2016-04-24T00:00:00\", \"y\": 0, \"fcst\": null, \"fcst_lower_05\": null, \"fcst_lower_25\": null, \"fcst_upper_75\": null, \"fcst_upper_95\": null}, {\"time\": \"2016-04-25T00:00:00\", \"y\": 2, \"fcst\": 0.4099999964237213, \"fcst_lower_05\": 0.0, \"fcst_lower_25\": 0.0, \"fcst_upper_75\": 1.0, \"fcst_upper_95\": 1.0}, {\"time\": \"2016-04-26T00:00:00\", \"y\": 1, \"fcst\": 0.5600000023841858, \"fcst_lower_05\": 0.0, \"fcst_lower_25\": 0.0, \"fcst_upper_75\": 1.0, \"fcst_upper_95\": 2.0}, {\"time\": \"2016-04-27T00:00:00\", \"y\": 1, \"fcst\": 0.49000000953674316, \"fcst_lower_05\": 0.0, \"fcst_lower_25\": 0.0, \"fcst_upper_75\": 1.0, \"fcst_upper_95\": 2.0}, {\"time\": \"2016-04-28T00:00:00\", \"y\": 0, \"fcst\": 0.5, \"fcst_lower_05\": 0.0, \"fcst_lower_25\": 0.0, \"fcst_upper_75\": 1.0, \"fcst_upper_95\": 2.0}, {\"time\": \"2016-04-29T00:00:00\", \"y\": 0, \"fcst\": 0.47999998927116394, \"fcst_lower_05\": 0.0, \"fcst_lower_25\": 0.0, \"fcst_upper_75\": 1.0, \"fcst_upper_95\": 2.0}, {\"time\": \"2016-04-30T00:00:00\", \"y\": 2, \"fcst\": 0.46000000834465027, \"fcst_lower_05\": 0.0, \"fcst_lower_25\": 0.0, \"fcst_upper_75\": 1.0, \"fcst_upper_95\": 2.0}, {\"time\": \"2016-05-01T00:00:00\", \"y\": 4, \"fcst\": 0.7099999785423279, \"fcst_lower_05\": 0.0, \"fcst_lower_25\": 0.0, \"fcst_upper_75\": 1.0, \"fcst_upper_95\": 3.0}, {\"time\": \"2016-05-02T00:00:00\", \"y\": 0, \"fcst\": 0.5799999833106995, \"fcst_lower_05\": 0.0, \"fcst_lower_25\": 0.0, \"fcst_upper_75\": 1.0, \"fcst_upper_95\": 2.0}, {\"time\": \"2016-05-03T00:00:00\", \"y\": 2, \"fcst\": 0.6200000047683716, \"fcst_lower_05\": 0.0, \"fcst_lower_25\": 0.0, \"fcst_upper_75\": 1.0, \"fcst_upper_95\": 2.0}, {\"time\": \"2016-05-04T00:00:00\", \"y\": 0, \"fcst\": 0.7599999904632568, \"fcst_lower_05\": 0.0, \"fcst_lower_25\": 0.0, \"fcst_upper_75\": 1.0, \"fcst_upper_95\": 2.0}, {\"time\": \"2016-05-05T00:00:00\", \"y\": 0, \"fcst\": 0.699999988079071, \"fcst_lower_05\": 0.0, \"fcst_lower_25\": 0.0, \"fcst_upper_75\": 1.0, \"fcst_upper_95\": 3.0}, {\"time\": \"2016-05-06T00:00:00\", \"y\": 0, \"fcst\": 0.6600000262260437, \"fcst_lower_05\": 0.0, \"fcst_lower_25\": 0.0, \"fcst_upper_75\": 1.0, \"fcst_upper_95\": 3.0}, {\"time\": \"2016-05-07T00:00:00\", \"y\": 1, \"fcst\": 0.75, \"fcst_lower_05\": 0.0, \"fcst_lower_25\": 0.0, \"fcst_upper_75\": 1.0, \"fcst_upper_95\": 3.0}, {\"time\": \"2016-05-08T00:00:00\", \"y\": 0, \"fcst\": 0.7099999785423279, \"fcst_lower_05\": 0.0, \"fcst_lower_25\": 0.0, \"fcst_upper_75\": 1.0, \"fcst_upper_95\": 2.0}, {\"time\": \"2016-05-09T00:00:00\", \"y\": 0, \"fcst\": 0.7099999785423279, \"fcst_lower_05\": 0.0, \"fcst_lower_25\": 0.0, \"fcst_upper_75\": 1.0, \"fcst_upper_95\": 2.0}, {\"time\": \"2016-05-10T00:00:00\", \"y\": 0, \"fcst\": 0.5199999809265137, \"fcst_lower_05\": 0.0, \"fcst_lower_25\": 0.0, \"fcst_upper_75\": 1.0, \"fcst_upper_95\": 2.0}, {\"time\": \"2016-05-11T00:00:00\", \"y\": 1, \"fcst\": 0.5199999809265137, \"fcst_lower_05\": 0.0, \"fcst_lower_25\": 0.0, \"fcst_upper_75\": 1.0, \"fcst_upper_95\": 3.0}, {\"time\": \"2016-05-12T00:00:00\", \"y\": 0, \"fcst\": 0.6200000047683716, \"fcst_lower_05\": 0.0, \"fcst_lower_25\": 0.0, \"fcst_upper_75\": 1.0, \"fcst_upper_95\": 2.0}, {\"time\": \"2016-05-13T00:00:00\", \"y\": 0, \"fcst\": 0.75, \"fcst_lower_05\": 0.0, \"fcst_lower_25\": 0.0, \"fcst_upper_75\": 1.0, \"fcst_upper_95\": 2.0}, {\"time\": \"2016-05-14T00:00:00\", \"y\": 0, \"fcst\": 0.7200000286102295, \"fcst_lower_05\": 0.0, \"fcst_lower_25\": 0.0, \"fcst_upper_75\": 1.0, \"fcst_upper_95\": 3.0}, {\"time\": \"2016-05-15T00:00:00\", \"y\": 0, \"fcst\": 0.7799999713897705, \"fcst_lower_05\": 0.0, \"fcst_lower_25\": 0.0, \"fcst_upper_75\": 1.0, \"fcst_upper_95\": 3.0}, {\"time\": \"2016-05-16T00:00:00\", \"y\": 0, \"fcst\": 0.5099999904632568, \"fcst_lower_05\": 0.0, \"fcst_lower_25\": 0.0, \"fcst_upper_75\": 1.0, \"fcst_upper_95\": 2.0}, {\"time\": \"2016-05-17T00:00:00\", \"y\": 0, \"fcst\": 0.4099999964237213, \"fcst_lower_05\": 0.0, \"fcst_lower_25\": 0.0, \"fcst_upper_75\": 1.0, \"fcst_upper_95\": 2.0}, {\"time\": \"2016-05-18T00:00:00\", \"y\": 1, \"fcst\": 0.6299999952316284, \"fcst_lower_05\": 0.0, \"fcst_lower_25\": 0.0, \"fcst_upper_75\": 1.0, \"fcst_upper_95\": 2.0}, {\"time\": \"2016-05-19T00:00:00\", \"y\": 0, \"fcst\": 0.5899999737739563, \"fcst_lower_05\": 0.0, \"fcst_lower_25\": 0.0, \"fcst_upper_75\": 1.0, \"fcst_upper_95\": 2.0}, {\"time\": \"2016-05-20T00:00:00\", \"y\": 2, \"fcst\": 0.6200000047683716, \"fcst_lower_05\": 0.0, \"fcst_lower_25\": 0.0, \"fcst_upper_75\": 1.0, \"fcst_upper_95\": 2.0}, {\"time\": \"2016-05-21T00:00:00\", \"y\": 1, \"fcst\": 0.8700000047683716, \"fcst_lower_05\": 0.0, \"fcst_lower_25\": 0.0, \"fcst_upper_75\": 1.0, \"fcst_upper_95\": 3.0}, {\"time\": \"2016-05-22T00:00:00\", \"y\": 0, \"fcst\": 0.5600000023841858, \"fcst_lower_05\": 0.0, \"fcst_lower_25\": 0.0, \"fcst_upper_75\": 1.0, \"fcst_upper_95\": 2.0}], \"data-302bc33366dfe1498bc0394fc8325ea5\": [{\"time\": \"2016-04-25T00:00:00\"}]}}, {\"mode\": \"vega-lite\"});\n",
       "</script>"
      ],
      "text/plain": [
       "alt.LayerChart(...)"
      ]
     },
     "execution_count": 20,
     "metadata": {},
     "output_type": "execute_result"
    }
   ],
   "source": [
    "plot_index = 2  # 2, 4, 8\n",
    "plot_id = test_sampled_ids[plot_index]\n",
    "\n",
    "y = target[[plot_id]].reset_index()\n",
    "y.columns = [\"time\", \"y\"]\n",
    "y[\"time\"] = pd.to_datetime(y[\"time\"])\n",
    "\n",
    "forecast = pd.DataFrame(\n",
    "    [forecasts[plot_index].mean]\n",
    "    + [forecasts[plot_index].quantile(p) for p in [0.05, 0.25, 0.75, 0.95]],\n",
    "    columns=forecasts[plot_index].index,\n",
    ").T.reset_index()\n",
    "forecast.columns = [\n",
    "    \"time\",\n",
    "    \"fcst\",\n",
    "    \"fcst_lower_05\",\n",
    "    \"fcst_lower_25\",\n",
    "    \"fcst_upper_75\",\n",
    "    \"fcst_upper_95\",\n",
    "]\n",
    "\n",
    "source = y.merge(forecast, how=\"left\")\n",
    "plot_forecast(\n",
    "    source, test_steps, plot_id=plot_id, model_name=\"DeepAR\", start_date=\"2015-05-23\"\n",
    ")"
   ]
  },
  {
   "cell_type": "markdown",
   "id": "4426be8f-ef22-46aa-95b3-4c5ee243b659",
   "metadata": {},
   "source": [
    "# DeepVAR: Model Training"
   ]
  },
  {
   "cell_type": "code",
   "execution_count": 21,
   "id": "b36b98a3-ba02-42bb-8460-87802361d8e1",
   "metadata": {},
   "outputs": [],
   "source": [
    "train_grouper = MultivariateGrouper(max_target_dim=num_series)\n",
    "train_dataset = train_grouper(train_dataset)\n",
    "\n",
    "test_grouper = MultivariateGrouper(max_target_dim=num_series)\n",
    "test_dataset = test_grouper(test_dataset)"
   ]
  },
  {
   "cell_type": "code",
   "execution_count": 22,
   "id": "8f616055-ff46-413f-b267-e61af09bbb9a",
   "metadata": {},
   "outputs": [],
   "source": [
    "trainer = Trainer(\n",
    "    ctx=device,\n",
    "    epochs=200,\n",
    "    num_batches_per_epoch=50,\n",
    "    learning_rate=0.001,\n",
    "    hybridize=True,\n",
    ")"
   ]
  },
  {
   "cell_type": "code",
   "execution_count": 23,
   "id": "f32c52db-6eb8-43ae-b862-24704543728e",
   "metadata": {},
   "outputs": [],
   "source": [
    "deepvar_estimator = DeepVAREstimator(\n",
    "    freq=\"D\", \n",
    "    prediction_length=test_steps,\n",
    "    target_dim=num_series,\n",
    "    trainer=trainer,\n",
    "    context_length=2 * test_steps,\n",
    "    num_layers=2,\n",
    "    num_cells=40,\n",
    "    cell_type=\"lstm\",\n",
    "    dropout_rate=0.2,\n",
    "    cardinality=cardinality,\n",
    "    distr_output=LowrankMultivariateGaussianOutput(dim=num_series, rank=5),\n",
    "    batch_size=30,\n",
    ")"
   ]
  },
  {
   "cell_type": "code",
   "execution_count": 24,
   "id": "508b550c-5463-4eaa-9456-efc49f1b7dba",
   "metadata": {},
   "outputs": [
    {
     "name": "stderr",
     "output_type": "stream",
     "text": [
      "100%|██████████| 50/50 [05:10<00:00,  6.21s/it, epoch=1/200, avg_epoch_loss=1.61e+18]\n",
      "100%|██████████| 50/50 [05:10<00:00,  6.21s/it, epoch=2/200, avg_epoch_loss=3.95e+17]\n",
      "100%|██████████| 50/50 [05:16<00:00,  6.32s/it, epoch=3/200, avg_epoch_loss=2.32e+17]\n",
      "100%|██████████| 50/50 [05:10<00:00,  6.21s/it, epoch=4/200, avg_epoch_loss=1.95e+17]\n",
      "100%|██████████| 50/50 [05:12<00:00,  6.25s/it, epoch=5/200, avg_epoch_loss=1.6e+17] \n",
      "100%|██████████| 50/50 [05:08<00:00,  6.17s/it, epoch=6/200, avg_epoch_loss=1.31e+17]\n",
      "100%|██████████| 50/50 [05:05<00:00,  6.10s/it, epoch=7/200, avg_epoch_loss=1.35e+17]\n",
      "100%|██████████| 50/50 [05:03<00:00,  6.06s/it, epoch=8/200, avg_epoch_loss=9.67e+16]\n",
      "100%|██████████| 50/50 [05:03<00:00,  6.06s/it, epoch=9/200, avg_epoch_loss=5.91e+16]\n",
      "100%|██████████| 50/50 [05:02<00:00,  6.05s/it, epoch=10/200, avg_epoch_loss=1.38e+17]\n",
      "100%|██████████| 50/50 [05:03<00:00,  6.07s/it, epoch=11/200, avg_epoch_loss=4.51e+16]\n",
      "100%|██████████| 50/50 [05:04<00:00,  6.10s/it, epoch=12/200, avg_epoch_loss=8.68e+16]\n",
      "100%|██████████| 50/50 [05:05<00:00,  6.10s/it, epoch=13/200, avg_epoch_loss=3.46e+16]\n",
      "100%|██████████| 50/50 [05:04<00:00,  6.09s/it, epoch=14/200, avg_epoch_loss=1.61e+17]\n",
      "100%|██████████| 50/50 [05:03<00:00,  6.06s/it, epoch=15/200, avg_epoch_loss=1.68e+16]\n",
      "100%|██████████| 50/50 [05:04<00:00,  6.09s/it, epoch=16/200, avg_epoch_loss=2.2e+16] \n",
      "100%|██████████| 50/50 [05:03<00:00,  6.06s/it, epoch=17/200, avg_epoch_loss=2.25e+16]\n",
      "100%|██████████| 50/50 [05:07<00:00,  6.15s/it, epoch=18/200, avg_epoch_loss=2.15e+16]\n",
      "100%|██████████| 50/50 [05:10<00:00,  6.20s/it, epoch=19/200, avg_epoch_loss=5.6e+16] \n",
      "100%|██████████| 50/50 [05:02<00:00,  6.04s/it, epoch=20/200, avg_epoch_loss=6.8e+16] \n",
      "100%|██████████| 50/50 [05:01<00:00,  6.03s/it, epoch=21/200, avg_epoch_loss=2.35e+16]\n",
      "100%|██████████| 50/50 [05:01<00:00,  6.04s/it, epoch=22/200, avg_epoch_loss=2.35e+16]\n",
      "100%|██████████| 50/50 [05:01<00:00,  6.02s/it, epoch=23/200, avg_epoch_loss=3.49e+16]\n",
      "100%|██████████| 50/50 [05:01<00:00,  6.03s/it, epoch=24/200, avg_epoch_loss=8.86e+16]\n",
      "100%|██████████| 50/50 [05:01<00:00,  6.02s/it, epoch=25/200, avg_epoch_loss=4.51e+16]\n",
      "100%|██████████| 50/50 [04:59<00:00,  6.00s/it, epoch=26/200, avg_epoch_loss=2.84e+16]\n",
      "100%|██████████| 50/50 [04:58<00:00,  5.97s/it, epoch=27/200, avg_epoch_loss=3.71e+16]\n",
      "100%|██████████| 50/50 [05:01<00:00,  6.03s/it, epoch=28/200, avg_epoch_loss=2.14e+16]\n",
      "100%|██████████| 50/50 [05:02<00:00,  6.04s/it, epoch=29/200, avg_epoch_loss=2.23e+16]\n",
      "100%|██████████| 50/50 [04:52<00:00,  5.84s/it, epoch=30/200, avg_epoch_loss=3.19e+16]\n",
      "100%|██████████| 50/50 [04:54<00:00,  5.90s/it, epoch=31/200, avg_epoch_loss=3.31e+16]\n",
      "100%|██████████| 50/50 [04:56<00:00,  5.93s/it, epoch=32/200, avg_epoch_loss=2.27e+16]\n",
      "100%|██████████| 50/50 [04:54<00:00,  5.89s/it, epoch=33/200, avg_epoch_loss=1.7e+16] \n",
      "100%|██████████| 50/50 [04:56<00:00,  5.93s/it, epoch=34/200, avg_epoch_loss=2.59e+16]\n",
      "100%|██████████| 50/50 [04:51<00:00,  5.82s/it, epoch=35/200, avg_epoch_loss=1.98e+16]\n",
      "100%|██████████| 50/50 [05:02<00:00,  6.05s/it, epoch=36/200, avg_epoch_loss=1.62e+16]\n",
      "100%|██████████| 50/50 [05:02<00:00,  6.05s/it, epoch=37/200, avg_epoch_loss=3.67e+16]\n",
      "100%|██████████| 50/50 [05:01<00:00,  6.03s/it, epoch=38/200, avg_epoch_loss=2.13e+16]\n",
      "100%|██████████| 50/50 [05:00<00:00,  6.02s/it, epoch=39/200, avg_epoch_loss=2.73e+16]\n",
      "100%|██████████| 50/50 [05:02<00:00,  6.04s/it, epoch=40/200, avg_epoch_loss=2.89e+16]\n",
      "100%|██████████| 50/50 [05:00<00:00,  6.00s/it, epoch=41/200, avg_epoch_loss=3.61e+16]\n",
      "100%|██████████| 50/50 [04:55<00:00,  5.90s/it, epoch=42/200, avg_epoch_loss=1.99e+16]\n",
      "100%|██████████| 50/50 [04:49<00:00,  5.79s/it, epoch=43/200, avg_epoch_loss=4.94e+16]\n",
      "100%|██████████| 50/50 [04:47<00:00,  5.75s/it, epoch=44/200, avg_epoch_loss=1.71e+16]\n",
      "100%|██████████| 50/50 [04:47<00:00,  5.75s/it, epoch=45/200, avg_epoch_loss=3.74e+16]\n",
      "100%|██████████| 50/50 [04:47<00:00,  5.75s/it, epoch=46/200, avg_epoch_loss=7.55e+16]\n",
      "100%|██████████| 50/50 [05:03<00:00,  6.08s/it, epoch=47/200, avg_epoch_loss=1.83e+16]\n",
      "100%|██████████| 50/50 [05:00<00:00,  6.01s/it, epoch=48/200, avg_epoch_loss=3.34e+16]\n",
      "100%|██████████| 50/50 [05:00<00:00,  6.01s/it, epoch=49/200, avg_epoch_loss=7.48e+16]\n",
      "100%|██████████| 50/50 [05:00<00:00,  6.01s/it, epoch=50/200, avg_epoch_loss=5.21e+16]\n",
      "100%|██████████| 50/50 [05:00<00:00,  6.00s/it, epoch=51/200, avg_epoch_loss=2.4e+16] \n",
      "100%|██████████| 50/50 [05:00<00:00,  6.01s/it, epoch=52/200, avg_epoch_loss=4.26e+16]\n",
      "100%|██████████| 50/50 [05:00<00:00,  6.02s/it, epoch=53/200, avg_epoch_loss=2.21e+16]\n",
      "100%|██████████| 50/50 [05:00<00:00,  6.01s/it, epoch=54/200, avg_epoch_loss=6.65e+16]\n",
      "100%|██████████| 50/50 [05:02<00:00,  6.06s/it, epoch=55/200, avg_epoch_loss=6.64e+16]\n",
      "100%|██████████| 50/50 [04:59<00:00,  5.99s/it, epoch=56/200, avg_epoch_loss=2.41e+16]\n",
      "100%|██████████| 50/50 [04:59<00:00,  5.99s/it, epoch=57/200, avg_epoch_loss=2.62e+16]\n",
      "100%|██████████| 50/50 [05:00<00:00,  6.02s/it, epoch=58/200, avg_epoch_loss=1.58e+16]\n",
      "100%|██████████| 50/50 [05:01<00:00,  6.03s/it, epoch=59/200, avg_epoch_loss=2.22e+16]\n",
      "100%|██████████| 50/50 [05:02<00:00,  6.05s/it, epoch=60/200, avg_epoch_loss=2.89e+16]\n",
      "100%|██████████| 50/50 [05:04<00:00,  6.08s/it, epoch=61/200, avg_epoch_loss=5.79e+16]\n",
      "100%|██████████| 50/50 [05:03<00:00,  6.08s/it, epoch=62/200, avg_epoch_loss=2.87e+16]\n",
      "100%|██████████| 50/50 [05:09<00:00,  6.19s/it, epoch=63/200, avg_epoch_loss=2.47e+16]\n",
      "100%|██████████| 50/50 [05:03<00:00,  6.06s/it, epoch=64/200, avg_epoch_loss=3.74e+16]\n",
      "100%|██████████| 50/50 [05:04<00:00,  6.10s/it, epoch=65/200, avg_epoch_loss=4.09e+16]\n",
      "100%|██████████| 50/50 [05:02<00:00,  6.04s/it, epoch=66/200, avg_epoch_loss=2.52e+16]\n",
      "100%|██████████| 50/50 [05:01<00:00,  6.04s/it, epoch=67/200, avg_epoch_loss=1.82e+16]\n",
      "100%|██████████| 50/50 [05:08<00:00,  6.16s/it, epoch=68/200, avg_epoch_loss=2.18e+16]\n",
      "100%|██████████| 50/50 [05:05<00:00,  6.11s/it, epoch=69/200, avg_epoch_loss=3.34e+16]\n",
      "100%|██████████| 50/50 [05:10<00:00,  6.20s/it, epoch=70/200, avg_epoch_loss=3.56e+16]\n",
      "100%|██████████| 50/50 [05:08<00:00,  6.18s/it, epoch=71/200, avg_epoch_loss=3.02e+16]\n",
      "100%|██████████| 50/50 [05:08<00:00,  6.18s/it, epoch=72/200, avg_epoch_loss=3.15e+16]\n",
      "100%|██████████| 50/50 [05:01<00:00,  6.03s/it, epoch=73/200, avg_epoch_loss=5.36e+16]\n",
      "100%|██████████| 50/50 [05:02<00:00,  6.05s/it, epoch=74/200, avg_epoch_loss=3.45e+16]\n",
      "100%|██████████| 50/50 [04:59<00:00,  5.99s/it, epoch=75/200, avg_epoch_loss=4.59e+16]\n",
      "100%|██████████| 50/50 [05:02<00:00,  6.04s/it, epoch=76/200, avg_epoch_loss=1.95e+16]\n",
      "100%|██████████| 50/50 [05:01<00:00,  6.02s/it, epoch=77/200, avg_epoch_loss=3.12e+16]\n",
      "100%|██████████| 50/50 [05:03<00:00,  6.07s/it, epoch=78/200, avg_epoch_loss=2.34e+16]\n"
     ]
    },
    {
     "name": "stdout",
     "output_type": "stream",
     "text": [
      "Early stopping based on learning rate scheduler callback (min_lr was reached).\n"
     ]
    },
    {
     "name": "stderr",
     "output_type": "stream",
     "text": [
      "WARNING:root:Serializing RepresentableBlockPredictor instances does not save the prediction network structure in a backwards-compatible manner. Be careful not to use this method in production.\n"
     ]
    },
    {
     "name": "stdout",
     "output_type": "stream",
     "text": [
      "CPU times: user 6h 20min 5s, sys: 13min 17s, total: 6h 33min 23s\n",
      "Wall time: 6h 32min 43s\n"
     ]
    }
   ],
   "source": [
    "%%time\n",
    "deepvar_predictor = deepvar_estimator.train(train_dataset)\n",
    "\n",
    "os.makedirs(os.path.join(MODEL_PATH, \"deepvar\"), exist_ok=True)\n",
    "deepvar_predictor.serialize(Path(os.path.join(MODEL_PATH, \"deepvar\")))"
   ]
  },
  {
   "cell_type": "markdown",
   "id": "b3c94554-75b9-495b-ad1e-1498009a1f56",
   "metadata": {},
   "source": [
    "# DeepVAR: Model Evaluation"
   ]
  },
  {
   "cell_type": "code",
   "execution_count": 25,
   "id": "0b0cad13-e71f-4d9e-a09b-2548565ee8a8",
   "metadata": {},
   "outputs": [],
   "source": [
    "deepvar_predictor = Predictor.deserialize(Path(os.path.join(MODEL_PATH, \"deepvar\")))"
   ]
  },
  {
   "cell_type": "code",
   "execution_count": 26,
   "id": "cc5b9267-049b-4b3b-9023-aae28bcbec42",
   "metadata": {},
   "outputs": [
    {
     "name": "stdout",
     "output_type": "stream",
     "text": [
      "CPU times: user 1.95 s, sys: 827 ms, total: 2.78 s\n",
      "Wall time: 2.63 s\n"
     ]
    }
   ],
   "source": [
    "%%time\n",
    "forecast_iter, ts_iter = make_evaluation_predictions( \n",
    "    dataset=test_dataset,\n",
    "    predictor=deepvar_predictor, \n",
    "    num_samples=100,\n",
    ") \n",
    "forecasts = list(forecast_iter)\n",
    "tss = list(ts_iter)"
   ]
  },
  {
   "cell_type": "code",
   "execution_count": 27,
   "id": "b231b76d-97ce-4418-8532-65e3b56b5c59",
   "metadata": {},
   "outputs": [
    {
     "name": "stderr",
     "output_type": "stream",
     "text": [
      "Running evaluation: 1it [00:00, 25.80it/s]\n"
     ]
    }
   ],
   "source": [
    "evaluator = MultivariateEvaluator(quantiles=[0.1, 0.5, 0.9])\n",
    "agg_metrics = evaluator.calculate_aggregate_multivariate_metrics(\n",
    "    iter(tss), iter(forecasts), np.mean\n",
    ")"
   ]
  },
  {
   "cell_type": "code",
   "execution_count": 28,
   "id": "96be2e24-589c-4bac-bf44-c697f8b89753",
   "metadata": {},
   "outputs": [
    {
     "name": "stdout",
     "output_type": "stream",
     "text": [
      "MSE: 3.7794\n",
      "abs_error: 53.8521\n",
      "abs_target_sum: 38.6891\n",
      "abs_target_mean: 1.3818\n",
      "seasonal_error: 0.1393\n",
      "MASE: 13.8039\n",
      "MAPE: 1.4066\n",
      "sMAPE: 2.0000\n",
      "MSIS: 383.5658\n",
      "QuantileLoss[0.1]: 13.0227\n",
      "Coverage[0.1]: 0.0000\n",
      "QuantileLoss[0.5]: 53.8521\n",
      "Coverage[0.5]: 0.0000\n",
      "QuantileLoss[0.9]: 76.6139\n",
      "Coverage[0.9]: 0.0000\n",
      "RMSE: 1.9441\n",
      "NRMSE: 1.4070\n",
      "ND: 1.3919\n",
      "wQuantileLoss[0.1]: 0.3366\n",
      "wQuantileLoss[0.5]: 1.3919\n",
      "wQuantileLoss[0.9]: 1.9802\n",
      "mean_absolute_QuantileLoss: 47.8296\n",
      "mean_wQuantileLoss: 1.2363\n",
      "MAE_Coverage: 0.500\n"
     ]
    }
   ],
   "source": [
    "string = \"\"\n",
    "for key, value in agg_metrics.items():\n",
    "    if not np.isnan(value):\n",
    "        string += key + \": \" + f\"{value:.4f}\\n\"\n",
    "        \n",
    "print(string[:-2])"
   ]
  },
  {
   "cell_type": "code",
   "execution_count": 29,
   "id": "c565b0ec-521f-4bb7-a6b1-43dfa271da59",
   "metadata": {},
   "outputs": [
    {
     "name": "stdout",
     "output_type": "stream",
     "text": [
      "DeepVAR WRMSSE: 6.429227\n"
     ]
    }
   ],
   "source": [
    "predictions = [forecast.mean for forecast in forecasts]\n",
    "sampled_df_pred = pd.DataFrame(predictions[0].T, columns=sampled_df_test.columns)\n",
    "\n",
    "wrmsse = wrmsse_evaluator.score(sampled_df_pred)\n",
    "\n",
    "print(f\"DeepVAR WRMSSE: {wrmsse:.6f}\")"
   ]
  },
  {
   "cell_type": "code",
   "execution_count": 30,
   "id": "06edae37-8a0c-4dcc-a505-d665cf4440a0",
   "metadata": {},
   "outputs": [
    {
     "data": {
      "text/html": [
       "\n",
       "<div id=\"altair-viz-6767e747d88641209dafeccbbb23e939\"></div>\n",
       "<script type=\"text/javascript\">\n",
       "  (function(spec, embedOpt){\n",
       "    let outputDiv = document.currentScript.previousElementSibling;\n",
       "    if (outputDiv.id !== \"altair-viz-6767e747d88641209dafeccbbb23e939\") {\n",
       "      outputDiv = document.getElementById(\"altair-viz-6767e747d88641209dafeccbbb23e939\");\n",
       "    }\n",
       "    const paths = {\n",
       "      \"vega\": \"https://cdn.jsdelivr.net/npm//vega@5?noext\",\n",
       "      \"vega-lib\": \"https://cdn.jsdelivr.net/npm//vega-lib?noext\",\n",
       "      \"vega-lite\": \"https://cdn.jsdelivr.net/npm//vega-lite@4.8.1?noext\",\n",
       "      \"vega-embed\": \"https://cdn.jsdelivr.net/npm//vega-embed@6?noext\",\n",
       "    };\n",
       "\n",
       "    function loadScript(lib) {\n",
       "      return new Promise(function(resolve, reject) {\n",
       "        var s = document.createElement('script');\n",
       "        s.src = paths[lib];\n",
       "        s.async = true;\n",
       "        s.onload = () => resolve(paths[lib]);\n",
       "        s.onerror = () => reject(`Error loading script: ${paths[lib]}`);\n",
       "        document.getElementsByTagName(\"head\")[0].appendChild(s);\n",
       "      });\n",
       "    }\n",
       "\n",
       "    function showError(err) {\n",
       "      outputDiv.innerHTML = `<div class=\"error\" style=\"color:red;\">${err}</div>`;\n",
       "      throw err;\n",
       "    }\n",
       "\n",
       "    function displayChart(vegaEmbed) {\n",
       "      vegaEmbed(outputDiv, spec, embedOpt)\n",
       "        .catch(err => showError(`Javascript Error: ${err.message}<br>This usually means there's a typo in your chart specification. See the javascript console for the full traceback.`));\n",
       "    }\n",
       "\n",
       "    if(typeof define === \"function\" && define.amd) {\n",
       "      requirejs.config({paths});\n",
       "      require([\"vega-embed\"], displayChart, err => showError(`Error loading script: ${err.message}`));\n",
       "    } else if (typeof vegaEmbed === \"function\") {\n",
       "      displayChart(vegaEmbed);\n",
       "    } else {\n",
       "      loadScript(\"vega\")\n",
       "        .then(() => loadScript(\"vega-lite\"))\n",
       "        .then(() => loadScript(\"vega-embed\"))\n",
       "        .catch(showError)\n",
       "        .then(() => displayChart(vegaEmbed));\n",
       "    }\n",
       "  })({\"config\": {\"view\": {\"continuousWidth\": 400, \"continuousHeight\": 300}}, \"layer\": [{\"mark\": {\"type\": \"circle\", \"color\": \"#000000\", \"size\": 10.0}, \"encoding\": {\"tooltip\": [{\"type\": \"temporal\", \"field\": \"time\"}, {\"type\": \"quantitative\", \"field\": \"y\"}], \"x\": {\"type\": \"temporal\", \"axis\": {\"title\": \"Date\"}, \"field\": \"time\"}, \"y\": {\"type\": \"quantitative\", \"axis\": {\"title\": \"Sales\"}, \"field\": \"y\"}}}, {\"mark\": {\"type\": \"line\", \"color\": \"#4267B2\", \"size\": 1.0}, \"encoding\": {\"x\": {\"type\": \"temporal\", \"field\": \"time\"}, \"y\": {\"type\": \"quantitative\", \"field\": \"fcst\"}}}, {\"mark\": {\"type\": \"area\", \"color\": \"#4267B2\", \"opacity\": 0.25}, \"encoding\": {\"x\": {\"type\": \"temporal\", \"field\": \"time\"}, \"y\": {\"type\": \"quantitative\", \"field\": \"fcst_lower_05\"}, \"y2\": {\"field\": \"fcst_upper_95\"}}}, {\"mark\": {\"type\": \"area\", \"color\": \"#4267B2\", \"opacity\": 0.5}, \"encoding\": {\"x\": {\"type\": \"temporal\", \"field\": \"time\"}, \"y\": {\"type\": \"quantitative\", \"field\": \"fcst_lower_25\"}, \"y2\": {\"field\": \"fcst_upper_75\"}}}, {\"data\": {\"name\": \"data-302bc33366dfe1498bc0394fc8325ea5\"}, \"mark\": {\"type\": \"rule\", \"color\": \"#FF0000\", \"size\": 1.0, \"strokeDash\": [2, 2]}, \"encoding\": {\"x\": {\"type\": \"temporal\", \"field\": \"time\"}}}], \"data\": {\"name\": \"data-191ab8e54d2a6be8e73479fad1d2d3a0\"}, \"height\": 300, \"title\": \"DeepVAR: Sales Forecast for 'FOODS_3_409_CA_3_evaluation'\", \"width\": 1000, \"$schema\": \"https://vega.github.io/schema/vega-lite/v4.8.1.json\", \"datasets\": {\"data-191ab8e54d2a6be8e73479fad1d2d3a0\": [{\"time\": \"2015-05-23T00:00:00\", \"y\": 0, \"fcst\": null, \"fcst_lower_05\": null, \"fcst_lower_25\": null, \"fcst_upper_75\": null, \"fcst_upper_95\": null}, {\"time\": \"2015-05-24T00:00:00\", \"y\": 0, \"fcst\": null, \"fcst_lower_05\": null, \"fcst_lower_25\": null, \"fcst_upper_75\": null, \"fcst_upper_95\": null}, {\"time\": \"2015-05-25T00:00:00\", \"y\": 0, \"fcst\": null, \"fcst_lower_05\": null, \"fcst_lower_25\": null, \"fcst_upper_75\": null, \"fcst_upper_95\": null}, {\"time\": \"2015-05-26T00:00:00\", \"y\": 0, \"fcst\": null, \"fcst_lower_05\": null, \"fcst_lower_25\": null, \"fcst_upper_75\": null, \"fcst_upper_95\": null}, {\"time\": \"2015-05-27T00:00:00\", \"y\": 0, \"fcst\": null, \"fcst_lower_05\": null, \"fcst_lower_25\": null, \"fcst_upper_75\": null, \"fcst_upper_95\": null}, {\"time\": \"2015-05-28T00:00:00\", \"y\": 0, \"fcst\": null, \"fcst_lower_05\": null, \"fcst_lower_25\": null, \"fcst_upper_75\": null, \"fcst_upper_95\": null}, {\"time\": \"2015-05-29T00:00:00\", \"y\": 0, \"fcst\": null, \"fcst_lower_05\": null, \"fcst_lower_25\": null, \"fcst_upper_75\": null, \"fcst_upper_95\": null}, {\"time\": \"2015-05-30T00:00:00\", \"y\": 0, \"fcst\": null, \"fcst_lower_05\": null, \"fcst_lower_25\": null, \"fcst_upper_75\": null, \"fcst_upper_95\": null}, {\"time\": \"2015-05-31T00:00:00\", \"y\": 2, \"fcst\": null, \"fcst_lower_05\": null, \"fcst_lower_25\": null, \"fcst_upper_75\": null, \"fcst_upper_95\": null}, {\"time\": \"2015-06-01T00:00:00\", \"y\": 0, \"fcst\": null, \"fcst_lower_05\": null, \"fcst_lower_25\": null, \"fcst_upper_75\": null, \"fcst_upper_95\": null}, {\"time\": \"2015-06-02T00:00:00\", \"y\": 1, \"fcst\": null, \"fcst_lower_05\": null, \"fcst_lower_25\": null, \"fcst_upper_75\": null, \"fcst_upper_95\": null}, {\"time\": \"2015-06-03T00:00:00\", \"y\": 1, \"fcst\": null, \"fcst_lower_05\": null, \"fcst_lower_25\": null, \"fcst_upper_75\": null, \"fcst_upper_95\": null}, {\"time\": \"2015-06-04T00:00:00\", \"y\": 1, \"fcst\": null, \"fcst_lower_05\": null, \"fcst_lower_25\": null, \"fcst_upper_75\": null, \"fcst_upper_95\": null}, {\"time\": \"2015-06-05T00:00:00\", \"y\": 0, \"fcst\": null, \"fcst_lower_05\": null, \"fcst_lower_25\": null, \"fcst_upper_75\": null, \"fcst_upper_95\": null}, {\"time\": \"2015-06-06T00:00:00\", \"y\": 0, \"fcst\": null, \"fcst_lower_05\": null, \"fcst_lower_25\": null, \"fcst_upper_75\": null, \"fcst_upper_95\": null}, {\"time\": \"2015-06-07T00:00:00\", \"y\": 0, \"fcst\": null, \"fcst_lower_05\": null, \"fcst_lower_25\": null, \"fcst_upper_75\": null, \"fcst_upper_95\": null}, {\"time\": \"2015-06-08T00:00:00\", \"y\": 2, \"fcst\": null, \"fcst_lower_05\": null, \"fcst_lower_25\": null, \"fcst_upper_75\": null, \"fcst_upper_95\": null}, {\"time\": \"2015-06-09T00:00:00\", \"y\": 2, \"fcst\": null, \"fcst_lower_05\": null, \"fcst_lower_25\": null, \"fcst_upper_75\": null, \"fcst_upper_95\": null}, {\"time\": \"2015-06-10T00:00:00\", \"y\": 1, \"fcst\": null, \"fcst_lower_05\": null, \"fcst_lower_25\": null, \"fcst_upper_75\": null, \"fcst_upper_95\": null}, {\"time\": \"2015-06-11T00:00:00\", \"y\": 1, \"fcst\": null, \"fcst_lower_05\": null, \"fcst_lower_25\": null, \"fcst_upper_75\": null, \"fcst_upper_95\": null}, {\"time\": \"2015-06-12T00:00:00\", \"y\": 0, \"fcst\": null, \"fcst_lower_05\": null, \"fcst_lower_25\": null, \"fcst_upper_75\": null, \"fcst_upper_95\": null}, {\"time\": \"2015-06-13T00:00:00\", \"y\": 4, \"fcst\": null, \"fcst_lower_05\": null, \"fcst_lower_25\": null, \"fcst_upper_75\": null, \"fcst_upper_95\": null}, {\"time\": \"2015-06-14T00:00:00\", \"y\": 0, \"fcst\": null, \"fcst_lower_05\": null, \"fcst_lower_25\": null, \"fcst_upper_75\": null, \"fcst_upper_95\": null}, {\"time\": \"2015-06-15T00:00:00\", \"y\": 0, \"fcst\": null, \"fcst_lower_05\": null, \"fcst_lower_25\": null, \"fcst_upper_75\": null, \"fcst_upper_95\": null}, {\"time\": \"2015-06-16T00:00:00\", \"y\": 0, \"fcst\": null, \"fcst_lower_05\": null, \"fcst_lower_25\": null, \"fcst_upper_75\": null, \"fcst_upper_95\": null}, {\"time\": \"2015-06-17T00:00:00\", \"y\": 0, \"fcst\": null, \"fcst_lower_05\": null, \"fcst_lower_25\": null, \"fcst_upper_75\": null, \"fcst_upper_95\": null}, {\"time\": \"2015-06-18T00:00:00\", \"y\": 0, \"fcst\": null, \"fcst_lower_05\": null, \"fcst_lower_25\": null, \"fcst_upper_75\": null, \"fcst_upper_95\": null}, {\"time\": \"2015-06-19T00:00:00\", \"y\": 0, \"fcst\": null, \"fcst_lower_05\": null, \"fcst_lower_25\": null, \"fcst_upper_75\": null, \"fcst_upper_95\": null}, {\"time\": \"2015-06-20T00:00:00\", \"y\": 1, \"fcst\": null, \"fcst_lower_05\": null, \"fcst_lower_25\": null, \"fcst_upper_75\": null, \"fcst_upper_95\": null}, {\"time\": \"2015-06-21T00:00:00\", \"y\": 0, \"fcst\": null, \"fcst_lower_05\": null, \"fcst_lower_25\": null, \"fcst_upper_75\": null, \"fcst_upper_95\": null}, {\"time\": \"2015-06-22T00:00:00\", \"y\": 2, \"fcst\": null, \"fcst_lower_05\": null, \"fcst_lower_25\": null, \"fcst_upper_75\": null, \"fcst_upper_95\": null}, {\"time\": \"2015-06-23T00:00:00\", \"y\": 0, \"fcst\": null, \"fcst_lower_05\": null, \"fcst_lower_25\": null, \"fcst_upper_75\": null, \"fcst_upper_95\": null}, {\"time\": \"2015-06-24T00:00:00\", \"y\": 0, \"fcst\": null, \"fcst_lower_05\": null, \"fcst_lower_25\": null, \"fcst_upper_75\": null, \"fcst_upper_95\": null}, {\"time\": \"2015-06-25T00:00:00\", \"y\": 1, \"fcst\": null, \"fcst_lower_05\": null, \"fcst_lower_25\": null, \"fcst_upper_75\": null, \"fcst_upper_95\": null}, {\"time\": \"2015-06-26T00:00:00\", \"y\": 2, \"fcst\": null, \"fcst_lower_05\": null, \"fcst_lower_25\": null, \"fcst_upper_75\": null, \"fcst_upper_95\": null}, {\"time\": \"2015-06-27T00:00:00\", \"y\": 0, \"fcst\": null, \"fcst_lower_05\": null, \"fcst_lower_25\": null, \"fcst_upper_75\": null, \"fcst_upper_95\": null}, {\"time\": \"2015-06-28T00:00:00\", \"y\": 0, \"fcst\": null, \"fcst_lower_05\": null, \"fcst_lower_25\": null, \"fcst_upper_75\": null, \"fcst_upper_95\": null}, {\"time\": \"2015-06-29T00:00:00\", \"y\": 1, \"fcst\": null, \"fcst_lower_05\": null, \"fcst_lower_25\": null, \"fcst_upper_75\": null, \"fcst_upper_95\": null}, {\"time\": \"2015-06-30T00:00:00\", \"y\": 0, \"fcst\": null, \"fcst_lower_05\": null, \"fcst_lower_25\": null, \"fcst_upper_75\": null, \"fcst_upper_95\": null}, {\"time\": \"2015-07-01T00:00:00\", \"y\": 1, \"fcst\": null, \"fcst_lower_05\": null, \"fcst_lower_25\": null, \"fcst_upper_75\": null, \"fcst_upper_95\": null}, {\"time\": \"2015-07-02T00:00:00\", \"y\": 1, \"fcst\": null, \"fcst_lower_05\": null, \"fcst_lower_25\": null, \"fcst_upper_75\": null, \"fcst_upper_95\": null}, {\"time\": \"2015-07-03T00:00:00\", \"y\": 0, \"fcst\": null, \"fcst_lower_05\": null, \"fcst_lower_25\": null, \"fcst_upper_75\": null, \"fcst_upper_95\": null}, {\"time\": \"2015-07-04T00:00:00\", \"y\": 1, \"fcst\": null, \"fcst_lower_05\": null, \"fcst_lower_25\": null, \"fcst_upper_75\": null, \"fcst_upper_95\": null}, {\"time\": \"2015-07-05T00:00:00\", \"y\": 0, \"fcst\": null, \"fcst_lower_05\": null, \"fcst_lower_25\": null, \"fcst_upper_75\": null, \"fcst_upper_95\": null}, {\"time\": \"2015-07-06T00:00:00\", \"y\": 1, \"fcst\": null, \"fcst_lower_05\": null, \"fcst_lower_25\": null, \"fcst_upper_75\": null, \"fcst_upper_95\": null}, {\"time\": \"2015-07-07T00:00:00\", \"y\": 1, \"fcst\": null, \"fcst_lower_05\": null, \"fcst_lower_25\": null, \"fcst_upper_75\": null, \"fcst_upper_95\": null}, {\"time\": \"2015-07-08T00:00:00\", \"y\": 0, \"fcst\": null, \"fcst_lower_05\": null, \"fcst_lower_25\": null, \"fcst_upper_75\": null, \"fcst_upper_95\": null}, {\"time\": \"2015-07-09T00:00:00\", \"y\": 2, \"fcst\": null, \"fcst_lower_05\": null, \"fcst_lower_25\": null, \"fcst_upper_75\": null, \"fcst_upper_95\": null}, {\"time\": \"2015-07-10T00:00:00\", \"y\": 1, \"fcst\": null, \"fcst_lower_05\": null, \"fcst_lower_25\": null, \"fcst_upper_75\": null, \"fcst_upper_95\": null}, {\"time\": \"2015-07-11T00:00:00\", \"y\": 4, \"fcst\": null, \"fcst_lower_05\": null, \"fcst_lower_25\": null, \"fcst_upper_75\": null, \"fcst_upper_95\": null}, {\"time\": \"2015-07-12T00:00:00\", \"y\": 2, \"fcst\": null, \"fcst_lower_05\": null, \"fcst_lower_25\": null, \"fcst_upper_75\": null, \"fcst_upper_95\": null}, {\"time\": \"2015-07-13T00:00:00\", \"y\": 1, \"fcst\": null, \"fcst_lower_05\": null, \"fcst_lower_25\": null, \"fcst_upper_75\": null, \"fcst_upper_95\": null}, {\"time\": \"2015-07-14T00:00:00\", \"y\": 2, \"fcst\": null, \"fcst_lower_05\": null, \"fcst_lower_25\": null, \"fcst_upper_75\": null, \"fcst_upper_95\": null}, {\"time\": \"2015-07-15T00:00:00\", \"y\": 1, \"fcst\": null, \"fcst_lower_05\": null, \"fcst_lower_25\": null, \"fcst_upper_75\": null, \"fcst_upper_95\": null}, {\"time\": \"2015-07-16T00:00:00\", \"y\": 1, \"fcst\": null, \"fcst_lower_05\": null, \"fcst_lower_25\": null, \"fcst_upper_75\": null, \"fcst_upper_95\": null}, {\"time\": \"2015-07-17T00:00:00\", \"y\": 1, \"fcst\": null, \"fcst_lower_05\": null, \"fcst_lower_25\": null, \"fcst_upper_75\": null, \"fcst_upper_95\": null}, {\"time\": \"2015-07-18T00:00:00\", \"y\": 5, \"fcst\": null, \"fcst_lower_05\": null, \"fcst_lower_25\": null, \"fcst_upper_75\": null, \"fcst_upper_95\": null}, {\"time\": \"2015-07-19T00:00:00\", \"y\": 0, \"fcst\": null, \"fcst_lower_05\": null, \"fcst_lower_25\": null, \"fcst_upper_75\": null, \"fcst_upper_95\": null}, {\"time\": \"2015-07-20T00:00:00\", \"y\": 0, \"fcst\": null, \"fcst_lower_05\": null, \"fcst_lower_25\": null, \"fcst_upper_75\": null, \"fcst_upper_95\": null}, {\"time\": \"2015-07-21T00:00:00\", \"y\": 2, \"fcst\": null, \"fcst_lower_05\": null, \"fcst_lower_25\": null, \"fcst_upper_75\": null, \"fcst_upper_95\": null}, {\"time\": \"2015-07-22T00:00:00\", \"y\": 2, \"fcst\": null, \"fcst_lower_05\": null, \"fcst_lower_25\": null, \"fcst_upper_75\": null, \"fcst_upper_95\": null}, {\"time\": \"2015-07-23T00:00:00\", \"y\": 1, \"fcst\": null, \"fcst_lower_05\": null, \"fcst_lower_25\": null, \"fcst_upper_75\": null, \"fcst_upper_95\": null}, {\"time\": \"2015-07-24T00:00:00\", \"y\": 1, \"fcst\": null, \"fcst_lower_05\": null, \"fcst_lower_25\": null, \"fcst_upper_75\": null, \"fcst_upper_95\": null}, {\"time\": \"2015-07-25T00:00:00\", \"y\": 0, \"fcst\": null, \"fcst_lower_05\": null, \"fcst_lower_25\": null, \"fcst_upper_75\": null, \"fcst_upper_95\": null}, {\"time\": \"2015-07-26T00:00:00\", \"y\": 4, \"fcst\": null, \"fcst_lower_05\": null, \"fcst_lower_25\": null, \"fcst_upper_75\": null, \"fcst_upper_95\": null}, {\"time\": \"2015-07-27T00:00:00\", \"y\": 0, \"fcst\": null, \"fcst_lower_05\": null, \"fcst_lower_25\": null, \"fcst_upper_75\": null, \"fcst_upper_95\": null}, {\"time\": \"2015-07-28T00:00:00\", \"y\": 1, \"fcst\": null, \"fcst_lower_05\": null, \"fcst_lower_25\": null, \"fcst_upper_75\": null, \"fcst_upper_95\": null}, {\"time\": \"2015-07-29T00:00:00\", \"y\": 0, \"fcst\": null, \"fcst_lower_05\": null, \"fcst_lower_25\": null, \"fcst_upper_75\": null, \"fcst_upper_95\": null}, {\"time\": \"2015-07-30T00:00:00\", \"y\": 0, \"fcst\": null, \"fcst_lower_05\": null, \"fcst_lower_25\": null, \"fcst_upper_75\": null, \"fcst_upper_95\": null}, {\"time\": \"2015-07-31T00:00:00\", \"y\": 1, \"fcst\": null, \"fcst_lower_05\": null, \"fcst_lower_25\": null, \"fcst_upper_75\": null, \"fcst_upper_95\": null}, {\"time\": \"2015-08-01T00:00:00\", \"y\": 1, \"fcst\": null, \"fcst_lower_05\": null, \"fcst_lower_25\": null, \"fcst_upper_75\": null, \"fcst_upper_95\": null}, {\"time\": \"2015-08-02T00:00:00\", \"y\": 1, \"fcst\": null, \"fcst_lower_05\": null, \"fcst_lower_25\": null, \"fcst_upper_75\": null, \"fcst_upper_95\": null}, {\"time\": \"2015-08-03T00:00:00\", \"y\": 0, \"fcst\": null, \"fcst_lower_05\": null, \"fcst_lower_25\": null, \"fcst_upper_75\": null, \"fcst_upper_95\": null}, {\"time\": \"2015-08-04T00:00:00\", \"y\": 1, \"fcst\": null, \"fcst_lower_05\": null, \"fcst_lower_25\": null, \"fcst_upper_75\": null, \"fcst_upper_95\": null}, {\"time\": \"2015-08-05T00:00:00\", \"y\": 0, \"fcst\": null, \"fcst_lower_05\": null, \"fcst_lower_25\": null, \"fcst_upper_75\": null, \"fcst_upper_95\": null}, {\"time\": \"2015-08-06T00:00:00\", \"y\": 1, \"fcst\": null, \"fcst_lower_05\": null, \"fcst_lower_25\": null, \"fcst_upper_75\": null, \"fcst_upper_95\": null}, {\"time\": \"2015-08-07T00:00:00\", \"y\": 1, \"fcst\": null, \"fcst_lower_05\": null, \"fcst_lower_25\": null, \"fcst_upper_75\": null, \"fcst_upper_95\": null}, {\"time\": \"2015-08-08T00:00:00\", \"y\": 5, \"fcst\": null, \"fcst_lower_05\": null, \"fcst_lower_25\": null, \"fcst_upper_75\": null, \"fcst_upper_95\": null}, {\"time\": \"2015-08-09T00:00:00\", \"y\": 2, \"fcst\": null, \"fcst_lower_05\": null, \"fcst_lower_25\": null, \"fcst_upper_75\": null, \"fcst_upper_95\": null}, {\"time\": \"2015-08-10T00:00:00\", \"y\": 0, \"fcst\": null, \"fcst_lower_05\": null, \"fcst_lower_25\": null, \"fcst_upper_75\": null, \"fcst_upper_95\": null}, {\"time\": \"2015-08-11T00:00:00\", \"y\": 1, \"fcst\": null, \"fcst_lower_05\": null, \"fcst_lower_25\": null, \"fcst_upper_75\": null, \"fcst_upper_95\": null}, {\"time\": \"2015-08-12T00:00:00\", \"y\": 0, \"fcst\": null, \"fcst_lower_05\": null, \"fcst_lower_25\": null, \"fcst_upper_75\": null, \"fcst_upper_95\": null}, {\"time\": \"2015-08-13T00:00:00\", \"y\": 0, \"fcst\": null, \"fcst_lower_05\": null, \"fcst_lower_25\": null, \"fcst_upper_75\": null, \"fcst_upper_95\": null}, {\"time\": \"2015-08-14T00:00:00\", \"y\": 0, \"fcst\": null, \"fcst_lower_05\": null, \"fcst_lower_25\": null, \"fcst_upper_75\": null, \"fcst_upper_95\": null}, {\"time\": \"2015-08-15T00:00:00\", \"y\": 2, \"fcst\": null, \"fcst_lower_05\": null, \"fcst_lower_25\": null, \"fcst_upper_75\": null, \"fcst_upper_95\": null}, {\"time\": \"2015-08-16T00:00:00\", \"y\": 0, \"fcst\": null, \"fcst_lower_05\": null, \"fcst_lower_25\": null, \"fcst_upper_75\": null, \"fcst_upper_95\": null}, {\"time\": \"2015-08-17T00:00:00\", \"y\": 0, \"fcst\": null, \"fcst_lower_05\": null, \"fcst_lower_25\": null, \"fcst_upper_75\": null, \"fcst_upper_95\": null}, {\"time\": \"2015-08-18T00:00:00\", \"y\": 0, \"fcst\": null, \"fcst_lower_05\": null, \"fcst_lower_25\": null, \"fcst_upper_75\": null, \"fcst_upper_95\": null}, {\"time\": \"2015-08-19T00:00:00\", \"y\": 2, \"fcst\": null, \"fcst_lower_05\": null, \"fcst_lower_25\": null, \"fcst_upper_75\": null, \"fcst_upper_95\": null}, {\"time\": \"2015-08-20T00:00:00\", \"y\": 1, \"fcst\": null, \"fcst_lower_05\": null, \"fcst_lower_25\": null, \"fcst_upper_75\": null, \"fcst_upper_95\": null}, {\"time\": \"2015-08-21T00:00:00\", \"y\": 0, \"fcst\": null, \"fcst_lower_05\": null, \"fcst_lower_25\": null, \"fcst_upper_75\": null, \"fcst_upper_95\": null}, {\"time\": \"2015-08-22T00:00:00\", \"y\": 4, \"fcst\": null, \"fcst_lower_05\": null, \"fcst_lower_25\": null, \"fcst_upper_75\": null, \"fcst_upper_95\": null}, {\"time\": \"2015-08-23T00:00:00\", \"y\": 0, \"fcst\": null, \"fcst_lower_05\": null, \"fcst_lower_25\": null, \"fcst_upper_75\": null, \"fcst_upper_95\": null}, {\"time\": \"2015-08-24T00:00:00\", \"y\": 0, \"fcst\": null, \"fcst_lower_05\": null, \"fcst_lower_25\": null, \"fcst_upper_75\": null, \"fcst_upper_95\": null}, {\"time\": \"2015-08-25T00:00:00\", \"y\": 0, \"fcst\": null, \"fcst_lower_05\": null, \"fcst_lower_25\": null, \"fcst_upper_75\": null, \"fcst_upper_95\": null}, {\"time\": \"2015-08-26T00:00:00\", \"y\": 1, \"fcst\": null, \"fcst_lower_05\": null, \"fcst_lower_25\": null, \"fcst_upper_75\": null, \"fcst_upper_95\": null}, {\"time\": \"2015-08-27T00:00:00\", \"y\": 3, \"fcst\": null, \"fcst_lower_05\": null, \"fcst_lower_25\": null, \"fcst_upper_75\": null, \"fcst_upper_95\": null}, {\"time\": \"2015-08-28T00:00:00\", \"y\": 1, \"fcst\": null, \"fcst_lower_05\": null, \"fcst_lower_25\": null, \"fcst_upper_75\": null, \"fcst_upper_95\": null}, {\"time\": \"2015-08-29T00:00:00\", \"y\": 0, \"fcst\": null, \"fcst_lower_05\": null, \"fcst_lower_25\": null, \"fcst_upper_75\": null, \"fcst_upper_95\": null}, {\"time\": \"2015-08-30T00:00:00\", \"y\": 1, \"fcst\": null, \"fcst_lower_05\": null, \"fcst_lower_25\": null, \"fcst_upper_75\": null, \"fcst_upper_95\": null}, {\"time\": \"2015-08-31T00:00:00\", \"y\": 0, \"fcst\": null, \"fcst_lower_05\": null, \"fcst_lower_25\": null, \"fcst_upper_75\": null, \"fcst_upper_95\": null}, {\"time\": \"2015-09-01T00:00:00\", \"y\": 0, \"fcst\": null, \"fcst_lower_05\": null, \"fcst_lower_25\": null, \"fcst_upper_75\": null, \"fcst_upper_95\": null}, {\"time\": \"2015-09-02T00:00:00\", \"y\": 0, \"fcst\": null, \"fcst_lower_05\": null, \"fcst_lower_25\": null, \"fcst_upper_75\": null, \"fcst_upper_95\": null}, {\"time\": \"2015-09-03T00:00:00\", \"y\": 0, \"fcst\": null, \"fcst_lower_05\": null, \"fcst_lower_25\": null, \"fcst_upper_75\": null, \"fcst_upper_95\": null}, {\"time\": \"2015-09-04T00:00:00\", \"y\": 0, \"fcst\": null, \"fcst_lower_05\": null, \"fcst_lower_25\": null, \"fcst_upper_75\": null, \"fcst_upper_95\": null}, {\"time\": \"2015-09-05T00:00:00\", \"y\": 0, \"fcst\": null, \"fcst_lower_05\": null, \"fcst_lower_25\": null, \"fcst_upper_75\": null, \"fcst_upper_95\": null}, {\"time\": \"2015-09-06T00:00:00\", \"y\": 3, \"fcst\": null, \"fcst_lower_05\": null, \"fcst_lower_25\": null, \"fcst_upper_75\": null, \"fcst_upper_95\": null}, {\"time\": \"2015-09-07T00:00:00\", \"y\": 2, \"fcst\": null, \"fcst_lower_05\": null, \"fcst_lower_25\": null, \"fcst_upper_75\": null, \"fcst_upper_95\": null}, {\"time\": \"2015-09-08T00:00:00\", \"y\": 2, \"fcst\": null, \"fcst_lower_05\": null, \"fcst_lower_25\": null, \"fcst_upper_75\": null, \"fcst_upper_95\": null}, {\"time\": \"2015-09-09T00:00:00\", \"y\": 0, \"fcst\": null, \"fcst_lower_05\": null, \"fcst_lower_25\": null, \"fcst_upper_75\": null, \"fcst_upper_95\": null}, {\"time\": \"2015-09-10T00:00:00\", \"y\": 1, \"fcst\": null, \"fcst_lower_05\": null, \"fcst_lower_25\": null, \"fcst_upper_75\": null, \"fcst_upper_95\": null}, {\"time\": \"2015-09-11T00:00:00\", \"y\": 3, \"fcst\": null, \"fcst_lower_05\": null, \"fcst_lower_25\": null, \"fcst_upper_75\": null, \"fcst_upper_95\": null}, {\"time\": \"2015-09-12T00:00:00\", \"y\": 0, \"fcst\": null, \"fcst_lower_05\": null, \"fcst_lower_25\": null, \"fcst_upper_75\": null, \"fcst_upper_95\": null}, {\"time\": \"2015-09-13T00:00:00\", \"y\": 1, \"fcst\": null, \"fcst_lower_05\": null, \"fcst_lower_25\": null, \"fcst_upper_75\": null, \"fcst_upper_95\": null}, {\"time\": \"2015-09-14T00:00:00\", \"y\": 1, \"fcst\": null, \"fcst_lower_05\": null, \"fcst_lower_25\": null, \"fcst_upper_75\": null, \"fcst_upper_95\": null}, {\"time\": \"2015-09-15T00:00:00\", \"y\": 0, \"fcst\": null, \"fcst_lower_05\": null, \"fcst_lower_25\": null, \"fcst_upper_75\": null, \"fcst_upper_95\": null}, {\"time\": \"2015-09-16T00:00:00\", \"y\": 3, \"fcst\": null, \"fcst_lower_05\": null, \"fcst_lower_25\": null, \"fcst_upper_75\": null, \"fcst_upper_95\": null}, {\"time\": \"2015-09-17T00:00:00\", \"y\": 0, \"fcst\": null, \"fcst_lower_05\": null, \"fcst_lower_25\": null, \"fcst_upper_75\": null, \"fcst_upper_95\": null}, {\"time\": \"2015-09-18T00:00:00\", \"y\": 0, \"fcst\": null, \"fcst_lower_05\": null, \"fcst_lower_25\": null, \"fcst_upper_75\": null, \"fcst_upper_95\": null}, {\"time\": \"2015-09-19T00:00:00\", \"y\": 2, \"fcst\": null, \"fcst_lower_05\": null, \"fcst_lower_25\": null, \"fcst_upper_75\": null, \"fcst_upper_95\": null}, {\"time\": \"2015-09-20T00:00:00\", \"y\": 3, \"fcst\": null, \"fcst_lower_05\": null, \"fcst_lower_25\": null, \"fcst_upper_75\": null, \"fcst_upper_95\": null}, {\"time\": \"2015-09-21T00:00:00\", \"y\": 0, \"fcst\": null, \"fcst_lower_05\": null, \"fcst_lower_25\": null, \"fcst_upper_75\": null, \"fcst_upper_95\": null}, {\"time\": \"2015-09-22T00:00:00\", \"y\": 0, \"fcst\": null, \"fcst_lower_05\": null, \"fcst_lower_25\": null, \"fcst_upper_75\": null, \"fcst_upper_95\": null}, {\"time\": \"2015-09-23T00:00:00\", \"y\": 0, \"fcst\": null, \"fcst_lower_05\": null, \"fcst_lower_25\": null, \"fcst_upper_75\": null, \"fcst_upper_95\": null}, {\"time\": \"2015-09-24T00:00:00\", \"y\": 0, \"fcst\": null, \"fcst_lower_05\": null, \"fcst_lower_25\": null, \"fcst_upper_75\": null, \"fcst_upper_95\": null}, {\"time\": \"2015-09-25T00:00:00\", \"y\": 0, \"fcst\": null, \"fcst_lower_05\": null, \"fcst_lower_25\": null, \"fcst_upper_75\": null, \"fcst_upper_95\": null}, {\"time\": \"2015-09-26T00:00:00\", \"y\": 1, \"fcst\": null, \"fcst_lower_05\": null, \"fcst_lower_25\": null, \"fcst_upper_75\": null, \"fcst_upper_95\": null}, {\"time\": \"2015-09-27T00:00:00\", \"y\": 2, \"fcst\": null, \"fcst_lower_05\": null, \"fcst_lower_25\": null, \"fcst_upper_75\": null, \"fcst_upper_95\": null}, {\"time\": \"2015-09-28T00:00:00\", \"y\": 0, \"fcst\": null, \"fcst_lower_05\": null, \"fcst_lower_25\": null, \"fcst_upper_75\": null, \"fcst_upper_95\": null}, {\"time\": \"2015-09-29T00:00:00\", \"y\": 0, \"fcst\": null, \"fcst_lower_05\": null, \"fcst_lower_25\": null, \"fcst_upper_75\": null, \"fcst_upper_95\": null}, {\"time\": \"2015-09-30T00:00:00\", \"y\": 0, \"fcst\": null, \"fcst_lower_05\": null, \"fcst_lower_25\": null, \"fcst_upper_75\": null, \"fcst_upper_95\": null}, {\"time\": \"2015-10-01T00:00:00\", \"y\": 0, \"fcst\": null, \"fcst_lower_05\": null, \"fcst_lower_25\": null, \"fcst_upper_75\": null, \"fcst_upper_95\": null}, {\"time\": \"2015-10-02T00:00:00\", \"y\": 0, \"fcst\": null, \"fcst_lower_05\": null, \"fcst_lower_25\": null, \"fcst_upper_75\": null, \"fcst_upper_95\": null}, {\"time\": \"2015-10-03T00:00:00\", \"y\": 0, \"fcst\": null, \"fcst_lower_05\": null, \"fcst_lower_25\": null, \"fcst_upper_75\": null, \"fcst_upper_95\": null}, {\"time\": \"2015-10-04T00:00:00\", \"y\": 1, \"fcst\": null, \"fcst_lower_05\": null, \"fcst_lower_25\": null, \"fcst_upper_75\": null, \"fcst_upper_95\": null}, {\"time\": \"2015-10-05T00:00:00\", \"y\": 2, \"fcst\": null, \"fcst_lower_05\": null, \"fcst_lower_25\": null, \"fcst_upper_75\": null, \"fcst_upper_95\": null}, {\"time\": \"2015-10-06T00:00:00\", \"y\": 1, \"fcst\": null, \"fcst_lower_05\": null, \"fcst_lower_25\": null, \"fcst_upper_75\": null, \"fcst_upper_95\": null}, {\"time\": \"2015-10-07T00:00:00\", \"y\": 0, \"fcst\": null, \"fcst_lower_05\": null, \"fcst_lower_25\": null, \"fcst_upper_75\": null, \"fcst_upper_95\": null}, {\"time\": \"2015-10-08T00:00:00\", \"y\": 1, \"fcst\": null, \"fcst_lower_05\": null, \"fcst_lower_25\": null, \"fcst_upper_75\": null, \"fcst_upper_95\": null}, {\"time\": \"2015-10-09T00:00:00\", \"y\": 0, \"fcst\": null, \"fcst_lower_05\": null, \"fcst_lower_25\": null, \"fcst_upper_75\": null, \"fcst_upper_95\": null}, {\"time\": \"2015-10-10T00:00:00\", \"y\": 1, \"fcst\": null, \"fcst_lower_05\": null, \"fcst_lower_25\": null, \"fcst_upper_75\": null, \"fcst_upper_95\": null}, {\"time\": \"2015-10-11T00:00:00\", \"y\": 1, \"fcst\": null, \"fcst_lower_05\": null, \"fcst_lower_25\": null, \"fcst_upper_75\": null, \"fcst_upper_95\": null}, {\"time\": \"2015-10-12T00:00:00\", \"y\": 2, \"fcst\": null, \"fcst_lower_05\": null, \"fcst_lower_25\": null, \"fcst_upper_75\": null, \"fcst_upper_95\": null}, {\"time\": \"2015-10-13T00:00:00\", \"y\": 0, \"fcst\": null, \"fcst_lower_05\": null, \"fcst_lower_25\": null, \"fcst_upper_75\": null, \"fcst_upper_95\": null}, {\"time\": \"2015-10-14T00:00:00\", \"y\": 0, \"fcst\": null, \"fcst_lower_05\": null, \"fcst_lower_25\": null, \"fcst_upper_75\": null, \"fcst_upper_95\": null}, {\"time\": \"2015-10-15T00:00:00\", \"y\": 0, \"fcst\": null, \"fcst_lower_05\": null, \"fcst_lower_25\": null, \"fcst_upper_75\": null, \"fcst_upper_95\": null}, {\"time\": \"2015-10-16T00:00:00\", \"y\": 0, \"fcst\": null, \"fcst_lower_05\": null, \"fcst_lower_25\": null, \"fcst_upper_75\": null, \"fcst_upper_95\": null}, {\"time\": \"2015-10-17T00:00:00\", \"y\": 0, \"fcst\": null, \"fcst_lower_05\": null, \"fcst_lower_25\": null, \"fcst_upper_75\": null, \"fcst_upper_95\": null}, {\"time\": \"2015-10-18T00:00:00\", \"y\": 2, \"fcst\": null, \"fcst_lower_05\": null, \"fcst_lower_25\": null, \"fcst_upper_75\": null, \"fcst_upper_95\": null}, {\"time\": \"2015-10-19T00:00:00\", \"y\": 0, \"fcst\": null, \"fcst_lower_05\": null, \"fcst_lower_25\": null, \"fcst_upper_75\": null, \"fcst_upper_95\": null}, {\"time\": \"2015-10-20T00:00:00\", \"y\": 3, \"fcst\": null, \"fcst_lower_05\": null, \"fcst_lower_25\": null, \"fcst_upper_75\": null, \"fcst_upper_95\": null}, {\"time\": \"2015-10-21T00:00:00\", \"y\": 1, \"fcst\": null, \"fcst_lower_05\": null, \"fcst_lower_25\": null, \"fcst_upper_75\": null, \"fcst_upper_95\": null}, {\"time\": \"2015-10-22T00:00:00\", \"y\": 0, \"fcst\": null, \"fcst_lower_05\": null, \"fcst_lower_25\": null, \"fcst_upper_75\": null, \"fcst_upper_95\": null}, {\"time\": \"2015-10-23T00:00:00\", \"y\": 1, \"fcst\": null, \"fcst_lower_05\": null, \"fcst_lower_25\": null, \"fcst_upper_75\": null, \"fcst_upper_95\": null}, {\"time\": \"2015-10-24T00:00:00\", \"y\": 1, \"fcst\": null, \"fcst_lower_05\": null, \"fcst_lower_25\": null, \"fcst_upper_75\": null, \"fcst_upper_95\": null}, {\"time\": \"2015-10-25T00:00:00\", \"y\": 0, \"fcst\": null, \"fcst_lower_05\": null, \"fcst_lower_25\": null, \"fcst_upper_75\": null, \"fcst_upper_95\": null}, {\"time\": \"2015-10-26T00:00:00\", \"y\": 1, \"fcst\": null, \"fcst_lower_05\": null, \"fcst_lower_25\": null, \"fcst_upper_75\": null, \"fcst_upper_95\": null}, {\"time\": \"2015-10-27T00:00:00\", \"y\": 1, \"fcst\": null, \"fcst_lower_05\": null, \"fcst_lower_25\": null, \"fcst_upper_75\": null, \"fcst_upper_95\": null}, {\"time\": \"2015-10-28T00:00:00\", \"y\": 1, \"fcst\": null, \"fcst_lower_05\": null, \"fcst_lower_25\": null, \"fcst_upper_75\": null, \"fcst_upper_95\": null}, {\"time\": \"2015-10-29T00:00:00\", \"y\": 0, \"fcst\": null, \"fcst_lower_05\": null, \"fcst_lower_25\": null, \"fcst_upper_75\": null, \"fcst_upper_95\": null}, {\"time\": \"2015-10-30T00:00:00\", \"y\": 0, \"fcst\": null, \"fcst_lower_05\": null, \"fcst_lower_25\": null, \"fcst_upper_75\": null, \"fcst_upper_95\": null}, {\"time\": \"2015-10-31T00:00:00\", \"y\": 1, \"fcst\": null, \"fcst_lower_05\": null, \"fcst_lower_25\": null, \"fcst_upper_75\": null, \"fcst_upper_95\": null}, {\"time\": \"2015-11-01T00:00:00\", \"y\": 2, \"fcst\": null, \"fcst_lower_05\": null, \"fcst_lower_25\": null, \"fcst_upper_75\": null, \"fcst_upper_95\": null}, {\"time\": \"2015-11-02T00:00:00\", \"y\": 0, \"fcst\": null, \"fcst_lower_05\": null, \"fcst_lower_25\": null, \"fcst_upper_75\": null, \"fcst_upper_95\": null}, {\"time\": \"2015-11-03T00:00:00\", \"y\": 0, \"fcst\": null, \"fcst_lower_05\": null, \"fcst_lower_25\": null, \"fcst_upper_75\": null, \"fcst_upper_95\": null}, {\"time\": \"2015-11-04T00:00:00\", \"y\": 1, \"fcst\": null, \"fcst_lower_05\": null, \"fcst_lower_25\": null, \"fcst_upper_75\": null, \"fcst_upper_95\": null}, {\"time\": \"2015-11-05T00:00:00\", \"y\": 0, \"fcst\": null, \"fcst_lower_05\": null, \"fcst_lower_25\": null, \"fcst_upper_75\": null, \"fcst_upper_95\": null}, {\"time\": \"2015-11-06T00:00:00\", \"y\": 0, \"fcst\": null, \"fcst_lower_05\": null, \"fcst_lower_25\": null, \"fcst_upper_75\": null, \"fcst_upper_95\": null}, {\"time\": \"2015-11-07T00:00:00\", \"y\": 2, \"fcst\": null, \"fcst_lower_05\": null, \"fcst_lower_25\": null, \"fcst_upper_75\": null, \"fcst_upper_95\": null}, {\"time\": \"2015-11-08T00:00:00\", \"y\": 1, \"fcst\": null, \"fcst_lower_05\": null, \"fcst_lower_25\": null, \"fcst_upper_75\": null, \"fcst_upper_95\": null}, {\"time\": \"2015-11-09T00:00:00\", \"y\": 2, \"fcst\": null, \"fcst_lower_05\": null, \"fcst_lower_25\": null, \"fcst_upper_75\": null, \"fcst_upper_95\": null}, {\"time\": \"2015-11-10T00:00:00\", \"y\": 0, \"fcst\": null, \"fcst_lower_05\": null, \"fcst_lower_25\": null, \"fcst_upper_75\": null, \"fcst_upper_95\": null}, {\"time\": \"2015-11-11T00:00:00\", \"y\": 0, \"fcst\": null, \"fcst_lower_05\": null, \"fcst_lower_25\": null, \"fcst_upper_75\": null, \"fcst_upper_95\": null}, {\"time\": \"2015-11-12T00:00:00\", \"y\": 0, \"fcst\": null, \"fcst_lower_05\": null, \"fcst_lower_25\": null, \"fcst_upper_75\": null, \"fcst_upper_95\": null}, {\"time\": \"2015-11-13T00:00:00\", \"y\": 0, \"fcst\": null, \"fcst_lower_05\": null, \"fcst_lower_25\": null, \"fcst_upper_75\": null, \"fcst_upper_95\": null}, {\"time\": \"2015-11-14T00:00:00\", \"y\": 1, \"fcst\": null, \"fcst_lower_05\": null, \"fcst_lower_25\": null, \"fcst_upper_75\": null, \"fcst_upper_95\": null}, {\"time\": \"2015-11-15T00:00:00\", \"y\": 1, \"fcst\": null, \"fcst_lower_05\": null, \"fcst_lower_25\": null, \"fcst_upper_75\": null, \"fcst_upper_95\": null}, {\"time\": \"2015-11-16T00:00:00\", \"y\": 1, \"fcst\": null, \"fcst_lower_05\": null, \"fcst_lower_25\": null, \"fcst_upper_75\": null, \"fcst_upper_95\": null}, {\"time\": \"2015-11-17T00:00:00\", \"y\": 1, \"fcst\": null, \"fcst_lower_05\": null, \"fcst_lower_25\": null, \"fcst_upper_75\": null, \"fcst_upper_95\": null}, {\"time\": \"2015-11-18T00:00:00\", \"y\": 0, \"fcst\": null, \"fcst_lower_05\": null, \"fcst_lower_25\": null, \"fcst_upper_75\": null, \"fcst_upper_95\": null}, {\"time\": \"2015-11-19T00:00:00\", \"y\": 0, \"fcst\": null, \"fcst_lower_05\": null, \"fcst_lower_25\": null, \"fcst_upper_75\": null, \"fcst_upper_95\": null}, {\"time\": \"2015-11-20T00:00:00\", \"y\": 0, \"fcst\": null, \"fcst_lower_05\": null, \"fcst_lower_25\": null, \"fcst_upper_75\": null, \"fcst_upper_95\": null}, {\"time\": \"2015-11-21T00:00:00\", \"y\": 0, \"fcst\": null, \"fcst_lower_05\": null, \"fcst_lower_25\": null, \"fcst_upper_75\": null, \"fcst_upper_95\": null}, {\"time\": \"2015-11-22T00:00:00\", \"y\": 2, \"fcst\": null, \"fcst_lower_05\": null, \"fcst_lower_25\": null, \"fcst_upper_75\": null, \"fcst_upper_95\": null}, {\"time\": \"2015-11-23T00:00:00\", \"y\": 2, \"fcst\": null, \"fcst_lower_05\": null, \"fcst_lower_25\": null, \"fcst_upper_75\": null, \"fcst_upper_95\": null}, {\"time\": \"2015-11-24T00:00:00\", \"y\": 0, \"fcst\": null, \"fcst_lower_05\": null, \"fcst_lower_25\": null, \"fcst_upper_75\": null, \"fcst_upper_95\": null}, {\"time\": \"2015-11-25T00:00:00\", \"y\": 0, \"fcst\": null, \"fcst_lower_05\": null, \"fcst_lower_25\": null, \"fcst_upper_75\": null, \"fcst_upper_95\": null}, {\"time\": \"2015-11-26T00:00:00\", \"y\": 1, \"fcst\": null, \"fcst_lower_05\": null, \"fcst_lower_25\": null, \"fcst_upper_75\": null, \"fcst_upper_95\": null}, {\"time\": \"2015-11-27T00:00:00\", \"y\": 0, \"fcst\": null, \"fcst_lower_05\": null, \"fcst_lower_25\": null, \"fcst_upper_75\": null, \"fcst_upper_95\": null}, {\"time\": \"2015-11-28T00:00:00\", \"y\": 2, \"fcst\": null, \"fcst_lower_05\": null, \"fcst_lower_25\": null, \"fcst_upper_75\": null, \"fcst_upper_95\": null}, {\"time\": \"2015-11-29T00:00:00\", \"y\": 0, \"fcst\": null, \"fcst_lower_05\": null, \"fcst_lower_25\": null, \"fcst_upper_75\": null, \"fcst_upper_95\": null}, {\"time\": \"2015-11-30T00:00:00\", \"y\": 0, \"fcst\": null, \"fcst_lower_05\": null, \"fcst_lower_25\": null, \"fcst_upper_75\": null, \"fcst_upper_95\": null}, {\"time\": \"2015-12-01T00:00:00\", \"y\": 0, \"fcst\": null, \"fcst_lower_05\": null, \"fcst_lower_25\": null, \"fcst_upper_75\": null, \"fcst_upper_95\": null}, {\"time\": \"2015-12-02T00:00:00\", \"y\": 0, \"fcst\": null, \"fcst_lower_05\": null, \"fcst_lower_25\": null, \"fcst_upper_75\": null, \"fcst_upper_95\": null}, {\"time\": \"2015-12-03T00:00:00\", \"y\": 0, \"fcst\": null, \"fcst_lower_05\": null, \"fcst_lower_25\": null, \"fcst_upper_75\": null, \"fcst_upper_95\": null}, {\"time\": \"2015-12-04T00:00:00\", \"y\": 0, \"fcst\": null, \"fcst_lower_05\": null, \"fcst_lower_25\": null, \"fcst_upper_75\": null, \"fcst_upper_95\": null}, {\"time\": \"2015-12-05T00:00:00\", \"y\": 0, \"fcst\": null, \"fcst_lower_05\": null, \"fcst_lower_25\": null, \"fcst_upper_75\": null, \"fcst_upper_95\": null}, {\"time\": \"2015-12-06T00:00:00\", \"y\": 0, \"fcst\": null, \"fcst_lower_05\": null, \"fcst_lower_25\": null, \"fcst_upper_75\": null, \"fcst_upper_95\": null}, {\"time\": \"2015-12-07T00:00:00\", \"y\": 0, \"fcst\": null, \"fcst_lower_05\": null, \"fcst_lower_25\": null, \"fcst_upper_75\": null, \"fcst_upper_95\": null}, {\"time\": \"2015-12-08T00:00:00\", \"y\": 0, \"fcst\": null, \"fcst_lower_05\": null, \"fcst_lower_25\": null, \"fcst_upper_75\": null, \"fcst_upper_95\": null}, {\"time\": \"2015-12-09T00:00:00\", \"y\": 0, \"fcst\": null, \"fcst_lower_05\": null, \"fcst_lower_25\": null, \"fcst_upper_75\": null, \"fcst_upper_95\": null}, {\"time\": \"2015-12-10T00:00:00\", \"y\": 0, \"fcst\": null, \"fcst_lower_05\": null, \"fcst_lower_25\": null, \"fcst_upper_75\": null, \"fcst_upper_95\": null}, {\"time\": \"2015-12-11T00:00:00\", \"y\": 2, \"fcst\": null, \"fcst_lower_05\": null, \"fcst_lower_25\": null, \"fcst_upper_75\": null, \"fcst_upper_95\": null}, {\"time\": \"2015-12-12T00:00:00\", \"y\": 1, \"fcst\": null, \"fcst_lower_05\": null, \"fcst_lower_25\": null, \"fcst_upper_75\": null, \"fcst_upper_95\": null}, {\"time\": \"2015-12-13T00:00:00\", \"y\": 0, \"fcst\": null, \"fcst_lower_05\": null, \"fcst_lower_25\": null, \"fcst_upper_75\": null, \"fcst_upper_95\": null}, {\"time\": \"2015-12-14T00:00:00\", \"y\": 1, \"fcst\": null, \"fcst_lower_05\": null, \"fcst_lower_25\": null, \"fcst_upper_75\": null, \"fcst_upper_95\": null}, {\"time\": \"2015-12-15T00:00:00\", \"y\": 0, \"fcst\": null, \"fcst_lower_05\": null, \"fcst_lower_25\": null, \"fcst_upper_75\": null, \"fcst_upper_95\": null}, {\"time\": \"2015-12-16T00:00:00\", \"y\": 0, \"fcst\": null, \"fcst_lower_05\": null, \"fcst_lower_25\": null, \"fcst_upper_75\": null, \"fcst_upper_95\": null}, {\"time\": \"2015-12-17T00:00:00\", \"y\": 1, \"fcst\": null, \"fcst_lower_05\": null, \"fcst_lower_25\": null, \"fcst_upper_75\": null, \"fcst_upper_95\": null}, {\"time\": \"2015-12-18T00:00:00\", \"y\": 0, \"fcst\": null, \"fcst_lower_05\": null, \"fcst_lower_25\": null, \"fcst_upper_75\": null, \"fcst_upper_95\": null}, {\"time\": \"2015-12-19T00:00:00\", \"y\": 1, \"fcst\": null, \"fcst_lower_05\": null, \"fcst_lower_25\": null, \"fcst_upper_75\": null, \"fcst_upper_95\": null}, {\"time\": \"2015-12-20T00:00:00\", \"y\": 0, \"fcst\": null, \"fcst_lower_05\": null, \"fcst_lower_25\": null, \"fcst_upper_75\": null, \"fcst_upper_95\": null}, {\"time\": \"2015-12-21T00:00:00\", \"y\": 1, \"fcst\": null, \"fcst_lower_05\": null, \"fcst_lower_25\": null, \"fcst_upper_75\": null, \"fcst_upper_95\": null}, {\"time\": \"2015-12-22T00:00:00\", \"y\": 1, \"fcst\": null, \"fcst_lower_05\": null, \"fcst_lower_25\": null, \"fcst_upper_75\": null, \"fcst_upper_95\": null}, {\"time\": \"2015-12-23T00:00:00\", \"y\": 0, \"fcst\": null, \"fcst_lower_05\": null, \"fcst_lower_25\": null, \"fcst_upper_75\": null, \"fcst_upper_95\": null}, {\"time\": \"2015-12-24T00:00:00\", \"y\": 0, \"fcst\": null, \"fcst_lower_05\": null, \"fcst_lower_25\": null, \"fcst_upper_75\": null, \"fcst_upper_95\": null}, {\"time\": \"2015-12-25T00:00:00\", \"y\": 0, \"fcst\": null, \"fcst_lower_05\": null, \"fcst_lower_25\": null, \"fcst_upper_75\": null, \"fcst_upper_95\": null}, {\"time\": \"2015-12-26T00:00:00\", \"y\": 0, \"fcst\": null, \"fcst_lower_05\": null, \"fcst_lower_25\": null, \"fcst_upper_75\": null, \"fcst_upper_95\": null}, {\"time\": \"2015-12-27T00:00:00\", \"y\": 0, \"fcst\": null, \"fcst_lower_05\": null, \"fcst_lower_25\": null, \"fcst_upper_75\": null, \"fcst_upper_95\": null}, {\"time\": \"2015-12-28T00:00:00\", \"y\": 0, \"fcst\": null, \"fcst_lower_05\": null, \"fcst_lower_25\": null, \"fcst_upper_75\": null, \"fcst_upper_95\": null}, {\"time\": \"2015-12-29T00:00:00\", \"y\": 0, \"fcst\": null, \"fcst_lower_05\": null, \"fcst_lower_25\": null, \"fcst_upper_75\": null, \"fcst_upper_95\": null}, {\"time\": \"2015-12-30T00:00:00\", \"y\": 0, \"fcst\": null, \"fcst_lower_05\": null, \"fcst_lower_25\": null, \"fcst_upper_75\": null, \"fcst_upper_95\": null}, {\"time\": \"2015-12-31T00:00:00\", \"y\": 0, \"fcst\": null, \"fcst_lower_05\": null, \"fcst_lower_25\": null, \"fcst_upper_75\": null, \"fcst_upper_95\": null}, {\"time\": \"2016-01-01T00:00:00\", \"y\": 0, \"fcst\": null, \"fcst_lower_05\": null, \"fcst_lower_25\": null, \"fcst_upper_75\": null, \"fcst_upper_95\": null}, {\"time\": \"2016-01-02T00:00:00\", \"y\": 1, \"fcst\": null, \"fcst_lower_05\": null, \"fcst_lower_25\": null, \"fcst_upper_75\": null, \"fcst_upper_95\": null}, {\"time\": \"2016-01-03T00:00:00\", \"y\": 0, \"fcst\": null, \"fcst_lower_05\": null, \"fcst_lower_25\": null, \"fcst_upper_75\": null, \"fcst_upper_95\": null}, {\"time\": \"2016-01-04T00:00:00\", \"y\": 2, \"fcst\": null, \"fcst_lower_05\": null, \"fcst_lower_25\": null, \"fcst_upper_75\": null, \"fcst_upper_95\": null}, {\"time\": \"2016-01-05T00:00:00\", \"y\": 0, \"fcst\": null, \"fcst_lower_05\": null, \"fcst_lower_25\": null, \"fcst_upper_75\": null, \"fcst_upper_95\": null}, {\"time\": \"2016-01-06T00:00:00\", \"y\": 0, \"fcst\": null, \"fcst_lower_05\": null, \"fcst_lower_25\": null, \"fcst_upper_75\": null, \"fcst_upper_95\": null}, {\"time\": \"2016-01-07T00:00:00\", \"y\": 0, \"fcst\": null, \"fcst_lower_05\": null, \"fcst_lower_25\": null, \"fcst_upper_75\": null, \"fcst_upper_95\": null}, {\"time\": \"2016-01-08T00:00:00\", \"y\": 2, \"fcst\": null, \"fcst_lower_05\": null, \"fcst_lower_25\": null, \"fcst_upper_75\": null, \"fcst_upper_95\": null}, {\"time\": \"2016-01-09T00:00:00\", \"y\": 0, \"fcst\": null, \"fcst_lower_05\": null, \"fcst_lower_25\": null, \"fcst_upper_75\": null, \"fcst_upper_95\": null}, {\"time\": \"2016-01-10T00:00:00\", \"y\": 2, \"fcst\": null, \"fcst_lower_05\": null, \"fcst_lower_25\": null, \"fcst_upper_75\": null, \"fcst_upper_95\": null}, {\"time\": \"2016-01-11T00:00:00\", \"y\": 0, \"fcst\": null, \"fcst_lower_05\": null, \"fcst_lower_25\": null, \"fcst_upper_75\": null, \"fcst_upper_95\": null}, {\"time\": \"2016-01-12T00:00:00\", \"y\": 1, \"fcst\": null, \"fcst_lower_05\": null, \"fcst_lower_25\": null, \"fcst_upper_75\": null, \"fcst_upper_95\": null}, {\"time\": \"2016-01-13T00:00:00\", \"y\": 0, \"fcst\": null, \"fcst_lower_05\": null, \"fcst_lower_25\": null, \"fcst_upper_75\": null, \"fcst_upper_95\": null}, {\"time\": \"2016-01-14T00:00:00\", \"y\": 0, \"fcst\": null, \"fcst_lower_05\": null, \"fcst_lower_25\": null, \"fcst_upper_75\": null, \"fcst_upper_95\": null}, {\"time\": \"2016-01-15T00:00:00\", \"y\": 1, \"fcst\": null, \"fcst_lower_05\": null, \"fcst_lower_25\": null, \"fcst_upper_75\": null, \"fcst_upper_95\": null}, {\"time\": \"2016-01-16T00:00:00\", \"y\": 1, \"fcst\": null, \"fcst_lower_05\": null, \"fcst_lower_25\": null, \"fcst_upper_75\": null, \"fcst_upper_95\": null}, {\"time\": \"2016-01-17T00:00:00\", \"y\": 2, \"fcst\": null, \"fcst_lower_05\": null, \"fcst_lower_25\": null, \"fcst_upper_75\": null, \"fcst_upper_95\": null}, {\"time\": \"2016-01-18T00:00:00\", \"y\": 0, \"fcst\": null, \"fcst_lower_05\": null, \"fcst_lower_25\": null, \"fcst_upper_75\": null, \"fcst_upper_95\": null}, {\"time\": \"2016-01-19T00:00:00\", \"y\": 0, \"fcst\": null, \"fcst_lower_05\": null, \"fcst_lower_25\": null, \"fcst_upper_75\": null, \"fcst_upper_95\": null}, {\"time\": \"2016-01-20T00:00:00\", \"y\": 0, \"fcst\": null, \"fcst_lower_05\": null, \"fcst_lower_25\": null, \"fcst_upper_75\": null, \"fcst_upper_95\": null}, {\"time\": \"2016-01-21T00:00:00\", \"y\": 1, \"fcst\": null, \"fcst_lower_05\": null, \"fcst_lower_25\": null, \"fcst_upper_75\": null, \"fcst_upper_95\": null}, {\"time\": \"2016-01-22T00:00:00\", \"y\": 0, \"fcst\": null, \"fcst_lower_05\": null, \"fcst_lower_25\": null, \"fcst_upper_75\": null, \"fcst_upper_95\": null}, {\"time\": \"2016-01-23T00:00:00\", \"y\": 0, \"fcst\": null, \"fcst_lower_05\": null, \"fcst_lower_25\": null, \"fcst_upper_75\": null, \"fcst_upper_95\": null}, {\"time\": \"2016-01-24T00:00:00\", \"y\": 0, \"fcst\": null, \"fcst_lower_05\": null, \"fcst_lower_25\": null, \"fcst_upper_75\": null, \"fcst_upper_95\": null}, {\"time\": \"2016-01-25T00:00:00\", \"y\": 1, \"fcst\": null, \"fcst_lower_05\": null, \"fcst_lower_25\": null, \"fcst_upper_75\": null, \"fcst_upper_95\": null}, {\"time\": \"2016-01-26T00:00:00\", \"y\": 0, \"fcst\": null, \"fcst_lower_05\": null, \"fcst_lower_25\": null, \"fcst_upper_75\": null, \"fcst_upper_95\": null}, {\"time\": \"2016-01-27T00:00:00\", \"y\": 1, \"fcst\": null, \"fcst_lower_05\": null, \"fcst_lower_25\": null, \"fcst_upper_75\": null, \"fcst_upper_95\": null}, {\"time\": \"2016-01-28T00:00:00\", \"y\": 0, \"fcst\": null, \"fcst_lower_05\": null, \"fcst_lower_25\": null, \"fcst_upper_75\": null, \"fcst_upper_95\": null}, {\"time\": \"2016-01-29T00:00:00\", \"y\": 2, \"fcst\": null, \"fcst_lower_05\": null, \"fcst_lower_25\": null, \"fcst_upper_75\": null, \"fcst_upper_95\": null}, {\"time\": \"2016-01-30T00:00:00\", \"y\": 0, \"fcst\": null, \"fcst_lower_05\": null, \"fcst_lower_25\": null, \"fcst_upper_75\": null, \"fcst_upper_95\": null}, {\"time\": \"2016-01-31T00:00:00\", \"y\": 0, \"fcst\": null, \"fcst_lower_05\": null, \"fcst_lower_25\": null, \"fcst_upper_75\": null, \"fcst_upper_95\": null}, {\"time\": \"2016-02-01T00:00:00\", \"y\": 0, \"fcst\": null, \"fcst_lower_05\": null, \"fcst_lower_25\": null, \"fcst_upper_75\": null, \"fcst_upper_95\": null}, {\"time\": \"2016-02-02T00:00:00\", \"y\": 0, \"fcst\": null, \"fcst_lower_05\": null, \"fcst_lower_25\": null, \"fcst_upper_75\": null, \"fcst_upper_95\": null}, {\"time\": \"2016-02-03T00:00:00\", \"y\": 0, \"fcst\": null, \"fcst_lower_05\": null, \"fcst_lower_25\": null, \"fcst_upper_75\": null, \"fcst_upper_95\": null}, {\"time\": \"2016-02-04T00:00:00\", \"y\": 0, \"fcst\": null, \"fcst_lower_05\": null, \"fcst_lower_25\": null, \"fcst_upper_75\": null, \"fcst_upper_95\": null}, {\"time\": \"2016-02-05T00:00:00\", \"y\": 0, \"fcst\": null, \"fcst_lower_05\": null, \"fcst_lower_25\": null, \"fcst_upper_75\": null, \"fcst_upper_95\": null}, {\"time\": \"2016-02-06T00:00:00\", \"y\": 0, \"fcst\": null, \"fcst_lower_05\": null, \"fcst_lower_25\": null, \"fcst_upper_75\": null, \"fcst_upper_95\": null}, {\"time\": \"2016-02-07T00:00:00\", \"y\": 0, \"fcst\": null, \"fcst_lower_05\": null, \"fcst_lower_25\": null, \"fcst_upper_75\": null, \"fcst_upper_95\": null}, {\"time\": \"2016-02-08T00:00:00\", \"y\": 1, \"fcst\": null, \"fcst_lower_05\": null, \"fcst_lower_25\": null, \"fcst_upper_75\": null, \"fcst_upper_95\": null}, {\"time\": \"2016-02-09T00:00:00\", \"y\": 1, \"fcst\": null, \"fcst_lower_05\": null, \"fcst_lower_25\": null, \"fcst_upper_75\": null, \"fcst_upper_95\": null}, {\"time\": \"2016-02-10T00:00:00\", \"y\": 1, \"fcst\": null, \"fcst_lower_05\": null, \"fcst_lower_25\": null, \"fcst_upper_75\": null, \"fcst_upper_95\": null}, {\"time\": \"2016-02-11T00:00:00\", \"y\": 0, \"fcst\": null, \"fcst_lower_05\": null, \"fcst_lower_25\": null, \"fcst_upper_75\": null, \"fcst_upper_95\": null}, {\"time\": \"2016-02-12T00:00:00\", \"y\": 0, \"fcst\": null, \"fcst_lower_05\": null, \"fcst_lower_25\": null, \"fcst_upper_75\": null, \"fcst_upper_95\": null}, {\"time\": \"2016-02-13T00:00:00\", \"y\": 0, \"fcst\": null, \"fcst_lower_05\": null, \"fcst_lower_25\": null, \"fcst_upper_75\": null, \"fcst_upper_95\": null}, {\"time\": \"2016-02-14T00:00:00\", \"y\": 0, \"fcst\": null, \"fcst_lower_05\": null, \"fcst_lower_25\": null, \"fcst_upper_75\": null, \"fcst_upper_95\": null}, {\"time\": \"2016-02-15T00:00:00\", \"y\": 1, \"fcst\": null, \"fcst_lower_05\": null, \"fcst_lower_25\": null, \"fcst_upper_75\": null, \"fcst_upper_95\": null}, {\"time\": \"2016-02-16T00:00:00\", \"y\": 0, \"fcst\": null, \"fcst_lower_05\": null, \"fcst_lower_25\": null, \"fcst_upper_75\": null, \"fcst_upper_95\": null}, {\"time\": \"2016-02-17T00:00:00\", \"y\": 0, \"fcst\": null, \"fcst_lower_05\": null, \"fcst_lower_25\": null, \"fcst_upper_75\": null, \"fcst_upper_95\": null}, {\"time\": \"2016-02-18T00:00:00\", \"y\": 2, \"fcst\": null, \"fcst_lower_05\": null, \"fcst_lower_25\": null, \"fcst_upper_75\": null, \"fcst_upper_95\": null}, {\"time\": \"2016-02-19T00:00:00\", \"y\": 1, \"fcst\": null, \"fcst_lower_05\": null, \"fcst_lower_25\": null, \"fcst_upper_75\": null, \"fcst_upper_95\": null}, {\"time\": \"2016-02-20T00:00:00\", \"y\": 1, \"fcst\": null, \"fcst_lower_05\": null, \"fcst_lower_25\": null, \"fcst_upper_75\": null, \"fcst_upper_95\": null}, {\"time\": \"2016-02-21T00:00:00\", \"y\": 1, \"fcst\": null, \"fcst_lower_05\": null, \"fcst_lower_25\": null, \"fcst_upper_75\": null, \"fcst_upper_95\": null}, {\"time\": \"2016-02-22T00:00:00\", \"y\": 2, \"fcst\": null, \"fcst_lower_05\": null, \"fcst_lower_25\": null, \"fcst_upper_75\": null, \"fcst_upper_95\": null}, {\"time\": \"2016-02-23T00:00:00\", \"y\": 0, \"fcst\": null, \"fcst_lower_05\": null, \"fcst_lower_25\": null, \"fcst_upper_75\": null, \"fcst_upper_95\": null}, {\"time\": \"2016-02-24T00:00:00\", \"y\": 2, \"fcst\": null, \"fcst_lower_05\": null, \"fcst_lower_25\": null, \"fcst_upper_75\": null, \"fcst_upper_95\": null}, {\"time\": \"2016-02-25T00:00:00\", \"y\": 0, \"fcst\": null, \"fcst_lower_05\": null, \"fcst_lower_25\": null, \"fcst_upper_75\": null, \"fcst_upper_95\": null}, {\"time\": \"2016-02-26T00:00:00\", \"y\": 1, \"fcst\": null, \"fcst_lower_05\": null, \"fcst_lower_25\": null, \"fcst_upper_75\": null, \"fcst_upper_95\": null}, {\"time\": \"2016-02-27T00:00:00\", \"y\": 0, \"fcst\": null, \"fcst_lower_05\": null, \"fcst_lower_25\": null, \"fcst_upper_75\": null, \"fcst_upper_95\": null}, {\"time\": \"2016-02-28T00:00:00\", \"y\": 0, \"fcst\": null, \"fcst_lower_05\": null, \"fcst_lower_25\": null, \"fcst_upper_75\": null, \"fcst_upper_95\": null}, {\"time\": \"2016-02-29T00:00:00\", \"y\": 1, \"fcst\": null, \"fcst_lower_05\": null, \"fcst_lower_25\": null, \"fcst_upper_75\": null, \"fcst_upper_95\": null}, {\"time\": \"2016-03-01T00:00:00\", \"y\": 0, \"fcst\": null, \"fcst_lower_05\": null, \"fcst_lower_25\": null, \"fcst_upper_75\": null, \"fcst_upper_95\": null}, {\"time\": \"2016-03-02T00:00:00\", \"y\": 0, \"fcst\": null, \"fcst_lower_05\": null, \"fcst_lower_25\": null, \"fcst_upper_75\": null, \"fcst_upper_95\": null}, {\"time\": \"2016-03-03T00:00:00\", \"y\": 0, \"fcst\": null, \"fcst_lower_05\": null, \"fcst_lower_25\": null, \"fcst_upper_75\": null, \"fcst_upper_95\": null}, {\"time\": \"2016-03-04T00:00:00\", \"y\": 0, \"fcst\": null, \"fcst_lower_05\": null, \"fcst_lower_25\": null, \"fcst_upper_75\": null, \"fcst_upper_95\": null}, {\"time\": \"2016-03-05T00:00:00\", \"y\": 0, \"fcst\": null, \"fcst_lower_05\": null, \"fcst_lower_25\": null, \"fcst_upper_75\": null, \"fcst_upper_95\": null}, {\"time\": \"2016-03-06T00:00:00\", \"y\": 1, \"fcst\": null, \"fcst_lower_05\": null, \"fcst_lower_25\": null, \"fcst_upper_75\": null, \"fcst_upper_95\": null}, {\"time\": \"2016-03-07T00:00:00\", \"y\": 2, \"fcst\": null, \"fcst_lower_05\": null, \"fcst_lower_25\": null, \"fcst_upper_75\": null, \"fcst_upper_95\": null}, {\"time\": \"2016-03-08T00:00:00\", \"y\": 1, \"fcst\": null, \"fcst_lower_05\": null, \"fcst_lower_25\": null, \"fcst_upper_75\": null, \"fcst_upper_95\": null}, {\"time\": \"2016-03-09T00:00:00\", \"y\": 0, \"fcst\": null, \"fcst_lower_05\": null, \"fcst_lower_25\": null, \"fcst_upper_75\": null, \"fcst_upper_95\": null}, {\"time\": \"2016-03-10T00:00:00\", \"y\": 4, \"fcst\": null, \"fcst_lower_05\": null, \"fcst_lower_25\": null, \"fcst_upper_75\": null, \"fcst_upper_95\": null}, {\"time\": \"2016-03-11T00:00:00\", \"y\": 0, \"fcst\": null, \"fcst_lower_05\": null, \"fcst_lower_25\": null, \"fcst_upper_75\": null, \"fcst_upper_95\": null}, {\"time\": \"2016-03-12T00:00:00\", \"y\": 0, \"fcst\": null, \"fcst_lower_05\": null, \"fcst_lower_25\": null, \"fcst_upper_75\": null, \"fcst_upper_95\": null}, {\"time\": \"2016-03-13T00:00:00\", \"y\": 3, \"fcst\": null, \"fcst_lower_05\": null, \"fcst_lower_25\": null, \"fcst_upper_75\": null, \"fcst_upper_95\": null}, {\"time\": \"2016-03-14T00:00:00\", \"y\": 1, \"fcst\": null, \"fcst_lower_05\": null, \"fcst_lower_25\": null, \"fcst_upper_75\": null, \"fcst_upper_95\": null}, {\"time\": \"2016-03-15T00:00:00\", \"y\": 1, \"fcst\": null, \"fcst_lower_05\": null, \"fcst_lower_25\": null, \"fcst_upper_75\": null, \"fcst_upper_95\": null}, {\"time\": \"2016-03-16T00:00:00\", \"y\": 1, \"fcst\": null, \"fcst_lower_05\": null, \"fcst_lower_25\": null, \"fcst_upper_75\": null, \"fcst_upper_95\": null}, {\"time\": \"2016-03-17T00:00:00\", \"y\": 0, \"fcst\": null, \"fcst_lower_05\": null, \"fcst_lower_25\": null, \"fcst_upper_75\": null, \"fcst_upper_95\": null}, {\"time\": \"2016-03-18T00:00:00\", \"y\": 0, \"fcst\": null, \"fcst_lower_05\": null, \"fcst_lower_25\": null, \"fcst_upper_75\": null, \"fcst_upper_95\": null}, {\"time\": \"2016-03-19T00:00:00\", \"y\": 0, \"fcst\": null, \"fcst_lower_05\": null, \"fcst_lower_25\": null, \"fcst_upper_75\": null, \"fcst_upper_95\": null}, {\"time\": \"2016-03-20T00:00:00\", \"y\": 2, \"fcst\": null, \"fcst_lower_05\": null, \"fcst_lower_25\": null, \"fcst_upper_75\": null, \"fcst_upper_95\": null}, {\"time\": \"2016-03-21T00:00:00\", \"y\": 1, \"fcst\": null, \"fcst_lower_05\": null, \"fcst_lower_25\": null, \"fcst_upper_75\": null, \"fcst_upper_95\": null}, {\"time\": \"2016-03-22T00:00:00\", \"y\": 0, \"fcst\": null, \"fcst_lower_05\": null, \"fcst_lower_25\": null, \"fcst_upper_75\": null, \"fcst_upper_95\": null}, {\"time\": \"2016-03-23T00:00:00\", \"y\": 0, \"fcst\": null, \"fcst_lower_05\": null, \"fcst_lower_25\": null, \"fcst_upper_75\": null, \"fcst_upper_95\": null}, {\"time\": \"2016-03-24T00:00:00\", \"y\": 0, \"fcst\": null, \"fcst_lower_05\": null, \"fcst_lower_25\": null, \"fcst_upper_75\": null, \"fcst_upper_95\": null}, {\"time\": \"2016-03-25T00:00:00\", \"y\": 0, \"fcst\": null, \"fcst_lower_05\": null, \"fcst_lower_25\": null, \"fcst_upper_75\": null, \"fcst_upper_95\": null}, {\"time\": \"2016-03-26T00:00:00\", \"y\": 0, \"fcst\": null, \"fcst_lower_05\": null, \"fcst_lower_25\": null, \"fcst_upper_75\": null, \"fcst_upper_95\": null}, {\"time\": \"2016-03-27T00:00:00\", \"y\": 1, \"fcst\": null, \"fcst_lower_05\": null, \"fcst_lower_25\": null, \"fcst_upper_75\": null, \"fcst_upper_95\": null}, {\"time\": \"2016-03-28T00:00:00\", \"y\": 2, \"fcst\": null, \"fcst_lower_05\": null, \"fcst_lower_25\": null, \"fcst_upper_75\": null, \"fcst_upper_95\": null}, {\"time\": \"2016-03-29T00:00:00\", \"y\": 0, \"fcst\": null, \"fcst_lower_05\": null, \"fcst_lower_25\": null, \"fcst_upper_75\": null, \"fcst_upper_95\": null}, {\"time\": \"2016-03-30T00:00:00\", \"y\": 0, \"fcst\": null, \"fcst_lower_05\": null, \"fcst_lower_25\": null, \"fcst_upper_75\": null, \"fcst_upper_95\": null}, {\"time\": \"2016-03-31T00:00:00\", \"y\": 0, \"fcst\": null, \"fcst_lower_05\": null, \"fcst_lower_25\": null, \"fcst_upper_75\": null, \"fcst_upper_95\": null}, {\"time\": \"2016-04-01T00:00:00\", \"y\": 0, \"fcst\": null, \"fcst_lower_05\": null, \"fcst_lower_25\": null, \"fcst_upper_75\": null, \"fcst_upper_95\": null}, {\"time\": \"2016-04-02T00:00:00\", \"y\": 0, \"fcst\": null, \"fcst_lower_05\": null, \"fcst_lower_25\": null, \"fcst_upper_75\": null, \"fcst_upper_95\": null}, {\"time\": \"2016-04-03T00:00:00\", \"y\": 0, \"fcst\": null, \"fcst_lower_05\": null, \"fcst_lower_25\": null, \"fcst_upper_75\": null, \"fcst_upper_95\": null}, {\"time\": \"2016-04-04T00:00:00\", \"y\": 3, \"fcst\": null, \"fcst_lower_05\": null, \"fcst_lower_25\": null, \"fcst_upper_75\": null, \"fcst_upper_95\": null}, {\"time\": \"2016-04-05T00:00:00\", \"y\": 1, \"fcst\": null, \"fcst_lower_05\": null, \"fcst_lower_25\": null, \"fcst_upper_75\": null, \"fcst_upper_95\": null}, {\"time\": \"2016-04-06T00:00:00\", \"y\": 1, \"fcst\": null, \"fcst_lower_05\": null, \"fcst_lower_25\": null, \"fcst_upper_75\": null, \"fcst_upper_95\": null}, {\"time\": \"2016-04-07T00:00:00\", \"y\": 0, \"fcst\": null, \"fcst_lower_05\": null, \"fcst_lower_25\": null, \"fcst_upper_75\": null, \"fcst_upper_95\": null}, {\"time\": \"2016-04-08T00:00:00\", \"y\": 0, \"fcst\": null, \"fcst_lower_05\": null, \"fcst_lower_25\": null, \"fcst_upper_75\": null, \"fcst_upper_95\": null}, {\"time\": \"2016-04-09T00:00:00\", \"y\": 0, \"fcst\": null, \"fcst_lower_05\": null, \"fcst_lower_25\": null, \"fcst_upper_75\": null, \"fcst_upper_95\": null}, {\"time\": \"2016-04-10T00:00:00\", \"y\": 0, \"fcst\": null, \"fcst_lower_05\": null, \"fcst_lower_25\": null, \"fcst_upper_75\": null, \"fcst_upper_95\": null}, {\"time\": \"2016-04-11T00:00:00\", \"y\": 0, \"fcst\": null, \"fcst_lower_05\": null, \"fcst_lower_25\": null, \"fcst_upper_75\": null, \"fcst_upper_95\": null}, {\"time\": \"2016-04-12T00:00:00\", \"y\": 1, \"fcst\": null, \"fcst_lower_05\": null, \"fcst_lower_25\": null, \"fcst_upper_75\": null, \"fcst_upper_95\": null}, {\"time\": \"2016-04-13T00:00:00\", \"y\": 1, \"fcst\": null, \"fcst_lower_05\": null, \"fcst_lower_25\": null, \"fcst_upper_75\": null, \"fcst_upper_95\": null}, {\"time\": \"2016-04-14T00:00:00\", \"y\": 0, \"fcst\": null, \"fcst_lower_05\": null, \"fcst_lower_25\": null, \"fcst_upper_75\": null, \"fcst_upper_95\": null}, {\"time\": \"2016-04-15T00:00:00\", \"y\": 0, \"fcst\": null, \"fcst_lower_05\": null, \"fcst_lower_25\": null, \"fcst_upper_75\": null, \"fcst_upper_95\": null}, {\"time\": \"2016-04-16T00:00:00\", \"y\": 0, \"fcst\": null, \"fcst_lower_05\": null, \"fcst_lower_25\": null, \"fcst_upper_75\": null, \"fcst_upper_95\": null}, {\"time\": \"2016-04-17T00:00:00\", \"y\": 1, \"fcst\": null, \"fcst_lower_05\": null, \"fcst_lower_25\": null, \"fcst_upper_75\": null, \"fcst_upper_95\": null}, {\"time\": \"2016-04-18T00:00:00\", \"y\": 0, \"fcst\": null, \"fcst_lower_05\": null, \"fcst_lower_25\": null, \"fcst_upper_75\": null, \"fcst_upper_95\": null}, {\"time\": \"2016-04-19T00:00:00\", \"y\": 0, \"fcst\": null, \"fcst_lower_05\": null, \"fcst_lower_25\": null, \"fcst_upper_75\": null, \"fcst_upper_95\": null}, {\"time\": \"2016-04-20T00:00:00\", \"y\": 1, \"fcst\": null, \"fcst_lower_05\": null, \"fcst_lower_25\": null, \"fcst_upper_75\": null, \"fcst_upper_95\": null}, {\"time\": \"2016-04-21T00:00:00\", \"y\": 1, \"fcst\": null, \"fcst_lower_05\": null, \"fcst_lower_25\": null, \"fcst_upper_75\": null, \"fcst_upper_95\": null}, {\"time\": \"2016-04-22T00:00:00\", \"y\": 2, \"fcst\": null, \"fcst_lower_05\": null, \"fcst_lower_25\": null, \"fcst_upper_75\": null, \"fcst_upper_95\": null}, {\"time\": \"2016-04-23T00:00:00\", \"y\": 0, \"fcst\": null, \"fcst_lower_05\": null, \"fcst_lower_25\": null, \"fcst_upper_75\": null, \"fcst_upper_95\": null}, {\"time\": \"2016-04-24T00:00:00\", \"y\": 0, \"fcst\": null, \"fcst_lower_05\": null, \"fcst_lower_25\": null, \"fcst_upper_75\": null, \"fcst_upper_95\": null}, {\"time\": \"2016-04-25T00:00:00\", \"y\": 2, \"fcst\": -0.22223418951034546, \"fcst_lower_05\": -2.6638829708099365, \"fcst_lower_25\": -1.5935230255126953, \"fcst_upper_75\": 1.0992273092269897, \"fcst_upper_95\": 2.4609005451202393}, {\"time\": \"2016-04-26T00:00:00\", \"y\": 1, \"fcst\": 0.2559370696544647, \"fcst_lower_05\": -1.3475444316864014, \"fcst_lower_25\": -0.6490836143493652, \"fcst_upper_75\": 1.0842941999435425, \"fcst_upper_95\": 2.0067014694213867}, {\"time\": \"2016-04-27T00:00:00\", \"y\": 1, \"fcst\": -0.7588966488838196, \"fcst_lower_05\": -2.7867813110351562, \"fcst_lower_25\": -1.7733553647994995, \"fcst_upper_75\": 0.16295106709003448, \"fcst_upper_95\": 1.7653186321258545}, {\"time\": \"2016-04-28T00:00:00\", \"y\": 0, \"fcst\": 0.021037079393863678, \"fcst_lower_05\": -10.975970268249512, \"fcst_lower_25\": -4.597260475158691, \"fcst_upper_75\": 4.375497817993164, \"fcst_upper_95\": 10.716611862182617}, {\"time\": \"2016-04-29T00:00:00\", \"y\": 0, \"fcst\": -1.0369795560836792, \"fcst_lower_05\": -6.537323951721191, \"fcst_lower_25\": -2.993530511856079, \"fcst_upper_75\": 1.3078933954238892, \"fcst_upper_95\": 3.5879950523376465}, {\"time\": \"2016-04-30T00:00:00\", \"y\": 2, \"fcst\": -0.9964285492897034, \"fcst_lower_05\": -6.546108245849609, \"fcst_lower_25\": -2.6171019077301025, \"fcst_upper_75\": 0.5925921201705933, \"fcst_upper_95\": 3.216878890991211}, {\"time\": \"2016-05-01T00:00:00\", \"y\": 4, \"fcst\": -4.878183364868164, \"fcst_lower_05\": -19.54212188720703, \"fcst_lower_25\": -11.840600967407227, \"fcst_upper_75\": 0.5823198556900024, \"fcst_upper_95\": 13.264219284057617}, {\"time\": \"2016-05-02T00:00:00\", \"y\": 0, \"fcst\": -0.15456001460552216, \"fcst_lower_05\": -4.142877101898193, \"fcst_lower_25\": -1.685578465461731, \"fcst_upper_75\": 1.4940078258514404, \"fcst_upper_95\": 3.778043270111084}, {\"time\": \"2016-05-03T00:00:00\", \"y\": 2, \"fcst\": -0.19691073894500732, \"fcst_lower_05\": -0.9431126713752747, \"fcst_lower_25\": -0.5348448157310486, \"fcst_upper_75\": 0.08092062920331955, \"fcst_upper_95\": 0.4945606589317322}, {\"time\": \"2016-05-04T00:00:00\", \"y\": 0, \"fcst\": -5.582745552062988, \"fcst_lower_05\": -25.196678161621094, \"fcst_lower_25\": -14.319308280944824, \"fcst_upper_75\": 2.5840487480163574, \"fcst_upper_95\": 13.516556739807129}, {\"time\": \"2016-05-05T00:00:00\", \"y\": 0, \"fcst\": -0.5134465098381042, \"fcst_lower_05\": -3.0728397369384766, \"fcst_lower_25\": -1.5643157958984375, \"fcst_upper_75\": 0.5536765456199646, \"fcst_upper_95\": 1.9961633682250977}, {\"time\": \"2016-05-06T00:00:00\", \"y\": 0, \"fcst\": -2.487595319747925, \"fcst_lower_05\": -21.355972290039062, \"fcst_lower_25\": -9.01390266418457, \"fcst_upper_75\": 4.639225959777832, \"fcst_upper_95\": 15.505721092224121}, {\"time\": \"2016-05-07T00:00:00\", \"y\": 1, \"fcst\": 2.1328585147857666, \"fcst_lower_05\": -8.9117431640625, \"fcst_lower_25\": -2.5159339904785156, \"fcst_upper_75\": 7.163991451263428, \"fcst_upper_95\": 14.000528335571289}, {\"time\": \"2016-05-08T00:00:00\", \"y\": 0, \"fcst\": 0.4018343687057495, \"fcst_lower_05\": -13.093335151672363, \"fcst_lower_25\": -5.666605472564697, \"fcst_upper_75\": 5.674376010894775, \"fcst_upper_95\": 13.247193336486816}, {\"time\": \"2016-05-09T00:00:00\", \"y\": 0, \"fcst\": -0.9817023277282715, \"fcst_lower_05\": -5.091620922088623, \"fcst_lower_25\": -2.586240291595459, \"fcst_upper_75\": 0.545346200466156, \"fcst_upper_95\": 2.466560125350952}, {\"time\": \"2016-05-10T00:00:00\", \"y\": 0, \"fcst\": 0.44145095348358154, \"fcst_lower_05\": -4.95886754989624, \"fcst_lower_25\": -2.0273237228393555, \"fcst_upper_75\": 3.185000419616699, \"fcst_upper_95\": 5.920520305633545}, {\"time\": \"2016-05-11T00:00:00\", \"y\": 1, \"fcst\": -2.0792310581607687e-11, \"fcst_lower_05\": -1.1975781477602254e-09, \"fcst_lower_25\": -4.698223476928831e-10, \"fcst_upper_75\": 3.384100222270092e-10, \"fcst_upper_95\": 1.0837252206741255e-09}, {\"time\": \"2016-05-12T00:00:00\", \"y\": 0, \"fcst\": 1.6494807004928589, \"fcst_lower_05\": -6.254680633544922, \"fcst_lower_25\": -1.70627760887146, \"fcst_upper_75\": 4.164882659912109, \"fcst_upper_95\": 9.395626068115234}, {\"time\": \"2016-05-13T00:00:00\", \"y\": 0, \"fcst\": -0.5091356039047241, \"fcst_lower_05\": -4.415891647338867, \"fcst_lower_25\": -1.9423365592956543, \"fcst_upper_75\": 1.1330268383026123, \"fcst_upper_95\": 3.033266067504883}, {\"time\": \"2016-05-14T00:00:00\", \"y\": 0, \"fcst\": -0.45493021607398987, \"fcst_lower_05\": -5.1233391761779785, \"fcst_lower_25\": -2.653576612472534, \"fcst_upper_75\": 1.3738832473754883, \"fcst_upper_95\": 4.202514171600342}, {\"time\": \"2016-05-15T00:00:00\", \"y\": 0, \"fcst\": 0.0513417087495327, \"fcst_lower_05\": -6.038541316986084, \"fcst_lower_25\": -3.1758577823638916, \"fcst_upper_75\": 2.8664770126342773, \"fcst_upper_95\": 7.503966331481934}, {\"time\": \"2016-05-16T00:00:00\", \"y\": 0, \"fcst\": -0.40081363916397095, \"fcst_lower_05\": -2.044330358505249, \"fcst_lower_25\": -1.0315016508102417, \"fcst_upper_75\": 0.4014457166194916, \"fcst_upper_95\": 1.248941421508789}, {\"time\": \"2016-05-17T00:00:00\", \"y\": 0, \"fcst\": -0.9189286231994629, \"fcst_lower_05\": -5.985397815704346, \"fcst_lower_25\": -3.0519394874572754, \"fcst_upper_75\": 1.025128722190857, \"fcst_upper_95\": 5.181191921234131}, {\"time\": \"2016-05-18T00:00:00\", \"y\": 1, \"fcst\": -0.39721766114234924, \"fcst_lower_05\": -2.064685821533203, \"fcst_lower_25\": -1.2171049118041992, \"fcst_upper_75\": 0.28682345151901245, \"fcst_upper_95\": 1.3614604473114014}, {\"time\": \"2016-05-19T00:00:00\", \"y\": 0, \"fcst\": 0.11430313438177109, \"fcst_lower_05\": -2.666123151779175, \"fcst_lower_25\": -0.48116716742515564, \"fcst_upper_75\": 1.1307404041290283, \"fcst_upper_95\": 2.2473771572113037}, {\"time\": \"2016-05-20T00:00:00\", \"y\": 2, \"fcst\": 6.068939208984375, \"fcst_lower_05\": -45.049163818359375, \"fcst_lower_25\": -14.752873420715332, \"fcst_upper_75\": 29.50831413269043, \"fcst_upper_95\": 50.99917984008789}, {\"time\": \"2016-05-21T00:00:00\", \"y\": 1, \"fcst\": 0.9273483157157898, \"fcst_lower_05\": -4.504926681518555, \"fcst_lower_25\": -1.2052751779556274, \"fcst_upper_75\": 2.7273571491241455, \"fcst_upper_95\": 6.770280361175537}, {\"time\": \"2016-05-22T00:00:00\", \"y\": 0, \"fcst\": 2.3893396854400635, \"fcst_lower_05\": -6.401313781738281, \"fcst_lower_25\": -1.0448365211486816, \"fcst_upper_75\": 5.290557384490967, \"fcst_upper_95\": 10.077384948730469}], \"data-302bc33366dfe1498bc0394fc8325ea5\": [{\"time\": \"2016-04-25T00:00:00\"}]}}, {\"mode\": \"vega-lite\"});\n",
       "</script>"
      ],
      "text/plain": [
       "alt.LayerChart(...)"
      ]
     },
     "execution_count": 30,
     "metadata": {},
     "output_type": "execute_result"
    }
   ],
   "source": [
    "plot_index = 2  # 2, 4, 8\n",
    "plot_id = test_sampled_ids[plot_index]\n",
    "\n",
    "y = target[[plot_id]].reset_index()\n",
    "y.columns = [\"time\", \"y\"]\n",
    "y[\"time\"] = pd.to_datetime(y[\"time\"])\n",
    "\n",
    "forecast = pd.DataFrame(\n",
    "    [forecasts[0].mean[plot_index][-test_steps:]]\n",
    "    + [forecasts[0].quantile(p)[plot_index][-test_steps:] for p in [0.05, 0.25, 0.75, 0.95]],\n",
    "    columns=forecasts[0].index,\n",
    ").T.reset_index()\n",
    "forecast.columns = [\n",
    "    \"time\",\n",
    "    \"fcst\",\n",
    "    \"fcst_lower_05\",\n",
    "    \"fcst_lower_25\",\n",
    "    \"fcst_upper_75\",\n",
    "    \"fcst_upper_95\",\n",
    "]\n",
    "\n",
    "source = y.merge(forecast, how=\"left\")\n",
    "plot_forecast(\n",
    "    source, test_steps, plot_id=plot_id, model_name=\"DeepVAR\", start_date=\"2015-05-23\"\n",
    ")"
   ]
  },
  {
   "cell_type": "markdown",
   "id": "3decfb94-68e3-43a0-9fa9-61522595226f",
   "metadata": {},
   "source": [
    "# DeepAR: Prediction"
   ]
  },
  {
   "cell_type": "code",
   "execution_count": 31,
   "id": "5488e7ec-c421-4ebe-86ec-0d64f9880fd4",
   "metadata": {},
   "outputs": [],
   "source": [
    "feature_names = [\"event_name_1\", \"event_type_1\", \"event_name_2\", \"event_type_2\"]\n",
    "events = calendar[[\"date\"] + feature_names].fillna(\"NA\")\n",
    "train = events[events[\"date\"] < dates[-test_steps]][feature_names]\n",
    "\n",
    "encoder = HashingEncoder(drop_invariant=True)\n",
    "_ = encoder.fit(train)\n",
    "encoded = encoder.transform(events[feature_names])\n",
    "events = pd.concat([events[[\"date\"]], encoded], axis=1)\n",
    "\n",
    "feat_dynamic_cat = events.merge(time_related).set_index(\"date\")\n",
    "\n",
    "scaler = MinMaxScaler()\n",
    "scaled = scaler.fit_transform(feat_dynamic_cat)\n",
    "feat_dynamic_cat = pd.DataFrame(\n",
    "    scaled, columns=feat_dynamic_cat.columns, index=feat_dynamic_cat.index\n",
    ")"
   ]
  },
  {
   "cell_type": "code",
   "execution_count": 32,
   "id": "d4599568-2a70-41a8-9578-28dd87ab7bfd",
   "metadata": {},
   "outputs": [],
   "source": [
    "prices = (\n",
    "    df_train_eval[[\"id\", \"store_id\", \"item_id\"]]\n",
    "    .merge(selling_prices, how=\"left\")\n",
    "    .drop([\"store_id\", \"item_id\"], axis=1)\n",
    ")\n",
    "week_to_date = calendar[[\"date\", \"wm_yr_wk\"]].drop_duplicates()\n",
    "prices = week_to_date.merge(prices, how=\"left\").drop(\n",
    "    [\"wm_yr_wk\"], axis=1\n",
    ")\n",
    "\n",
    "scaler = MinMaxScaler()\n",
    "train = prices[prices[\"date\"] < dates[-test_steps]][[\"sell_price\"]]\n",
    "\n",
    "_ = scaler.fit(train)\n",
    "prices[\"sell_price\"] = scaler.transform(prices[[\"sell_price\"]])\n",
    "prices = prices.pivot(index=\"date\", columns=\"id\", values=\"sell_price\")\n",
    "prices = prices.fillna(method=\"bfill\")\n",
    "\n",
    "feat_dynamic_real = pd.concat([prices, snap], axis=1)"
   ]
  },
  {
   "cell_type": "code",
   "execution_count": 33,
   "id": "638d0ca7-6209-4301-8eb1-f11c7803eb66",
   "metadata": {},
   "outputs": [],
   "source": [
    "train_list = []\n",
    "for each_id in all_ids:\n",
    "    dict_by_id = {\n",
    "        FieldName.TARGET: target[each_id].values,\n",
    "        FieldName.START: target.index[0],\n",
    "        FieldName.FEAT_DYNAMIC_REAL: split_into_n_array(\n",
    "            feat_dynamic_cat.iloc[:-test_steps],\n",
    "            n_feat_dynamic_cat,\n",
    "        )\n",
    "        + split_into_n_array(\n",
    "            feat_dynamic_real[each_id].iloc[:-test_steps],\n",
    "            n_feat_dynamic_real,\n",
    "        ),\n",
    "        FieldName.FEAT_STATIC_CAT: feat_static_cat[each_id].values,\n",
    "    }\n",
    "    train_list.append(dict_by_id)\n",
    "\n",
    "test_list = []\n",
    "for each_id in all_ids:\n",
    "    dict_by_id = {\n",
    "        FieldName.TARGET: np.append(\n",
    "            target[each_id].values, np.repeat(np.nan, test_steps)\n",
    "        ),\n",
    "        FieldName.START: target.index[0],\n",
    "        FieldName.FEAT_DYNAMIC_REAL: split_into_n_array(\n",
    "            feat_dynamic_cat,\n",
    "            n_feat_dynamic_cat,\n",
    "        )\n",
    "        + split_into_n_array(\n",
    "            feat_dynamic_real[each_id],\n",
    "            n_feat_dynamic_real,\n",
    "        ),\n",
    "        FieldName.FEAT_STATIC_CAT: feat_static_cat[each_id].values,\n",
    "    }\n",
    "    test_list.append(dict_by_id)\n",
    "\n",
    "train_dataset = ListDataset(train_list, freq=\"D\")\n",
    "test_dataset = ListDataset(test_list, freq=\"D\")"
   ]
  },
  {
   "cell_type": "code",
   "execution_count": 34,
   "id": "7e2d6b7a-4c6c-47e1-bd5f-7b8ca1b0aba0",
   "metadata": {},
   "outputs": [],
   "source": [
    "trainer = Trainer(\n",
    "    ctx=device,\n",
    "    epochs=200,\n",
    "    num_batches_per_epoch=50,\n",
    "    learning_rate=0.001,\n",
    "    hybridize=True,\n",
    ")"
   ]
  },
  {
   "cell_type": "code",
   "execution_count": 35,
   "id": "11339b98-262e-4575-883a-a83e0d5e69cb",
   "metadata": {},
   "outputs": [],
   "source": [
    "deepar_estimator = DeepAREstimator(\n",
    "    freq=\"D\", \n",
    "    prediction_length=test_steps,\n",
    "    trainer=trainer,\n",
    "    context_length=2 * test_steps,\n",
    "    num_layers=2,\n",
    "    num_cells=40,\n",
    "    cell_type=\"lstm\",\n",
    "    dropout_rate=0.2,\n",
    "    use_feat_dynamic_real=True,\n",
    "    use_feat_static_cat=True,\n",
    "    use_feat_static_real=False,\n",
    "    cardinality=cardinality,\n",
    "    distr_output=NegativeBinomialOutput(),  \n",
    "    # distr_output=PoissonOutput(), \n",
    "    batch_size=30,\n",
    ")"
   ]
  },
  {
   "cell_type": "code",
   "execution_count": 36,
   "id": "37a3930c-7a7a-4bec-8efb-90a97758924c",
   "metadata": {},
   "outputs": [
    {
     "name": "stderr",
     "output_type": "stream",
     "text": [
      "100%|██████████| 50/50 [00:05<00:00,  9.48it/s, epoch=1/200, avg_epoch_loss=0.875]\n",
      "100%|██████████| 50/50 [00:04<00:00, 10.52it/s, epoch=2/200, avg_epoch_loss=1.23]\n",
      "100%|██████████| 50/50 [00:04<00:00, 10.66it/s, epoch=3/200, avg_epoch_loss=0.847]\n",
      "100%|██████████| 50/50 [00:04<00:00, 10.69it/s, epoch=4/200, avg_epoch_loss=0.902]\n",
      "100%|██████████| 50/50 [00:04<00:00, 10.72it/s, epoch=5/200, avg_epoch_loss=0.974]\n",
      "100%|██████████| 50/50 [00:04<00:00, 10.73it/s, epoch=6/200, avg_epoch_loss=1.21]\n",
      "100%|██████████| 50/50 [00:04<00:00, 10.72it/s, epoch=7/200, avg_epoch_loss=0.718]\n",
      "100%|██████████| 50/50 [00:04<00:00, 10.75it/s, epoch=8/200, avg_epoch_loss=0.859]\n",
      "100%|██████████| 50/50 [00:04<00:00, 10.79it/s, epoch=9/200, avg_epoch_loss=0.753]\n",
      "100%|██████████| 50/50 [00:04<00:00, 10.75it/s, epoch=10/200, avg_epoch_loss=0.879]\n",
      "100%|██████████| 50/50 [00:04<00:00, 10.82it/s, epoch=11/200, avg_epoch_loss=0.925]\n",
      "100%|██████████| 50/50 [00:04<00:00, 10.80it/s, epoch=12/200, avg_epoch_loss=0.942]\n",
      "100%|██████████| 50/50 [00:04<00:00, 10.68it/s, epoch=13/200, avg_epoch_loss=0.891]\n",
      "100%|██████████| 50/50 [00:04<00:00, 10.82it/s, epoch=14/200, avg_epoch_loss=0.768]\n",
      "100%|██████████| 50/50 [00:04<00:00, 10.75it/s, epoch=15/200, avg_epoch_loss=0.891]\n",
      "100%|██████████| 50/50 [00:04<00:00, 10.75it/s, epoch=16/200, avg_epoch_loss=0.767]\n",
      "100%|██████████| 50/50 [00:04<00:00, 10.69it/s, epoch=17/200, avg_epoch_loss=0.808]\n",
      "100%|██████████| 50/50 [00:04<00:00, 10.76it/s, epoch=18/200, avg_epoch_loss=0.816]\n",
      "100%|██████████| 50/50 [00:04<00:00, 10.76it/s, epoch=19/200, avg_epoch_loss=0.873]\n",
      "100%|██████████| 50/50 [00:04<00:00, 10.73it/s, epoch=20/200, avg_epoch_loss=0.75]\n",
      "100%|██████████| 50/50 [00:04<00:00, 10.84it/s, epoch=21/200, avg_epoch_loss=0.961]\n",
      "100%|██████████| 50/50 [00:04<00:00, 10.77it/s, epoch=22/200, avg_epoch_loss=0.88]\n",
      "100%|██████████| 50/50 [00:04<00:00, 10.80it/s, epoch=23/200, avg_epoch_loss=1.06]\n",
      "100%|██████████| 50/50 [00:04<00:00, 10.77it/s, epoch=24/200, avg_epoch_loss=0.842]\n",
      "100%|██████████| 50/50 [00:04<00:00, 10.76it/s, epoch=25/200, avg_epoch_loss=0.929]\n",
      "100%|██████████| 50/50 [00:04<00:00, 10.74it/s, epoch=26/200, avg_epoch_loss=1]\n",
      "100%|██████████| 50/50 [00:04<00:00, 10.80it/s, epoch=27/200, avg_epoch_loss=1.13]\n",
      "100%|██████████| 50/50 [00:04<00:00, 10.78it/s, epoch=28/200, avg_epoch_loss=0.678]\n",
      "100%|██████████| 50/50 [00:04<00:00, 10.73it/s, epoch=29/200, avg_epoch_loss=0.839]\n",
      "100%|██████████| 50/50 [00:04<00:00, 10.80it/s, epoch=30/200, avg_epoch_loss=0.746]\n",
      "100%|██████████| 50/50 [00:04<00:00, 10.75it/s, epoch=31/200, avg_epoch_loss=0.912]\n",
      "100%|██████████| 50/50 [00:04<00:00, 10.84it/s, epoch=32/200, avg_epoch_loss=0.876]\n",
      "100%|██████████| 50/50 [00:04<00:00, 10.69it/s, epoch=33/200, avg_epoch_loss=1.01]\n",
      "100%|██████████| 50/50 [00:04<00:00, 10.85it/s, epoch=34/200, avg_epoch_loss=0.715]\n",
      "100%|██████████| 50/50 [00:04<00:00, 10.81it/s, epoch=35/200, avg_epoch_loss=0.986]\n",
      "100%|██████████| 50/50 [00:04<00:00, 10.82it/s, epoch=36/200, avg_epoch_loss=0.73]\n",
      "100%|██████████| 50/50 [00:04<00:00, 10.82it/s, epoch=37/200, avg_epoch_loss=0.918]\n",
      "100%|██████████| 50/50 [00:04<00:00, 10.80it/s, epoch=38/200, avg_epoch_loss=0.679]\n",
      "100%|██████████| 50/50 [00:04<00:00, 10.77it/s, epoch=39/200, avg_epoch_loss=0.957]\n",
      "100%|██████████| 50/50 [00:04<00:00, 10.72it/s, epoch=40/200, avg_epoch_loss=0.726]\n",
      "100%|██████████| 50/50 [00:04<00:00, 10.76it/s, epoch=41/200, avg_epoch_loss=1.05]\n",
      "100%|██████████| 50/50 [00:04<00:00, 10.49it/s, epoch=42/200, avg_epoch_loss=0.867]\n",
      "100%|██████████| 50/50 [00:04<00:00, 10.56it/s, epoch=43/200, avg_epoch_loss=1.13]\n",
      "100%|██████████| 50/50 [00:04<00:00, 10.64it/s, epoch=44/200, avg_epoch_loss=0.855]\n",
      "100%|██████████| 50/50 [00:04<00:00, 10.75it/s, epoch=45/200, avg_epoch_loss=0.869]\n",
      "100%|██████████| 50/50 [00:04<00:00, 10.69it/s, epoch=46/200, avg_epoch_loss=0.998]\n",
      "100%|██████████| 50/50 [00:04<00:00, 10.79it/s, epoch=47/200, avg_epoch_loss=1.24]\n",
      "100%|██████████| 50/50 [00:04<00:00, 10.73it/s, epoch=48/200, avg_epoch_loss=0.59]\n",
      "100%|██████████| 50/50 [00:04<00:00, 10.75it/s, epoch=49/200, avg_epoch_loss=0.891]\n",
      "100%|██████████| 50/50 [00:04<00:00, 10.83it/s, epoch=50/200, avg_epoch_loss=0.701]\n",
      "100%|██████████| 50/50 [00:04<00:00, 10.73it/s, epoch=51/200, avg_epoch_loss=0.988]\n",
      "100%|██████████| 50/50 [00:04<00:00, 10.80it/s, epoch=52/200, avg_epoch_loss=0.778]\n",
      "100%|██████████| 50/50 [00:04<00:00, 10.78it/s, epoch=53/200, avg_epoch_loss=1.03]\n",
      "100%|██████████| 50/50 [00:04<00:00, 10.78it/s, epoch=54/200, avg_epoch_loss=0.724]\n",
      "100%|██████████| 50/50 [00:04<00:00, 10.72it/s, epoch=55/200, avg_epoch_loss=0.924]\n",
      "100%|██████████| 50/50 [00:04<00:00, 10.65it/s, epoch=56/200, avg_epoch_loss=0.701]\n",
      "100%|██████████| 50/50 [00:04<00:00, 10.83it/s, epoch=57/200, avg_epoch_loss=0.978]\n",
      "100%|██████████| 50/50 [00:04<00:00, 10.80it/s, epoch=58/200, avg_epoch_loss=0.656]\n",
      "100%|██████████| 50/50 [00:04<00:00, 10.77it/s, epoch=59/200, avg_epoch_loss=1.03]\n",
      "100%|██████████| 50/50 [00:04<00:00, 10.80it/s, epoch=60/200, avg_epoch_loss=0.659]\n",
      "100%|██████████| 50/50 [00:04<00:00, 10.79it/s, epoch=61/200, avg_epoch_loss=0.961]\n",
      "100%|██████████| 50/50 [00:04<00:00, 10.66it/s, epoch=62/200, avg_epoch_loss=0.883]\n",
      "100%|██████████| 50/50 [00:04<00:00, 10.63it/s, epoch=63/200, avg_epoch_loss=1.14]\n",
      "100%|██████████| 50/50 [00:04<00:00, 10.82it/s, epoch=64/200, avg_epoch_loss=0.845]\n",
      "100%|██████████| 50/50 [00:04<00:00, 10.64it/s, epoch=65/200, avg_epoch_loss=0.885]\n",
      "100%|██████████| 50/50 [00:04<00:00, 10.33it/s, epoch=66/200, avg_epoch_loss=0.965]\n",
      "100%|██████████| 50/50 [00:04<00:00, 10.23it/s, epoch=67/200, avg_epoch_loss=1.2]\n",
      "100%|██████████| 50/50 [00:04<00:00, 10.07it/s, epoch=68/200, avg_epoch_loss=0.829]\n",
      "100%|██████████| 50/50 [00:04<00:00, 10.20it/s, epoch=69/200, avg_epoch_loss=0.752]\n",
      "100%|██████████| 50/50 [00:04<00:00, 10.65it/s, epoch=70/200, avg_epoch_loss=0.785]\n",
      "100%|██████████| 50/50 [00:04<00:00, 10.69it/s, epoch=71/200, avg_epoch_loss=0.775]\n",
      "100%|██████████| 50/50 [00:04<00:00, 10.76it/s, epoch=72/200, avg_epoch_loss=0.92]\n",
      "100%|██████████| 50/50 [00:04<00:00, 10.77it/s, epoch=73/200, avg_epoch_loss=0.871]\n",
      "100%|██████████| 50/50 [00:04<00:00, 10.74it/s, epoch=74/200, avg_epoch_loss=0.951]\n",
      "100%|██████████| 50/50 [00:04<00:00, 10.81it/s, epoch=75/200, avg_epoch_loss=0.776]\n",
      "100%|██████████| 50/50 [00:04<00:00, 10.71it/s, epoch=76/200, avg_epoch_loss=0.865]\n",
      "100%|██████████| 50/50 [00:04<00:00, 10.83it/s, epoch=77/200, avg_epoch_loss=0.767]\n",
      "100%|██████████| 50/50 [00:04<00:00, 10.74it/s, epoch=78/200, avg_epoch_loss=0.87]"
     ]
    },
    {
     "name": "stdout",
     "output_type": "stream",
     "text": [
      "Early stopping based on learning rate scheduler callback (min_lr was reached).\n",
      "CPU times: user 6min 8s, sys: 14.1 s, total: 6min 22s\n",
      "Wall time: 6min 12s\n"
     ]
    },
    {
     "name": "stderr",
     "output_type": "stream",
     "text": [
      "\n"
     ]
    }
   ],
   "source": [
    "%%time\n",
    "deepar_predictor = deepar_estimator.train(train_dataset)"
   ]
  },
  {
   "cell_type": "code",
   "execution_count": 37,
   "id": "12c2d95d-6766-4a24-98f0-cf4b1e217680",
   "metadata": {},
   "outputs": [
    {
     "name": "stdout",
     "output_type": "stream",
     "text": [
      "CPU times: user 15min 39s, sys: 2min 20s, total: 18min\n",
      "Wall time: 15min 51s\n"
     ]
    }
   ],
   "source": [
    "%%time\n",
    "forecast_iter, ts_iter = make_evaluation_predictions( \n",
    "    dataset=test_dataset,\n",
    "    predictor=deepar_predictor, \n",
    "    num_samples=100,\n",
    ") \n",
    "forecasts = list(forecast_iter)\n",
    "tss = list(ts_iter)"
   ]
  },
  {
   "cell_type": "code",
   "execution_count": 38,
   "id": "8c9cc279-f6f8-45f3-8c43-4adfa734f17c",
   "metadata": {},
   "outputs": [],
   "source": [
    "column_names = [\"F\" + str(i) for i in range(1, 29)]\n",
    "valid_submission = df_train_eval.loc[\n",
    "    :, [\"id\"] + date_names[-test_steps:]\n",
    "]\n",
    "valid_submission.columns = [\"id\"] + column_names\n",
    "valid_submission[\"id\"] = valid_submission[\"id\"].str.replace(\"evaluation\", \"validation\")\n",
    "eval_submission = pd.DataFrame(\n",
    "    [forecast.mean for forecast in forecasts],\n",
    "    columns=column_names,\n",
    "    index=all_ids,\n",
    ").reset_index()\n",
    "eval_submission.columns = [\"id\"] + eval_submission.columns[1:].tolist()\n",
    "submission = pd.concat([valid_submission, eval_submission])\n",
    "submission.to_csv(\"submission.csv\", index=False)"
   ]
  }
 ],
 "metadata": {
  "kernelspec": {
   "display_name": "Python 3",
   "language": "python",
   "name": "python3"
  },
  "language_info": {
   "codemirror_mode": {
    "name": "ipython",
    "version": 3
   },
   "file_extension": ".py",
   "mimetype": "text/x-python",
   "name": "python",
   "nbconvert_exporter": "python",
   "pygments_lexer": "ipython3",
   "version": "3.7.10"
  }
 },
 "nbformat": 4,
 "nbformat_minor": 5
}
