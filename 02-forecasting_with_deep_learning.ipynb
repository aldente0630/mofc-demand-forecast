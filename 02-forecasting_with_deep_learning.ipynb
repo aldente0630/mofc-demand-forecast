{
 "cells": [
  {
   "cell_type": "code",
   "execution_count": 1,
   "id": "a2d59165-02ca-4369-a94e-3e6ec73d65b8",
   "metadata": {},
   "outputs": [],
   "source": [
    "%load_ext autoreload\n",
    "%autoreload 2"
   ]
  },
  {
   "cell_type": "code",
   "execution_count": 2,
   "id": "04e94915-cfe3-41eb-ab51-5b55074eccc4",
   "metadata": {},
   "outputs": [
    {
     "name": "stdout",
     "output_type": "stream",
     "text": [
      "<VERSION>\n",
      "category_encoders: 2.2.2, gluonts: 0.8.0, mxnet: 1.8.0\n"
     ]
    }
   ],
   "source": [
    "import itertools\n",
    "import os\n",
    "import warnings\n",
    "import category_encoders\n",
    "import gluonts\n",
    "import mxnet\n",
    "import altair as alt\n",
    "import numpy as np\n",
    "import pandas as pd\n",
    "from pathlib import Path\n",
    "from sklearn.preprocessing import MinMaxScaler, OrdinalEncoder\n",
    "from category_encoders.hashing import HashingEncoder\n",
    "from gluonts.dataset.multivariate_grouper import MultivariateGrouper\n",
    "from gluonts.evaluation import Evaluator, MultivariateEvaluator\n",
    "from gluonts.evaluation.backtest import make_evaluation_predictions\n",
    "from gluonts.dataset.common import ListDataset\n",
    "from gluonts.dataset.field_names import FieldName\n",
    "from gluonts.model.deepar import DeepAREstimator\n",
    "from gluonts.model.deepvar import DeepVAREstimator\n",
    "from gluonts.model.predictor import Predictor\n",
    "from gluonts.mx.distribution import (\n",
    "    LowrankMultivariateGaussianOutput,\n",
    "    NegativeBinomialOutput, \n",
    "    PoissonOutput,\n",
    ")\n",
    "from gluonts.mx.trainer import Trainer\n",
    "from mxnet.context import num_gpus\n",
    "from utils.evaluation import WRMSSEEvaluator\n",
    "\n",
    "\n",
    "mxnet.random.seed(42)\n",
    "np.random.seed(42)\n",
    "warnings.filterwarnings(\"ignore\")\n",
    "print(f\"<VERSION>\\ncategory_encoders: {category_encoders.__version__}, gluonts: {gluonts.__version__}, mxnet: {mxnet.__version__}\")"
   ]
  },
  {
   "cell_type": "markdown",
   "id": "e3935438-e3c0-41e5-87ab-5c5a64f53b3a",
   "metadata": {},
   "source": [
    "The Kaggle dataset was saved in the local directory `~/data/mofc-demand-forecast` in advance."
   ]
  },
  {
   "cell_type": "code",
   "execution_count": 3,
   "id": "a1ea8ceb-ddf6-49d8-9311-77d26cc5282d",
   "metadata": {},
   "outputs": [],
   "source": [
    "DATA_PATH = \"../../data/mofc-demand-forecast\"\n",
    "MODEL_PATH = \"models\"\n",
    "\n",
    "calendar = pd.read_csv(os.path.join(DATA_PATH, \"calendar.csv\"))\n",
    "selling_prices = pd.read_csv(os.path.join(DATA_PATH, \"sell_prices.csv\"))\n",
    "df_train_valid = pd.read_csv(os.path.join(DATA_PATH, \"sales_train_validation.csv\"))\n",
    "df_train_eval = pd.read_csv(os.path.join(DATA_PATH, \"sales_train_evaluation.csv\"))\n",
    "sample_submission = pd.read_csv(os.path.join(DATA_PATH, \"sample_submission.csv\"))"
   ]
  },
  {
   "cell_type": "code",
   "execution_count": 4,
   "id": "738144a6-729f-4e48-8844-8f7d284a8016",
   "metadata": {},
   "outputs": [
    {
     "name": "stdout",
     "output_type": "stream",
     "text": [
      "3049 out of 30490 IDs were selected for testing.\n"
     ]
    }
   ],
   "source": [
    "key_names = [\"id\", \"item_id\", \"dept_id\", \"cat_id\", \"store_id\", \"state_id\"]\n",
    "all_ids = df_train_eval[\"id\"].unique()\n",
    "date_names = [\"d_\" + str(i) for i in range(1, 1942)]\n",
    "dates = calendar[\"date\"].unique()\n",
    "test_steps = 28\n",
    "\n",
    "key_pairs = list(itertools.product(all_ids, dates))\n",
    "key_pairs = pd.DataFrame(key_pairs, columns=[\"id\", \"date\"])\n",
    "\n",
    "test_sample_ratio = 0.1\n",
    "\n",
    "if test_sample_ratio == 1.0:\n",
    "    test_sampled_ids = all_ids\n",
    "else:\n",
    "    test_sampled_ids = np.random.choice(\n",
    "        all_ids, round(test_sample_ratio * len(all_ids)), replace=False\n",
    "    ).tolist()\n",
    "    \n",
    "print(\n",
    "    f\"{len(test_sampled_ids)} out of {len(all_ids)} IDs were selected for testing.\"\n",
    ")"
   ]
  },
  {
   "cell_type": "markdown",
   "id": "dc9edd18-b652-4fed-86e9-97a7cdc40e08",
   "metadata": {},
   "source": [
    "# Data Preprocessing"
   ]
  },
  {
   "cell_type": "code",
   "execution_count": 5,
   "id": "f7d39a4d-d7d8-432b-a50f-8d480b250bbf",
   "metadata": {},
   "outputs": [],
   "source": [
    "target = df_train_eval[[\"id\"] + date_names]\n",
    "target = target.set_index(\"id\").T.reset_index()\n",
    "date_dict = calendar[[\"date\", \"d\"]].set_index(\"d\").to_dict()[\"date\"]\n",
    "target[\"index\"] = target[\"index\"].replace(date_dict)\n",
    "target.columns = [\"date\"] + target.columns[1:].tolist()\n",
    "target = target.set_index(\"date\")"
   ]
  },
  {
   "cell_type": "code",
   "execution_count": 6,
   "id": "0ae6db7f-f6ca-4fb8-8bec-7659a8681bc6",
   "metadata": {},
   "outputs": [],
   "source": [
    "feature_names = [\"event_name_1\", \"event_type_1\", \"event_name_2\", \"event_type_2\"]\n",
    "events = calendar[[\"date\"] + feature_names].fillna(\"NA\")\n",
    "train = events[events[\"date\"] < dates[-2 * test_steps]][feature_names]\n",
    "\n",
    "encoder = HashingEncoder(drop_invariant=True)\n",
    "_ = encoder.fit(train)\n",
    "encoded = encoder.transform(events[feature_names])\n",
    "events = pd.concat([events[[\"date\"]], encoded], axis=1)\n",
    "\n",
    "time_related = calendar[[\"date\", \"wday\", \"month\"]]\n",
    "time_related[\"day\"] = time_related[\"date\"].map(lambda x: int(x.split(\"-\")[2]))\n",
    "\n",
    "feat_dynamic_cat = events.merge(time_related).set_index(\"date\")\n",
    "\n",
    "scaler = MinMaxScaler()\n",
    "scaled = scaler.fit_transform(feat_dynamic_cat)\n",
    "feat_dynamic_cat = pd.DataFrame(\n",
    "    scaled, columns=feat_dynamic_cat.columns, index=feat_dynamic_cat.index\n",
    ")\n",
    "n_feat_dynamic_cat = feat_dynamic_cat.shape[1]"
   ]
  },
  {
   "cell_type": "code",
   "execution_count": 7,
   "id": "042273de-a9e6-4422-a7d7-7ce528ef6f08",
   "metadata": {},
   "outputs": [],
   "source": [
    "prices = (\n",
    "    df_train_eval[[\"id\", \"store_id\", \"item_id\"]]\n",
    "    .merge(selling_prices, how=\"left\")\n",
    "    .drop([\"store_id\", \"item_id\"], axis=1)\n",
    ")\n",
    "week_to_date = calendar[[\"date\", \"wm_yr_wk\"]].drop_duplicates()\n",
    "prices = week_to_date.merge(prices, how=\"left\").drop(\n",
    "    [\"wm_yr_wk\"], axis=1\n",
    ")\n",
    "\n",
    "scaler = MinMaxScaler()\n",
    "train = prices[prices[\"date\"] < dates[-2 * test_steps]][[\"sell_price\"]]\n",
    "\n",
    "_ = scaler.fit(train)\n",
    "prices[\"sell_price\"] = scaler.transform(prices[[\"sell_price\"]])\n",
    "prices = prices.pivot(index=\"date\", columns=\"id\", values=\"sell_price\")\n",
    "prices = prices.fillna(method=\"bfill\")\n",
    "\n",
    "snap = calendar[[\"date\", \"snap_CA\", \"snap_TX\", \"snap_WI\"]]\n",
    "snap.columns = [\"date\", \"CA\", \"TX\", \"WI\"]\n",
    "snap = pd.melt(\n",
    "    snap,\n",
    "    id_vars=\"date\",\n",
    "    value_vars=[\"CA\", \"TX\", \"WI\"],\n",
    "    var_name=\"state_id\",\n",
    "    value_name=\"snap\",\n",
    ")\n",
    "snap = key_pairs.merge(df_train_eval[[\"id\", \"state_id\"]], how=\"left\").merge(\n",
    "    snap, on=[\"date\", \"state_id\"], how=\"left\"\n",
    ")\n",
    "snap = snap.pivot(index=\"date\", columns=\"id\", values=\"snap\")\n",
    "\n",
    "feat_dynamic_real = pd.concat([prices, snap], axis=1)\n",
    "n_feat_dynamic_real = int(feat_dynamic_real.shape[1] / target.shape[1])"
   ]
  },
  {
   "cell_type": "code",
   "execution_count": 8,
   "id": "0e5e5832-c6e2-4e0b-874d-4e50006d5af3",
   "metadata": {},
   "outputs": [],
   "source": [
    "feature_names = [\"item_id\", \"dept_id\", \"cat_id\", \"store_id\", \"state_id\"]\n",
    "feat_static_cat = df_train_eval[[\"id\"] + feature_names]\n",
    "\n",
    "encoder = OrdinalEncoder()\n",
    "feat_static_cat[feature_names] = encoder.fit_transform(feat_static_cat[feature_names])\n",
    "feat_static_cat[feature_names] = feat_static_cat[feature_names].astype(int)\n",
    "feat_static_cat = feat_static_cat.set_index(\"id\").T\n",
    "\n",
    "cardinality = [len(category) for category in encoder.categories_]"
   ]
  },
  {
   "cell_type": "code",
   "execution_count": 9,
   "id": "b1e94eeb-ac21-4344-869b-c08b51092fb2",
   "metadata": {},
   "outputs": [],
   "source": [
    "def split_into_n_array(x, n):\n",
    "    return np.hsplit(x.values.T.ravel(), n)\n",
    "\n",
    "\n",
    "train_list = []\n",
    "for test_sampled_id in test_sampled_ids:\n",
    "    dict_by_id = {\n",
    "        FieldName.TARGET: target[test_sampled_id].iloc[:-test_steps].values,\n",
    "        FieldName.START: target.index[0],\n",
    "        FieldName.FEAT_DYNAMIC_REAL: split_into_n_array(\n",
    "            feat_dynamic_cat.iloc[: -2 * test_steps], \n",
    "            n_feat_dynamic_cat,\n",
    "        )\n",
    "        + split_into_n_array(\n",
    "            feat_dynamic_real[test_sampled_id].iloc[: -2 * test_steps],\n",
    "            n_feat_dynamic_real,\n",
    "        ),\n",
    "        FieldName.FEAT_STATIC_CAT: feat_static_cat[test_sampled_id].values,\n",
    "    }\n",
    "    train_list.append(dict_by_id)\n",
    "\n",
    "test_list = []\n",
    "for test_sampled_id in test_sampled_ids:\n",
    "    dict_by_id = {\n",
    "        FieldName.TARGET: target[test_sampled_id].values,\n",
    "        FieldName.START: target.index[0],\n",
    "        FieldName.FEAT_DYNAMIC_REAL: split_into_n_array(\n",
    "            feat_dynamic_cat.iloc[: -test_steps], \n",
    "            n_feat_dynamic_cat,\n",
    "        )\n",
    "        + split_into_n_array(\n",
    "            feat_dynamic_real[test_sampled_id].iloc[: -test_steps],\n",
    "            n_feat_dynamic_real,\n",
    "        ),\n",
    "        FieldName.FEAT_STATIC_CAT: feat_static_cat[test_sampled_id].values,\n",
    "    }\n",
    "    test_list.append(dict_by_id)\n",
    "    \n",
    "train_dataset = ListDataset(train_list, freq=\"D\")\n",
    "test_dataset = ListDataset(test_list, freq=\"D\")"
   ]
  },
  {
   "cell_type": "markdown",
   "id": "9c9b1c0b-04ba-4a34-978b-86b5b924af81",
   "metadata": {},
   "source": [
    "# DeepAR: Model Training"
   ]
  },
  {
   "cell_type": "code",
   "execution_count": 10,
   "id": "aedcf2e0-d9af-4f1d-a51b-32fe46581f67",
   "metadata": {},
   "outputs": [],
   "source": [
    "device = \"gpu\" if num_gpus() > 0 else \"cpu\"\n",
    "trainer = Trainer(\n",
    "    ctx=device,\n",
    "    epochs=200,\n",
    "    num_batches_per_epoch=50,\n",
    "    learning_rate=0.001,\n",
    "    hybridize=True,\n",
    ")"
   ]
  },
  {
   "cell_type": "code",
   "execution_count": 11,
   "id": "9b489c21-badd-4bfa-8407-e0f1cf0f815d",
   "metadata": {},
   "outputs": [],
   "source": [
    "deepar_estimator = DeepAREstimator(\n",
    "    freq=\"D\", \n",
    "    prediction_length=test_steps,\n",
    "    trainer=trainer,\n",
    "    context_length=2 * test_steps,\n",
    "    num_layers=2,\n",
    "    num_cells=40,\n",
    "    cell_type=\"lstm\",\n",
    "    dropout_rate=0.1,\n",
    "    use_feat_dynamic_real=True,\n",
    "    use_feat_static_cat=True,\n",
    "    use_feat_static_real=False,\n",
    "    cardinality=cardinality,\n",
    "    distr_output=NegativeBinomialOutput(),\n",
    "    # distr_output=PoissonOutput(), \n",
    "    batch_size=30,\n",
    ")"
   ]
  },
  {
   "cell_type": "code",
   "execution_count": 12,
   "id": "037efb06-81ec-4875-b587-1a0b41d28bac",
   "metadata": {},
   "outputs": [
    {
     "name": "stderr",
     "output_type": "stream",
     "text": [
      "100%|██████████| 50/50 [00:05<00:00,  9.84it/s, epoch=1/200, avg_epoch_loss=0.919]\n",
      "100%|██████████| 50/50 [00:04<00:00, 10.32it/s, epoch=2/200, avg_epoch_loss=0.913]\n",
      "100%|██████████| 50/50 [00:04<00:00, 10.45it/s, epoch=3/200, avg_epoch_loss=0.855]\n",
      "100%|██████████| 50/50 [00:04<00:00, 10.58it/s, epoch=4/200, avg_epoch_loss=0.902]\n",
      "100%|██████████| 50/50 [00:04<00:00, 10.47it/s, epoch=5/200, avg_epoch_loss=0.889]\n",
      "100%|██████████| 50/50 [00:04<00:00, 10.47it/s, epoch=6/200, avg_epoch_loss=0.871]\n",
      "100%|██████████| 50/50 [00:04<00:00, 10.58it/s, epoch=7/200, avg_epoch_loss=0.909]\n",
      "100%|██████████| 50/50 [00:04<00:00, 10.59it/s, epoch=8/200, avg_epoch_loss=0.896]\n",
      "100%|██████████| 50/50 [00:04<00:00, 10.52it/s, epoch=9/200, avg_epoch_loss=0.875]\n",
      "100%|██████████| 50/50 [00:04<00:00, 10.42it/s, epoch=10/200, avg_epoch_loss=0.827]\n",
      "100%|██████████| 50/50 [00:04<00:00, 10.62it/s, epoch=11/200, avg_epoch_loss=0.86]\n",
      "100%|██████████| 50/50 [00:04<00:00, 10.79it/s, epoch=12/200, avg_epoch_loss=0.84]\n",
      "100%|██████████| 50/50 [00:04<00:00, 10.70it/s, epoch=13/200, avg_epoch_loss=0.87]\n",
      "100%|██████████| 50/50 [00:04<00:00, 10.84it/s, epoch=14/200, avg_epoch_loss=0.889]\n",
      "100%|██████████| 50/50 [00:04<00:00, 10.74it/s, epoch=15/200, avg_epoch_loss=0.883]\n",
      "100%|██████████| 50/50 [00:04<00:00, 10.82it/s, epoch=16/200, avg_epoch_loss=0.887]\n",
      "100%|██████████| 50/50 [00:04<00:00, 10.60it/s, epoch=17/200, avg_epoch_loss=0.867]\n",
      "100%|██████████| 50/50 [00:04<00:00, 10.47it/s, epoch=18/200, avg_epoch_loss=0.867]\n",
      "100%|██████████| 50/50 [00:04<00:00, 10.41it/s, epoch=19/200, avg_epoch_loss=0.857]\n",
      "100%|██████████| 50/50 [00:04<00:00, 10.46it/s, epoch=20/200, avg_epoch_loss=0.884]\n",
      "100%|██████████| 50/50 [00:04<00:00, 10.46it/s, epoch=21/200, avg_epoch_loss=0.845]\n",
      "100%|██████████| 50/50 [00:04<00:00, 10.72it/s, epoch=22/200, avg_epoch_loss=0.907]\n",
      "100%|██████████| 50/50 [00:04<00:00, 10.72it/s, epoch=23/200, avg_epoch_loss=0.867]\n",
      "100%|██████████| 50/50 [00:04<00:00, 10.69it/s, epoch=24/200, avg_epoch_loss=0.861]\n",
      "100%|██████████| 50/50 [00:04<00:00, 10.26it/s, epoch=25/200, avg_epoch_loss=0.87]\n",
      "100%|██████████| 50/50 [00:04<00:00, 10.69it/s, epoch=26/200, avg_epoch_loss=0.885]\n",
      "100%|██████████| 50/50 [00:04<00:00, 10.60it/s, epoch=27/200, avg_epoch_loss=0.857]\n",
      "100%|██████████| 50/50 [00:04<00:00, 10.68it/s, epoch=28/200, avg_epoch_loss=0.89]\n",
      "100%|██████████| 50/50 [00:04<00:00, 10.76it/s, epoch=29/200, avg_epoch_loss=0.859]\n",
      "100%|██████████| 50/50 [00:04<00:00, 10.75it/s, epoch=30/200, avg_epoch_loss=0.896]\n",
      "100%|██████████| 50/50 [00:04<00:00, 10.76it/s, epoch=31/200, avg_epoch_loss=0.869]\n",
      "100%|██████████| 50/50 [00:04<00:00, 10.77it/s, epoch=32/200, avg_epoch_loss=0.886]\n",
      "100%|██████████| 50/50 [00:04<00:00, 10.75it/s, epoch=33/200, avg_epoch_loss=0.849]\n",
      "100%|██████████| 50/50 [00:04<00:00, 10.77it/s, epoch=34/200, avg_epoch_loss=0.886]\n",
      "100%|██████████| 50/50 [00:04<00:00, 10.79it/s, epoch=35/200, avg_epoch_loss=0.824]\n",
      "100%|██████████| 50/50 [00:04<00:00, 10.79it/s, epoch=36/200, avg_epoch_loss=0.884]\n",
      "100%|██████████| 50/50 [00:04<00:00, 10.67it/s, epoch=37/200, avg_epoch_loss=0.882]\n",
      "100%|██████████| 50/50 [00:04<00:00, 10.78it/s, epoch=38/200, avg_epoch_loss=0.902]\n",
      "100%|██████████| 50/50 [00:04<00:00, 10.77it/s, epoch=39/200, avg_epoch_loss=0.858]\n",
      "100%|██████████| 50/50 [00:04<00:00, 10.73it/s, epoch=40/200, avg_epoch_loss=0.895]\n",
      "100%|██████████| 50/50 [00:04<00:00, 10.76it/s, epoch=41/200, avg_epoch_loss=0.873]\n",
      "100%|██████████| 50/50 [00:04<00:00, 10.69it/s, epoch=42/200, avg_epoch_loss=0.907]\n",
      "100%|██████████| 50/50 [00:04<00:00, 10.65it/s, epoch=43/200, avg_epoch_loss=0.861]\n",
      "100%|██████████| 50/50 [00:04<00:00, 10.51it/s, epoch=44/200, avg_epoch_loss=0.91]\n",
      "100%|██████████| 50/50 [00:04<00:00, 10.48it/s, epoch=45/200, avg_epoch_loss=0.844]\n",
      "100%|██████████| 50/50 [00:04<00:00, 10.14it/s, epoch=46/200, avg_epoch_loss=0.893]\n",
      "100%|██████████| 50/50 [00:04<00:00, 10.24it/s, epoch=47/200, avg_epoch_loss=0.869]\n",
      "100%|██████████| 50/50 [00:04<00:00, 10.27it/s, epoch=48/200, avg_epoch_loss=0.879]\n",
      "100%|██████████| 50/50 [00:04<00:00, 10.44it/s, epoch=49/200, avg_epoch_loss=0.84]\n",
      "100%|██████████| 50/50 [00:04<00:00, 10.34it/s, epoch=50/200, avg_epoch_loss=0.866]\n",
      "100%|██████████| 50/50 [00:04<00:00, 10.46it/s, epoch=51/200, avg_epoch_loss=0.883]\n",
      "100%|██████████| 50/50 [00:04<00:00, 10.75it/s, epoch=52/200, avg_epoch_loss=0.847]\n",
      "100%|██████████| 50/50 [00:04<00:00, 10.52it/s, epoch=53/200, avg_epoch_loss=0.874]\n",
      "100%|██████████| 50/50 [00:04<00:00, 10.44it/s, epoch=54/200, avg_epoch_loss=0.879]\n",
      "100%|██████████| 50/50 [00:04<00:00, 10.51it/s, epoch=55/200, avg_epoch_loss=0.874]\n",
      "100%|██████████| 50/50 [00:04<00:00, 10.45it/s, epoch=56/200, avg_epoch_loss=0.847]\n",
      "100%|██████████| 50/50 [00:04<00:00, 10.52it/s, epoch=57/200, avg_epoch_loss=0.888]\n",
      "100%|██████████| 50/50 [00:04<00:00, 10.39it/s, epoch=58/200, avg_epoch_loss=0.875]\n",
      "100%|██████████| 50/50 [00:04<00:00, 10.48it/s, epoch=59/200, avg_epoch_loss=0.829]\n",
      "100%|██████████| 50/50 [00:04<00:00, 10.45it/s, epoch=60/200, avg_epoch_loss=0.887]\n",
      "100%|██████████| 50/50 [00:04<00:00, 10.48it/s, epoch=61/200, avg_epoch_loss=0.837]\n",
      "100%|██████████| 50/50 [00:04<00:00, 10.05it/s, epoch=62/200, avg_epoch_loss=0.874]\n",
      "100%|██████████| 50/50 [00:04<00:00, 10.44it/s, epoch=63/200, avg_epoch_loss=0.872]\n",
      "100%|██████████| 50/50 [00:04<00:00, 10.37it/s, epoch=64/200, avg_epoch_loss=0.863]\n",
      "100%|██████████| 50/50 [00:04<00:00, 10.53it/s, epoch=65/200, avg_epoch_loss=0.875]\n",
      "100%|██████████| 50/50 [00:04<00:00, 10.36it/s, epoch=66/200, avg_epoch_loss=0.863]\n",
      "100%|██████████| 50/50 [00:04<00:00, 10.02it/s, epoch=67/200, avg_epoch_loss=0.878]\n",
      "100%|██████████| 50/50 [00:04<00:00, 10.40it/s, epoch=68/200, avg_epoch_loss=0.875]\n",
      "100%|██████████| 50/50 [00:04<00:00, 10.45it/s, epoch=69/200, avg_epoch_loss=0.893]\n",
      "100%|██████████| 50/50 [00:04<00:00, 10.41it/s, epoch=70/200, avg_epoch_loss=0.9]\n",
      "100%|██████████| 50/50 [00:04<00:00, 10.19it/s, epoch=71/200, avg_epoch_loss=0.909]\n",
      "100%|██████████| 50/50 [00:04<00:00, 10.31it/s, epoch=72/200, avg_epoch_loss=0.806]\n",
      "100%|██████████| 50/50 [00:04<00:00, 10.41it/s, epoch=73/200, avg_epoch_loss=0.903]\n",
      "100%|██████████| 50/50 [00:04<00:00, 10.47it/s, epoch=74/200, avg_epoch_loss=0.873]\n",
      "100%|██████████| 50/50 [00:04<00:00, 10.51it/s, epoch=75/200, avg_epoch_loss=0.85]\n",
      "100%|██████████| 50/50 [00:04<00:00, 10.44it/s, epoch=76/200, avg_epoch_loss=0.831]\n",
      "100%|██████████| 50/50 [00:04<00:00, 10.44it/s, epoch=77/200, avg_epoch_loss=0.908]\n",
      "100%|██████████| 50/50 [00:04<00:00, 10.53it/s, epoch=78/200, avg_epoch_loss=0.882]\n",
      "100%|██████████| 50/50 [00:04<00:00, 10.28it/s, epoch=79/200, avg_epoch_loss=0.866]\n",
      "100%|██████████| 50/50 [00:04<00:00, 10.32it/s, epoch=80/200, avg_epoch_loss=0.868]\n",
      "100%|██████████| 50/50 [00:04<00:00, 10.24it/s, epoch=81/200, avg_epoch_loss=0.884]\n",
      "100%|██████████| 50/50 [00:04<00:00, 10.77it/s, epoch=82/200, avg_epoch_loss=0.852]\n",
      "WARNING:root:Serializing RepresentableBlockPredictor instances does not save the prediction network structure in a backwards-compatible manner. Be careful not to use this method in production.\n"
     ]
    },
    {
     "name": "stdout",
     "output_type": "stream",
     "text": [
      "Early stopping based on learning rate scheduler callback (min_lr was reached).\n",
      "CPU times: user 6min 30s, sys: 11.6 s, total: 6min 41s\n",
      "Wall time: 6min 31s\n"
     ]
    }
   ],
   "source": [
    "%%time\n",
    "deepar_predictor = deepar_estimator.train(train_dataset)\n",
    "\n",
    "os.makedirs(os.path.join(MODEL_PATH, \"deepar\"), exist_ok=True)\n",
    "deepar_predictor.serialize(Path(os.path.join(MODEL_PATH, \"deepar\")))"
   ]
  },
  {
   "cell_type": "markdown",
   "id": "cf9bab3d-d4b2-4d5b-a0fd-3f307ebfdbe6",
   "metadata": {},
   "source": [
    "# DeepAR: Model Evaluation"
   ]
  },
  {
   "cell_type": "code",
   "execution_count": 13,
   "id": "758f8a4f-48b0-4a2c-978a-b621336b9276",
   "metadata": {},
   "outputs": [],
   "source": [
    "deepar_predictor = Predictor.deserialize(Path(os.path.join(MODEL_PATH, \"deepar\")))"
   ]
  },
  {
   "cell_type": "code",
   "execution_count": 14,
   "id": "b33084a2-5bbf-4f4a-841d-5e13c111b129",
   "metadata": {},
   "outputs": [
    {
     "name": "stdout",
     "output_type": "stream",
     "text": [
      "CPU times: user 1min 37s, sys: 14.3 s, total: 1min 51s\n",
      "Wall time: 1min 38s\n"
     ]
    }
   ],
   "source": [
    "%%time\n",
    "forecast_iter, ts_iter = make_evaluation_predictions( \n",
    "    dataset=test_dataset,\n",
    "    predictor=deepar_predictor, \n",
    "    num_samples=100,\n",
    ") \n",
    "forecasts = list(forecast_iter)\n",
    "tss = list(ts_iter)"
   ]
  },
  {
   "cell_type": "code",
   "execution_count": 15,
   "id": "0f2f5f87-12e2-41ee-bdc9-66f1d6fc5e3f",
   "metadata": {},
   "outputs": [
    {
     "name": "stderr",
     "output_type": "stream",
     "text": [
      "Running evaluation: 100%|██████████| 3049/3049 [00:00<00:00, 43855.78it/s]\n"
     ]
    }
   ],
   "source": [
    "num_series = len(test_sampled_ids)\n",
    "\n",
    "evaluator = Evaluator(quantiles=[0.1, 0.5, 0.9])\n",
    "agg_metrics, item_metrics = evaluator(\n",
    "    iter(tss), iter(forecasts), num_series=num_series\n",
    ")"
   ]
  },
  {
   "cell_type": "code",
   "execution_count": 16,
   "id": "907b3737-3aef-44d6-ae6e-795d7a665582",
   "metadata": {},
   "outputs": [
    {
     "name": "stdout",
     "output_type": "stream",
     "text": [
      "MSE: 4.3473\n",
      "abs_error: 81724.0000\n",
      "abs_target_sum: 124807.0000\n",
      "abs_target_mean: 1.4619\n",
      "seasonal_error: 0.9371\n",
      "MASE: 1.3088\n",
      "MAPE: 0.7749\n",
      "sMAPE: 1.5335\n",
      "MSIS: 11.5561\n",
      "QuantileLoss[0.1]: 23123.6000\n",
      "Coverage[0.1]: 0.0068\n",
      "QuantileLoss[0.5]: 81724.0000\n",
      "Coverage[0.5]: 0.1504\n",
      "QuantileLoss[0.9]: 55075.4000\n",
      "Coverage[0.9]: 0.7056\n",
      "RMSE: 2.0850\n",
      "NRMSE: 1.4262\n",
      "ND: 0.6548\n",
      "wQuantileLoss[0.1]: 0.1853\n",
      "wQuantileLoss[0.5]: 0.6548\n",
      "wQuantileLoss[0.9]: 0.4413\n",
      "mean_absolute_QuantileLoss: 53307.6667\n",
      "mean_wQuantileLoss: 0.4271\n",
      "MAE_Coverage: 0.212\n"
     ]
    }
   ],
   "source": [
    "string = \"\"\n",
    "for key, value in agg_metrics.items():\n",
    "    if not np.isnan(value):\n",
    "        string += key + \": \" + f\"{value:.4f}\\n\"\n",
    "        \n",
    "print(string[:-2])"
   ]
  },
  {
   "cell_type": "code",
   "execution_count": 17,
   "id": "eb414f5d-1229-4581-be1f-3d401b0b862a",
   "metadata": {},
   "outputs": [
    {
     "data": {
      "application/vnd.jupyter.widget-view+json": {
       "model_id": "bbbebe67a01947c4824e3a3af3cf03ea",
       "version_major": 2,
       "version_minor": 0
      },
      "text/plain": [
       "  0%|          | 0/12 [00:00<?, ?it/s]"
      ]
     },
     "metadata": {},
     "output_type": "display_data"
    }
   ],
   "source": [
    "sampled_df_train_eval = (\n",
    "    df_train_eval.set_index(\"id\").loc[test_sampled_ids].reset_index()\n",
    ")\n",
    "sampled_df_train = sampled_df_train_eval.loc[:, key_names + date_names[:-test_steps]]\n",
    "sampled_df_test = sampled_df_train_eval.loc[:, date_names[-test_steps:]]\n",
    "\n",
    "wrmsse_evaluator = WRMSSEEvaluator(\n",
    "    sampled_df_train, sampled_df_test, calendar, selling_prices, test_steps\n",
    ")"
   ]
  },
  {
   "cell_type": "code",
   "execution_count": 18,
   "id": "2aae0735-1034-432e-aa67-92fab8069ea3",
   "metadata": {},
   "outputs": [
    {
     "name": "stdout",
     "output_type": "stream",
     "text": [
      "DeepAR WRMSSE: 0.719898\n"
     ]
    }
   ],
   "source": [
    "predictions = [forecast.mean for forecast in forecasts]\n",
    "sampled_df_pred = pd.DataFrame(predictions, columns=sampled_df_test.columns)\n",
    "\n",
    "wrmsse = wrmsse_evaluator.score(sampled_df_pred)\n",
    "\n",
    "print(f\"DeepAR WRMSSE: {wrmsse:.6f}\")"
   ]
  },
  {
   "cell_type": "code",
   "execution_count": 19,
   "id": "5b53b8ed-43b5-4419-9149-36cf741603ac",
   "metadata": {},
   "outputs": [],
   "source": [
    "def plot_forecast(source, test_steps, plot_id=None, model_name=None, start_date=None):\n",
    "    if start_date is not None:\n",
    "        source = source[source[\"time\"] >= start_date]\n",
    "\n",
    "    points = (\n",
    "        alt.Chart(source)\n",
    "        .mark_circle(size=10.0, color=\"#000000\")\n",
    "        .encode(\n",
    "            x=alt.X(\"time:T\", axis=alt.Axis(title=\"Date\")),\n",
    "            y=alt.Y(\"y\", axis=alt.Axis(title=\"Sales\")),\n",
    "            tooltip=[\"time:T\", \"y:Q\"],\n",
    "        )\n",
    "    )\n",
    "\n",
    "    line = (\n",
    "        alt.Chart(source)\n",
    "        .mark_line(size=1.0, color=\"#4267B2\")\n",
    "        .encode(\n",
    "            x=\"time:T\",\n",
    "            y=\"fcst\",\n",
    "        )\n",
    "    )\n",
    "\n",
    "    band_90 = (\n",
    "        alt.Chart(source)\n",
    "        .mark_area(opacity=0.25, color=\"#4267B2\")\n",
    "        .encode(\n",
    "            x=\"time:T\",\n",
    "            y=\"fcst_lower_05\",\n",
    "            y2=\"fcst_upper_95\",\n",
    "        )\n",
    "    )\n",
    "\n",
    "    band_50 = (\n",
    "        alt.Chart(source)\n",
    "        .mark_area(opacity=0.5, color=\"#4267B2\")\n",
    "        .encode(\n",
    "            x=\"time:T\",\n",
    "            y=\"fcst_lower_25\",\n",
    "            y2=\"fcst_upper_75\",\n",
    "        )\n",
    "    )\n",
    "\n",
    "    rule = (\n",
    "        alt.Chart(source[[\"time\"]].iloc[-test_steps : -test_steps + 1])\n",
    "        .mark_rule(size=1.0, color=\"#FF0000\", strokeDash=[2, 2])\n",
    "        .encode(x=\"time:T\")\n",
    "    )\n",
    "\n",
    "    title = \"Sales Forecast\"\n",
    "    if plot_id is not None:\n",
    "        title += f\" for '{plot_id}'\"\n",
    "    if model_name is not None:\n",
    "        title = f\"{model_name}: \" + title\n",
    "\n",
    "    return (points + line + band_90 + band_50 + rule).properties(title=title, width=1000, height=300)"
   ]
  },
  {
   "cell_type": "code",
   "execution_count": 20,
   "id": "4b0319af-1f7a-4617-ad8a-8ad635f8b92b",
   "metadata": {},
   "outputs": [
    {
     "data": {
      "text/html": [
       "\n",
       "<div id=\"altair-viz-01a468b1edfa4bb9910578398cbace34\"></div>\n",
       "<script type=\"text/javascript\">\n",
       "  (function(spec, embedOpt){\n",
       "    let outputDiv = document.currentScript.previousElementSibling;\n",
       "    if (outputDiv.id !== \"altair-viz-01a468b1edfa4bb9910578398cbace34\") {\n",
       "      outputDiv = document.getElementById(\"altair-viz-01a468b1edfa4bb9910578398cbace34\");\n",
       "    }\n",
       "    const paths = {\n",
       "      \"vega\": \"https://cdn.jsdelivr.net/npm//vega@5?noext\",\n",
       "      \"vega-lib\": \"https://cdn.jsdelivr.net/npm//vega-lib?noext\",\n",
       "      \"vega-lite\": \"https://cdn.jsdelivr.net/npm//vega-lite@4.8.1?noext\",\n",
       "      \"vega-embed\": \"https://cdn.jsdelivr.net/npm//vega-embed@6?noext\",\n",
       "    };\n",
       "\n",
       "    function loadScript(lib) {\n",
       "      return new Promise(function(resolve, reject) {\n",
       "        var s = document.createElement('script');\n",
       "        s.src = paths[lib];\n",
       "        s.async = true;\n",
       "        s.onload = () => resolve(paths[lib]);\n",
       "        s.onerror = () => reject(`Error loading script: ${paths[lib]}`);\n",
       "        document.getElementsByTagName(\"head\")[0].appendChild(s);\n",
       "      });\n",
       "    }\n",
       "\n",
       "    function showError(err) {\n",
       "      outputDiv.innerHTML = `<div class=\"error\" style=\"color:red;\">${err}</div>`;\n",
       "      throw err;\n",
       "    }\n",
       "\n",
       "    function displayChart(vegaEmbed) {\n",
       "      vegaEmbed(outputDiv, spec, embedOpt)\n",
       "        .catch(err => showError(`Javascript Error: ${err.message}<br>This usually means there's a typo in your chart specification. See the javascript console for the full traceback.`));\n",
       "    }\n",
       "\n",
       "    if(typeof define === \"function\" && define.amd) {\n",
       "      requirejs.config({paths});\n",
       "      require([\"vega-embed\"], displayChart, err => showError(`Error loading script: ${err.message}`));\n",
       "    } else if (typeof vegaEmbed === \"function\") {\n",
       "      displayChart(vegaEmbed);\n",
       "    } else {\n",
       "      loadScript(\"vega\")\n",
       "        .then(() => loadScript(\"vega-lite\"))\n",
       "        .then(() => loadScript(\"vega-embed\"))\n",
       "        .catch(showError)\n",
       "        .then(() => displayChart(vegaEmbed));\n",
       "    }\n",
       "  })({\"config\": {\"view\": {\"continuousWidth\": 400, \"continuousHeight\": 300}}, \"layer\": [{\"mark\": {\"type\": \"circle\", \"color\": \"#000000\", \"size\": 10.0}, \"encoding\": {\"tooltip\": [{\"type\": \"temporal\", \"field\": \"time\"}, {\"type\": \"quantitative\", \"field\": \"y\"}], \"x\": {\"type\": \"temporal\", \"axis\": {\"title\": \"Date\"}, \"field\": \"time\"}, \"y\": {\"type\": \"quantitative\", \"axis\": {\"title\": \"Sales\"}, \"field\": \"y\"}}}, {\"mark\": {\"type\": \"line\", \"color\": \"#4267B2\", \"size\": 1.0}, \"encoding\": {\"x\": {\"type\": \"temporal\", \"field\": \"time\"}, \"y\": {\"type\": \"quantitative\", \"field\": \"fcst\"}}}, {\"mark\": {\"type\": \"area\", \"color\": \"#4267B2\", \"opacity\": 0.25}, \"encoding\": {\"x\": {\"type\": \"temporal\", \"field\": \"time\"}, \"y\": {\"type\": \"quantitative\", \"field\": \"fcst_lower_05\"}, \"y2\": {\"field\": \"fcst_upper_95\"}}}, {\"mark\": {\"type\": \"area\", \"color\": \"#4267B2\", \"opacity\": 0.5}, \"encoding\": {\"x\": {\"type\": \"temporal\", \"field\": \"time\"}, \"y\": {\"type\": \"quantitative\", \"field\": \"fcst_lower_25\"}, \"y2\": {\"field\": \"fcst_upper_75\"}}}, {\"data\": {\"name\": \"data-302bc33366dfe1498bc0394fc8325ea5\"}, \"mark\": {\"type\": \"rule\", \"color\": \"#FF0000\", \"size\": 1.0, \"strokeDash\": [2, 2]}, \"encoding\": {\"x\": {\"type\": \"temporal\", \"field\": \"time\"}}}], \"data\": {\"name\": \"data-074f5b38cd774671f378b5cf34ec2d98\"}, \"height\": 300, \"title\": \"DeepAR: Sales Forecast for 'FOODS_3_656_CA_1_evaluation'\", \"width\": 1000, \"$schema\": \"https://vega.github.io/schema/vega-lite/v4.8.1.json\", \"datasets\": {\"data-074f5b38cd774671f378b5cf34ec2d98\": [{\"time\": \"2015-05-23T00:00:00\", \"y\": 0, \"fcst\": null, \"fcst_lower_05\": null, \"fcst_lower_25\": null, \"fcst_upper_75\": null, \"fcst_upper_95\": null}, {\"time\": \"2015-05-24T00:00:00\", \"y\": 0, \"fcst\": null, \"fcst_lower_05\": null, \"fcst_lower_25\": null, \"fcst_upper_75\": null, \"fcst_upper_95\": null}, {\"time\": \"2015-05-25T00:00:00\", \"y\": 1, \"fcst\": null, \"fcst_lower_05\": null, \"fcst_lower_25\": null, \"fcst_upper_75\": null, \"fcst_upper_95\": null}, {\"time\": \"2015-05-26T00:00:00\", \"y\": 0, \"fcst\": null, \"fcst_lower_05\": null, \"fcst_lower_25\": null, \"fcst_upper_75\": null, \"fcst_upper_95\": null}, {\"time\": \"2015-05-27T00:00:00\", \"y\": 0, \"fcst\": null, \"fcst_lower_05\": null, \"fcst_lower_25\": null, \"fcst_upper_75\": null, \"fcst_upper_95\": null}, {\"time\": \"2015-05-28T00:00:00\", \"y\": 0, \"fcst\": null, \"fcst_lower_05\": null, \"fcst_lower_25\": null, \"fcst_upper_75\": null, \"fcst_upper_95\": null}, {\"time\": \"2015-05-29T00:00:00\", \"y\": 0, \"fcst\": null, \"fcst_lower_05\": null, \"fcst_lower_25\": null, \"fcst_upper_75\": null, \"fcst_upper_95\": null}, {\"time\": \"2015-05-30T00:00:00\", \"y\": 0, \"fcst\": null, \"fcst_lower_05\": null, \"fcst_lower_25\": null, \"fcst_upper_75\": null, \"fcst_upper_95\": null}, {\"time\": \"2015-05-31T00:00:00\", \"y\": 0, \"fcst\": null, \"fcst_lower_05\": null, \"fcst_lower_25\": null, \"fcst_upper_75\": null, \"fcst_upper_95\": null}, {\"time\": \"2015-06-01T00:00:00\", \"y\": 0, \"fcst\": null, \"fcst_lower_05\": null, \"fcst_lower_25\": null, \"fcst_upper_75\": null, \"fcst_upper_95\": null}, {\"time\": \"2015-06-02T00:00:00\", \"y\": 1, \"fcst\": null, \"fcst_lower_05\": null, \"fcst_lower_25\": null, \"fcst_upper_75\": null, \"fcst_upper_95\": null}, {\"time\": \"2015-06-03T00:00:00\", \"y\": 0, \"fcst\": null, \"fcst_lower_05\": null, \"fcst_lower_25\": null, \"fcst_upper_75\": null, \"fcst_upper_95\": null}, {\"time\": \"2015-06-04T00:00:00\", \"y\": 1, \"fcst\": null, \"fcst_lower_05\": null, \"fcst_lower_25\": null, \"fcst_upper_75\": null, \"fcst_upper_95\": null}, {\"time\": \"2015-06-05T00:00:00\", \"y\": 0, \"fcst\": null, \"fcst_lower_05\": null, \"fcst_lower_25\": null, \"fcst_upper_75\": null, \"fcst_upper_95\": null}, {\"time\": \"2015-06-06T00:00:00\", \"y\": 0, \"fcst\": null, \"fcst_lower_05\": null, \"fcst_lower_25\": null, \"fcst_upper_75\": null, \"fcst_upper_95\": null}, {\"time\": \"2015-06-07T00:00:00\", \"y\": 0, \"fcst\": null, \"fcst_lower_05\": null, \"fcst_lower_25\": null, \"fcst_upper_75\": null, \"fcst_upper_95\": null}, {\"time\": \"2015-06-08T00:00:00\", \"y\": 0, \"fcst\": null, \"fcst_lower_05\": null, \"fcst_lower_25\": null, \"fcst_upper_75\": null, \"fcst_upper_95\": null}, {\"time\": \"2015-06-09T00:00:00\", \"y\": 0, \"fcst\": null, \"fcst_lower_05\": null, \"fcst_lower_25\": null, \"fcst_upper_75\": null, \"fcst_upper_95\": null}, {\"time\": \"2015-06-10T00:00:00\", \"y\": 0, \"fcst\": null, \"fcst_lower_05\": null, \"fcst_lower_25\": null, \"fcst_upper_75\": null, \"fcst_upper_95\": null}, {\"time\": \"2015-06-11T00:00:00\", \"y\": 0, \"fcst\": null, \"fcst_lower_05\": null, \"fcst_lower_25\": null, \"fcst_upper_75\": null, \"fcst_upper_95\": null}, {\"time\": \"2015-06-12T00:00:00\", \"y\": 0, \"fcst\": null, \"fcst_lower_05\": null, \"fcst_lower_25\": null, \"fcst_upper_75\": null, \"fcst_upper_95\": null}, {\"time\": \"2015-06-13T00:00:00\", \"y\": 0, \"fcst\": null, \"fcst_lower_05\": null, \"fcst_lower_25\": null, \"fcst_upper_75\": null, \"fcst_upper_95\": null}, {\"time\": \"2015-06-14T00:00:00\", \"y\": 0, \"fcst\": null, \"fcst_lower_05\": null, \"fcst_lower_25\": null, \"fcst_upper_75\": null, \"fcst_upper_95\": null}, {\"time\": \"2015-06-15T00:00:00\", \"y\": 0, \"fcst\": null, \"fcst_lower_05\": null, \"fcst_lower_25\": null, \"fcst_upper_75\": null, \"fcst_upper_95\": null}, {\"time\": \"2015-06-16T00:00:00\", \"y\": 0, \"fcst\": null, \"fcst_lower_05\": null, \"fcst_lower_25\": null, \"fcst_upper_75\": null, \"fcst_upper_95\": null}, {\"time\": \"2015-06-17T00:00:00\", \"y\": 1, \"fcst\": null, \"fcst_lower_05\": null, \"fcst_lower_25\": null, \"fcst_upper_75\": null, \"fcst_upper_95\": null}, {\"time\": \"2015-06-18T00:00:00\", \"y\": 0, \"fcst\": null, \"fcst_lower_05\": null, \"fcst_lower_25\": null, \"fcst_upper_75\": null, \"fcst_upper_95\": null}, {\"time\": \"2015-06-19T00:00:00\", \"y\": 0, \"fcst\": null, \"fcst_lower_05\": null, \"fcst_lower_25\": null, \"fcst_upper_75\": null, \"fcst_upper_95\": null}, {\"time\": \"2015-06-20T00:00:00\", \"y\": 0, \"fcst\": null, \"fcst_lower_05\": null, \"fcst_lower_25\": null, \"fcst_upper_75\": null, \"fcst_upper_95\": null}, {\"time\": \"2015-06-21T00:00:00\", \"y\": 0, \"fcst\": null, \"fcst_lower_05\": null, \"fcst_lower_25\": null, \"fcst_upper_75\": null, \"fcst_upper_95\": null}, {\"time\": \"2015-06-22T00:00:00\", \"y\": 0, \"fcst\": null, \"fcst_lower_05\": null, \"fcst_lower_25\": null, \"fcst_upper_75\": null, \"fcst_upper_95\": null}, {\"time\": \"2015-06-23T00:00:00\", \"y\": 0, \"fcst\": null, \"fcst_lower_05\": null, \"fcst_lower_25\": null, \"fcst_upper_75\": null, \"fcst_upper_95\": null}, {\"time\": \"2015-06-24T00:00:00\", \"y\": 0, \"fcst\": null, \"fcst_lower_05\": null, \"fcst_lower_25\": null, \"fcst_upper_75\": null, \"fcst_upper_95\": null}, {\"time\": \"2015-06-25T00:00:00\", \"y\": 0, \"fcst\": null, \"fcst_lower_05\": null, \"fcst_lower_25\": null, \"fcst_upper_75\": null, \"fcst_upper_95\": null}, {\"time\": \"2015-06-26T00:00:00\", \"y\": 1, \"fcst\": null, \"fcst_lower_05\": null, \"fcst_lower_25\": null, \"fcst_upper_75\": null, \"fcst_upper_95\": null}, {\"time\": \"2015-06-27T00:00:00\", \"y\": 0, \"fcst\": null, \"fcst_lower_05\": null, \"fcst_lower_25\": null, \"fcst_upper_75\": null, \"fcst_upper_95\": null}, {\"time\": \"2015-06-28T00:00:00\", \"y\": 0, \"fcst\": null, \"fcst_lower_05\": null, \"fcst_lower_25\": null, \"fcst_upper_75\": null, \"fcst_upper_95\": null}, {\"time\": \"2015-06-29T00:00:00\", \"y\": 1, \"fcst\": null, \"fcst_lower_05\": null, \"fcst_lower_25\": null, \"fcst_upper_75\": null, \"fcst_upper_95\": null}, {\"time\": \"2015-06-30T00:00:00\", \"y\": 0, \"fcst\": null, \"fcst_lower_05\": null, \"fcst_lower_25\": null, \"fcst_upper_75\": null, \"fcst_upper_95\": null}, {\"time\": \"2015-07-01T00:00:00\", \"y\": 0, \"fcst\": null, \"fcst_lower_05\": null, \"fcst_lower_25\": null, \"fcst_upper_75\": null, \"fcst_upper_95\": null}, {\"time\": \"2015-07-02T00:00:00\", \"y\": 1, \"fcst\": null, \"fcst_lower_05\": null, \"fcst_lower_25\": null, \"fcst_upper_75\": null, \"fcst_upper_95\": null}, {\"time\": \"2015-07-03T00:00:00\", \"y\": 1, \"fcst\": null, \"fcst_lower_05\": null, \"fcst_lower_25\": null, \"fcst_upper_75\": null, \"fcst_upper_95\": null}, {\"time\": \"2015-07-04T00:00:00\", \"y\": 0, \"fcst\": null, \"fcst_lower_05\": null, \"fcst_lower_25\": null, \"fcst_upper_75\": null, \"fcst_upper_95\": null}, {\"time\": \"2015-07-05T00:00:00\", \"y\": 0, \"fcst\": null, \"fcst_lower_05\": null, \"fcst_lower_25\": null, \"fcst_upper_75\": null, \"fcst_upper_95\": null}, {\"time\": \"2015-07-06T00:00:00\", \"y\": 0, \"fcst\": null, \"fcst_lower_05\": null, \"fcst_lower_25\": null, \"fcst_upper_75\": null, \"fcst_upper_95\": null}, {\"time\": \"2015-07-07T00:00:00\", \"y\": 1, \"fcst\": null, \"fcst_lower_05\": null, \"fcst_lower_25\": null, \"fcst_upper_75\": null, \"fcst_upper_95\": null}, {\"time\": \"2015-07-08T00:00:00\", \"y\": 3, \"fcst\": null, \"fcst_lower_05\": null, \"fcst_lower_25\": null, \"fcst_upper_75\": null, \"fcst_upper_95\": null}, {\"time\": \"2015-07-09T00:00:00\", \"y\": 0, \"fcst\": null, \"fcst_lower_05\": null, \"fcst_lower_25\": null, \"fcst_upper_75\": null, \"fcst_upper_95\": null}, {\"time\": \"2015-07-10T00:00:00\", \"y\": 0, \"fcst\": null, \"fcst_lower_05\": null, \"fcst_lower_25\": null, \"fcst_upper_75\": null, \"fcst_upper_95\": null}, {\"time\": \"2015-07-11T00:00:00\", \"y\": 0, \"fcst\": null, \"fcst_lower_05\": null, \"fcst_lower_25\": null, \"fcst_upper_75\": null, \"fcst_upper_95\": null}, {\"time\": \"2015-07-12T00:00:00\", \"y\": 0, \"fcst\": null, \"fcst_lower_05\": null, \"fcst_lower_25\": null, \"fcst_upper_75\": null, \"fcst_upper_95\": null}, {\"time\": \"2015-07-13T00:00:00\", \"y\": 0, \"fcst\": null, \"fcst_lower_05\": null, \"fcst_lower_25\": null, \"fcst_upper_75\": null, \"fcst_upper_95\": null}, {\"time\": \"2015-07-14T00:00:00\", \"y\": 1, \"fcst\": null, \"fcst_lower_05\": null, \"fcst_lower_25\": null, \"fcst_upper_75\": null, \"fcst_upper_95\": null}, {\"time\": \"2015-07-15T00:00:00\", \"y\": 0, \"fcst\": null, \"fcst_lower_05\": null, \"fcst_lower_25\": null, \"fcst_upper_75\": null, \"fcst_upper_95\": null}, {\"time\": \"2015-07-16T00:00:00\", \"y\": 0, \"fcst\": null, \"fcst_lower_05\": null, \"fcst_lower_25\": null, \"fcst_upper_75\": null, \"fcst_upper_95\": null}, {\"time\": \"2015-07-17T00:00:00\", \"y\": 0, \"fcst\": null, \"fcst_lower_05\": null, \"fcst_lower_25\": null, \"fcst_upper_75\": null, \"fcst_upper_95\": null}, {\"time\": \"2015-07-18T00:00:00\", \"y\": 0, \"fcst\": null, \"fcst_lower_05\": null, \"fcst_lower_25\": null, \"fcst_upper_75\": null, \"fcst_upper_95\": null}, {\"time\": \"2015-07-19T00:00:00\", \"y\": 0, \"fcst\": null, \"fcst_lower_05\": null, \"fcst_lower_25\": null, \"fcst_upper_75\": null, \"fcst_upper_95\": null}, {\"time\": \"2015-07-20T00:00:00\", \"y\": 0, \"fcst\": null, \"fcst_lower_05\": null, \"fcst_lower_25\": null, \"fcst_upper_75\": null, \"fcst_upper_95\": null}, {\"time\": \"2015-07-21T00:00:00\", \"y\": 0, \"fcst\": null, \"fcst_lower_05\": null, \"fcst_lower_25\": null, \"fcst_upper_75\": null, \"fcst_upper_95\": null}, {\"time\": \"2015-07-22T00:00:00\", \"y\": 0, \"fcst\": null, \"fcst_lower_05\": null, \"fcst_lower_25\": null, \"fcst_upper_75\": null, \"fcst_upper_95\": null}, {\"time\": \"2015-07-23T00:00:00\", \"y\": 0, \"fcst\": null, \"fcst_lower_05\": null, \"fcst_lower_25\": null, \"fcst_upper_75\": null, \"fcst_upper_95\": null}, {\"time\": \"2015-07-24T00:00:00\", \"y\": 0, \"fcst\": null, \"fcst_lower_05\": null, \"fcst_lower_25\": null, \"fcst_upper_75\": null, \"fcst_upper_95\": null}, {\"time\": \"2015-07-25T00:00:00\", \"y\": 0, \"fcst\": null, \"fcst_lower_05\": null, \"fcst_lower_25\": null, \"fcst_upper_75\": null, \"fcst_upper_95\": null}, {\"time\": \"2015-07-26T00:00:00\", \"y\": 0, \"fcst\": null, \"fcst_lower_05\": null, \"fcst_lower_25\": null, \"fcst_upper_75\": null, \"fcst_upper_95\": null}, {\"time\": \"2015-07-27T00:00:00\", \"y\": 0, \"fcst\": null, \"fcst_lower_05\": null, \"fcst_lower_25\": null, \"fcst_upper_75\": null, \"fcst_upper_95\": null}, {\"time\": \"2015-07-28T00:00:00\", \"y\": 0, \"fcst\": null, \"fcst_lower_05\": null, \"fcst_lower_25\": null, \"fcst_upper_75\": null, \"fcst_upper_95\": null}, {\"time\": \"2015-07-29T00:00:00\", \"y\": 0, \"fcst\": null, \"fcst_lower_05\": null, \"fcst_lower_25\": null, \"fcst_upper_75\": null, \"fcst_upper_95\": null}, {\"time\": \"2015-07-30T00:00:00\", \"y\": 0, \"fcst\": null, \"fcst_lower_05\": null, \"fcst_lower_25\": null, \"fcst_upper_75\": null, \"fcst_upper_95\": null}, {\"time\": \"2015-07-31T00:00:00\", \"y\": 0, \"fcst\": null, \"fcst_lower_05\": null, \"fcst_lower_25\": null, \"fcst_upper_75\": null, \"fcst_upper_95\": null}, {\"time\": \"2015-08-01T00:00:00\", \"y\": 0, \"fcst\": null, \"fcst_lower_05\": null, \"fcst_lower_25\": null, \"fcst_upper_75\": null, \"fcst_upper_95\": null}, {\"time\": \"2015-08-02T00:00:00\", \"y\": 0, \"fcst\": null, \"fcst_lower_05\": null, \"fcst_lower_25\": null, \"fcst_upper_75\": null, \"fcst_upper_95\": null}, {\"time\": \"2015-08-03T00:00:00\", \"y\": 0, \"fcst\": null, \"fcst_lower_05\": null, \"fcst_lower_25\": null, \"fcst_upper_75\": null, \"fcst_upper_95\": null}, {\"time\": \"2015-08-04T00:00:00\", \"y\": 0, \"fcst\": null, \"fcst_lower_05\": null, \"fcst_lower_25\": null, \"fcst_upper_75\": null, \"fcst_upper_95\": null}, {\"time\": \"2015-08-05T00:00:00\", \"y\": 0, \"fcst\": null, \"fcst_lower_05\": null, \"fcst_lower_25\": null, \"fcst_upper_75\": null, \"fcst_upper_95\": null}, {\"time\": \"2015-08-06T00:00:00\", \"y\": 0, \"fcst\": null, \"fcst_lower_05\": null, \"fcst_lower_25\": null, \"fcst_upper_75\": null, \"fcst_upper_95\": null}, {\"time\": \"2015-08-07T00:00:00\", \"y\": 0, \"fcst\": null, \"fcst_lower_05\": null, \"fcst_lower_25\": null, \"fcst_upper_75\": null, \"fcst_upper_95\": null}, {\"time\": \"2015-08-08T00:00:00\", \"y\": 0, \"fcst\": null, \"fcst_lower_05\": null, \"fcst_lower_25\": null, \"fcst_upper_75\": null, \"fcst_upper_95\": null}, {\"time\": \"2015-08-09T00:00:00\", \"y\": 0, \"fcst\": null, \"fcst_lower_05\": null, \"fcst_lower_25\": null, \"fcst_upper_75\": null, \"fcst_upper_95\": null}, {\"time\": \"2015-08-10T00:00:00\", \"y\": 0, \"fcst\": null, \"fcst_lower_05\": null, \"fcst_lower_25\": null, \"fcst_upper_75\": null, \"fcst_upper_95\": null}, {\"time\": \"2015-08-11T00:00:00\", \"y\": 0, \"fcst\": null, \"fcst_lower_05\": null, \"fcst_lower_25\": null, \"fcst_upper_75\": null, \"fcst_upper_95\": null}, {\"time\": \"2015-08-12T00:00:00\", \"y\": 0, \"fcst\": null, \"fcst_lower_05\": null, \"fcst_lower_25\": null, \"fcst_upper_75\": null, \"fcst_upper_95\": null}, {\"time\": \"2015-08-13T00:00:00\", \"y\": 0, \"fcst\": null, \"fcst_lower_05\": null, \"fcst_lower_25\": null, \"fcst_upper_75\": null, \"fcst_upper_95\": null}, {\"time\": \"2015-08-14T00:00:00\", \"y\": 0, \"fcst\": null, \"fcst_lower_05\": null, \"fcst_lower_25\": null, \"fcst_upper_75\": null, \"fcst_upper_95\": null}, {\"time\": \"2015-08-15T00:00:00\", \"y\": 0, \"fcst\": null, \"fcst_lower_05\": null, \"fcst_lower_25\": null, \"fcst_upper_75\": null, \"fcst_upper_95\": null}, {\"time\": \"2015-08-16T00:00:00\", \"y\": 0, \"fcst\": null, \"fcst_lower_05\": null, \"fcst_lower_25\": null, \"fcst_upper_75\": null, \"fcst_upper_95\": null}, {\"time\": \"2015-08-17T00:00:00\", \"y\": 0, \"fcst\": null, \"fcst_lower_05\": null, \"fcst_lower_25\": null, \"fcst_upper_75\": null, \"fcst_upper_95\": null}, {\"time\": \"2015-08-18T00:00:00\", \"y\": 0, \"fcst\": null, \"fcst_lower_05\": null, \"fcst_lower_25\": null, \"fcst_upper_75\": null, \"fcst_upper_95\": null}, {\"time\": \"2015-08-19T00:00:00\", \"y\": 0, \"fcst\": null, \"fcst_lower_05\": null, \"fcst_lower_25\": null, \"fcst_upper_75\": null, \"fcst_upper_95\": null}, {\"time\": \"2015-08-20T00:00:00\", \"y\": 0, \"fcst\": null, \"fcst_lower_05\": null, \"fcst_lower_25\": null, \"fcst_upper_75\": null, \"fcst_upper_95\": null}, {\"time\": \"2015-08-21T00:00:00\", \"y\": 0, \"fcst\": null, \"fcst_lower_05\": null, \"fcst_lower_25\": null, \"fcst_upper_75\": null, \"fcst_upper_95\": null}, {\"time\": \"2015-08-22T00:00:00\", \"y\": 0, \"fcst\": null, \"fcst_lower_05\": null, \"fcst_lower_25\": null, \"fcst_upper_75\": null, \"fcst_upper_95\": null}, {\"time\": \"2015-08-23T00:00:00\", \"y\": 0, \"fcst\": null, \"fcst_lower_05\": null, \"fcst_lower_25\": null, \"fcst_upper_75\": null, \"fcst_upper_95\": null}, {\"time\": \"2015-08-24T00:00:00\", \"y\": 0, \"fcst\": null, \"fcst_lower_05\": null, \"fcst_lower_25\": null, \"fcst_upper_75\": null, \"fcst_upper_95\": null}, {\"time\": \"2015-08-25T00:00:00\", \"y\": 0, \"fcst\": null, \"fcst_lower_05\": null, \"fcst_lower_25\": null, \"fcst_upper_75\": null, \"fcst_upper_95\": null}, {\"time\": \"2015-08-26T00:00:00\", \"y\": 0, \"fcst\": null, \"fcst_lower_05\": null, \"fcst_lower_25\": null, \"fcst_upper_75\": null, \"fcst_upper_95\": null}, {\"time\": \"2015-08-27T00:00:00\", \"y\": 0, \"fcst\": null, \"fcst_lower_05\": null, \"fcst_lower_25\": null, \"fcst_upper_75\": null, \"fcst_upper_95\": null}, {\"time\": \"2015-08-28T00:00:00\", \"y\": 0, \"fcst\": null, \"fcst_lower_05\": null, \"fcst_lower_25\": null, \"fcst_upper_75\": null, \"fcst_upper_95\": null}, {\"time\": \"2015-08-29T00:00:00\", \"y\": 0, \"fcst\": null, \"fcst_lower_05\": null, \"fcst_lower_25\": null, \"fcst_upper_75\": null, \"fcst_upper_95\": null}, {\"time\": \"2015-08-30T00:00:00\", \"y\": 0, \"fcst\": null, \"fcst_lower_05\": null, \"fcst_lower_25\": null, \"fcst_upper_75\": null, \"fcst_upper_95\": null}, {\"time\": \"2015-08-31T00:00:00\", \"y\": 0, \"fcst\": null, \"fcst_lower_05\": null, \"fcst_lower_25\": null, \"fcst_upper_75\": null, \"fcst_upper_95\": null}, {\"time\": \"2015-09-01T00:00:00\", \"y\": 0, \"fcst\": null, \"fcst_lower_05\": null, \"fcst_lower_25\": null, \"fcst_upper_75\": null, \"fcst_upper_95\": null}, {\"time\": \"2015-09-02T00:00:00\", \"y\": 0, \"fcst\": null, \"fcst_lower_05\": null, \"fcst_lower_25\": null, \"fcst_upper_75\": null, \"fcst_upper_95\": null}, {\"time\": \"2015-09-03T00:00:00\", \"y\": 0, \"fcst\": null, \"fcst_lower_05\": null, \"fcst_lower_25\": null, \"fcst_upper_75\": null, \"fcst_upper_95\": null}, {\"time\": \"2015-09-04T00:00:00\", \"y\": 0, \"fcst\": null, \"fcst_lower_05\": null, \"fcst_lower_25\": null, \"fcst_upper_75\": null, \"fcst_upper_95\": null}, {\"time\": \"2015-09-05T00:00:00\", \"y\": 0, \"fcst\": null, \"fcst_lower_05\": null, \"fcst_lower_25\": null, \"fcst_upper_75\": null, \"fcst_upper_95\": null}, {\"time\": \"2015-09-06T00:00:00\", \"y\": 0, \"fcst\": null, \"fcst_lower_05\": null, \"fcst_lower_25\": null, \"fcst_upper_75\": null, \"fcst_upper_95\": null}, {\"time\": \"2015-09-07T00:00:00\", \"y\": 0, \"fcst\": null, \"fcst_lower_05\": null, \"fcst_lower_25\": null, \"fcst_upper_75\": null, \"fcst_upper_95\": null}, {\"time\": \"2015-09-08T00:00:00\", \"y\": 0, \"fcst\": null, \"fcst_lower_05\": null, \"fcst_lower_25\": null, \"fcst_upper_75\": null, \"fcst_upper_95\": null}, {\"time\": \"2015-09-09T00:00:00\", \"y\": 0, \"fcst\": null, \"fcst_lower_05\": null, \"fcst_lower_25\": null, \"fcst_upper_75\": null, \"fcst_upper_95\": null}, {\"time\": \"2015-09-10T00:00:00\", \"y\": 0, \"fcst\": null, \"fcst_lower_05\": null, \"fcst_lower_25\": null, \"fcst_upper_75\": null, \"fcst_upper_95\": null}, {\"time\": \"2015-09-11T00:00:00\", \"y\": 0, \"fcst\": null, \"fcst_lower_05\": null, \"fcst_lower_25\": null, \"fcst_upper_75\": null, \"fcst_upper_95\": null}, {\"time\": \"2015-09-12T00:00:00\", \"y\": 0, \"fcst\": null, \"fcst_lower_05\": null, \"fcst_lower_25\": null, \"fcst_upper_75\": null, \"fcst_upper_95\": null}, {\"time\": \"2015-09-13T00:00:00\", \"y\": 0, \"fcst\": null, \"fcst_lower_05\": null, \"fcst_lower_25\": null, \"fcst_upper_75\": null, \"fcst_upper_95\": null}, {\"time\": \"2015-09-14T00:00:00\", \"y\": 0, \"fcst\": null, \"fcst_lower_05\": null, \"fcst_lower_25\": null, \"fcst_upper_75\": null, \"fcst_upper_95\": null}, {\"time\": \"2015-09-15T00:00:00\", \"y\": 0, \"fcst\": null, \"fcst_lower_05\": null, \"fcst_lower_25\": null, \"fcst_upper_75\": null, \"fcst_upper_95\": null}, {\"time\": \"2015-09-16T00:00:00\", \"y\": 0, \"fcst\": null, \"fcst_lower_05\": null, \"fcst_lower_25\": null, \"fcst_upper_75\": null, \"fcst_upper_95\": null}, {\"time\": \"2015-09-17T00:00:00\", \"y\": 0, \"fcst\": null, \"fcst_lower_05\": null, \"fcst_lower_25\": null, \"fcst_upper_75\": null, \"fcst_upper_95\": null}, {\"time\": \"2015-09-18T00:00:00\", \"y\": 0, \"fcst\": null, \"fcst_lower_05\": null, \"fcst_lower_25\": null, \"fcst_upper_75\": null, \"fcst_upper_95\": null}, {\"time\": \"2015-09-19T00:00:00\", \"y\": 0, \"fcst\": null, \"fcst_lower_05\": null, \"fcst_lower_25\": null, \"fcst_upper_75\": null, \"fcst_upper_95\": null}, {\"time\": \"2015-09-20T00:00:00\", \"y\": 0, \"fcst\": null, \"fcst_lower_05\": null, \"fcst_lower_25\": null, \"fcst_upper_75\": null, \"fcst_upper_95\": null}, {\"time\": \"2015-09-21T00:00:00\", \"y\": 0, \"fcst\": null, \"fcst_lower_05\": null, \"fcst_lower_25\": null, \"fcst_upper_75\": null, \"fcst_upper_95\": null}, {\"time\": \"2015-09-22T00:00:00\", \"y\": 0, \"fcst\": null, \"fcst_lower_05\": null, \"fcst_lower_25\": null, \"fcst_upper_75\": null, \"fcst_upper_95\": null}, {\"time\": \"2015-09-23T00:00:00\", \"y\": 0, \"fcst\": null, \"fcst_lower_05\": null, \"fcst_lower_25\": null, \"fcst_upper_75\": null, \"fcst_upper_95\": null}, {\"time\": \"2015-09-24T00:00:00\", \"y\": 0, \"fcst\": null, \"fcst_lower_05\": null, \"fcst_lower_25\": null, \"fcst_upper_75\": null, \"fcst_upper_95\": null}, {\"time\": \"2015-09-25T00:00:00\", \"y\": 0, \"fcst\": null, \"fcst_lower_05\": null, \"fcst_lower_25\": null, \"fcst_upper_75\": null, \"fcst_upper_95\": null}, {\"time\": \"2015-09-26T00:00:00\", \"y\": 0, \"fcst\": null, \"fcst_lower_05\": null, \"fcst_lower_25\": null, \"fcst_upper_75\": null, \"fcst_upper_95\": null}, {\"time\": \"2015-09-27T00:00:00\", \"y\": 0, \"fcst\": null, \"fcst_lower_05\": null, \"fcst_lower_25\": null, \"fcst_upper_75\": null, \"fcst_upper_95\": null}, {\"time\": \"2015-09-28T00:00:00\", \"y\": 0, \"fcst\": null, \"fcst_lower_05\": null, \"fcst_lower_25\": null, \"fcst_upper_75\": null, \"fcst_upper_95\": null}, {\"time\": \"2015-09-29T00:00:00\", \"y\": 0, \"fcst\": null, \"fcst_lower_05\": null, \"fcst_lower_25\": null, \"fcst_upper_75\": null, \"fcst_upper_95\": null}, {\"time\": \"2015-09-30T00:00:00\", \"y\": 0, \"fcst\": null, \"fcst_lower_05\": null, \"fcst_lower_25\": null, \"fcst_upper_75\": null, \"fcst_upper_95\": null}, {\"time\": \"2015-10-01T00:00:00\", \"y\": 0, \"fcst\": null, \"fcst_lower_05\": null, \"fcst_lower_25\": null, \"fcst_upper_75\": null, \"fcst_upper_95\": null}, {\"time\": \"2015-10-02T00:00:00\", \"y\": 0, \"fcst\": null, \"fcst_lower_05\": null, \"fcst_lower_25\": null, \"fcst_upper_75\": null, \"fcst_upper_95\": null}, {\"time\": \"2015-10-03T00:00:00\", \"y\": 0, \"fcst\": null, \"fcst_lower_05\": null, \"fcst_lower_25\": null, \"fcst_upper_75\": null, \"fcst_upper_95\": null}, {\"time\": \"2015-10-04T00:00:00\", \"y\": 0, \"fcst\": null, \"fcst_lower_05\": null, \"fcst_lower_25\": null, \"fcst_upper_75\": null, \"fcst_upper_95\": null}, {\"time\": \"2015-10-05T00:00:00\", \"y\": 0, \"fcst\": null, \"fcst_lower_05\": null, \"fcst_lower_25\": null, \"fcst_upper_75\": null, \"fcst_upper_95\": null}, {\"time\": \"2015-10-06T00:00:00\", \"y\": 0, \"fcst\": null, \"fcst_lower_05\": null, \"fcst_lower_25\": null, \"fcst_upper_75\": null, \"fcst_upper_95\": null}, {\"time\": \"2015-10-07T00:00:00\", \"y\": 0, \"fcst\": null, \"fcst_lower_05\": null, \"fcst_lower_25\": null, \"fcst_upper_75\": null, \"fcst_upper_95\": null}, {\"time\": \"2015-10-08T00:00:00\", \"y\": 0, \"fcst\": null, \"fcst_lower_05\": null, \"fcst_lower_25\": null, \"fcst_upper_75\": null, \"fcst_upper_95\": null}, {\"time\": \"2015-10-09T00:00:00\", \"y\": 0, \"fcst\": null, \"fcst_lower_05\": null, \"fcst_lower_25\": null, \"fcst_upper_75\": null, \"fcst_upper_95\": null}, {\"time\": \"2015-10-10T00:00:00\", \"y\": 0, \"fcst\": null, \"fcst_lower_05\": null, \"fcst_lower_25\": null, \"fcst_upper_75\": null, \"fcst_upper_95\": null}, {\"time\": \"2015-10-11T00:00:00\", \"y\": 0, \"fcst\": null, \"fcst_lower_05\": null, \"fcst_lower_25\": null, \"fcst_upper_75\": null, \"fcst_upper_95\": null}, {\"time\": \"2015-10-12T00:00:00\", \"y\": 0, \"fcst\": null, \"fcst_lower_05\": null, \"fcst_lower_25\": null, \"fcst_upper_75\": null, \"fcst_upper_95\": null}, {\"time\": \"2015-10-13T00:00:00\", \"y\": 0, \"fcst\": null, \"fcst_lower_05\": null, \"fcst_lower_25\": null, \"fcst_upper_75\": null, \"fcst_upper_95\": null}, {\"time\": \"2015-10-14T00:00:00\", \"y\": 0, \"fcst\": null, \"fcst_lower_05\": null, \"fcst_lower_25\": null, \"fcst_upper_75\": null, \"fcst_upper_95\": null}, {\"time\": \"2015-10-15T00:00:00\", \"y\": 0, \"fcst\": null, \"fcst_lower_05\": null, \"fcst_lower_25\": null, \"fcst_upper_75\": null, \"fcst_upper_95\": null}, {\"time\": \"2015-10-16T00:00:00\", \"y\": 0, \"fcst\": null, \"fcst_lower_05\": null, \"fcst_lower_25\": null, \"fcst_upper_75\": null, \"fcst_upper_95\": null}, {\"time\": \"2015-10-17T00:00:00\", \"y\": 0, \"fcst\": null, \"fcst_lower_05\": null, \"fcst_lower_25\": null, \"fcst_upper_75\": null, \"fcst_upper_95\": null}, {\"time\": \"2015-10-18T00:00:00\", \"y\": 0, \"fcst\": null, \"fcst_lower_05\": null, \"fcst_lower_25\": null, \"fcst_upper_75\": null, \"fcst_upper_95\": null}, {\"time\": \"2015-10-19T00:00:00\", \"y\": 0, \"fcst\": null, \"fcst_lower_05\": null, \"fcst_lower_25\": null, \"fcst_upper_75\": null, \"fcst_upper_95\": null}, {\"time\": \"2015-10-20T00:00:00\", \"y\": 0, \"fcst\": null, \"fcst_lower_05\": null, \"fcst_lower_25\": null, \"fcst_upper_75\": null, \"fcst_upper_95\": null}, {\"time\": \"2015-10-21T00:00:00\", \"y\": 0, \"fcst\": null, \"fcst_lower_05\": null, \"fcst_lower_25\": null, \"fcst_upper_75\": null, \"fcst_upper_95\": null}, {\"time\": \"2015-10-22T00:00:00\", \"y\": 0, \"fcst\": null, \"fcst_lower_05\": null, \"fcst_lower_25\": null, \"fcst_upper_75\": null, \"fcst_upper_95\": null}, {\"time\": \"2015-10-23T00:00:00\", \"y\": 0, \"fcst\": null, \"fcst_lower_05\": null, \"fcst_lower_25\": null, \"fcst_upper_75\": null, \"fcst_upper_95\": null}, {\"time\": \"2015-10-24T00:00:00\", \"y\": 0, \"fcst\": null, \"fcst_lower_05\": null, \"fcst_lower_25\": null, \"fcst_upper_75\": null, \"fcst_upper_95\": null}, {\"time\": \"2015-10-25T00:00:00\", \"y\": 0, \"fcst\": null, \"fcst_lower_05\": null, \"fcst_lower_25\": null, \"fcst_upper_75\": null, \"fcst_upper_95\": null}, {\"time\": \"2015-10-26T00:00:00\", \"y\": 0, \"fcst\": null, \"fcst_lower_05\": null, \"fcst_lower_25\": null, \"fcst_upper_75\": null, \"fcst_upper_95\": null}, {\"time\": \"2015-10-27T00:00:00\", \"y\": 0, \"fcst\": null, \"fcst_lower_05\": null, \"fcst_lower_25\": null, \"fcst_upper_75\": null, \"fcst_upper_95\": null}, {\"time\": \"2015-10-28T00:00:00\", \"y\": 0, \"fcst\": null, \"fcst_lower_05\": null, \"fcst_lower_25\": null, \"fcst_upper_75\": null, \"fcst_upper_95\": null}, {\"time\": \"2015-10-29T00:00:00\", \"y\": 0, \"fcst\": null, \"fcst_lower_05\": null, \"fcst_lower_25\": null, \"fcst_upper_75\": null, \"fcst_upper_95\": null}, {\"time\": \"2015-10-30T00:00:00\", \"y\": 0, \"fcst\": null, \"fcst_lower_05\": null, \"fcst_lower_25\": null, \"fcst_upper_75\": null, \"fcst_upper_95\": null}, {\"time\": \"2015-10-31T00:00:00\", \"y\": 0, \"fcst\": null, \"fcst_lower_05\": null, \"fcst_lower_25\": null, \"fcst_upper_75\": null, \"fcst_upper_95\": null}, {\"time\": \"2015-11-01T00:00:00\", \"y\": 0, \"fcst\": null, \"fcst_lower_05\": null, \"fcst_lower_25\": null, \"fcst_upper_75\": null, \"fcst_upper_95\": null}, {\"time\": \"2015-11-02T00:00:00\", \"y\": 0, \"fcst\": null, \"fcst_lower_05\": null, \"fcst_lower_25\": null, \"fcst_upper_75\": null, \"fcst_upper_95\": null}, {\"time\": \"2015-11-03T00:00:00\", \"y\": 0, \"fcst\": null, \"fcst_lower_05\": null, \"fcst_lower_25\": null, \"fcst_upper_75\": null, \"fcst_upper_95\": null}, {\"time\": \"2015-11-04T00:00:00\", \"y\": 0, \"fcst\": null, \"fcst_lower_05\": null, \"fcst_lower_25\": null, \"fcst_upper_75\": null, \"fcst_upper_95\": null}, {\"time\": \"2015-11-05T00:00:00\", \"y\": 0, \"fcst\": null, \"fcst_lower_05\": null, \"fcst_lower_25\": null, \"fcst_upper_75\": null, \"fcst_upper_95\": null}, {\"time\": \"2015-11-06T00:00:00\", \"y\": 0, \"fcst\": null, \"fcst_lower_05\": null, \"fcst_lower_25\": null, \"fcst_upper_75\": null, \"fcst_upper_95\": null}, {\"time\": \"2015-11-07T00:00:00\", \"y\": 0, \"fcst\": null, \"fcst_lower_05\": null, \"fcst_lower_25\": null, \"fcst_upper_75\": null, \"fcst_upper_95\": null}, {\"time\": \"2015-11-08T00:00:00\", \"y\": 0, \"fcst\": null, \"fcst_lower_05\": null, \"fcst_lower_25\": null, \"fcst_upper_75\": null, \"fcst_upper_95\": null}, {\"time\": \"2015-11-09T00:00:00\", \"y\": 0, \"fcst\": null, \"fcst_lower_05\": null, \"fcst_lower_25\": null, \"fcst_upper_75\": null, \"fcst_upper_95\": null}, {\"time\": \"2015-11-10T00:00:00\", \"y\": 0, \"fcst\": null, \"fcst_lower_05\": null, \"fcst_lower_25\": null, \"fcst_upper_75\": null, \"fcst_upper_95\": null}, {\"time\": \"2015-11-11T00:00:00\", \"y\": 0, \"fcst\": null, \"fcst_lower_05\": null, \"fcst_lower_25\": null, \"fcst_upper_75\": null, \"fcst_upper_95\": null}, {\"time\": \"2015-11-12T00:00:00\", \"y\": 0, \"fcst\": null, \"fcst_lower_05\": null, \"fcst_lower_25\": null, \"fcst_upper_75\": null, \"fcst_upper_95\": null}, {\"time\": \"2015-11-13T00:00:00\", \"y\": 0, \"fcst\": null, \"fcst_lower_05\": null, \"fcst_lower_25\": null, \"fcst_upper_75\": null, \"fcst_upper_95\": null}, {\"time\": \"2015-11-14T00:00:00\", \"y\": 0, \"fcst\": null, \"fcst_lower_05\": null, \"fcst_lower_25\": null, \"fcst_upper_75\": null, \"fcst_upper_95\": null}, {\"time\": \"2015-11-15T00:00:00\", \"y\": 0, \"fcst\": null, \"fcst_lower_05\": null, \"fcst_lower_25\": null, \"fcst_upper_75\": null, \"fcst_upper_95\": null}, {\"time\": \"2015-11-16T00:00:00\", \"y\": 0, \"fcst\": null, \"fcst_lower_05\": null, \"fcst_lower_25\": null, \"fcst_upper_75\": null, \"fcst_upper_95\": null}, {\"time\": \"2015-11-17T00:00:00\", \"y\": 0, \"fcst\": null, \"fcst_lower_05\": null, \"fcst_lower_25\": null, \"fcst_upper_75\": null, \"fcst_upper_95\": null}, {\"time\": \"2015-11-18T00:00:00\", \"y\": 0, \"fcst\": null, \"fcst_lower_05\": null, \"fcst_lower_25\": null, \"fcst_upper_75\": null, \"fcst_upper_95\": null}, {\"time\": \"2015-11-19T00:00:00\", \"y\": 0, \"fcst\": null, \"fcst_lower_05\": null, \"fcst_lower_25\": null, \"fcst_upper_75\": null, \"fcst_upper_95\": null}, {\"time\": \"2015-11-20T00:00:00\", \"y\": 0, \"fcst\": null, \"fcst_lower_05\": null, \"fcst_lower_25\": null, \"fcst_upper_75\": null, \"fcst_upper_95\": null}, {\"time\": \"2015-11-21T00:00:00\", \"y\": 0, \"fcst\": null, \"fcst_lower_05\": null, \"fcst_lower_25\": null, \"fcst_upper_75\": null, \"fcst_upper_95\": null}, {\"time\": \"2015-11-22T00:00:00\", \"y\": 0, \"fcst\": null, \"fcst_lower_05\": null, \"fcst_lower_25\": null, \"fcst_upper_75\": null, \"fcst_upper_95\": null}, {\"time\": \"2015-11-23T00:00:00\", \"y\": 0, \"fcst\": null, \"fcst_lower_05\": null, \"fcst_lower_25\": null, \"fcst_upper_75\": null, \"fcst_upper_95\": null}, {\"time\": \"2015-11-24T00:00:00\", \"y\": 0, \"fcst\": null, \"fcst_lower_05\": null, \"fcst_lower_25\": null, \"fcst_upper_75\": null, \"fcst_upper_95\": null}, {\"time\": \"2015-11-25T00:00:00\", \"y\": 0, \"fcst\": null, \"fcst_lower_05\": null, \"fcst_lower_25\": null, \"fcst_upper_75\": null, \"fcst_upper_95\": null}, {\"time\": \"2015-11-26T00:00:00\", \"y\": 0, \"fcst\": null, \"fcst_lower_05\": null, \"fcst_lower_25\": null, \"fcst_upper_75\": null, \"fcst_upper_95\": null}, {\"time\": \"2015-11-27T00:00:00\", \"y\": 0, \"fcst\": null, \"fcst_lower_05\": null, \"fcst_lower_25\": null, \"fcst_upper_75\": null, \"fcst_upper_95\": null}, {\"time\": \"2015-11-28T00:00:00\", \"y\": 0, \"fcst\": null, \"fcst_lower_05\": null, \"fcst_lower_25\": null, \"fcst_upper_75\": null, \"fcst_upper_95\": null}, {\"time\": \"2015-11-29T00:00:00\", \"y\": 0, \"fcst\": null, \"fcst_lower_05\": null, \"fcst_lower_25\": null, \"fcst_upper_75\": null, \"fcst_upper_95\": null}, {\"time\": \"2015-11-30T00:00:00\", \"y\": 0, \"fcst\": null, \"fcst_lower_05\": null, \"fcst_lower_25\": null, \"fcst_upper_75\": null, \"fcst_upper_95\": null}, {\"time\": \"2015-12-01T00:00:00\", \"y\": 0, \"fcst\": null, \"fcst_lower_05\": null, \"fcst_lower_25\": null, \"fcst_upper_75\": null, \"fcst_upper_95\": null}, {\"time\": \"2015-12-02T00:00:00\", \"y\": 0, \"fcst\": null, \"fcst_lower_05\": null, \"fcst_lower_25\": null, \"fcst_upper_75\": null, \"fcst_upper_95\": null}, {\"time\": \"2015-12-03T00:00:00\", \"y\": 0, \"fcst\": null, \"fcst_lower_05\": null, \"fcst_lower_25\": null, \"fcst_upper_75\": null, \"fcst_upper_95\": null}, {\"time\": \"2015-12-04T00:00:00\", \"y\": 0, \"fcst\": null, \"fcst_lower_05\": null, \"fcst_lower_25\": null, \"fcst_upper_75\": null, \"fcst_upper_95\": null}, {\"time\": \"2015-12-05T00:00:00\", \"y\": 0, \"fcst\": null, \"fcst_lower_05\": null, \"fcst_lower_25\": null, \"fcst_upper_75\": null, \"fcst_upper_95\": null}, {\"time\": \"2015-12-06T00:00:00\", \"y\": 1, \"fcst\": null, \"fcst_lower_05\": null, \"fcst_lower_25\": null, \"fcst_upper_75\": null, \"fcst_upper_95\": null}, {\"time\": \"2015-12-07T00:00:00\", \"y\": 1, \"fcst\": null, \"fcst_lower_05\": null, \"fcst_lower_25\": null, \"fcst_upper_75\": null, \"fcst_upper_95\": null}, {\"time\": \"2015-12-08T00:00:00\", \"y\": 2, \"fcst\": null, \"fcst_lower_05\": null, \"fcst_lower_25\": null, \"fcst_upper_75\": null, \"fcst_upper_95\": null}, {\"time\": \"2015-12-09T00:00:00\", \"y\": 1, \"fcst\": null, \"fcst_lower_05\": null, \"fcst_lower_25\": null, \"fcst_upper_75\": null, \"fcst_upper_95\": null}, {\"time\": \"2015-12-10T00:00:00\", \"y\": 0, \"fcst\": null, \"fcst_lower_05\": null, \"fcst_lower_25\": null, \"fcst_upper_75\": null, \"fcst_upper_95\": null}, {\"time\": \"2015-12-11T00:00:00\", \"y\": 0, \"fcst\": null, \"fcst_lower_05\": null, \"fcst_lower_25\": null, \"fcst_upper_75\": null, \"fcst_upper_95\": null}, {\"time\": \"2015-12-12T00:00:00\", \"y\": 2, \"fcst\": null, \"fcst_lower_05\": null, \"fcst_lower_25\": null, \"fcst_upper_75\": null, \"fcst_upper_95\": null}, {\"time\": \"2015-12-13T00:00:00\", \"y\": 1, \"fcst\": null, \"fcst_lower_05\": null, \"fcst_lower_25\": null, \"fcst_upper_75\": null, \"fcst_upper_95\": null}, {\"time\": \"2015-12-14T00:00:00\", \"y\": 2, \"fcst\": null, \"fcst_lower_05\": null, \"fcst_lower_25\": null, \"fcst_upper_75\": null, \"fcst_upper_95\": null}, {\"time\": \"2015-12-15T00:00:00\", \"y\": 0, \"fcst\": null, \"fcst_lower_05\": null, \"fcst_lower_25\": null, \"fcst_upper_75\": null, \"fcst_upper_95\": null}, {\"time\": \"2015-12-16T00:00:00\", \"y\": 0, \"fcst\": null, \"fcst_lower_05\": null, \"fcst_lower_25\": null, \"fcst_upper_75\": null, \"fcst_upper_95\": null}, {\"time\": \"2015-12-17T00:00:00\", \"y\": 1, \"fcst\": null, \"fcst_lower_05\": null, \"fcst_lower_25\": null, \"fcst_upper_75\": null, \"fcst_upper_95\": null}, {\"time\": \"2015-12-18T00:00:00\", \"y\": 3, \"fcst\": null, \"fcst_lower_05\": null, \"fcst_lower_25\": null, \"fcst_upper_75\": null, \"fcst_upper_95\": null}, {\"time\": \"2015-12-19T00:00:00\", \"y\": 1, \"fcst\": null, \"fcst_lower_05\": null, \"fcst_lower_25\": null, \"fcst_upper_75\": null, \"fcst_upper_95\": null}, {\"time\": \"2015-12-20T00:00:00\", \"y\": 2, \"fcst\": null, \"fcst_lower_05\": null, \"fcst_lower_25\": null, \"fcst_upper_75\": null, \"fcst_upper_95\": null}, {\"time\": \"2015-12-21T00:00:00\", \"y\": 2, \"fcst\": null, \"fcst_lower_05\": null, \"fcst_lower_25\": null, \"fcst_upper_75\": null, \"fcst_upper_95\": null}, {\"time\": \"2015-12-22T00:00:00\", \"y\": 2, \"fcst\": null, \"fcst_lower_05\": null, \"fcst_lower_25\": null, \"fcst_upper_75\": null, \"fcst_upper_95\": null}, {\"time\": \"2015-12-23T00:00:00\", \"y\": 2, \"fcst\": null, \"fcst_lower_05\": null, \"fcst_lower_25\": null, \"fcst_upper_75\": null, \"fcst_upper_95\": null}, {\"time\": \"2015-12-24T00:00:00\", \"y\": 6, \"fcst\": null, \"fcst_lower_05\": null, \"fcst_lower_25\": null, \"fcst_upper_75\": null, \"fcst_upper_95\": null}, {\"time\": \"2015-12-25T00:00:00\", \"y\": 0, \"fcst\": null, \"fcst_lower_05\": null, \"fcst_lower_25\": null, \"fcst_upper_75\": null, \"fcst_upper_95\": null}, {\"time\": \"2015-12-26T00:00:00\", \"y\": 0, \"fcst\": null, \"fcst_lower_05\": null, \"fcst_lower_25\": null, \"fcst_upper_75\": null, \"fcst_upper_95\": null}, {\"time\": \"2015-12-27T00:00:00\", \"y\": 1, \"fcst\": null, \"fcst_lower_05\": null, \"fcst_lower_25\": null, \"fcst_upper_75\": null, \"fcst_upper_95\": null}, {\"time\": \"2015-12-28T00:00:00\", \"y\": 2, \"fcst\": null, \"fcst_lower_05\": null, \"fcst_lower_25\": null, \"fcst_upper_75\": null, \"fcst_upper_95\": null}, {\"time\": \"2015-12-29T00:00:00\", \"y\": 2, \"fcst\": null, \"fcst_lower_05\": null, \"fcst_lower_25\": null, \"fcst_upper_75\": null, \"fcst_upper_95\": null}, {\"time\": \"2015-12-30T00:00:00\", \"y\": 1, \"fcst\": null, \"fcst_lower_05\": null, \"fcst_lower_25\": null, \"fcst_upper_75\": null, \"fcst_upper_95\": null}, {\"time\": \"2015-12-31T00:00:00\", \"y\": 1, \"fcst\": null, \"fcst_lower_05\": null, \"fcst_lower_25\": null, \"fcst_upper_75\": null, \"fcst_upper_95\": null}, {\"time\": \"2016-01-01T00:00:00\", \"y\": 0, \"fcst\": null, \"fcst_lower_05\": null, \"fcst_lower_25\": null, \"fcst_upper_75\": null, \"fcst_upper_95\": null}, {\"time\": \"2016-01-02T00:00:00\", \"y\": 3, \"fcst\": null, \"fcst_lower_05\": null, \"fcst_lower_25\": null, \"fcst_upper_75\": null, \"fcst_upper_95\": null}, {\"time\": \"2016-01-03T00:00:00\", \"y\": 3, \"fcst\": null, \"fcst_lower_05\": null, \"fcst_lower_25\": null, \"fcst_upper_75\": null, \"fcst_upper_95\": null}, {\"time\": \"2016-01-04T00:00:00\", \"y\": 0, \"fcst\": null, \"fcst_lower_05\": null, \"fcst_lower_25\": null, \"fcst_upper_75\": null, \"fcst_upper_95\": null}, {\"time\": \"2016-01-05T00:00:00\", \"y\": 1, \"fcst\": null, \"fcst_lower_05\": null, \"fcst_lower_25\": null, \"fcst_upper_75\": null, \"fcst_upper_95\": null}, {\"time\": \"2016-01-06T00:00:00\", \"y\": 5, \"fcst\": null, \"fcst_lower_05\": null, \"fcst_lower_25\": null, \"fcst_upper_75\": null, \"fcst_upper_95\": null}, {\"time\": \"2016-01-07T00:00:00\", \"y\": 0, \"fcst\": null, \"fcst_lower_05\": null, \"fcst_lower_25\": null, \"fcst_upper_75\": null, \"fcst_upper_95\": null}, {\"time\": \"2016-01-08T00:00:00\", \"y\": 2, \"fcst\": null, \"fcst_lower_05\": null, \"fcst_lower_25\": null, \"fcst_upper_75\": null, \"fcst_upper_95\": null}, {\"time\": \"2016-01-09T00:00:00\", \"y\": 1, \"fcst\": null, \"fcst_lower_05\": null, \"fcst_lower_25\": null, \"fcst_upper_75\": null, \"fcst_upper_95\": null}, {\"time\": \"2016-01-10T00:00:00\", \"y\": 5, \"fcst\": null, \"fcst_lower_05\": null, \"fcst_lower_25\": null, \"fcst_upper_75\": null, \"fcst_upper_95\": null}, {\"time\": \"2016-01-11T00:00:00\", \"y\": 1, \"fcst\": null, \"fcst_lower_05\": null, \"fcst_lower_25\": null, \"fcst_upper_75\": null, \"fcst_upper_95\": null}, {\"time\": \"2016-01-12T00:00:00\", \"y\": 1, \"fcst\": null, \"fcst_lower_05\": null, \"fcst_lower_25\": null, \"fcst_upper_75\": null, \"fcst_upper_95\": null}, {\"time\": \"2016-01-13T00:00:00\", \"y\": 0, \"fcst\": null, \"fcst_lower_05\": null, \"fcst_lower_25\": null, \"fcst_upper_75\": null, \"fcst_upper_95\": null}, {\"time\": \"2016-01-14T00:00:00\", \"y\": 1, \"fcst\": null, \"fcst_lower_05\": null, \"fcst_lower_25\": null, \"fcst_upper_75\": null, \"fcst_upper_95\": null}, {\"time\": \"2016-01-15T00:00:00\", \"y\": 4, \"fcst\": null, \"fcst_lower_05\": null, \"fcst_lower_25\": null, \"fcst_upper_75\": null, \"fcst_upper_95\": null}, {\"time\": \"2016-01-16T00:00:00\", \"y\": 2, \"fcst\": null, \"fcst_lower_05\": null, \"fcst_lower_25\": null, \"fcst_upper_75\": null, \"fcst_upper_95\": null}, {\"time\": \"2016-01-17T00:00:00\", \"y\": 1, \"fcst\": null, \"fcst_lower_05\": null, \"fcst_lower_25\": null, \"fcst_upper_75\": null, \"fcst_upper_95\": null}, {\"time\": \"2016-01-18T00:00:00\", \"y\": 0, \"fcst\": null, \"fcst_lower_05\": null, \"fcst_lower_25\": null, \"fcst_upper_75\": null, \"fcst_upper_95\": null}, {\"time\": \"2016-01-19T00:00:00\", \"y\": 2, \"fcst\": null, \"fcst_lower_05\": null, \"fcst_lower_25\": null, \"fcst_upper_75\": null, \"fcst_upper_95\": null}, {\"time\": \"2016-01-20T00:00:00\", \"y\": 3, \"fcst\": null, \"fcst_lower_05\": null, \"fcst_lower_25\": null, \"fcst_upper_75\": null, \"fcst_upper_95\": null}, {\"time\": \"2016-01-21T00:00:00\", \"y\": 1, \"fcst\": null, \"fcst_lower_05\": null, \"fcst_lower_25\": null, \"fcst_upper_75\": null, \"fcst_upper_95\": null}, {\"time\": \"2016-01-22T00:00:00\", \"y\": 1, \"fcst\": null, \"fcst_lower_05\": null, \"fcst_lower_25\": null, \"fcst_upper_75\": null, \"fcst_upper_95\": null}, {\"time\": \"2016-01-23T00:00:00\", \"y\": 5, \"fcst\": null, \"fcst_lower_05\": null, \"fcst_lower_25\": null, \"fcst_upper_75\": null, \"fcst_upper_95\": null}, {\"time\": \"2016-01-24T00:00:00\", \"y\": 3, \"fcst\": null, \"fcst_lower_05\": null, \"fcst_lower_25\": null, \"fcst_upper_75\": null, \"fcst_upper_95\": null}, {\"time\": \"2016-01-25T00:00:00\", \"y\": 2, \"fcst\": null, \"fcst_lower_05\": null, \"fcst_lower_25\": null, \"fcst_upper_75\": null, \"fcst_upper_95\": null}, {\"time\": \"2016-01-26T00:00:00\", \"y\": 1, \"fcst\": null, \"fcst_lower_05\": null, \"fcst_lower_25\": null, \"fcst_upper_75\": null, \"fcst_upper_95\": null}, {\"time\": \"2016-01-27T00:00:00\", \"y\": 0, \"fcst\": null, \"fcst_lower_05\": null, \"fcst_lower_25\": null, \"fcst_upper_75\": null, \"fcst_upper_95\": null}, {\"time\": \"2016-01-28T00:00:00\", \"y\": 1, \"fcst\": null, \"fcst_lower_05\": null, \"fcst_lower_25\": null, \"fcst_upper_75\": null, \"fcst_upper_95\": null}, {\"time\": \"2016-01-29T00:00:00\", \"y\": 1, \"fcst\": null, \"fcst_lower_05\": null, \"fcst_lower_25\": null, \"fcst_upper_75\": null, \"fcst_upper_95\": null}, {\"time\": \"2016-01-30T00:00:00\", \"y\": 2, \"fcst\": null, \"fcst_lower_05\": null, \"fcst_lower_25\": null, \"fcst_upper_75\": null, \"fcst_upper_95\": null}, {\"time\": \"2016-01-31T00:00:00\", \"y\": 5, \"fcst\": null, \"fcst_lower_05\": null, \"fcst_lower_25\": null, \"fcst_upper_75\": null, \"fcst_upper_95\": null}, {\"time\": \"2016-02-01T00:00:00\", \"y\": 1, \"fcst\": null, \"fcst_lower_05\": null, \"fcst_lower_25\": null, \"fcst_upper_75\": null, \"fcst_upper_95\": null}, {\"time\": \"2016-02-02T00:00:00\", \"y\": 2, \"fcst\": null, \"fcst_lower_05\": null, \"fcst_lower_25\": null, \"fcst_upper_75\": null, \"fcst_upper_95\": null}, {\"time\": \"2016-02-03T00:00:00\", \"y\": 1, \"fcst\": null, \"fcst_lower_05\": null, \"fcst_lower_25\": null, \"fcst_upper_75\": null, \"fcst_upper_95\": null}, {\"time\": \"2016-02-04T00:00:00\", \"y\": 2, \"fcst\": null, \"fcst_lower_05\": null, \"fcst_lower_25\": null, \"fcst_upper_75\": null, \"fcst_upper_95\": null}, {\"time\": \"2016-02-05T00:00:00\", \"y\": 0, \"fcst\": null, \"fcst_lower_05\": null, \"fcst_lower_25\": null, \"fcst_upper_75\": null, \"fcst_upper_95\": null}, {\"time\": \"2016-02-06T00:00:00\", \"y\": 2, \"fcst\": null, \"fcst_lower_05\": null, \"fcst_lower_25\": null, \"fcst_upper_75\": null, \"fcst_upper_95\": null}, {\"time\": \"2016-02-07T00:00:00\", \"y\": 3, \"fcst\": null, \"fcst_lower_05\": null, \"fcst_lower_25\": null, \"fcst_upper_75\": null, \"fcst_upper_95\": null}, {\"time\": \"2016-02-08T00:00:00\", \"y\": 0, \"fcst\": null, \"fcst_lower_05\": null, \"fcst_lower_25\": null, \"fcst_upper_75\": null, \"fcst_upper_95\": null}, {\"time\": \"2016-02-09T00:00:00\", \"y\": 1, \"fcst\": null, \"fcst_lower_05\": null, \"fcst_lower_25\": null, \"fcst_upper_75\": null, \"fcst_upper_95\": null}, {\"time\": \"2016-02-10T00:00:00\", \"y\": 1, \"fcst\": null, \"fcst_lower_05\": null, \"fcst_lower_25\": null, \"fcst_upper_75\": null, \"fcst_upper_95\": null}, {\"time\": \"2016-02-11T00:00:00\", \"y\": 1, \"fcst\": null, \"fcst_lower_05\": null, \"fcst_lower_25\": null, \"fcst_upper_75\": null, \"fcst_upper_95\": null}, {\"time\": \"2016-02-12T00:00:00\", \"y\": 4, \"fcst\": null, \"fcst_lower_05\": null, \"fcst_lower_25\": null, \"fcst_upper_75\": null, \"fcst_upper_95\": null}, {\"time\": \"2016-02-13T00:00:00\", \"y\": 0, \"fcst\": null, \"fcst_lower_05\": null, \"fcst_lower_25\": null, \"fcst_upper_75\": null, \"fcst_upper_95\": null}, {\"time\": \"2016-02-14T00:00:00\", \"y\": 2, \"fcst\": null, \"fcst_lower_05\": null, \"fcst_lower_25\": null, \"fcst_upper_75\": null, \"fcst_upper_95\": null}, {\"time\": \"2016-02-15T00:00:00\", \"y\": 2, \"fcst\": null, \"fcst_lower_05\": null, \"fcst_lower_25\": null, \"fcst_upper_75\": null, \"fcst_upper_95\": null}, {\"time\": \"2016-02-16T00:00:00\", \"y\": 1, \"fcst\": null, \"fcst_lower_05\": null, \"fcst_lower_25\": null, \"fcst_upper_75\": null, \"fcst_upper_95\": null}, {\"time\": \"2016-02-17T00:00:00\", \"y\": 1, \"fcst\": null, \"fcst_lower_05\": null, \"fcst_lower_25\": null, \"fcst_upper_75\": null, \"fcst_upper_95\": null}, {\"time\": \"2016-02-18T00:00:00\", \"y\": 4, \"fcst\": null, \"fcst_lower_05\": null, \"fcst_lower_25\": null, \"fcst_upper_75\": null, \"fcst_upper_95\": null}, {\"time\": \"2016-02-19T00:00:00\", \"y\": 0, \"fcst\": null, \"fcst_lower_05\": null, \"fcst_lower_25\": null, \"fcst_upper_75\": null, \"fcst_upper_95\": null}, {\"time\": \"2016-02-20T00:00:00\", \"y\": 3, \"fcst\": null, \"fcst_lower_05\": null, \"fcst_lower_25\": null, \"fcst_upper_75\": null, \"fcst_upper_95\": null}, {\"time\": \"2016-02-21T00:00:00\", \"y\": 1, \"fcst\": null, \"fcst_lower_05\": null, \"fcst_lower_25\": null, \"fcst_upper_75\": null, \"fcst_upper_95\": null}, {\"time\": \"2016-02-22T00:00:00\", \"y\": 1, \"fcst\": null, \"fcst_lower_05\": null, \"fcst_lower_25\": null, \"fcst_upper_75\": null, \"fcst_upper_95\": null}, {\"time\": \"2016-02-23T00:00:00\", \"y\": 2, \"fcst\": null, \"fcst_lower_05\": null, \"fcst_lower_25\": null, \"fcst_upper_75\": null, \"fcst_upper_95\": null}, {\"time\": \"2016-02-24T00:00:00\", \"y\": 1, \"fcst\": null, \"fcst_lower_05\": null, \"fcst_lower_25\": null, \"fcst_upper_75\": null, \"fcst_upper_95\": null}, {\"time\": \"2016-02-25T00:00:00\", \"y\": 0, \"fcst\": null, \"fcst_lower_05\": null, \"fcst_lower_25\": null, \"fcst_upper_75\": null, \"fcst_upper_95\": null}, {\"time\": \"2016-02-26T00:00:00\", \"y\": 0, \"fcst\": null, \"fcst_lower_05\": null, \"fcst_lower_25\": null, \"fcst_upper_75\": null, \"fcst_upper_95\": null}, {\"time\": \"2016-02-27T00:00:00\", \"y\": 2, \"fcst\": null, \"fcst_lower_05\": null, \"fcst_lower_25\": null, \"fcst_upper_75\": null, \"fcst_upper_95\": null}, {\"time\": \"2016-02-28T00:00:00\", \"y\": 2, \"fcst\": null, \"fcst_lower_05\": null, \"fcst_lower_25\": null, \"fcst_upper_75\": null, \"fcst_upper_95\": null}, {\"time\": \"2016-02-29T00:00:00\", \"y\": 0, \"fcst\": null, \"fcst_lower_05\": null, \"fcst_lower_25\": null, \"fcst_upper_75\": null, \"fcst_upper_95\": null}, {\"time\": \"2016-03-01T00:00:00\", \"y\": 2, \"fcst\": null, \"fcst_lower_05\": null, \"fcst_lower_25\": null, \"fcst_upper_75\": null, \"fcst_upper_95\": null}, {\"time\": \"2016-03-02T00:00:00\", \"y\": 1, \"fcst\": null, \"fcst_lower_05\": null, \"fcst_lower_25\": null, \"fcst_upper_75\": null, \"fcst_upper_95\": null}, {\"time\": \"2016-03-03T00:00:00\", \"y\": 1, \"fcst\": null, \"fcst_lower_05\": null, \"fcst_lower_25\": null, \"fcst_upper_75\": null, \"fcst_upper_95\": null}, {\"time\": \"2016-03-04T00:00:00\", \"y\": 5, \"fcst\": null, \"fcst_lower_05\": null, \"fcst_lower_25\": null, \"fcst_upper_75\": null, \"fcst_upper_95\": null}, {\"time\": \"2016-03-05T00:00:00\", \"y\": 3, \"fcst\": null, \"fcst_lower_05\": null, \"fcst_lower_25\": null, \"fcst_upper_75\": null, \"fcst_upper_95\": null}, {\"time\": \"2016-03-06T00:00:00\", \"y\": 3, \"fcst\": null, \"fcst_lower_05\": null, \"fcst_lower_25\": null, \"fcst_upper_75\": null, \"fcst_upper_95\": null}, {\"time\": \"2016-03-07T00:00:00\", \"y\": 1, \"fcst\": null, \"fcst_lower_05\": null, \"fcst_lower_25\": null, \"fcst_upper_75\": null, \"fcst_upper_95\": null}, {\"time\": \"2016-03-08T00:00:00\", \"y\": 2, \"fcst\": null, \"fcst_lower_05\": null, \"fcst_lower_25\": null, \"fcst_upper_75\": null, \"fcst_upper_95\": null}, {\"time\": \"2016-03-09T00:00:00\", \"y\": 1, \"fcst\": null, \"fcst_lower_05\": null, \"fcst_lower_25\": null, \"fcst_upper_75\": null, \"fcst_upper_95\": null}, {\"time\": \"2016-03-10T00:00:00\", \"y\": 3, \"fcst\": null, \"fcst_lower_05\": null, \"fcst_lower_25\": null, \"fcst_upper_75\": null, \"fcst_upper_95\": null}, {\"time\": \"2016-03-11T00:00:00\", \"y\": 0, \"fcst\": null, \"fcst_lower_05\": null, \"fcst_lower_25\": null, \"fcst_upper_75\": null, \"fcst_upper_95\": null}, {\"time\": \"2016-03-12T00:00:00\", \"y\": 2, \"fcst\": null, \"fcst_lower_05\": null, \"fcst_lower_25\": null, \"fcst_upper_75\": null, \"fcst_upper_95\": null}, {\"time\": \"2016-03-13T00:00:00\", \"y\": 1, \"fcst\": null, \"fcst_lower_05\": null, \"fcst_lower_25\": null, \"fcst_upper_75\": null, \"fcst_upper_95\": null}, {\"time\": \"2016-03-14T00:00:00\", \"y\": 2, \"fcst\": null, \"fcst_lower_05\": null, \"fcst_lower_25\": null, \"fcst_upper_75\": null, \"fcst_upper_95\": null}, {\"time\": \"2016-03-15T00:00:00\", \"y\": 2, \"fcst\": null, \"fcst_lower_05\": null, \"fcst_lower_25\": null, \"fcst_upper_75\": null, \"fcst_upper_95\": null}, {\"time\": \"2016-03-16T00:00:00\", \"y\": 1, \"fcst\": null, \"fcst_lower_05\": null, \"fcst_lower_25\": null, \"fcst_upper_75\": null, \"fcst_upper_95\": null}, {\"time\": \"2016-03-17T00:00:00\", \"y\": 0, \"fcst\": null, \"fcst_lower_05\": null, \"fcst_lower_25\": null, \"fcst_upper_75\": null, \"fcst_upper_95\": null}, {\"time\": \"2016-03-18T00:00:00\", \"y\": 0, \"fcst\": null, \"fcst_lower_05\": null, \"fcst_lower_25\": null, \"fcst_upper_75\": null, \"fcst_upper_95\": null}, {\"time\": \"2016-03-19T00:00:00\", \"y\": 4, \"fcst\": null, \"fcst_lower_05\": null, \"fcst_lower_25\": null, \"fcst_upper_75\": null, \"fcst_upper_95\": null}, {\"time\": \"2016-03-20T00:00:00\", \"y\": 1, \"fcst\": null, \"fcst_lower_05\": null, \"fcst_lower_25\": null, \"fcst_upper_75\": null, \"fcst_upper_95\": null}, {\"time\": \"2016-03-21T00:00:00\", \"y\": 0, \"fcst\": null, \"fcst_lower_05\": null, \"fcst_lower_25\": null, \"fcst_upper_75\": null, \"fcst_upper_95\": null}, {\"time\": \"2016-03-22T00:00:00\", \"y\": 2, \"fcst\": null, \"fcst_lower_05\": null, \"fcst_lower_25\": null, \"fcst_upper_75\": null, \"fcst_upper_95\": null}, {\"time\": \"2016-03-23T00:00:00\", \"y\": 1, \"fcst\": null, \"fcst_lower_05\": null, \"fcst_lower_25\": null, \"fcst_upper_75\": null, \"fcst_upper_95\": null}, {\"time\": \"2016-03-24T00:00:00\", \"y\": 0, \"fcst\": null, \"fcst_lower_05\": null, \"fcst_lower_25\": null, \"fcst_upper_75\": null, \"fcst_upper_95\": null}, {\"time\": \"2016-03-25T00:00:00\", \"y\": 2, \"fcst\": null, \"fcst_lower_05\": null, \"fcst_lower_25\": null, \"fcst_upper_75\": null, \"fcst_upper_95\": null}, {\"time\": \"2016-03-26T00:00:00\", \"y\": 4, \"fcst\": null, \"fcst_lower_05\": null, \"fcst_lower_25\": null, \"fcst_upper_75\": null, \"fcst_upper_95\": null}, {\"time\": \"2016-03-27T00:00:00\", \"y\": 1, \"fcst\": null, \"fcst_lower_05\": null, \"fcst_lower_25\": null, \"fcst_upper_75\": null, \"fcst_upper_95\": null}, {\"time\": \"2016-03-28T00:00:00\", \"y\": 0, \"fcst\": null, \"fcst_lower_05\": null, \"fcst_lower_25\": null, \"fcst_upper_75\": null, \"fcst_upper_95\": null}, {\"time\": \"2016-03-29T00:00:00\", \"y\": 0, \"fcst\": null, \"fcst_lower_05\": null, \"fcst_lower_25\": null, \"fcst_upper_75\": null, \"fcst_upper_95\": null}, {\"time\": \"2016-03-30T00:00:00\", \"y\": 1, \"fcst\": null, \"fcst_lower_05\": null, \"fcst_lower_25\": null, \"fcst_upper_75\": null, \"fcst_upper_95\": null}, {\"time\": \"2016-03-31T00:00:00\", \"y\": 1, \"fcst\": null, \"fcst_lower_05\": null, \"fcst_lower_25\": null, \"fcst_upper_75\": null, \"fcst_upper_95\": null}, {\"time\": \"2016-04-01T00:00:00\", \"y\": 1, \"fcst\": null, \"fcst_lower_05\": null, \"fcst_lower_25\": null, \"fcst_upper_75\": null, \"fcst_upper_95\": null}, {\"time\": \"2016-04-02T00:00:00\", \"y\": 2, \"fcst\": null, \"fcst_lower_05\": null, \"fcst_lower_25\": null, \"fcst_upper_75\": null, \"fcst_upper_95\": null}, {\"time\": \"2016-04-03T00:00:00\", \"y\": 2, \"fcst\": null, \"fcst_lower_05\": null, \"fcst_lower_25\": null, \"fcst_upper_75\": null, \"fcst_upper_95\": null}, {\"time\": \"2016-04-04T00:00:00\", \"y\": 1, \"fcst\": null, \"fcst_lower_05\": null, \"fcst_lower_25\": null, \"fcst_upper_75\": null, \"fcst_upper_95\": null}, {\"time\": \"2016-04-05T00:00:00\", \"y\": 2, \"fcst\": null, \"fcst_lower_05\": null, \"fcst_lower_25\": null, \"fcst_upper_75\": null, \"fcst_upper_95\": null}, {\"time\": \"2016-04-06T00:00:00\", \"y\": 0, \"fcst\": null, \"fcst_lower_05\": null, \"fcst_lower_25\": null, \"fcst_upper_75\": null, \"fcst_upper_95\": null}, {\"time\": \"2016-04-07T00:00:00\", \"y\": 0, \"fcst\": null, \"fcst_lower_05\": null, \"fcst_lower_25\": null, \"fcst_upper_75\": null, \"fcst_upper_95\": null}, {\"time\": \"2016-04-08T00:00:00\", \"y\": 3, \"fcst\": null, \"fcst_lower_05\": null, \"fcst_lower_25\": null, \"fcst_upper_75\": null, \"fcst_upper_95\": null}, {\"time\": \"2016-04-09T00:00:00\", \"y\": 3, \"fcst\": null, \"fcst_lower_05\": null, \"fcst_lower_25\": null, \"fcst_upper_75\": null, \"fcst_upper_95\": null}, {\"time\": \"2016-04-10T00:00:00\", \"y\": 3, \"fcst\": null, \"fcst_lower_05\": null, \"fcst_lower_25\": null, \"fcst_upper_75\": null, \"fcst_upper_95\": null}, {\"time\": \"2016-04-11T00:00:00\", \"y\": 1, \"fcst\": null, \"fcst_lower_05\": null, \"fcst_lower_25\": null, \"fcst_upper_75\": null, \"fcst_upper_95\": null}, {\"time\": \"2016-04-12T00:00:00\", \"y\": 2, \"fcst\": null, \"fcst_lower_05\": null, \"fcst_lower_25\": null, \"fcst_upper_75\": null, \"fcst_upper_95\": null}, {\"time\": \"2016-04-13T00:00:00\", \"y\": 1, \"fcst\": null, \"fcst_lower_05\": null, \"fcst_lower_25\": null, \"fcst_upper_75\": null, \"fcst_upper_95\": null}, {\"time\": \"2016-04-14T00:00:00\", \"y\": 3, \"fcst\": null, \"fcst_lower_05\": null, \"fcst_lower_25\": null, \"fcst_upper_75\": null, \"fcst_upper_95\": null}, {\"time\": \"2016-04-15T00:00:00\", \"y\": 2, \"fcst\": null, \"fcst_lower_05\": null, \"fcst_lower_25\": null, \"fcst_upper_75\": null, \"fcst_upper_95\": null}, {\"time\": \"2016-04-16T00:00:00\", \"y\": 0, \"fcst\": null, \"fcst_lower_05\": null, \"fcst_lower_25\": null, \"fcst_upper_75\": null, \"fcst_upper_95\": null}, {\"time\": \"2016-04-17T00:00:00\", \"y\": 1, \"fcst\": null, \"fcst_lower_05\": null, \"fcst_lower_25\": null, \"fcst_upper_75\": null, \"fcst_upper_95\": null}, {\"time\": \"2016-04-18T00:00:00\", \"y\": 0, \"fcst\": null, \"fcst_lower_05\": null, \"fcst_lower_25\": null, \"fcst_upper_75\": null, \"fcst_upper_95\": null}, {\"time\": \"2016-04-19T00:00:00\", \"y\": 1, \"fcst\": null, \"fcst_lower_05\": null, \"fcst_lower_25\": null, \"fcst_upper_75\": null, \"fcst_upper_95\": null}, {\"time\": \"2016-04-20T00:00:00\", \"y\": 1, \"fcst\": null, \"fcst_lower_05\": null, \"fcst_lower_25\": null, \"fcst_upper_75\": null, \"fcst_upper_95\": null}, {\"time\": \"2016-04-21T00:00:00\", \"y\": 0, \"fcst\": null, \"fcst_lower_05\": null, \"fcst_lower_25\": null, \"fcst_upper_75\": null, \"fcst_upper_95\": null}, {\"time\": \"2016-04-22T00:00:00\", \"y\": 1, \"fcst\": null, \"fcst_lower_05\": null, \"fcst_lower_25\": null, \"fcst_upper_75\": null, \"fcst_upper_95\": null}, {\"time\": \"2016-04-23T00:00:00\", \"y\": 1, \"fcst\": null, \"fcst_lower_05\": null, \"fcst_lower_25\": null, \"fcst_upper_75\": null, \"fcst_upper_95\": null}, {\"time\": \"2016-04-24T00:00:00\", \"y\": 0, \"fcst\": null, \"fcst_lower_05\": null, \"fcst_lower_25\": null, \"fcst_upper_75\": null, \"fcst_upper_95\": null}, {\"time\": \"2016-04-25T00:00:00\", \"y\": 1, \"fcst\": 1.1200000047683716, \"fcst_lower_05\": 0.0, \"fcst_lower_25\": 0.0, \"fcst_upper_75\": 2.0, \"fcst_upper_95\": 4.0}, {\"time\": \"2016-04-26T00:00:00\", \"y\": 2, \"fcst\": 0.9800000190734863, \"fcst_lower_05\": 0.0, \"fcst_lower_25\": 0.0, \"fcst_upper_75\": 1.0, \"fcst_upper_95\": 4.0}, {\"time\": \"2016-04-27T00:00:00\", \"y\": 5, \"fcst\": 0.8999999761581421, \"fcst_lower_05\": 0.0, \"fcst_lower_25\": 0.0, \"fcst_upper_75\": 1.0, \"fcst_upper_95\": 3.0}, {\"time\": \"2016-04-28T00:00:00\", \"y\": 5, \"fcst\": 1.2000000476837158, \"fcst_lower_05\": 0.0, \"fcst_lower_25\": 0.0, \"fcst_upper_75\": 2.0, \"fcst_upper_95\": 4.0}, {\"time\": \"2016-04-29T00:00:00\", \"y\": 0, \"fcst\": 1.1799999475479126, \"fcst_lower_05\": 0.0, \"fcst_lower_25\": 0.0, \"fcst_upper_75\": 2.0, \"fcst_upper_95\": 3.0}, {\"time\": \"2016-04-30T00:00:00\", \"y\": 0, \"fcst\": 1.6799999475479126, \"fcst_lower_05\": 0.0, \"fcst_lower_25\": 1.0, \"fcst_upper_75\": 3.0, \"fcst_upper_95\": 4.0}, {\"time\": \"2016-05-01T00:00:00\", \"y\": 4, \"fcst\": 2.009999990463257, \"fcst_lower_05\": 0.0, \"fcst_lower_25\": 1.0, \"fcst_upper_75\": 3.0, \"fcst_upper_95\": 6.0}, {\"time\": \"2016-05-02T00:00:00\", \"y\": 0, \"fcst\": 1.1699999570846558, \"fcst_lower_05\": 0.0, \"fcst_lower_25\": 0.0, \"fcst_upper_75\": 2.0, \"fcst_upper_95\": 4.0}, {\"time\": \"2016-05-03T00:00:00\", \"y\": 1, \"fcst\": 1.2000000476837158, \"fcst_lower_05\": 0.0, \"fcst_lower_25\": 0.0, \"fcst_upper_75\": 2.0, \"fcst_upper_95\": 5.0}, {\"time\": \"2016-05-04T00:00:00\", \"y\": 0, \"fcst\": 0.9700000286102295, \"fcst_lower_05\": 0.0, \"fcst_lower_25\": 0.0, \"fcst_upper_75\": 2.0, \"fcst_upper_95\": 3.0}, {\"time\": \"2016-05-05T00:00:00\", \"y\": 1, \"fcst\": 1.5399999618530273, \"fcst_lower_05\": 0.0, \"fcst_lower_25\": 0.0, \"fcst_upper_75\": 2.0, \"fcst_upper_95\": 4.0}, {\"time\": \"2016-05-06T00:00:00\", \"y\": 2, \"fcst\": 1.5299999713897705, \"fcst_lower_05\": 0.0, \"fcst_lower_25\": 0.0, \"fcst_upper_75\": 2.0, \"fcst_upper_95\": 4.0}, {\"time\": \"2016-05-07T00:00:00\", \"y\": 2, \"fcst\": 1.6799999475479126, \"fcst_lower_05\": 0.0, \"fcst_lower_25\": 0.0, \"fcst_upper_75\": 3.0, \"fcst_upper_95\": 4.0}, {\"time\": \"2016-05-08T00:00:00\", \"y\": 1, \"fcst\": 1.4199999570846558, \"fcst_lower_05\": 0.0, \"fcst_lower_25\": 0.0, \"fcst_upper_75\": 2.0, \"fcst_upper_95\": 4.0}, {\"time\": \"2016-05-09T00:00:00\", \"y\": 4, \"fcst\": 1.4299999475479126, \"fcst_lower_05\": 0.0, \"fcst_lower_25\": 0.0, \"fcst_upper_75\": 2.0, \"fcst_upper_95\": 4.0}, {\"time\": \"2016-05-10T00:00:00\", \"y\": 1, \"fcst\": 1.3799999952316284, \"fcst_lower_05\": 0.0, \"fcst_lower_25\": 0.0, \"fcst_upper_75\": 2.0, \"fcst_upper_95\": 4.0}, {\"time\": \"2016-05-11T00:00:00\", \"y\": 0, \"fcst\": 1.4299999475479126, \"fcst_lower_05\": 0.0, \"fcst_lower_25\": 0.0, \"fcst_upper_75\": 2.0, \"fcst_upper_95\": 5.0}, {\"time\": \"2016-05-12T00:00:00\", \"y\": 1, \"fcst\": 1.2899999618530273, \"fcst_lower_05\": 0.0, \"fcst_lower_25\": 0.0, \"fcst_upper_75\": 2.0, \"fcst_upper_95\": 4.0}, {\"time\": \"2016-05-13T00:00:00\", \"y\": 0, \"fcst\": 1.2899999618530273, \"fcst_lower_05\": 0.0, \"fcst_lower_25\": 0.0, \"fcst_upper_75\": 2.0, \"fcst_upper_95\": 5.0}, {\"time\": \"2016-05-14T00:00:00\", \"y\": 2, \"fcst\": 1.4800000190734863, \"fcst_lower_05\": 0.0, \"fcst_lower_25\": 0.0, \"fcst_upper_75\": 2.0, \"fcst_upper_95\": 5.0}, {\"time\": \"2016-05-15T00:00:00\", \"y\": 1, \"fcst\": 1.5099999904632568, \"fcst_lower_05\": 0.0, \"fcst_lower_25\": 0.0, \"fcst_upper_75\": 2.0, \"fcst_upper_95\": 5.0}, {\"time\": \"2016-05-16T00:00:00\", \"y\": 1, \"fcst\": 1.2400000095367432, \"fcst_lower_05\": 0.0, \"fcst_lower_25\": 0.0, \"fcst_upper_75\": 2.0, \"fcst_upper_95\": 4.0}, {\"time\": \"2016-05-17T00:00:00\", \"y\": 0, \"fcst\": 1.1699999570846558, \"fcst_lower_05\": 0.0, \"fcst_lower_25\": 0.0, \"fcst_upper_75\": 2.0, \"fcst_upper_95\": 4.0}, {\"time\": \"2016-05-18T00:00:00\", \"y\": 1, \"fcst\": 1.1399999856948853, \"fcst_lower_05\": 0.0, \"fcst_lower_25\": 0.0, \"fcst_upper_75\": 2.0, \"fcst_upper_95\": 4.0}, {\"time\": \"2016-05-19T00:00:00\", \"y\": 3, \"fcst\": 1.0700000524520874, \"fcst_lower_05\": 0.0, \"fcst_lower_25\": 0.0, \"fcst_upper_75\": 2.0, \"fcst_upper_95\": 3.0}, {\"time\": \"2016-05-20T00:00:00\", \"y\": 1, \"fcst\": 1.3799999952316284, \"fcst_lower_05\": 0.0, \"fcst_lower_25\": 0.0, \"fcst_upper_75\": 2.0, \"fcst_upper_95\": 4.0}, {\"time\": \"2016-05-21T00:00:00\", \"y\": 2, \"fcst\": 1.7599999904632568, \"fcst_lower_05\": 0.0, \"fcst_lower_25\": 0.0, \"fcst_upper_75\": 3.0, \"fcst_upper_95\": 5.0}, {\"time\": \"2016-05-22T00:00:00\", \"y\": 1, \"fcst\": 1.8300000429153442, \"fcst_lower_05\": 0.0, \"fcst_lower_25\": 1.0, \"fcst_upper_75\": 3.0, \"fcst_upper_95\": 5.0}], \"data-302bc33366dfe1498bc0394fc8325ea5\": [{\"time\": \"2016-04-25T00:00:00\"}]}}, {\"mode\": \"vega-lite\"});\n",
       "</script>"
      ],
      "text/plain": [
       "alt.LayerChart(...)"
      ]
     },
     "execution_count": 20,
     "metadata": {},
     "output_type": "execute_result"
    }
   ],
   "source": [
    "plot_index = 2  # 2, 4, 8\n",
    "plot_id = test_sampled_ids[plot_index]\n",
    "\n",
    "y = target[[plot_id]].reset_index()\n",
    "y.columns = [\"time\", \"y\"]\n",
    "y[\"time\"] = pd.to_datetime(y[\"time\"])\n",
    "\n",
    "forecast = pd.DataFrame(\n",
    "    [forecasts[plot_index].mean]\n",
    "    + [forecasts[plot_index].quantile(p) for p in [0.05, 0.25, 0.75, 0.95]],\n",
    "    columns=forecasts[plot_index].index,\n",
    ").T.reset_index()\n",
    "forecast.columns = [\n",
    "    \"time\",\n",
    "    \"fcst\",\n",
    "    \"fcst_lower_05\",\n",
    "    \"fcst_lower_25\",\n",
    "    \"fcst_upper_75\",\n",
    "    \"fcst_upper_95\",\n",
    "]\n",
    "\n",
    "source = y.merge(forecast, how=\"left\")\n",
    "plot_forecast(\n",
    "    source, test_steps, plot_id=plot_id, model_name=\"DeepAR\", start_date=\"2015-05-23\"\n",
    ")"
   ]
  },
  {
   "cell_type": "markdown",
   "id": "4426be8f-ef22-46aa-95b3-4c5ee243b659",
   "metadata": {},
   "source": [
    "# DeepVAR: Model Training"
   ]
  },
  {
   "cell_type": "code",
   "execution_count": 21,
   "id": "b36b98a3-ba02-42bb-8460-87802361d8e1",
   "metadata": {},
   "outputs": [],
   "source": [
    "train_grouper = MultivariateGrouper(max_target_dim=num_series)\n",
    "train_dataset = train_grouper(train_dataset)\n",
    "\n",
    "test_grouper = MultivariateGrouper(max_target_dim=num_series)\n",
    "test_dataset = test_grouper(test_dataset)"
   ]
  },
  {
   "cell_type": "code",
   "execution_count": 22,
   "id": "8f616055-ff46-413f-b267-e61af09bbb9a",
   "metadata": {},
   "outputs": [],
   "source": [
    "trainer = Trainer(\n",
    "    ctx=device,\n",
    "    epochs=200,\n",
    "    num_batches_per_epoch=50,\n",
    "    learning_rate=0.001,\n",
    "    hybridize=True,\n",
    ")"
   ]
  },
  {
   "cell_type": "code",
   "execution_count": 23,
   "id": "f32c52db-6eb8-43ae-b862-24704543728e",
   "metadata": {},
   "outputs": [],
   "source": [
    "deepvar_estimator = DeepVAREstimator(\n",
    "    freq=\"D\", \n",
    "    prediction_length=test_steps,\n",
    "    target_dim=num_series,\n",
    "    trainer=trainer,\n",
    "    context_length=2 * test_steps,\n",
    "    num_layers=2,\n",
    "    num_cells=40,\n",
    "    cell_type=\"lstm\",\n",
    "    dropout_rate=0.2,\n",
    "    cardinality=cardinality,\n",
    "    distr_output=LowrankMultivariateGaussianOutput(dim=num_series, rank=5),\n",
    "    batch_size=30,\n",
    ")"
   ]
  },
  {
   "cell_type": "code",
   "execution_count": 24,
   "id": "508b550c-5463-4eaa-9456-efc49f1b7dba",
   "metadata": {},
   "outputs": [
    {
     "name": "stderr",
     "output_type": "stream",
     "text": [
      "100%|██████████| 50/50 [05:29<00:00,  6.60s/it, epoch=1/200, avg_epoch_loss=6.71e+17]\n",
      "100%|██████████| 50/50 [05:48<00:00,  6.97s/it, epoch=2/200, avg_epoch_loss=7.57e+17]\n",
      "100%|██████████| 50/50 [05:52<00:00,  7.05s/it, epoch=3/200, avg_epoch_loss=2.94e+17]\n",
      "100%|██████████| 50/50 [05:50<00:00,  7.01s/it, epoch=4/200, avg_epoch_loss=2.46e+17]\n",
      "100%|██████████| 50/50 [05:29<00:00,  6.59s/it, epoch=5/200, avg_epoch_loss=1.38e+17]\n",
      "100%|██████████| 50/50 [05:35<00:00,  6.71s/it, epoch=6/200, avg_epoch_loss=1.1e+17] \n",
      "100%|██████████| 50/50 [05:28<00:00,  6.58s/it, epoch=7/200, avg_epoch_loss=1.29e+17]\n",
      "100%|██████████| 50/50 [05:30<00:00,  6.60s/it, epoch=8/200, avg_epoch_loss=8.68e+16]\n",
      "100%|██████████| 50/50 [05:27<00:00,  6.54s/it, epoch=9/200, avg_epoch_loss=9.72e+16]\n",
      "100%|██████████| 50/50 [05:28<00:00,  6.58s/it, epoch=10/200, avg_epoch_loss=5.54e+16]\n",
      "100%|██████████| 50/50 [05:39<00:00,  6.79s/it, epoch=11/200, avg_epoch_loss=6.41e+16]\n",
      "100%|██████████| 50/50 [05:37<00:00,  6.75s/it, epoch=12/200, avg_epoch_loss=3.88e+16]\n",
      "100%|██████████| 50/50 [05:34<00:00,  6.70s/it, epoch=13/200, avg_epoch_loss=3.53e+16]\n",
      "100%|██████████| 50/50 [05:35<00:00,  6.71s/it, epoch=14/200, avg_epoch_loss=5.99e+16]\n",
      "100%|██████████| 50/50 [05:34<00:00,  6.70s/it, epoch=15/200, avg_epoch_loss=4.34e+16]\n",
      "100%|██████████| 50/50 [05:25<00:00,  6.51s/it, epoch=16/200, avg_epoch_loss=2.77e+16]\n",
      "100%|██████████| 50/50 [05:20<00:00,  6.42s/it, epoch=17/200, avg_epoch_loss=1.73e+16]\n",
      "100%|██████████| 50/50 [05:23<00:00,  6.48s/it, epoch=18/200, avg_epoch_loss=4.18e+16]\n",
      "100%|██████████| 50/50 [05:24<00:00,  6.49s/it, epoch=19/200, avg_epoch_loss=3.77e+16]\n",
      "100%|██████████| 50/50 [05:08<00:00,  6.16s/it, epoch=20/200, avg_epoch_loss=2.29e+16]\n",
      "100%|██████████| 50/50 [05:06<00:00,  6.13s/it, epoch=21/200, avg_epoch_loss=3.77e+16]\n",
      "100%|██████████| 50/50 [05:05<00:00,  6.11s/it, epoch=22/200, avg_epoch_loss=1.49e+16]\n",
      "100%|██████████| 50/50 [05:05<00:00,  6.12s/it, epoch=23/200, avg_epoch_loss=2.35e+16]\n",
      "100%|██████████| 50/50 [05:07<00:00,  6.15s/it, epoch=24/200, avg_epoch_loss=1.52e+16]\n",
      "100%|██████████| 50/50 [05:11<00:00,  6.23s/it, epoch=25/200, avg_epoch_loss=2.52e+16]\n",
      "100%|██████████| 50/50 [05:09<00:00,  6.19s/it, epoch=26/200, avg_epoch_loss=2.63e+16]\n",
      "100%|██████████| 50/50 [05:11<00:00,  6.23s/it, epoch=27/200, avg_epoch_loss=2.6e+16] \n",
      "100%|██████████| 50/50 [05:07<00:00,  6.16s/it, epoch=28/200, avg_epoch_loss=1.11e+16]\n",
      "100%|██████████| 50/50 [05:03<00:00,  6.07s/it, epoch=29/200, avg_epoch_loss=1.17e+16]\n",
      "100%|██████████| 50/50 [05:02<00:00,  6.05s/it, epoch=30/200, avg_epoch_loss=1.32e+16]\n",
      "100%|██████████| 50/50 [05:02<00:00,  6.05s/it, epoch=31/200, avg_epoch_loss=1.96e+16]\n",
      "100%|██████████| 50/50 [05:12<00:00,  6.24s/it, epoch=32/200, avg_epoch_loss=7.19e+15]\n",
      "100%|██████████| 50/50 [05:12<00:00,  6.26s/it, epoch=33/200, avg_epoch_loss=1.11e+16]\n",
      "100%|██████████| 50/50 [05:06<00:00,  6.12s/it, epoch=34/200, avg_epoch_loss=1.2e+16] \n",
      "100%|██████████| 50/50 [05:11<00:00,  6.23s/it, epoch=35/200, avg_epoch_loss=4.96e+15]\n",
      "100%|██████████| 50/50 [05:12<00:00,  6.26s/it, epoch=36/200, avg_epoch_loss=1.26e+16]\n",
      "100%|██████████| 50/50 [05:07<00:00,  6.16s/it, epoch=37/200, avg_epoch_loss=4.94e+15]\n",
      "100%|██████████| 50/50 [05:07<00:00,  6.15s/it, epoch=38/200, avg_epoch_loss=2.31e+16]\n",
      "100%|██████████| 50/50 [05:06<00:00,  6.14s/it, epoch=39/200, avg_epoch_loss=1.16e+16]\n",
      "100%|██████████| 50/50 [05:06<00:00,  6.14s/it, epoch=40/200, avg_epoch_loss=1.48e+16]\n",
      "100%|██████████| 50/50 [05:04<00:00,  6.10s/it, epoch=41/200, avg_epoch_loss=5.54e+15]\n",
      "100%|██████████| 50/50 [05:06<00:00,  6.12s/it, epoch=42/200, avg_epoch_loss=8.97e+15]\n",
      "100%|██████████| 50/50 [05:09<00:00,  6.19s/it, epoch=43/200, avg_epoch_loss=5.64e+15]\n",
      "100%|██████████| 50/50 [05:06<00:00,  6.13s/it, epoch=44/200, avg_epoch_loss=1.01e+16]\n",
      "100%|██████████| 50/50 [05:07<00:00,  6.15s/it, epoch=45/200, avg_epoch_loss=1.06e+16]\n",
      "100%|██████████| 50/50 [05:20<00:00,  6.41s/it, epoch=46/200, avg_epoch_loss=3.91e+15]\n",
      "100%|██████████| 50/50 [05:25<00:00,  6.51s/it, epoch=47/200, avg_epoch_loss=1.2e+16] \n",
      "100%|██████████| 50/50 [05:25<00:00,  6.51s/it, epoch=48/200, avg_epoch_loss=1.48e+16]\n",
      "100%|██████████| 50/50 [05:27<00:00,  6.54s/it, epoch=49/200, avg_epoch_loss=1.03e+16]\n",
      "100%|██████████| 50/50 [05:27<00:00,  6.54s/it, epoch=50/200, avg_epoch_loss=5.29e+15]\n",
      "100%|██████████| 50/50 [05:27<00:00,  6.55s/it, epoch=51/200, avg_epoch_loss=5.6e+15] \n",
      "100%|██████████| 50/50 [05:27<00:00,  6.54s/it, epoch=52/200, avg_epoch_loss=9.01e+15]\n",
      "100%|██████████| 50/50 [05:26<00:00,  6.52s/it, epoch=53/200, avg_epoch_loss=4.91e+15]\n",
      "100%|██████████| 50/50 [05:26<00:00,  6.53s/it, epoch=54/200, avg_epoch_loss=1.17e+16]\n",
      "100%|██████████| 50/50 [05:26<00:00,  6.53s/it, epoch=55/200, avg_epoch_loss=1.23e+16]\n",
      "100%|██████████| 50/50 [05:26<00:00,  6.54s/it, epoch=56/200, avg_epoch_loss=6.52e+15]\n",
      "100%|██████████| 50/50 [05:27<00:00,  6.55s/it, epoch=57/200, avg_epoch_loss=5.74e+15]\n",
      "100%|██████████| 50/50 [05:25<00:00,  6.51s/it, epoch=58/200, avg_epoch_loss=1.29e+16]\n",
      "100%|██████████| 50/50 [05:29<00:00,  6.60s/it, epoch=59/200, avg_epoch_loss=1.08e+16]\n",
      "100%|██████████| 50/50 [05:28<00:00,  6.58s/it, epoch=60/200, avg_epoch_loss=6.01e+15]\n",
      "100%|██████████| 50/50 [05:27<00:00,  6.55s/it, epoch=61/200, avg_epoch_loss=7.79e+15]\n",
      "100%|██████████| 50/50 [05:31<00:00,  6.64s/it, epoch=62/200, avg_epoch_loss=5.11e+15]\n",
      "100%|██████████| 50/50 [05:28<00:00,  6.58s/it, epoch=63/200, avg_epoch_loss=8.21e+15]\n",
      "100%|██████████| 50/50 [05:26<00:00,  6.52s/it, epoch=64/200, avg_epoch_loss=4.79e+15]\n",
      "100%|██████████| 50/50 [05:19<00:00,  6.39s/it, epoch=65/200, avg_epoch_loss=3.78e+15]\n",
      "100%|██████████| 50/50 [05:17<00:00,  6.36s/it, epoch=66/200, avg_epoch_loss=8.45e+15]\n",
      "100%|██████████| 50/50 [05:18<00:00,  6.38s/it, epoch=67/200, avg_epoch_loss=1.26e+16]\n",
      "100%|██████████| 50/50 [05:24<00:00,  6.49s/it, epoch=68/200, avg_epoch_loss=5.48e+15]\n",
      "100%|██████████| 50/50 [05:31<00:00,  6.63s/it, epoch=69/200, avg_epoch_loss=5.8e+15] \n",
      "100%|██████████| 50/50 [05:27<00:00,  6.54s/it, epoch=70/200, avg_epoch_loss=7.86e+15]\n",
      "100%|██████████| 50/50 [05:27<00:00,  6.56s/it, epoch=71/200, avg_epoch_loss=7.5e+15] \n",
      "100%|██████████| 50/50 [05:37<00:00,  6.74s/it, epoch=72/200, avg_epoch_loss=9.25e+15]\n",
      "100%|██████████| 50/50 [05:28<00:00,  6.57s/it, epoch=73/200, avg_epoch_loss=7.31e+15]\n",
      "100%|██████████| 50/50 [05:28<00:00,  6.57s/it, epoch=74/200, avg_epoch_loss=7.79e+15]\n",
      "100%|██████████| 50/50 [05:29<00:00,  6.60s/it, epoch=75/200, avg_epoch_loss=1.05e+16]\n",
      "100%|██████████| 50/50 [05:26<00:00,  6.53s/it, epoch=76/200, avg_epoch_loss=1.23e+16]\n",
      "100%|██████████| 50/50 [05:26<00:00,  6.52s/it, epoch=77/200, avg_epoch_loss=6.74e+15]\n",
      "100%|██████████| 50/50 [05:25<00:00,  6.52s/it, epoch=78/200, avg_epoch_loss=5.17e+15]\n",
      "100%|██████████| 50/50 [05:18<00:00,  6.37s/it, epoch=79/200, avg_epoch_loss=6.76e+15]\n",
      "100%|██████████| 50/50 [05:17<00:00,  6.36s/it, epoch=80/200, avg_epoch_loss=6.38e+15]\n",
      "100%|██████████| 50/50 [05:20<00:00,  6.41s/it, epoch=81/200, avg_epoch_loss=1.06e+16]\n",
      "100%|██████████| 50/50 [05:24<00:00,  6.50s/it, epoch=82/200, avg_epoch_loss=3.42e+15]\n",
      "100%|██████████| 50/50 [05:26<00:00,  6.54s/it, epoch=83/200, avg_epoch_loss=6.04e+15]\n",
      "100%|██████████| 50/50 [05:25<00:00,  6.52s/it, epoch=84/200, avg_epoch_loss=1.13e+16]\n",
      "100%|██████████| 50/50 [05:21<00:00,  6.43s/it, epoch=85/200, avg_epoch_loss=9.97e+15]\n",
      "100%|██████████| 50/50 [05:22<00:00,  6.45s/it, epoch=86/200, avg_epoch_loss=4.98e+15]\n",
      "100%|██████████| 50/50 [05:27<00:00,  6.54s/it, epoch=87/200, avg_epoch_loss=1.06e+16]\n",
      "100%|██████████| 50/50 [05:10<00:00,  6.21s/it, epoch=88/200, avg_epoch_loss=7.93e+15]\n",
      "100%|██████████| 50/50 [05:07<00:00,  6.15s/it, epoch=89/200, avg_epoch_loss=7.23e+15]\n",
      "100%|██████████| 50/50 [05:06<00:00,  6.14s/it, epoch=90/200, avg_epoch_loss=1.83e+16]\n",
      "100%|██████████| 50/50 [05:02<00:00,  6.05s/it, epoch=91/200, avg_epoch_loss=9.24e+15]\n",
      "100%|██████████| 50/50 [05:00<00:00,  6.01s/it, epoch=92/200, avg_epoch_loss=1.51e+16]\n",
      "100%|██████████| 50/50 [05:06<00:00,  6.13s/it, epoch=93/200, avg_epoch_loss=8.24e+15]\n",
      "100%|██████████| 50/50 [05:05<00:00,  6.11s/it, epoch=94/200, avg_epoch_loss=9.12e+15]\n",
      "100%|██████████| 50/50 [05:05<00:00,  6.11s/it, epoch=95/200, avg_epoch_loss=1.37e+16]\n",
      "100%|██████████| 50/50 [05:07<00:00,  6.15s/it, epoch=96/200, avg_epoch_loss=6.59e+15]\n",
      "100%|██████████| 50/50 [05:07<00:00,  6.16s/it, epoch=97/200, avg_epoch_loss=5.63e+15]\n",
      "100%|██████████| 50/50 [05:08<00:00,  6.16s/it, epoch=98/200, avg_epoch_loss=1.3e+16] \n",
      "100%|██████████| 50/50 [05:07<00:00,  6.16s/it, epoch=99/200, avg_epoch_loss=4.26e+15]\n",
      "100%|██████████| 50/50 [05:07<00:00,  6.15s/it, epoch=100/200, avg_epoch_loss=4.18e+15]\n",
      "100%|██████████| 50/50 [05:07<00:00,  6.15s/it, epoch=101/200, avg_epoch_loss=5.42e+15]\n",
      "100%|██████████| 50/50 [05:07<00:00,  6.15s/it, epoch=102/200, avg_epoch_loss=1.13e+16]\n",
      "100%|██████████| 50/50 [05:08<00:00,  6.16s/it, epoch=103/200, avg_epoch_loss=1.52e+16]\n",
      "100%|██████████| 50/50 [05:07<00:00,  6.16s/it, epoch=104/200, avg_epoch_loss=3.2e+15] \n",
      "100%|██████████| 50/50 [05:07<00:00,  6.14s/it, epoch=105/200, avg_epoch_loss=1.15e+16]\n",
      "100%|██████████| 50/50 [05:07<00:00,  6.15s/it, epoch=106/200, avg_epoch_loss=7.03e+15]\n",
      "100%|██████████| 50/50 [05:04<00:00,  6.10s/it, epoch=107/200, avg_epoch_loss=3.87e+15]\n",
      "100%|██████████| 50/50 [05:04<00:00,  6.09s/it, epoch=108/200, avg_epoch_loss=6.62e+15]\n",
      "100%|██████████| 50/50 [05:04<00:00,  6.09s/it, epoch=109/200, avg_epoch_loss=7.77e+15]\n",
      "100%|██████████| 50/50 [05:05<00:00,  6.10s/it, epoch=110/200, avg_epoch_loss=9.98e+15]\n",
      "100%|██████████| 50/50 [05:04<00:00,  6.10s/it, epoch=111/200, avg_epoch_loss=7.22e+15]\n",
      "100%|██████████| 50/50 [05:05<00:00,  6.11s/it, epoch=112/200, avg_epoch_loss=1.01e+16]\n",
      "100%|██████████| 50/50 [05:08<00:00,  6.17s/it, epoch=113/200, avg_epoch_loss=8.12e+15]\n",
      "100%|██████████| 50/50 [05:04<00:00,  6.08s/it, epoch=114/200, avg_epoch_loss=8.97e+15]\n",
      "100%|██████████| 50/50 [05:07<00:00,  6.16s/it, epoch=115/200, avg_epoch_loss=6.61e+15]\n",
      "100%|██████████| 50/50 [05:07<00:00,  6.16s/it, epoch=116/200, avg_epoch_loss=7.78e+15]\n",
      "100%|██████████| 50/50 [05:08<00:00,  6.18s/it, epoch=117/200, avg_epoch_loss=1.21e+16]\n",
      "100%|██████████| 50/50 [05:07<00:00,  6.14s/it, epoch=118/200, avg_epoch_loss=9.41e+15]\n",
      "100%|██████████| 50/50 [05:08<00:00,  6.18s/it, epoch=119/200, avg_epoch_loss=9.16e+15]\n",
      "100%|██████████| 50/50 [05:07<00:00,  6.15s/it, epoch=120/200, avg_epoch_loss=5.2e+15] \n",
      "100%|██████████| 50/50 [05:04<00:00,  6.09s/it, epoch=121/200, avg_epoch_loss=7.86e+15]\n",
      "100%|██████████| 50/50 [05:10<00:00,  6.22s/it, epoch=122/200, avg_epoch_loss=8.35e+15]\n",
      "100%|██████████| 50/50 [05:03<00:00,  6.07s/it, epoch=123/200, avg_epoch_loss=3.53e+15]\n",
      "100%|██████████| 50/50 [05:03<00:00,  6.08s/it, epoch=124/200, avg_epoch_loss=1.02e+16]\n"
     ]
    },
    {
     "name": "stdout",
     "output_type": "stream",
     "text": [
      "Early stopping based on learning rate scheduler callback (min_lr was reached).\n"
     ]
    },
    {
     "name": "stderr",
     "output_type": "stream",
     "text": [
      "WARNING:root:Serializing RepresentableBlockPredictor instances does not save the prediction network structure in a backwards-compatible manner. Be careful not to use this method in production.\n"
     ]
    },
    {
     "name": "stdout",
     "output_type": "stream",
     "text": [
      "CPU times: user 10h 31min 6s, sys: 24min 10s, total: 10h 55min 16s\n",
      "Wall time: 10h 56min 22s\n"
     ]
    }
   ],
   "source": [
    "%%time\n",
    "deepvar_predictor = deepvar_estimator.train(train_dataset)\n",
    "\n",
    "os.makedirs(os.path.join(MODEL_PATH, \"deepvar\"), exist_ok=True)\n",
    "deepvar_predictor.serialize(Path(os.path.join(MODEL_PATH, \"deepvar\")))"
   ]
  },
  {
   "cell_type": "markdown",
   "id": "b3c94554-75b9-495b-ad1e-1498009a1f56",
   "metadata": {},
   "source": [
    "# DeepVAR: Model Evaluation"
   ]
  },
  {
   "cell_type": "code",
   "execution_count": 25,
   "id": "0b0cad13-e71f-4d9e-a09b-2548565ee8a8",
   "metadata": {},
   "outputs": [],
   "source": [
    "deepvar_predictor = Predictor.deserialize(Path(os.path.join(MODEL_PATH, \"deepvar\")))"
   ]
  },
  {
   "cell_type": "code",
   "execution_count": 26,
   "id": "cc5b9267-049b-4b3b-9023-aae28bcbec42",
   "metadata": {},
   "outputs": [
    {
     "name": "stdout",
     "output_type": "stream",
     "text": [
      "CPU times: user 1.96 s, sys: 1 s, total: 2.96 s\n",
      "Wall time: 3.31 s\n"
     ]
    }
   ],
   "source": [
    "%%time\n",
    "forecast_iter, ts_iter = make_evaluation_predictions( \n",
    "    dataset=test_dataset,\n",
    "    predictor=deepvar_predictor, \n",
    "    num_samples=100,\n",
    ") \n",
    "forecasts = list(forecast_iter)\n",
    "tss = list(ts_iter)"
   ]
  },
  {
   "cell_type": "code",
   "execution_count": 27,
   "id": "b231b76d-97ce-4418-8532-65e3b56b5c59",
   "metadata": {},
   "outputs": [
    {
     "name": "stderr",
     "output_type": "stream",
     "text": [
      "Running evaluation: 1it [00:00, 21.98it/s]\n"
     ]
    }
   ],
   "source": [
    "evaluator = MultivariateEvaluator(quantiles=[0.1, 0.5, 0.9])\n",
    "agg_metrics = evaluator.calculate_aggregate_multivariate_metrics(\n",
    "    iter(tss), iter(forecasts), np.mean\n",
    ")"
   ]
  },
  {
   "cell_type": "code",
   "execution_count": 28,
   "id": "96be2e24-589c-4bac-bf44-c697f8b89753",
   "metadata": {},
   "outputs": [
    {
     "name": "stdout",
     "output_type": "stream",
     "text": [
      "MSE: 0.1674\n",
      "abs_error: 9.3517\n",
      "abs_target_sum: 40.9337\n",
      "abs_target_mean: 1.4619\n",
      "seasonal_error: 0.1477\n",
      "MASE: 2.2618\n",
      "MAPE: 0.2100\n",
      "sMAPE: 0.2461\n",
      "MSIS: 17.9019\n",
      "QuantileLoss[0.1]: 6.5779\n",
      "Coverage[0.1]: 0.0000\n",
      "QuantileLoss[0.5]: 9.3517\n",
      "Coverage[0.5]: 0.0000\n",
      "QuantileLoss[0.9]: 2.9279\n",
      "Coverage[0.9]: 0.9643\n",
      "RMSE: 0.4092\n",
      "NRMSE: 0.2799\n",
      "ND: 0.2285\n",
      "wQuantileLoss[0.1]: 0.1607\n",
      "wQuantileLoss[0.5]: 0.2285\n",
      "wQuantileLoss[0.9]: 0.0715\n",
      "mean_absolute_QuantileLoss: 6.2858\n",
      "mean_wQuantileLoss: 0.1536\n",
      "MAE_Coverage: 0.221\n"
     ]
    }
   ],
   "source": [
    "string = \"\"\n",
    "for key, value in agg_metrics.items():\n",
    "    if not np.isnan(value):\n",
    "        string += key + \": \" + f\"{value:.4f}\\n\"\n",
    "        \n",
    "print(string[:-2])"
   ]
  },
  {
   "cell_type": "code",
   "execution_count": 29,
   "id": "c565b0ec-521f-4bb7-a6b1-43dfa271da59",
   "metadata": {},
   "outputs": [
    {
     "name": "stdout",
     "output_type": "stream",
     "text": [
      "DeepVAR WRMSSE: 2.163882\n"
     ]
    }
   ],
   "source": [
    "predictions = [forecast.mean for forecast in forecasts]\n",
    "sampled_df_pred = pd.DataFrame(predictions[0].T, columns=sampled_df_test.columns)\n",
    "\n",
    "wrmsse = wrmsse_evaluator.score(sampled_df_pred)\n",
    "\n",
    "print(f\"DeepVAR WRMSSE: {wrmsse:.6f}\")"
   ]
  },
  {
   "cell_type": "code",
   "execution_count": 30,
   "id": "06edae37-8a0c-4dcc-a505-d665cf4440a0",
   "metadata": {},
   "outputs": [
    {
     "data": {
      "text/html": [
       "\n",
       "<div id=\"altair-viz-4c707aaead1d4d9ebfd7605ebe24b6c8\"></div>\n",
       "<script type=\"text/javascript\">\n",
       "  (function(spec, embedOpt){\n",
       "    let outputDiv = document.currentScript.previousElementSibling;\n",
       "    if (outputDiv.id !== \"altair-viz-4c707aaead1d4d9ebfd7605ebe24b6c8\") {\n",
       "      outputDiv = document.getElementById(\"altair-viz-4c707aaead1d4d9ebfd7605ebe24b6c8\");\n",
       "    }\n",
       "    const paths = {\n",
       "      \"vega\": \"https://cdn.jsdelivr.net/npm//vega@5?noext\",\n",
       "      \"vega-lib\": \"https://cdn.jsdelivr.net/npm//vega-lib?noext\",\n",
       "      \"vega-lite\": \"https://cdn.jsdelivr.net/npm//vega-lite@4.8.1?noext\",\n",
       "      \"vega-embed\": \"https://cdn.jsdelivr.net/npm//vega-embed@6?noext\",\n",
       "    };\n",
       "\n",
       "    function loadScript(lib) {\n",
       "      return new Promise(function(resolve, reject) {\n",
       "        var s = document.createElement('script');\n",
       "        s.src = paths[lib];\n",
       "        s.async = true;\n",
       "        s.onload = () => resolve(paths[lib]);\n",
       "        s.onerror = () => reject(`Error loading script: ${paths[lib]}`);\n",
       "        document.getElementsByTagName(\"head\")[0].appendChild(s);\n",
       "      });\n",
       "    }\n",
       "\n",
       "    function showError(err) {\n",
       "      outputDiv.innerHTML = `<div class=\"error\" style=\"color:red;\">${err}</div>`;\n",
       "      throw err;\n",
       "    }\n",
       "\n",
       "    function displayChart(vegaEmbed) {\n",
       "      vegaEmbed(outputDiv, spec, embedOpt)\n",
       "        .catch(err => showError(`Javascript Error: ${err.message}<br>This usually means there's a typo in your chart specification. See the javascript console for the full traceback.`));\n",
       "    }\n",
       "\n",
       "    if(typeof define === \"function\" && define.amd) {\n",
       "      requirejs.config({paths});\n",
       "      require([\"vega-embed\"], displayChart, err => showError(`Error loading script: ${err.message}`));\n",
       "    } else if (typeof vegaEmbed === \"function\") {\n",
       "      displayChart(vegaEmbed);\n",
       "    } else {\n",
       "      loadScript(\"vega\")\n",
       "        .then(() => loadScript(\"vega-lite\"))\n",
       "        .then(() => loadScript(\"vega-embed\"))\n",
       "        .catch(showError)\n",
       "        .then(() => displayChart(vegaEmbed));\n",
       "    }\n",
       "  })({\"config\": {\"view\": {\"continuousWidth\": 400, \"continuousHeight\": 300}}, \"layer\": [{\"mark\": {\"type\": \"circle\", \"color\": \"#000000\", \"size\": 10.0}, \"encoding\": {\"tooltip\": [{\"type\": \"temporal\", \"field\": \"time\"}, {\"type\": \"quantitative\", \"field\": \"y\"}], \"x\": {\"type\": \"temporal\", \"axis\": {\"title\": \"Date\"}, \"field\": \"time\"}, \"y\": {\"type\": \"quantitative\", \"axis\": {\"title\": \"Sales\"}, \"field\": \"y\"}}}, {\"mark\": {\"type\": \"line\", \"color\": \"#4267B2\", \"size\": 1.0}, \"encoding\": {\"x\": {\"type\": \"temporal\", \"field\": \"time\"}, \"y\": {\"type\": \"quantitative\", \"field\": \"fcst\"}}}, {\"mark\": {\"type\": \"area\", \"color\": \"#4267B2\", \"opacity\": 0.25}, \"encoding\": {\"x\": {\"type\": \"temporal\", \"field\": \"time\"}, \"y\": {\"type\": \"quantitative\", \"field\": \"fcst_lower_05\"}, \"y2\": {\"field\": \"fcst_upper_95\"}}}, {\"mark\": {\"type\": \"area\", \"color\": \"#4267B2\", \"opacity\": 0.5}, \"encoding\": {\"x\": {\"type\": \"temporal\", \"field\": \"time\"}, \"y\": {\"type\": \"quantitative\", \"field\": \"fcst_lower_25\"}, \"y2\": {\"field\": \"fcst_upper_75\"}}}, {\"data\": {\"name\": \"data-302bc33366dfe1498bc0394fc8325ea5\"}, \"mark\": {\"type\": \"rule\", \"color\": \"#FF0000\", \"size\": 1.0, \"strokeDash\": [2, 2]}, \"encoding\": {\"x\": {\"type\": \"temporal\", \"field\": \"time\"}}}], \"data\": {\"name\": \"data-7ca553480c7fe3b8b9ed0dc5dcc5145d\"}, \"height\": 300, \"title\": \"DeepVAR: Sales Forecast for 'HOBBIES_1_148_TX_1_evaluation'\", \"width\": 1000, \"$schema\": \"https://vega.github.io/schema/vega-lite/v4.8.1.json\", \"datasets\": {\"data-7ca553480c7fe3b8b9ed0dc5dcc5145d\": [{\"time\": \"2015-05-23T00:00:00\", \"y\": 1, \"fcst\": null, \"fcst_lower_05\": null, \"fcst_lower_25\": null, \"fcst_upper_75\": null, \"fcst_upper_95\": null}, {\"time\": \"2015-05-24T00:00:00\", \"y\": 2, \"fcst\": null, \"fcst_lower_05\": null, \"fcst_lower_25\": null, \"fcst_upper_75\": null, \"fcst_upper_95\": null}, {\"time\": \"2015-05-25T00:00:00\", \"y\": 1, \"fcst\": null, \"fcst_lower_05\": null, \"fcst_lower_25\": null, \"fcst_upper_75\": null, \"fcst_upper_95\": null}, {\"time\": \"2015-05-26T00:00:00\", \"y\": 1, \"fcst\": null, \"fcst_lower_05\": null, \"fcst_lower_25\": null, \"fcst_upper_75\": null, \"fcst_upper_95\": null}, {\"time\": \"2015-05-27T00:00:00\", \"y\": 1, \"fcst\": null, \"fcst_lower_05\": null, \"fcst_lower_25\": null, \"fcst_upper_75\": null, \"fcst_upper_95\": null}, {\"time\": \"2015-05-28T00:00:00\", \"y\": 0, \"fcst\": null, \"fcst_lower_05\": null, \"fcst_lower_25\": null, \"fcst_upper_75\": null, \"fcst_upper_95\": null}, {\"time\": \"2015-05-29T00:00:00\", \"y\": 0, \"fcst\": null, \"fcst_lower_05\": null, \"fcst_lower_25\": null, \"fcst_upper_75\": null, \"fcst_upper_95\": null}, {\"time\": \"2015-05-30T00:00:00\", \"y\": 3, \"fcst\": null, \"fcst_lower_05\": null, \"fcst_lower_25\": null, \"fcst_upper_75\": null, \"fcst_upper_95\": null}, {\"time\": \"2015-05-31T00:00:00\", \"y\": 2, \"fcst\": null, \"fcst_lower_05\": null, \"fcst_lower_25\": null, \"fcst_upper_75\": null, \"fcst_upper_95\": null}, {\"time\": \"2015-06-01T00:00:00\", \"y\": 1, \"fcst\": null, \"fcst_lower_05\": null, \"fcst_lower_25\": null, \"fcst_upper_75\": null, \"fcst_upper_95\": null}, {\"time\": \"2015-06-02T00:00:00\", \"y\": 0, \"fcst\": null, \"fcst_lower_05\": null, \"fcst_lower_25\": null, \"fcst_upper_75\": null, \"fcst_upper_95\": null}, {\"time\": \"2015-06-03T00:00:00\", \"y\": 1, \"fcst\": null, \"fcst_lower_05\": null, \"fcst_lower_25\": null, \"fcst_upper_75\": null, \"fcst_upper_95\": null}, {\"time\": \"2015-06-04T00:00:00\", \"y\": 1, \"fcst\": null, \"fcst_lower_05\": null, \"fcst_lower_25\": null, \"fcst_upper_75\": null, \"fcst_upper_95\": null}, {\"time\": \"2015-06-05T00:00:00\", \"y\": 2, \"fcst\": null, \"fcst_lower_05\": null, \"fcst_lower_25\": null, \"fcst_upper_75\": null, \"fcst_upper_95\": null}, {\"time\": \"2015-06-06T00:00:00\", \"y\": 4, \"fcst\": null, \"fcst_lower_05\": null, \"fcst_lower_25\": null, \"fcst_upper_75\": null, \"fcst_upper_95\": null}, {\"time\": \"2015-06-07T00:00:00\", \"y\": 3, \"fcst\": null, \"fcst_lower_05\": null, \"fcst_lower_25\": null, \"fcst_upper_75\": null, \"fcst_upper_95\": null}, {\"time\": \"2015-06-08T00:00:00\", \"y\": 0, \"fcst\": null, \"fcst_lower_05\": null, \"fcst_lower_25\": null, \"fcst_upper_75\": null, \"fcst_upper_95\": null}, {\"time\": \"2015-06-09T00:00:00\", \"y\": 0, \"fcst\": null, \"fcst_lower_05\": null, \"fcst_lower_25\": null, \"fcst_upper_75\": null, \"fcst_upper_95\": null}, {\"time\": \"2015-06-10T00:00:00\", \"y\": 1, \"fcst\": null, \"fcst_lower_05\": null, \"fcst_lower_25\": null, \"fcst_upper_75\": null, \"fcst_upper_95\": null}, {\"time\": \"2015-06-11T00:00:00\", \"y\": 2, \"fcst\": null, \"fcst_lower_05\": null, \"fcst_lower_25\": null, \"fcst_upper_75\": null, \"fcst_upper_95\": null}, {\"time\": \"2015-06-12T00:00:00\", \"y\": 1, \"fcst\": null, \"fcst_lower_05\": null, \"fcst_lower_25\": null, \"fcst_upper_75\": null, \"fcst_upper_95\": null}, {\"time\": \"2015-06-13T00:00:00\", \"y\": 1, \"fcst\": null, \"fcst_lower_05\": null, \"fcst_lower_25\": null, \"fcst_upper_75\": null, \"fcst_upper_95\": null}, {\"time\": \"2015-06-14T00:00:00\", \"y\": 4, \"fcst\": null, \"fcst_lower_05\": null, \"fcst_lower_25\": null, \"fcst_upper_75\": null, \"fcst_upper_95\": null}, {\"time\": \"2015-06-15T00:00:00\", \"y\": 1, \"fcst\": null, \"fcst_lower_05\": null, \"fcst_lower_25\": null, \"fcst_upper_75\": null, \"fcst_upper_95\": null}, {\"time\": \"2015-06-16T00:00:00\", \"y\": 1, \"fcst\": null, \"fcst_lower_05\": null, \"fcst_lower_25\": null, \"fcst_upper_75\": null, \"fcst_upper_95\": null}, {\"time\": \"2015-06-17T00:00:00\", \"y\": 1, \"fcst\": null, \"fcst_lower_05\": null, \"fcst_lower_25\": null, \"fcst_upper_75\": null, \"fcst_upper_95\": null}, {\"time\": \"2015-06-18T00:00:00\", \"y\": 1, \"fcst\": null, \"fcst_lower_05\": null, \"fcst_lower_25\": null, \"fcst_upper_75\": null, \"fcst_upper_95\": null}, {\"time\": \"2015-06-19T00:00:00\", \"y\": 0, \"fcst\": null, \"fcst_lower_05\": null, \"fcst_lower_25\": null, \"fcst_upper_75\": null, \"fcst_upper_95\": null}, {\"time\": \"2015-06-20T00:00:00\", \"y\": 1, \"fcst\": null, \"fcst_lower_05\": null, \"fcst_lower_25\": null, \"fcst_upper_75\": null, \"fcst_upper_95\": null}, {\"time\": \"2015-06-21T00:00:00\", \"y\": 0, \"fcst\": null, \"fcst_lower_05\": null, \"fcst_lower_25\": null, \"fcst_upper_75\": null, \"fcst_upper_95\": null}, {\"time\": \"2015-06-22T00:00:00\", \"y\": 2, \"fcst\": null, \"fcst_lower_05\": null, \"fcst_lower_25\": null, \"fcst_upper_75\": null, \"fcst_upper_95\": null}, {\"time\": \"2015-06-23T00:00:00\", \"y\": 0, \"fcst\": null, \"fcst_lower_05\": null, \"fcst_lower_25\": null, \"fcst_upper_75\": null, \"fcst_upper_95\": null}, {\"time\": \"2015-06-24T00:00:00\", \"y\": 2, \"fcst\": null, \"fcst_lower_05\": null, \"fcst_lower_25\": null, \"fcst_upper_75\": null, \"fcst_upper_95\": null}, {\"time\": \"2015-06-25T00:00:00\", \"y\": 1, \"fcst\": null, \"fcst_lower_05\": null, \"fcst_lower_25\": null, \"fcst_upper_75\": null, \"fcst_upper_95\": null}, {\"time\": \"2015-06-26T00:00:00\", \"y\": 1, \"fcst\": null, \"fcst_lower_05\": null, \"fcst_lower_25\": null, \"fcst_upper_75\": null, \"fcst_upper_95\": null}, {\"time\": \"2015-06-27T00:00:00\", \"y\": 0, \"fcst\": null, \"fcst_lower_05\": null, \"fcst_lower_25\": null, \"fcst_upper_75\": null, \"fcst_upper_95\": null}, {\"time\": \"2015-06-28T00:00:00\", \"y\": 0, \"fcst\": null, \"fcst_lower_05\": null, \"fcst_lower_25\": null, \"fcst_upper_75\": null, \"fcst_upper_95\": null}, {\"time\": \"2015-06-29T00:00:00\", \"y\": 0, \"fcst\": null, \"fcst_lower_05\": null, \"fcst_lower_25\": null, \"fcst_upper_75\": null, \"fcst_upper_95\": null}, {\"time\": \"2015-06-30T00:00:00\", \"y\": 0, \"fcst\": null, \"fcst_lower_05\": null, \"fcst_lower_25\": null, \"fcst_upper_75\": null, \"fcst_upper_95\": null}, {\"time\": \"2015-07-01T00:00:00\", \"y\": 3, \"fcst\": null, \"fcst_lower_05\": null, \"fcst_lower_25\": null, \"fcst_upper_75\": null, \"fcst_upper_95\": null}, {\"time\": \"2015-07-02T00:00:00\", \"y\": 1, \"fcst\": null, \"fcst_lower_05\": null, \"fcst_lower_25\": null, \"fcst_upper_75\": null, \"fcst_upper_95\": null}, {\"time\": \"2015-07-03T00:00:00\", \"y\": 1, \"fcst\": null, \"fcst_lower_05\": null, \"fcst_lower_25\": null, \"fcst_upper_75\": null, \"fcst_upper_95\": null}, {\"time\": \"2015-07-04T00:00:00\", \"y\": 0, \"fcst\": null, \"fcst_lower_05\": null, \"fcst_lower_25\": null, \"fcst_upper_75\": null, \"fcst_upper_95\": null}, {\"time\": \"2015-07-05T00:00:00\", \"y\": 1, \"fcst\": null, \"fcst_lower_05\": null, \"fcst_lower_25\": null, \"fcst_upper_75\": null, \"fcst_upper_95\": null}, {\"time\": \"2015-07-06T00:00:00\", \"y\": 1, \"fcst\": null, \"fcst_lower_05\": null, \"fcst_lower_25\": null, \"fcst_upper_75\": null, \"fcst_upper_95\": null}, {\"time\": \"2015-07-07T00:00:00\", \"y\": 0, \"fcst\": null, \"fcst_lower_05\": null, \"fcst_lower_25\": null, \"fcst_upper_75\": null, \"fcst_upper_95\": null}, {\"time\": \"2015-07-08T00:00:00\", \"y\": 1, \"fcst\": null, \"fcst_lower_05\": null, \"fcst_lower_25\": null, \"fcst_upper_75\": null, \"fcst_upper_95\": null}, {\"time\": \"2015-07-09T00:00:00\", \"y\": 1, \"fcst\": null, \"fcst_lower_05\": null, \"fcst_lower_25\": null, \"fcst_upper_75\": null, \"fcst_upper_95\": null}, {\"time\": \"2015-07-10T00:00:00\", \"y\": 0, \"fcst\": null, \"fcst_lower_05\": null, \"fcst_lower_25\": null, \"fcst_upper_75\": null, \"fcst_upper_95\": null}, {\"time\": \"2015-07-11T00:00:00\", \"y\": 1, \"fcst\": null, \"fcst_lower_05\": null, \"fcst_lower_25\": null, \"fcst_upper_75\": null, \"fcst_upper_95\": null}, {\"time\": \"2015-07-12T00:00:00\", \"y\": 2, \"fcst\": null, \"fcst_lower_05\": null, \"fcst_lower_25\": null, \"fcst_upper_75\": null, \"fcst_upper_95\": null}, {\"time\": \"2015-07-13T00:00:00\", \"y\": 0, \"fcst\": null, \"fcst_lower_05\": null, \"fcst_lower_25\": null, \"fcst_upper_75\": null, \"fcst_upper_95\": null}, {\"time\": \"2015-07-14T00:00:00\", \"y\": 1, \"fcst\": null, \"fcst_lower_05\": null, \"fcst_lower_25\": null, \"fcst_upper_75\": null, \"fcst_upper_95\": null}, {\"time\": \"2015-07-15T00:00:00\", \"y\": 2, \"fcst\": null, \"fcst_lower_05\": null, \"fcst_lower_25\": null, \"fcst_upper_75\": null, \"fcst_upper_95\": null}, {\"time\": \"2015-07-16T00:00:00\", \"y\": 1, \"fcst\": null, \"fcst_lower_05\": null, \"fcst_lower_25\": null, \"fcst_upper_75\": null, \"fcst_upper_95\": null}, {\"time\": \"2015-07-17T00:00:00\", \"y\": 1, \"fcst\": null, \"fcst_lower_05\": null, \"fcst_lower_25\": null, \"fcst_upper_75\": null, \"fcst_upper_95\": null}, {\"time\": \"2015-07-18T00:00:00\", \"y\": 1, \"fcst\": null, \"fcst_lower_05\": null, \"fcst_lower_25\": null, \"fcst_upper_75\": null, \"fcst_upper_95\": null}, {\"time\": \"2015-07-19T00:00:00\", \"y\": 0, \"fcst\": null, \"fcst_lower_05\": null, \"fcst_lower_25\": null, \"fcst_upper_75\": null, \"fcst_upper_95\": null}, {\"time\": \"2015-07-20T00:00:00\", \"y\": 2, \"fcst\": null, \"fcst_lower_05\": null, \"fcst_lower_25\": null, \"fcst_upper_75\": null, \"fcst_upper_95\": null}, {\"time\": \"2015-07-21T00:00:00\", \"y\": 0, \"fcst\": null, \"fcst_lower_05\": null, \"fcst_lower_25\": null, \"fcst_upper_75\": null, \"fcst_upper_95\": null}, {\"time\": \"2015-07-22T00:00:00\", \"y\": 1, \"fcst\": null, \"fcst_lower_05\": null, \"fcst_lower_25\": null, \"fcst_upper_75\": null, \"fcst_upper_95\": null}, {\"time\": \"2015-07-23T00:00:00\", \"y\": 4, \"fcst\": null, \"fcst_lower_05\": null, \"fcst_lower_25\": null, \"fcst_upper_75\": null, \"fcst_upper_95\": null}, {\"time\": \"2015-07-24T00:00:00\", \"y\": 0, \"fcst\": null, \"fcst_lower_05\": null, \"fcst_lower_25\": null, \"fcst_upper_75\": null, \"fcst_upper_95\": null}, {\"time\": \"2015-07-25T00:00:00\", \"y\": 0, \"fcst\": null, \"fcst_lower_05\": null, \"fcst_lower_25\": null, \"fcst_upper_75\": null, \"fcst_upper_95\": null}, {\"time\": \"2015-07-26T00:00:00\", \"y\": 2, \"fcst\": null, \"fcst_lower_05\": null, \"fcst_lower_25\": null, \"fcst_upper_75\": null, \"fcst_upper_95\": null}, {\"time\": \"2015-07-27T00:00:00\", \"y\": 2, \"fcst\": null, \"fcst_lower_05\": null, \"fcst_lower_25\": null, \"fcst_upper_75\": null, \"fcst_upper_95\": null}, {\"time\": \"2015-07-28T00:00:00\", \"y\": 1, \"fcst\": null, \"fcst_lower_05\": null, \"fcst_lower_25\": null, \"fcst_upper_75\": null, \"fcst_upper_95\": null}, {\"time\": \"2015-07-29T00:00:00\", \"y\": 1, \"fcst\": null, \"fcst_lower_05\": null, \"fcst_lower_25\": null, \"fcst_upper_75\": null, \"fcst_upper_95\": null}, {\"time\": \"2015-07-30T00:00:00\", \"y\": 1, \"fcst\": null, \"fcst_lower_05\": null, \"fcst_lower_25\": null, \"fcst_upper_75\": null, \"fcst_upper_95\": null}, {\"time\": \"2015-07-31T00:00:00\", \"y\": 1, \"fcst\": null, \"fcst_lower_05\": null, \"fcst_lower_25\": null, \"fcst_upper_75\": null, \"fcst_upper_95\": null}, {\"time\": \"2015-08-01T00:00:00\", \"y\": 0, \"fcst\": null, \"fcst_lower_05\": null, \"fcst_lower_25\": null, \"fcst_upper_75\": null, \"fcst_upper_95\": null}, {\"time\": \"2015-08-02T00:00:00\", \"y\": 2, \"fcst\": null, \"fcst_lower_05\": null, \"fcst_lower_25\": null, \"fcst_upper_75\": null, \"fcst_upper_95\": null}, {\"time\": \"2015-08-03T00:00:00\", \"y\": 0, \"fcst\": null, \"fcst_lower_05\": null, \"fcst_lower_25\": null, \"fcst_upper_75\": null, \"fcst_upper_95\": null}, {\"time\": \"2015-08-04T00:00:00\", \"y\": 2, \"fcst\": null, \"fcst_lower_05\": null, \"fcst_lower_25\": null, \"fcst_upper_75\": null, \"fcst_upper_95\": null}, {\"time\": \"2015-08-05T00:00:00\", \"y\": 0, \"fcst\": null, \"fcst_lower_05\": null, \"fcst_lower_25\": null, \"fcst_upper_75\": null, \"fcst_upper_95\": null}, {\"time\": \"2015-08-06T00:00:00\", \"y\": 1, \"fcst\": null, \"fcst_lower_05\": null, \"fcst_lower_25\": null, \"fcst_upper_75\": null, \"fcst_upper_95\": null}, {\"time\": \"2015-08-07T00:00:00\", \"y\": 1, \"fcst\": null, \"fcst_lower_05\": null, \"fcst_lower_25\": null, \"fcst_upper_75\": null, \"fcst_upper_95\": null}, {\"time\": \"2015-08-08T00:00:00\", \"y\": 3, \"fcst\": null, \"fcst_lower_05\": null, \"fcst_lower_25\": null, \"fcst_upper_75\": null, \"fcst_upper_95\": null}, {\"time\": \"2015-08-09T00:00:00\", \"y\": 1, \"fcst\": null, \"fcst_lower_05\": null, \"fcst_lower_25\": null, \"fcst_upper_75\": null, \"fcst_upper_95\": null}, {\"time\": \"2015-08-10T00:00:00\", \"y\": 0, \"fcst\": null, \"fcst_lower_05\": null, \"fcst_lower_25\": null, \"fcst_upper_75\": null, \"fcst_upper_95\": null}, {\"time\": \"2015-08-11T00:00:00\", \"y\": 0, \"fcst\": null, \"fcst_lower_05\": null, \"fcst_lower_25\": null, \"fcst_upper_75\": null, \"fcst_upper_95\": null}, {\"time\": \"2015-08-12T00:00:00\", \"y\": 0, \"fcst\": null, \"fcst_lower_05\": null, \"fcst_lower_25\": null, \"fcst_upper_75\": null, \"fcst_upper_95\": null}, {\"time\": \"2015-08-13T00:00:00\", \"y\": 0, \"fcst\": null, \"fcst_lower_05\": null, \"fcst_lower_25\": null, \"fcst_upper_75\": null, \"fcst_upper_95\": null}, {\"time\": \"2015-08-14T00:00:00\", \"y\": 2, \"fcst\": null, \"fcst_lower_05\": null, \"fcst_lower_25\": null, \"fcst_upper_75\": null, \"fcst_upper_95\": null}, {\"time\": \"2015-08-15T00:00:00\", \"y\": 0, \"fcst\": null, \"fcst_lower_05\": null, \"fcst_lower_25\": null, \"fcst_upper_75\": null, \"fcst_upper_95\": null}, {\"time\": \"2015-08-16T00:00:00\", \"y\": 1, \"fcst\": null, \"fcst_lower_05\": null, \"fcst_lower_25\": null, \"fcst_upper_75\": null, \"fcst_upper_95\": null}, {\"time\": \"2015-08-17T00:00:00\", \"y\": 1, \"fcst\": null, \"fcst_lower_05\": null, \"fcst_lower_25\": null, \"fcst_upper_75\": null, \"fcst_upper_95\": null}, {\"time\": \"2015-08-18T00:00:00\", \"y\": 1, \"fcst\": null, \"fcst_lower_05\": null, \"fcst_lower_25\": null, \"fcst_upper_75\": null, \"fcst_upper_95\": null}, {\"time\": \"2015-08-19T00:00:00\", \"y\": 0, \"fcst\": null, \"fcst_lower_05\": null, \"fcst_lower_25\": null, \"fcst_upper_75\": null, \"fcst_upper_95\": null}, {\"time\": \"2015-08-20T00:00:00\", \"y\": 1, \"fcst\": null, \"fcst_lower_05\": null, \"fcst_lower_25\": null, \"fcst_upper_75\": null, \"fcst_upper_95\": null}, {\"time\": \"2015-08-21T00:00:00\", \"y\": 1, \"fcst\": null, \"fcst_lower_05\": null, \"fcst_lower_25\": null, \"fcst_upper_75\": null, \"fcst_upper_95\": null}, {\"time\": \"2015-08-22T00:00:00\", \"y\": 0, \"fcst\": null, \"fcst_lower_05\": null, \"fcst_lower_25\": null, \"fcst_upper_75\": null, \"fcst_upper_95\": null}, {\"time\": \"2015-08-23T00:00:00\", \"y\": 1, \"fcst\": null, \"fcst_lower_05\": null, \"fcst_lower_25\": null, \"fcst_upper_75\": null, \"fcst_upper_95\": null}, {\"time\": \"2015-08-24T00:00:00\", \"y\": 0, \"fcst\": null, \"fcst_lower_05\": null, \"fcst_lower_25\": null, \"fcst_upper_75\": null, \"fcst_upper_95\": null}, {\"time\": \"2015-08-25T00:00:00\", \"y\": 0, \"fcst\": null, \"fcst_lower_05\": null, \"fcst_lower_25\": null, \"fcst_upper_75\": null, \"fcst_upper_95\": null}, {\"time\": \"2015-08-26T00:00:00\", \"y\": 1, \"fcst\": null, \"fcst_lower_05\": null, \"fcst_lower_25\": null, \"fcst_upper_75\": null, \"fcst_upper_95\": null}, {\"time\": \"2015-08-27T00:00:00\", \"y\": 0, \"fcst\": null, \"fcst_lower_05\": null, \"fcst_lower_25\": null, \"fcst_upper_75\": null, \"fcst_upper_95\": null}, {\"time\": \"2015-08-28T00:00:00\", \"y\": 1, \"fcst\": null, \"fcst_lower_05\": null, \"fcst_lower_25\": null, \"fcst_upper_75\": null, \"fcst_upper_95\": null}, {\"time\": \"2015-08-29T00:00:00\", \"y\": 1, \"fcst\": null, \"fcst_lower_05\": null, \"fcst_lower_25\": null, \"fcst_upper_75\": null, \"fcst_upper_95\": null}, {\"time\": \"2015-08-30T00:00:00\", \"y\": 2, \"fcst\": null, \"fcst_lower_05\": null, \"fcst_lower_25\": null, \"fcst_upper_75\": null, \"fcst_upper_95\": null}, {\"time\": \"2015-08-31T00:00:00\", \"y\": 0, \"fcst\": null, \"fcst_lower_05\": null, \"fcst_lower_25\": null, \"fcst_upper_75\": null, \"fcst_upper_95\": null}, {\"time\": \"2015-09-01T00:00:00\", \"y\": 0, \"fcst\": null, \"fcst_lower_05\": null, \"fcst_lower_25\": null, \"fcst_upper_75\": null, \"fcst_upper_95\": null}, {\"time\": \"2015-09-02T00:00:00\", \"y\": 0, \"fcst\": null, \"fcst_lower_05\": null, \"fcst_lower_25\": null, \"fcst_upper_75\": null, \"fcst_upper_95\": null}, {\"time\": \"2015-09-03T00:00:00\", \"y\": 0, \"fcst\": null, \"fcst_lower_05\": null, \"fcst_lower_25\": null, \"fcst_upper_75\": null, \"fcst_upper_95\": null}, {\"time\": \"2015-09-04T00:00:00\", \"y\": 0, \"fcst\": null, \"fcst_lower_05\": null, \"fcst_lower_25\": null, \"fcst_upper_75\": null, \"fcst_upper_95\": null}, {\"time\": \"2015-09-05T00:00:00\", \"y\": 0, \"fcst\": null, \"fcst_lower_05\": null, \"fcst_lower_25\": null, \"fcst_upper_75\": null, \"fcst_upper_95\": null}, {\"time\": \"2015-09-06T00:00:00\", \"y\": 1, \"fcst\": null, \"fcst_lower_05\": null, \"fcst_lower_25\": null, \"fcst_upper_75\": null, \"fcst_upper_95\": null}, {\"time\": \"2015-09-07T00:00:00\", \"y\": 1, \"fcst\": null, \"fcst_lower_05\": null, \"fcst_lower_25\": null, \"fcst_upper_75\": null, \"fcst_upper_95\": null}, {\"time\": \"2015-09-08T00:00:00\", \"y\": 0, \"fcst\": null, \"fcst_lower_05\": null, \"fcst_lower_25\": null, \"fcst_upper_75\": null, \"fcst_upper_95\": null}, {\"time\": \"2015-09-09T00:00:00\", \"y\": 0, \"fcst\": null, \"fcst_lower_05\": null, \"fcst_lower_25\": null, \"fcst_upper_75\": null, \"fcst_upper_95\": null}, {\"time\": \"2015-09-10T00:00:00\", \"y\": 0, \"fcst\": null, \"fcst_lower_05\": null, \"fcst_lower_25\": null, \"fcst_upper_75\": null, \"fcst_upper_95\": null}, {\"time\": \"2015-09-11T00:00:00\", \"y\": 1, \"fcst\": null, \"fcst_lower_05\": null, \"fcst_lower_25\": null, \"fcst_upper_75\": null, \"fcst_upper_95\": null}, {\"time\": \"2015-09-12T00:00:00\", \"y\": 0, \"fcst\": null, \"fcst_lower_05\": null, \"fcst_lower_25\": null, \"fcst_upper_75\": null, \"fcst_upper_95\": null}, {\"time\": \"2015-09-13T00:00:00\", \"y\": 1, \"fcst\": null, \"fcst_lower_05\": null, \"fcst_lower_25\": null, \"fcst_upper_75\": null, \"fcst_upper_95\": null}, {\"time\": \"2015-09-14T00:00:00\", \"y\": 1, \"fcst\": null, \"fcst_lower_05\": null, \"fcst_lower_25\": null, \"fcst_upper_75\": null, \"fcst_upper_95\": null}, {\"time\": \"2015-09-15T00:00:00\", \"y\": 0, \"fcst\": null, \"fcst_lower_05\": null, \"fcst_lower_25\": null, \"fcst_upper_75\": null, \"fcst_upper_95\": null}, {\"time\": \"2015-09-16T00:00:00\", \"y\": 0, \"fcst\": null, \"fcst_lower_05\": null, \"fcst_lower_25\": null, \"fcst_upper_75\": null, \"fcst_upper_95\": null}, {\"time\": \"2015-09-17T00:00:00\", \"y\": 2, \"fcst\": null, \"fcst_lower_05\": null, \"fcst_lower_25\": null, \"fcst_upper_75\": null, \"fcst_upper_95\": null}, {\"time\": \"2015-09-18T00:00:00\", \"y\": 0, \"fcst\": null, \"fcst_lower_05\": null, \"fcst_lower_25\": null, \"fcst_upper_75\": null, \"fcst_upper_95\": null}, {\"time\": \"2015-09-19T00:00:00\", \"y\": 1, \"fcst\": null, \"fcst_lower_05\": null, \"fcst_lower_25\": null, \"fcst_upper_75\": null, \"fcst_upper_95\": null}, {\"time\": \"2015-09-20T00:00:00\", \"y\": 1, \"fcst\": null, \"fcst_lower_05\": null, \"fcst_lower_25\": null, \"fcst_upper_75\": null, \"fcst_upper_95\": null}, {\"time\": \"2015-09-21T00:00:00\", \"y\": 0, \"fcst\": null, \"fcst_lower_05\": null, \"fcst_lower_25\": null, \"fcst_upper_75\": null, \"fcst_upper_95\": null}, {\"time\": \"2015-09-22T00:00:00\", \"y\": 2, \"fcst\": null, \"fcst_lower_05\": null, \"fcst_lower_25\": null, \"fcst_upper_75\": null, \"fcst_upper_95\": null}, {\"time\": \"2015-09-23T00:00:00\", \"y\": 1, \"fcst\": null, \"fcst_lower_05\": null, \"fcst_lower_25\": null, \"fcst_upper_75\": null, \"fcst_upper_95\": null}, {\"time\": \"2015-09-24T00:00:00\", \"y\": 1, \"fcst\": null, \"fcst_lower_05\": null, \"fcst_lower_25\": null, \"fcst_upper_75\": null, \"fcst_upper_95\": null}, {\"time\": \"2015-09-25T00:00:00\", \"y\": 3, \"fcst\": null, \"fcst_lower_05\": null, \"fcst_lower_25\": null, \"fcst_upper_75\": null, \"fcst_upper_95\": null}, {\"time\": \"2015-09-26T00:00:00\", \"y\": 0, \"fcst\": null, \"fcst_lower_05\": null, \"fcst_lower_25\": null, \"fcst_upper_75\": null, \"fcst_upper_95\": null}, {\"time\": \"2015-09-27T00:00:00\", \"y\": 1, \"fcst\": null, \"fcst_lower_05\": null, \"fcst_lower_25\": null, \"fcst_upper_75\": null, \"fcst_upper_95\": null}, {\"time\": \"2015-09-28T00:00:00\", \"y\": 1, \"fcst\": null, \"fcst_lower_05\": null, \"fcst_lower_25\": null, \"fcst_upper_75\": null, \"fcst_upper_95\": null}, {\"time\": \"2015-09-29T00:00:00\", \"y\": 1, \"fcst\": null, \"fcst_lower_05\": null, \"fcst_lower_25\": null, \"fcst_upper_75\": null, \"fcst_upper_95\": null}, {\"time\": \"2015-09-30T00:00:00\", \"y\": 0, \"fcst\": null, \"fcst_lower_05\": null, \"fcst_lower_25\": null, \"fcst_upper_75\": null, \"fcst_upper_95\": null}, {\"time\": \"2015-10-01T00:00:00\", \"y\": 2, \"fcst\": null, \"fcst_lower_05\": null, \"fcst_lower_25\": null, \"fcst_upper_75\": null, \"fcst_upper_95\": null}, {\"time\": \"2015-10-02T00:00:00\", \"y\": 0, \"fcst\": null, \"fcst_lower_05\": null, \"fcst_lower_25\": null, \"fcst_upper_75\": null, \"fcst_upper_95\": null}, {\"time\": \"2015-10-03T00:00:00\", \"y\": 1, \"fcst\": null, \"fcst_lower_05\": null, \"fcst_lower_25\": null, \"fcst_upper_75\": null, \"fcst_upper_95\": null}, {\"time\": \"2015-10-04T00:00:00\", \"y\": 1, \"fcst\": null, \"fcst_lower_05\": null, \"fcst_lower_25\": null, \"fcst_upper_75\": null, \"fcst_upper_95\": null}, {\"time\": \"2015-10-05T00:00:00\", \"y\": 1, \"fcst\": null, \"fcst_lower_05\": null, \"fcst_lower_25\": null, \"fcst_upper_75\": null, \"fcst_upper_95\": null}, {\"time\": \"2015-10-06T00:00:00\", \"y\": 0, \"fcst\": null, \"fcst_lower_05\": null, \"fcst_lower_25\": null, \"fcst_upper_75\": null, \"fcst_upper_95\": null}, {\"time\": \"2015-10-07T00:00:00\", \"y\": 0, \"fcst\": null, \"fcst_lower_05\": null, \"fcst_lower_25\": null, \"fcst_upper_75\": null, \"fcst_upper_95\": null}, {\"time\": \"2015-10-08T00:00:00\", \"y\": 0, \"fcst\": null, \"fcst_lower_05\": null, \"fcst_lower_25\": null, \"fcst_upper_75\": null, \"fcst_upper_95\": null}, {\"time\": \"2015-10-09T00:00:00\", \"y\": 0, \"fcst\": null, \"fcst_lower_05\": null, \"fcst_lower_25\": null, \"fcst_upper_75\": null, \"fcst_upper_95\": null}, {\"time\": \"2015-10-10T00:00:00\", \"y\": 1, \"fcst\": null, \"fcst_lower_05\": null, \"fcst_lower_25\": null, \"fcst_upper_75\": null, \"fcst_upper_95\": null}, {\"time\": \"2015-10-11T00:00:00\", \"y\": 4, \"fcst\": null, \"fcst_lower_05\": null, \"fcst_lower_25\": null, \"fcst_upper_75\": null, \"fcst_upper_95\": null}, {\"time\": \"2015-10-12T00:00:00\", \"y\": 1, \"fcst\": null, \"fcst_lower_05\": null, \"fcst_lower_25\": null, \"fcst_upper_75\": null, \"fcst_upper_95\": null}, {\"time\": \"2015-10-13T00:00:00\", \"y\": 4, \"fcst\": null, \"fcst_lower_05\": null, \"fcst_lower_25\": null, \"fcst_upper_75\": null, \"fcst_upper_95\": null}, {\"time\": \"2015-10-14T00:00:00\", \"y\": 0, \"fcst\": null, \"fcst_lower_05\": null, \"fcst_lower_25\": null, \"fcst_upper_75\": null, \"fcst_upper_95\": null}, {\"time\": \"2015-10-15T00:00:00\", \"y\": 0, \"fcst\": null, \"fcst_lower_05\": null, \"fcst_lower_25\": null, \"fcst_upper_75\": null, \"fcst_upper_95\": null}, {\"time\": \"2015-10-16T00:00:00\", \"y\": 0, \"fcst\": null, \"fcst_lower_05\": null, \"fcst_lower_25\": null, \"fcst_upper_75\": null, \"fcst_upper_95\": null}, {\"time\": \"2015-10-17T00:00:00\", \"y\": 1, \"fcst\": null, \"fcst_lower_05\": null, \"fcst_lower_25\": null, \"fcst_upper_75\": null, \"fcst_upper_95\": null}, {\"time\": \"2015-10-18T00:00:00\", \"y\": 2, \"fcst\": null, \"fcst_lower_05\": null, \"fcst_lower_25\": null, \"fcst_upper_75\": null, \"fcst_upper_95\": null}, {\"time\": \"2015-10-19T00:00:00\", \"y\": 0, \"fcst\": null, \"fcst_lower_05\": null, \"fcst_lower_25\": null, \"fcst_upper_75\": null, \"fcst_upper_95\": null}, {\"time\": \"2015-10-20T00:00:00\", \"y\": 1, \"fcst\": null, \"fcst_lower_05\": null, \"fcst_lower_25\": null, \"fcst_upper_75\": null, \"fcst_upper_95\": null}, {\"time\": \"2015-10-21T00:00:00\", \"y\": 2, \"fcst\": null, \"fcst_lower_05\": null, \"fcst_lower_25\": null, \"fcst_upper_75\": null, \"fcst_upper_95\": null}, {\"time\": \"2015-10-22T00:00:00\", \"y\": 0, \"fcst\": null, \"fcst_lower_05\": null, \"fcst_lower_25\": null, \"fcst_upper_75\": null, \"fcst_upper_95\": null}, {\"time\": \"2015-10-23T00:00:00\", \"y\": 0, \"fcst\": null, \"fcst_lower_05\": null, \"fcst_lower_25\": null, \"fcst_upper_75\": null, \"fcst_upper_95\": null}, {\"time\": \"2015-10-24T00:00:00\", \"y\": 1, \"fcst\": null, \"fcst_lower_05\": null, \"fcst_lower_25\": null, \"fcst_upper_75\": null, \"fcst_upper_95\": null}, {\"time\": \"2015-10-25T00:00:00\", \"y\": 4, \"fcst\": null, \"fcst_lower_05\": null, \"fcst_lower_25\": null, \"fcst_upper_75\": null, \"fcst_upper_95\": null}, {\"time\": \"2015-10-26T00:00:00\", \"y\": 2, \"fcst\": null, \"fcst_lower_05\": null, \"fcst_lower_25\": null, \"fcst_upper_75\": null, \"fcst_upper_95\": null}, {\"time\": \"2015-10-27T00:00:00\", \"y\": 1, \"fcst\": null, \"fcst_lower_05\": null, \"fcst_lower_25\": null, \"fcst_upper_75\": null, \"fcst_upper_95\": null}, {\"time\": \"2015-10-28T00:00:00\", \"y\": 0, \"fcst\": null, \"fcst_lower_05\": null, \"fcst_lower_25\": null, \"fcst_upper_75\": null, \"fcst_upper_95\": null}, {\"time\": \"2015-10-29T00:00:00\", \"y\": 0, \"fcst\": null, \"fcst_lower_05\": null, \"fcst_lower_25\": null, \"fcst_upper_75\": null, \"fcst_upper_95\": null}, {\"time\": \"2015-10-30T00:00:00\", \"y\": 4, \"fcst\": null, \"fcst_lower_05\": null, \"fcst_lower_25\": null, \"fcst_upper_75\": null, \"fcst_upper_95\": null}, {\"time\": \"2015-10-31T00:00:00\", \"y\": 1, \"fcst\": null, \"fcst_lower_05\": null, \"fcst_lower_25\": null, \"fcst_upper_75\": null, \"fcst_upper_95\": null}, {\"time\": \"2015-11-01T00:00:00\", \"y\": 1, \"fcst\": null, \"fcst_lower_05\": null, \"fcst_lower_25\": null, \"fcst_upper_75\": null, \"fcst_upper_95\": null}, {\"time\": \"2015-11-02T00:00:00\", \"y\": 1, \"fcst\": null, \"fcst_lower_05\": null, \"fcst_lower_25\": null, \"fcst_upper_75\": null, \"fcst_upper_95\": null}, {\"time\": \"2015-11-03T00:00:00\", \"y\": 1, \"fcst\": null, \"fcst_lower_05\": null, \"fcst_lower_25\": null, \"fcst_upper_75\": null, \"fcst_upper_95\": null}, {\"time\": \"2015-11-04T00:00:00\", \"y\": 1, \"fcst\": null, \"fcst_lower_05\": null, \"fcst_lower_25\": null, \"fcst_upper_75\": null, \"fcst_upper_95\": null}, {\"time\": \"2015-11-05T00:00:00\", \"y\": 0, \"fcst\": null, \"fcst_lower_05\": null, \"fcst_lower_25\": null, \"fcst_upper_75\": null, \"fcst_upper_95\": null}, {\"time\": \"2015-11-06T00:00:00\", \"y\": 1, \"fcst\": null, \"fcst_lower_05\": null, \"fcst_lower_25\": null, \"fcst_upper_75\": null, \"fcst_upper_95\": null}, {\"time\": \"2015-11-07T00:00:00\", \"y\": 0, \"fcst\": null, \"fcst_lower_05\": null, \"fcst_lower_25\": null, \"fcst_upper_75\": null, \"fcst_upper_95\": null}, {\"time\": \"2015-11-08T00:00:00\", \"y\": 1, \"fcst\": null, \"fcst_lower_05\": null, \"fcst_lower_25\": null, \"fcst_upper_75\": null, \"fcst_upper_95\": null}, {\"time\": \"2015-11-09T00:00:00\", \"y\": 0, \"fcst\": null, \"fcst_lower_05\": null, \"fcst_lower_25\": null, \"fcst_upper_75\": null, \"fcst_upper_95\": null}, {\"time\": \"2015-11-10T00:00:00\", \"y\": 0, \"fcst\": null, \"fcst_lower_05\": null, \"fcst_lower_25\": null, \"fcst_upper_75\": null, \"fcst_upper_95\": null}, {\"time\": \"2015-11-11T00:00:00\", \"y\": 1, \"fcst\": null, \"fcst_lower_05\": null, \"fcst_lower_25\": null, \"fcst_upper_75\": null, \"fcst_upper_95\": null}, {\"time\": \"2015-11-12T00:00:00\", \"y\": 0, \"fcst\": null, \"fcst_lower_05\": null, \"fcst_lower_25\": null, \"fcst_upper_75\": null, \"fcst_upper_95\": null}, {\"time\": \"2015-11-13T00:00:00\", \"y\": 1, \"fcst\": null, \"fcst_lower_05\": null, \"fcst_lower_25\": null, \"fcst_upper_75\": null, \"fcst_upper_95\": null}, {\"time\": \"2015-11-14T00:00:00\", \"y\": 0, \"fcst\": null, \"fcst_lower_05\": null, \"fcst_lower_25\": null, \"fcst_upper_75\": null, \"fcst_upper_95\": null}, {\"time\": \"2015-11-15T00:00:00\", \"y\": 1, \"fcst\": null, \"fcst_lower_05\": null, \"fcst_lower_25\": null, \"fcst_upper_75\": null, \"fcst_upper_95\": null}, {\"time\": \"2015-11-16T00:00:00\", \"y\": 0, \"fcst\": null, \"fcst_lower_05\": null, \"fcst_lower_25\": null, \"fcst_upper_75\": null, \"fcst_upper_95\": null}, {\"time\": \"2015-11-17T00:00:00\", \"y\": 1, \"fcst\": null, \"fcst_lower_05\": null, \"fcst_lower_25\": null, \"fcst_upper_75\": null, \"fcst_upper_95\": null}, {\"time\": \"2015-11-18T00:00:00\", \"y\": 3, \"fcst\": null, \"fcst_lower_05\": null, \"fcst_lower_25\": null, \"fcst_upper_75\": null, \"fcst_upper_95\": null}, {\"time\": \"2015-11-19T00:00:00\", \"y\": 0, \"fcst\": null, \"fcst_lower_05\": null, \"fcst_lower_25\": null, \"fcst_upper_75\": null, \"fcst_upper_95\": null}, {\"time\": \"2015-11-20T00:00:00\", \"y\": 1, \"fcst\": null, \"fcst_lower_05\": null, \"fcst_lower_25\": null, \"fcst_upper_75\": null, \"fcst_upper_95\": null}, {\"time\": \"2015-11-21T00:00:00\", \"y\": 1, \"fcst\": null, \"fcst_lower_05\": null, \"fcst_lower_25\": null, \"fcst_upper_75\": null, \"fcst_upper_95\": null}, {\"time\": \"2015-11-22T00:00:00\", \"y\": 2, \"fcst\": null, \"fcst_lower_05\": null, \"fcst_lower_25\": null, \"fcst_upper_75\": null, \"fcst_upper_95\": null}, {\"time\": \"2015-11-23T00:00:00\", \"y\": 1, \"fcst\": null, \"fcst_lower_05\": null, \"fcst_lower_25\": null, \"fcst_upper_75\": null, \"fcst_upper_95\": null}, {\"time\": \"2015-11-24T00:00:00\", \"y\": 4, \"fcst\": null, \"fcst_lower_05\": null, \"fcst_lower_25\": null, \"fcst_upper_75\": null, \"fcst_upper_95\": null}, {\"time\": \"2015-11-25T00:00:00\", \"y\": 1, \"fcst\": null, \"fcst_lower_05\": null, \"fcst_lower_25\": null, \"fcst_upper_75\": null, \"fcst_upper_95\": null}, {\"time\": \"2015-11-26T00:00:00\", \"y\": 0, \"fcst\": null, \"fcst_lower_05\": null, \"fcst_lower_25\": null, \"fcst_upper_75\": null, \"fcst_upper_95\": null}, {\"time\": \"2015-11-27T00:00:00\", \"y\": 0, \"fcst\": null, \"fcst_lower_05\": null, \"fcst_lower_25\": null, \"fcst_upper_75\": null, \"fcst_upper_95\": null}, {\"time\": \"2015-11-28T00:00:00\", \"y\": 1, \"fcst\": null, \"fcst_lower_05\": null, \"fcst_lower_25\": null, \"fcst_upper_75\": null, \"fcst_upper_95\": null}, {\"time\": \"2015-11-29T00:00:00\", \"y\": 1, \"fcst\": null, \"fcst_lower_05\": null, \"fcst_lower_25\": null, \"fcst_upper_75\": null, \"fcst_upper_95\": null}, {\"time\": \"2015-11-30T00:00:00\", \"y\": 1, \"fcst\": null, \"fcst_lower_05\": null, \"fcst_lower_25\": null, \"fcst_upper_75\": null, \"fcst_upper_95\": null}, {\"time\": \"2015-12-01T00:00:00\", \"y\": 0, \"fcst\": null, \"fcst_lower_05\": null, \"fcst_lower_25\": null, \"fcst_upper_75\": null, \"fcst_upper_95\": null}, {\"time\": \"2015-12-02T00:00:00\", \"y\": 2, \"fcst\": null, \"fcst_lower_05\": null, \"fcst_lower_25\": null, \"fcst_upper_75\": null, \"fcst_upper_95\": null}, {\"time\": \"2015-12-03T00:00:00\", \"y\": 3, \"fcst\": null, \"fcst_lower_05\": null, \"fcst_lower_25\": null, \"fcst_upper_75\": null, \"fcst_upper_95\": null}, {\"time\": \"2015-12-04T00:00:00\", \"y\": 1, \"fcst\": null, \"fcst_lower_05\": null, \"fcst_lower_25\": null, \"fcst_upper_75\": null, \"fcst_upper_95\": null}, {\"time\": \"2015-12-05T00:00:00\", \"y\": 4, \"fcst\": null, \"fcst_lower_05\": null, \"fcst_lower_25\": null, \"fcst_upper_75\": null, \"fcst_upper_95\": null}, {\"time\": \"2015-12-06T00:00:00\", \"y\": 1, \"fcst\": null, \"fcst_lower_05\": null, \"fcst_lower_25\": null, \"fcst_upper_75\": null, \"fcst_upper_95\": null}, {\"time\": \"2015-12-07T00:00:00\", \"y\": 0, \"fcst\": null, \"fcst_lower_05\": null, \"fcst_lower_25\": null, \"fcst_upper_75\": null, \"fcst_upper_95\": null}, {\"time\": \"2015-12-08T00:00:00\", \"y\": 0, \"fcst\": null, \"fcst_lower_05\": null, \"fcst_lower_25\": null, \"fcst_upper_75\": null, \"fcst_upper_95\": null}, {\"time\": \"2015-12-09T00:00:00\", \"y\": 1, \"fcst\": null, \"fcst_lower_05\": null, \"fcst_lower_25\": null, \"fcst_upper_75\": null, \"fcst_upper_95\": null}, {\"time\": \"2015-12-10T00:00:00\", \"y\": 2, \"fcst\": null, \"fcst_lower_05\": null, \"fcst_lower_25\": null, \"fcst_upper_75\": null, \"fcst_upper_95\": null}, {\"time\": \"2015-12-11T00:00:00\", \"y\": 1, \"fcst\": null, \"fcst_lower_05\": null, \"fcst_lower_25\": null, \"fcst_upper_75\": null, \"fcst_upper_95\": null}, {\"time\": \"2015-12-12T00:00:00\", \"y\": 1, \"fcst\": null, \"fcst_lower_05\": null, \"fcst_lower_25\": null, \"fcst_upper_75\": null, \"fcst_upper_95\": null}, {\"time\": \"2015-12-13T00:00:00\", \"y\": 0, \"fcst\": null, \"fcst_lower_05\": null, \"fcst_lower_25\": null, \"fcst_upper_75\": null, \"fcst_upper_95\": null}, {\"time\": \"2015-12-14T00:00:00\", \"y\": 0, \"fcst\": null, \"fcst_lower_05\": null, \"fcst_lower_25\": null, \"fcst_upper_75\": null, \"fcst_upper_95\": null}, {\"time\": \"2015-12-15T00:00:00\", \"y\": 0, \"fcst\": null, \"fcst_lower_05\": null, \"fcst_lower_25\": null, \"fcst_upper_75\": null, \"fcst_upper_95\": null}, {\"time\": \"2015-12-16T00:00:00\", \"y\": 2, \"fcst\": null, \"fcst_lower_05\": null, \"fcst_lower_25\": null, \"fcst_upper_75\": null, \"fcst_upper_95\": null}, {\"time\": \"2015-12-17T00:00:00\", \"y\": 0, \"fcst\": null, \"fcst_lower_05\": null, \"fcst_lower_25\": null, \"fcst_upper_75\": null, \"fcst_upper_95\": null}, {\"time\": \"2015-12-18T00:00:00\", \"y\": 0, \"fcst\": null, \"fcst_lower_05\": null, \"fcst_lower_25\": null, \"fcst_upper_75\": null, \"fcst_upper_95\": null}, {\"time\": \"2015-12-19T00:00:00\", \"y\": 2, \"fcst\": null, \"fcst_lower_05\": null, \"fcst_lower_25\": null, \"fcst_upper_75\": null, \"fcst_upper_95\": null}, {\"time\": \"2015-12-20T00:00:00\", \"y\": 1, \"fcst\": null, \"fcst_lower_05\": null, \"fcst_lower_25\": null, \"fcst_upper_75\": null, \"fcst_upper_95\": null}, {\"time\": \"2015-12-21T00:00:00\", \"y\": 0, \"fcst\": null, \"fcst_lower_05\": null, \"fcst_lower_25\": null, \"fcst_upper_75\": null, \"fcst_upper_95\": null}, {\"time\": \"2015-12-22T00:00:00\", \"y\": 2, \"fcst\": null, \"fcst_lower_05\": null, \"fcst_lower_25\": null, \"fcst_upper_75\": null, \"fcst_upper_95\": null}, {\"time\": \"2015-12-23T00:00:00\", \"y\": 0, \"fcst\": null, \"fcst_lower_05\": null, \"fcst_lower_25\": null, \"fcst_upper_75\": null, \"fcst_upper_95\": null}, {\"time\": \"2015-12-24T00:00:00\", \"y\": 1, \"fcst\": null, \"fcst_lower_05\": null, \"fcst_lower_25\": null, \"fcst_upper_75\": null, \"fcst_upper_95\": null}, {\"time\": \"2015-12-25T00:00:00\", \"y\": 0, \"fcst\": null, \"fcst_lower_05\": null, \"fcst_lower_25\": null, \"fcst_upper_75\": null, \"fcst_upper_95\": null}, {\"time\": \"2015-12-26T00:00:00\", \"y\": 3, \"fcst\": null, \"fcst_lower_05\": null, \"fcst_lower_25\": null, \"fcst_upper_75\": null, \"fcst_upper_95\": null}, {\"time\": \"2015-12-27T00:00:00\", \"y\": 0, \"fcst\": null, \"fcst_lower_05\": null, \"fcst_lower_25\": null, \"fcst_upper_75\": null, \"fcst_upper_95\": null}, {\"time\": \"2015-12-28T00:00:00\", \"y\": 1, \"fcst\": null, \"fcst_lower_05\": null, \"fcst_lower_25\": null, \"fcst_upper_75\": null, \"fcst_upper_95\": null}, {\"time\": \"2015-12-29T00:00:00\", \"y\": 0, \"fcst\": null, \"fcst_lower_05\": null, \"fcst_lower_25\": null, \"fcst_upper_75\": null, \"fcst_upper_95\": null}, {\"time\": \"2015-12-30T00:00:00\", \"y\": 1, \"fcst\": null, \"fcst_lower_05\": null, \"fcst_lower_25\": null, \"fcst_upper_75\": null, \"fcst_upper_95\": null}, {\"time\": \"2015-12-31T00:00:00\", \"y\": 0, \"fcst\": null, \"fcst_lower_05\": null, \"fcst_lower_25\": null, \"fcst_upper_75\": null, \"fcst_upper_95\": null}, {\"time\": \"2016-01-01T00:00:00\", \"y\": 3, \"fcst\": null, \"fcst_lower_05\": null, \"fcst_lower_25\": null, \"fcst_upper_75\": null, \"fcst_upper_95\": null}, {\"time\": \"2016-01-02T00:00:00\", \"y\": 2, \"fcst\": null, \"fcst_lower_05\": null, \"fcst_lower_25\": null, \"fcst_upper_75\": null, \"fcst_upper_95\": null}, {\"time\": \"2016-01-03T00:00:00\", \"y\": 0, \"fcst\": null, \"fcst_lower_05\": null, \"fcst_lower_25\": null, \"fcst_upper_75\": null, \"fcst_upper_95\": null}, {\"time\": \"2016-01-04T00:00:00\", \"y\": 0, \"fcst\": null, \"fcst_lower_05\": null, \"fcst_lower_25\": null, \"fcst_upper_75\": null, \"fcst_upper_95\": null}, {\"time\": \"2016-01-05T00:00:00\", \"y\": 1, \"fcst\": null, \"fcst_lower_05\": null, \"fcst_lower_25\": null, \"fcst_upper_75\": null, \"fcst_upper_95\": null}, {\"time\": \"2016-01-06T00:00:00\", \"y\": 1, \"fcst\": null, \"fcst_lower_05\": null, \"fcst_lower_25\": null, \"fcst_upper_75\": null, \"fcst_upper_95\": null}, {\"time\": \"2016-01-07T00:00:00\", \"y\": 0, \"fcst\": null, \"fcst_lower_05\": null, \"fcst_lower_25\": null, \"fcst_upper_75\": null, \"fcst_upper_95\": null}, {\"time\": \"2016-01-08T00:00:00\", \"y\": 3, \"fcst\": null, \"fcst_lower_05\": null, \"fcst_lower_25\": null, \"fcst_upper_75\": null, \"fcst_upper_95\": null}, {\"time\": \"2016-01-09T00:00:00\", \"y\": 0, \"fcst\": null, \"fcst_lower_05\": null, \"fcst_lower_25\": null, \"fcst_upper_75\": null, \"fcst_upper_95\": null}, {\"time\": \"2016-01-10T00:00:00\", \"y\": 3, \"fcst\": null, \"fcst_lower_05\": null, \"fcst_lower_25\": null, \"fcst_upper_75\": null, \"fcst_upper_95\": null}, {\"time\": \"2016-01-11T00:00:00\", \"y\": 0, \"fcst\": null, \"fcst_lower_05\": null, \"fcst_lower_25\": null, \"fcst_upper_75\": null, \"fcst_upper_95\": null}, {\"time\": \"2016-01-12T00:00:00\", \"y\": 3, \"fcst\": null, \"fcst_lower_05\": null, \"fcst_lower_25\": null, \"fcst_upper_75\": null, \"fcst_upper_95\": null}, {\"time\": \"2016-01-13T00:00:00\", \"y\": 3, \"fcst\": null, \"fcst_lower_05\": null, \"fcst_lower_25\": null, \"fcst_upper_75\": null, \"fcst_upper_95\": null}, {\"time\": \"2016-01-14T00:00:00\", \"y\": 1, \"fcst\": null, \"fcst_lower_05\": null, \"fcst_lower_25\": null, \"fcst_upper_75\": null, \"fcst_upper_95\": null}, {\"time\": \"2016-01-15T00:00:00\", \"y\": 1, \"fcst\": null, \"fcst_lower_05\": null, \"fcst_lower_25\": null, \"fcst_upper_75\": null, \"fcst_upper_95\": null}, {\"time\": \"2016-01-16T00:00:00\", \"y\": 1, \"fcst\": null, \"fcst_lower_05\": null, \"fcst_lower_25\": null, \"fcst_upper_75\": null, \"fcst_upper_95\": null}, {\"time\": \"2016-01-17T00:00:00\", \"y\": 1, \"fcst\": null, \"fcst_lower_05\": null, \"fcst_lower_25\": null, \"fcst_upper_75\": null, \"fcst_upper_95\": null}, {\"time\": \"2016-01-18T00:00:00\", \"y\": 2, \"fcst\": null, \"fcst_lower_05\": null, \"fcst_lower_25\": null, \"fcst_upper_75\": null, \"fcst_upper_95\": null}, {\"time\": \"2016-01-19T00:00:00\", \"y\": 0, \"fcst\": null, \"fcst_lower_05\": null, \"fcst_lower_25\": null, \"fcst_upper_75\": null, \"fcst_upper_95\": null}, {\"time\": \"2016-01-20T00:00:00\", \"y\": 2, \"fcst\": null, \"fcst_lower_05\": null, \"fcst_lower_25\": null, \"fcst_upper_75\": null, \"fcst_upper_95\": null}, {\"time\": \"2016-01-21T00:00:00\", \"y\": 1, \"fcst\": null, \"fcst_lower_05\": null, \"fcst_lower_25\": null, \"fcst_upper_75\": null, \"fcst_upper_95\": null}, {\"time\": \"2016-01-22T00:00:00\", \"y\": 0, \"fcst\": null, \"fcst_lower_05\": null, \"fcst_lower_25\": null, \"fcst_upper_75\": null, \"fcst_upper_95\": null}, {\"time\": \"2016-01-23T00:00:00\", \"y\": 0, \"fcst\": null, \"fcst_lower_05\": null, \"fcst_lower_25\": null, \"fcst_upper_75\": null, \"fcst_upper_95\": null}, {\"time\": \"2016-01-24T00:00:00\", \"y\": 2, \"fcst\": null, \"fcst_lower_05\": null, \"fcst_lower_25\": null, \"fcst_upper_75\": null, \"fcst_upper_95\": null}, {\"time\": \"2016-01-25T00:00:00\", \"y\": 1, \"fcst\": null, \"fcst_lower_05\": null, \"fcst_lower_25\": null, \"fcst_upper_75\": null, \"fcst_upper_95\": null}, {\"time\": \"2016-01-26T00:00:00\", \"y\": 2, \"fcst\": null, \"fcst_lower_05\": null, \"fcst_lower_25\": null, \"fcst_upper_75\": null, \"fcst_upper_95\": null}, {\"time\": \"2016-01-27T00:00:00\", \"y\": 0, \"fcst\": null, \"fcst_lower_05\": null, \"fcst_lower_25\": null, \"fcst_upper_75\": null, \"fcst_upper_95\": null}, {\"time\": \"2016-01-28T00:00:00\", \"y\": 1, \"fcst\": null, \"fcst_lower_05\": null, \"fcst_lower_25\": null, \"fcst_upper_75\": null, \"fcst_upper_95\": null}, {\"time\": \"2016-01-29T00:00:00\", \"y\": 2, \"fcst\": null, \"fcst_lower_05\": null, \"fcst_lower_25\": null, \"fcst_upper_75\": null, \"fcst_upper_95\": null}, {\"time\": \"2016-01-30T00:00:00\", \"y\": 0, \"fcst\": null, \"fcst_lower_05\": null, \"fcst_lower_25\": null, \"fcst_upper_75\": null, \"fcst_upper_95\": null}, {\"time\": \"2016-01-31T00:00:00\", \"y\": 3, \"fcst\": null, \"fcst_lower_05\": null, \"fcst_lower_25\": null, \"fcst_upper_75\": null, \"fcst_upper_95\": null}, {\"time\": \"2016-02-01T00:00:00\", \"y\": 1, \"fcst\": null, \"fcst_lower_05\": null, \"fcst_lower_25\": null, \"fcst_upper_75\": null, \"fcst_upper_95\": null}, {\"time\": \"2016-02-02T00:00:00\", \"y\": 0, \"fcst\": null, \"fcst_lower_05\": null, \"fcst_lower_25\": null, \"fcst_upper_75\": null, \"fcst_upper_95\": null}, {\"time\": \"2016-02-03T00:00:00\", \"y\": 2, \"fcst\": null, \"fcst_lower_05\": null, \"fcst_lower_25\": null, \"fcst_upper_75\": null, \"fcst_upper_95\": null}, {\"time\": \"2016-02-04T00:00:00\", \"y\": 1, \"fcst\": null, \"fcst_lower_05\": null, \"fcst_lower_25\": null, \"fcst_upper_75\": null, \"fcst_upper_95\": null}, {\"time\": \"2016-02-05T00:00:00\", \"y\": 1, \"fcst\": null, \"fcst_lower_05\": null, \"fcst_lower_25\": null, \"fcst_upper_75\": null, \"fcst_upper_95\": null}, {\"time\": \"2016-02-06T00:00:00\", \"y\": 1, \"fcst\": null, \"fcst_lower_05\": null, \"fcst_lower_25\": null, \"fcst_upper_75\": null, \"fcst_upper_95\": null}, {\"time\": \"2016-02-07T00:00:00\", \"y\": 1, \"fcst\": null, \"fcst_lower_05\": null, \"fcst_lower_25\": null, \"fcst_upper_75\": null, \"fcst_upper_95\": null}, {\"time\": \"2016-02-08T00:00:00\", \"y\": 0, \"fcst\": null, \"fcst_lower_05\": null, \"fcst_lower_25\": null, \"fcst_upper_75\": null, \"fcst_upper_95\": null}, {\"time\": \"2016-02-09T00:00:00\", \"y\": 0, \"fcst\": null, \"fcst_lower_05\": null, \"fcst_lower_25\": null, \"fcst_upper_75\": null, \"fcst_upper_95\": null}, {\"time\": \"2016-02-10T00:00:00\", \"y\": 0, \"fcst\": null, \"fcst_lower_05\": null, \"fcst_lower_25\": null, \"fcst_upper_75\": null, \"fcst_upper_95\": null}, {\"time\": \"2016-02-11T00:00:00\", \"y\": 3, \"fcst\": null, \"fcst_lower_05\": null, \"fcst_lower_25\": null, \"fcst_upper_75\": null, \"fcst_upper_95\": null}, {\"time\": \"2016-02-12T00:00:00\", \"y\": 4, \"fcst\": null, \"fcst_lower_05\": null, \"fcst_lower_25\": null, \"fcst_upper_75\": null, \"fcst_upper_95\": null}, {\"time\": \"2016-02-13T00:00:00\", \"y\": 1, \"fcst\": null, \"fcst_lower_05\": null, \"fcst_lower_25\": null, \"fcst_upper_75\": null, \"fcst_upper_95\": null}, {\"time\": \"2016-02-14T00:00:00\", \"y\": 0, \"fcst\": null, \"fcst_lower_05\": null, \"fcst_lower_25\": null, \"fcst_upper_75\": null, \"fcst_upper_95\": null}, {\"time\": \"2016-02-15T00:00:00\", \"y\": 1, \"fcst\": null, \"fcst_lower_05\": null, \"fcst_lower_25\": null, \"fcst_upper_75\": null, \"fcst_upper_95\": null}, {\"time\": \"2016-02-16T00:00:00\", \"y\": 2, \"fcst\": null, \"fcst_lower_05\": null, \"fcst_lower_25\": null, \"fcst_upper_75\": null, \"fcst_upper_95\": null}, {\"time\": \"2016-02-17T00:00:00\", \"y\": 2, \"fcst\": null, \"fcst_lower_05\": null, \"fcst_lower_25\": null, \"fcst_upper_75\": null, \"fcst_upper_95\": null}, {\"time\": \"2016-02-18T00:00:00\", \"y\": 2, \"fcst\": null, \"fcst_lower_05\": null, \"fcst_lower_25\": null, \"fcst_upper_75\": null, \"fcst_upper_95\": null}, {\"time\": \"2016-02-19T00:00:00\", \"y\": 1, \"fcst\": null, \"fcst_lower_05\": null, \"fcst_lower_25\": null, \"fcst_upper_75\": null, \"fcst_upper_95\": null}, {\"time\": \"2016-02-20T00:00:00\", \"y\": 0, \"fcst\": null, \"fcst_lower_05\": null, \"fcst_lower_25\": null, \"fcst_upper_75\": null, \"fcst_upper_95\": null}, {\"time\": \"2016-02-21T00:00:00\", \"y\": 0, \"fcst\": null, \"fcst_lower_05\": null, \"fcst_lower_25\": null, \"fcst_upper_75\": null, \"fcst_upper_95\": null}, {\"time\": \"2016-02-22T00:00:00\", \"y\": 1, \"fcst\": null, \"fcst_lower_05\": null, \"fcst_lower_25\": null, \"fcst_upper_75\": null, \"fcst_upper_95\": null}, {\"time\": \"2016-02-23T00:00:00\", \"y\": 0, \"fcst\": null, \"fcst_lower_05\": null, \"fcst_lower_25\": null, \"fcst_upper_75\": null, \"fcst_upper_95\": null}, {\"time\": \"2016-02-24T00:00:00\", \"y\": 1, \"fcst\": null, \"fcst_lower_05\": null, \"fcst_lower_25\": null, \"fcst_upper_75\": null, \"fcst_upper_95\": null}, {\"time\": \"2016-02-25T00:00:00\", \"y\": 2, \"fcst\": null, \"fcst_lower_05\": null, \"fcst_lower_25\": null, \"fcst_upper_75\": null, \"fcst_upper_95\": null}, {\"time\": \"2016-02-26T00:00:00\", \"y\": 1, \"fcst\": null, \"fcst_lower_05\": null, \"fcst_lower_25\": null, \"fcst_upper_75\": null, \"fcst_upper_95\": null}, {\"time\": \"2016-02-27T00:00:00\", \"y\": 0, \"fcst\": null, \"fcst_lower_05\": null, \"fcst_lower_25\": null, \"fcst_upper_75\": null, \"fcst_upper_95\": null}, {\"time\": \"2016-02-28T00:00:00\", \"y\": 4, \"fcst\": null, \"fcst_lower_05\": null, \"fcst_lower_25\": null, \"fcst_upper_75\": null, \"fcst_upper_95\": null}, {\"time\": \"2016-02-29T00:00:00\", \"y\": 0, \"fcst\": null, \"fcst_lower_05\": null, \"fcst_lower_25\": null, \"fcst_upper_75\": null, \"fcst_upper_95\": null}, {\"time\": \"2016-03-01T00:00:00\", \"y\": 1, \"fcst\": null, \"fcst_lower_05\": null, \"fcst_lower_25\": null, \"fcst_upper_75\": null, \"fcst_upper_95\": null}, {\"time\": \"2016-03-02T00:00:00\", \"y\": 0, \"fcst\": null, \"fcst_lower_05\": null, \"fcst_lower_25\": null, \"fcst_upper_75\": null, \"fcst_upper_95\": null}, {\"time\": \"2016-03-03T00:00:00\", \"y\": 2, \"fcst\": null, \"fcst_lower_05\": null, \"fcst_lower_25\": null, \"fcst_upper_75\": null, \"fcst_upper_95\": null}, {\"time\": \"2016-03-04T00:00:00\", \"y\": 1, \"fcst\": null, \"fcst_lower_05\": null, \"fcst_lower_25\": null, \"fcst_upper_75\": null, \"fcst_upper_95\": null}, {\"time\": \"2016-03-05T00:00:00\", \"y\": 0, \"fcst\": null, \"fcst_lower_05\": null, \"fcst_lower_25\": null, \"fcst_upper_75\": null, \"fcst_upper_95\": null}, {\"time\": \"2016-03-06T00:00:00\", \"y\": 2, \"fcst\": null, \"fcst_lower_05\": null, \"fcst_lower_25\": null, \"fcst_upper_75\": null, \"fcst_upper_95\": null}, {\"time\": \"2016-03-07T00:00:00\", \"y\": 0, \"fcst\": null, \"fcst_lower_05\": null, \"fcst_lower_25\": null, \"fcst_upper_75\": null, \"fcst_upper_95\": null}, {\"time\": \"2016-03-08T00:00:00\", \"y\": 1, \"fcst\": null, \"fcst_lower_05\": null, \"fcst_lower_25\": null, \"fcst_upper_75\": null, \"fcst_upper_95\": null}, {\"time\": \"2016-03-09T00:00:00\", \"y\": 0, \"fcst\": null, \"fcst_lower_05\": null, \"fcst_lower_25\": null, \"fcst_upper_75\": null, \"fcst_upper_95\": null}, {\"time\": \"2016-03-10T00:00:00\", \"y\": 3, \"fcst\": null, \"fcst_lower_05\": null, \"fcst_lower_25\": null, \"fcst_upper_75\": null, \"fcst_upper_95\": null}, {\"time\": \"2016-03-11T00:00:00\", \"y\": 0, \"fcst\": null, \"fcst_lower_05\": null, \"fcst_lower_25\": null, \"fcst_upper_75\": null, \"fcst_upper_95\": null}, {\"time\": \"2016-03-12T00:00:00\", \"y\": 0, \"fcst\": null, \"fcst_lower_05\": null, \"fcst_lower_25\": null, \"fcst_upper_75\": null, \"fcst_upper_95\": null}, {\"time\": \"2016-03-13T00:00:00\", \"y\": 0, \"fcst\": null, \"fcst_lower_05\": null, \"fcst_lower_25\": null, \"fcst_upper_75\": null, \"fcst_upper_95\": null}, {\"time\": \"2016-03-14T00:00:00\", \"y\": 0, \"fcst\": null, \"fcst_lower_05\": null, \"fcst_lower_25\": null, \"fcst_upper_75\": null, \"fcst_upper_95\": null}, {\"time\": \"2016-03-15T00:00:00\", \"y\": 0, \"fcst\": null, \"fcst_lower_05\": null, \"fcst_lower_25\": null, \"fcst_upper_75\": null, \"fcst_upper_95\": null}, {\"time\": \"2016-03-16T00:00:00\", \"y\": 0, \"fcst\": null, \"fcst_lower_05\": null, \"fcst_lower_25\": null, \"fcst_upper_75\": null, \"fcst_upper_95\": null}, {\"time\": \"2016-03-17T00:00:00\", \"y\": 0, \"fcst\": null, \"fcst_lower_05\": null, \"fcst_lower_25\": null, \"fcst_upper_75\": null, \"fcst_upper_95\": null}, {\"time\": \"2016-03-18T00:00:00\", \"y\": 1, \"fcst\": null, \"fcst_lower_05\": null, \"fcst_lower_25\": null, \"fcst_upper_75\": null, \"fcst_upper_95\": null}, {\"time\": \"2016-03-19T00:00:00\", \"y\": 1, \"fcst\": null, \"fcst_lower_05\": null, \"fcst_lower_25\": null, \"fcst_upper_75\": null, \"fcst_upper_95\": null}, {\"time\": \"2016-03-20T00:00:00\", \"y\": 2, \"fcst\": null, \"fcst_lower_05\": null, \"fcst_lower_25\": null, \"fcst_upper_75\": null, \"fcst_upper_95\": null}, {\"time\": \"2016-03-21T00:00:00\", \"y\": 6, \"fcst\": null, \"fcst_lower_05\": null, \"fcst_lower_25\": null, \"fcst_upper_75\": null, \"fcst_upper_95\": null}, {\"time\": \"2016-03-22T00:00:00\", \"y\": 0, \"fcst\": null, \"fcst_lower_05\": null, \"fcst_lower_25\": null, \"fcst_upper_75\": null, \"fcst_upper_95\": null}, {\"time\": \"2016-03-23T00:00:00\", \"y\": 0, \"fcst\": null, \"fcst_lower_05\": null, \"fcst_lower_25\": null, \"fcst_upper_75\": null, \"fcst_upper_95\": null}, {\"time\": \"2016-03-24T00:00:00\", \"y\": 2, \"fcst\": null, \"fcst_lower_05\": null, \"fcst_lower_25\": null, \"fcst_upper_75\": null, \"fcst_upper_95\": null}, {\"time\": \"2016-03-25T00:00:00\", \"y\": 0, \"fcst\": null, \"fcst_lower_05\": null, \"fcst_lower_25\": null, \"fcst_upper_75\": null, \"fcst_upper_95\": null}, {\"time\": \"2016-03-26T00:00:00\", \"y\": 1, \"fcst\": null, \"fcst_lower_05\": null, \"fcst_lower_25\": null, \"fcst_upper_75\": null, \"fcst_upper_95\": null}, {\"time\": \"2016-03-27T00:00:00\", \"y\": 1, \"fcst\": null, \"fcst_lower_05\": null, \"fcst_lower_25\": null, \"fcst_upper_75\": null, \"fcst_upper_95\": null}, {\"time\": \"2016-03-28T00:00:00\", \"y\": 0, \"fcst\": null, \"fcst_lower_05\": null, \"fcst_lower_25\": null, \"fcst_upper_75\": null, \"fcst_upper_95\": null}, {\"time\": \"2016-03-29T00:00:00\", \"y\": 2, \"fcst\": null, \"fcst_lower_05\": null, \"fcst_lower_25\": null, \"fcst_upper_75\": null, \"fcst_upper_95\": null}, {\"time\": \"2016-03-30T00:00:00\", \"y\": 1, \"fcst\": null, \"fcst_lower_05\": null, \"fcst_lower_25\": null, \"fcst_upper_75\": null, \"fcst_upper_95\": null}, {\"time\": \"2016-03-31T00:00:00\", \"y\": 0, \"fcst\": null, \"fcst_lower_05\": null, \"fcst_lower_25\": null, \"fcst_upper_75\": null, \"fcst_upper_95\": null}, {\"time\": \"2016-04-01T00:00:00\", \"y\": 0, \"fcst\": null, \"fcst_lower_05\": null, \"fcst_lower_25\": null, \"fcst_upper_75\": null, \"fcst_upper_95\": null}, {\"time\": \"2016-04-02T00:00:00\", \"y\": 1, \"fcst\": null, \"fcst_lower_05\": null, \"fcst_lower_25\": null, \"fcst_upper_75\": null, \"fcst_upper_95\": null}, {\"time\": \"2016-04-03T00:00:00\", \"y\": 3, \"fcst\": null, \"fcst_lower_05\": null, \"fcst_lower_25\": null, \"fcst_upper_75\": null, \"fcst_upper_95\": null}, {\"time\": \"2016-04-04T00:00:00\", \"y\": 0, \"fcst\": null, \"fcst_lower_05\": null, \"fcst_lower_25\": null, \"fcst_upper_75\": null, \"fcst_upper_95\": null}, {\"time\": \"2016-04-05T00:00:00\", \"y\": 2, \"fcst\": null, \"fcst_lower_05\": null, \"fcst_lower_25\": null, \"fcst_upper_75\": null, \"fcst_upper_95\": null}, {\"time\": \"2016-04-06T00:00:00\", \"y\": 0, \"fcst\": null, \"fcst_lower_05\": null, \"fcst_lower_25\": null, \"fcst_upper_75\": null, \"fcst_upper_95\": null}, {\"time\": \"2016-04-07T00:00:00\", \"y\": 0, \"fcst\": null, \"fcst_lower_05\": null, \"fcst_lower_25\": null, \"fcst_upper_75\": null, \"fcst_upper_95\": null}, {\"time\": \"2016-04-08T00:00:00\", \"y\": 0, \"fcst\": null, \"fcst_lower_05\": null, \"fcst_lower_25\": null, \"fcst_upper_75\": null, \"fcst_upper_95\": null}, {\"time\": \"2016-04-09T00:00:00\", \"y\": 4, \"fcst\": null, \"fcst_lower_05\": null, \"fcst_lower_25\": null, \"fcst_upper_75\": null, \"fcst_upper_95\": null}, {\"time\": \"2016-04-10T00:00:00\", \"y\": 0, \"fcst\": null, \"fcst_lower_05\": null, \"fcst_lower_25\": null, \"fcst_upper_75\": null, \"fcst_upper_95\": null}, {\"time\": \"2016-04-11T00:00:00\", \"y\": 1, \"fcst\": null, \"fcst_lower_05\": null, \"fcst_lower_25\": null, \"fcst_upper_75\": null, \"fcst_upper_95\": null}, {\"time\": \"2016-04-12T00:00:00\", \"y\": 0, \"fcst\": null, \"fcst_lower_05\": null, \"fcst_lower_25\": null, \"fcst_upper_75\": null, \"fcst_upper_95\": null}, {\"time\": \"2016-04-13T00:00:00\", \"y\": 0, \"fcst\": null, \"fcst_lower_05\": null, \"fcst_lower_25\": null, \"fcst_upper_75\": null, \"fcst_upper_95\": null}, {\"time\": \"2016-04-14T00:00:00\", \"y\": 2, \"fcst\": null, \"fcst_lower_05\": null, \"fcst_lower_25\": null, \"fcst_upper_75\": null, \"fcst_upper_95\": null}, {\"time\": \"2016-04-15T00:00:00\", \"y\": 0, \"fcst\": null, \"fcst_lower_05\": null, \"fcst_lower_25\": null, \"fcst_upper_75\": null, \"fcst_upper_95\": null}, {\"time\": \"2016-04-16T00:00:00\", \"y\": 2, \"fcst\": null, \"fcst_lower_05\": null, \"fcst_lower_25\": null, \"fcst_upper_75\": null, \"fcst_upper_95\": null}, {\"time\": \"2016-04-17T00:00:00\", \"y\": 3, \"fcst\": null, \"fcst_lower_05\": null, \"fcst_lower_25\": null, \"fcst_upper_75\": null, \"fcst_upper_95\": null}, {\"time\": \"2016-04-18T00:00:00\", \"y\": 1, \"fcst\": null, \"fcst_lower_05\": null, \"fcst_lower_25\": null, \"fcst_upper_75\": null, \"fcst_upper_95\": null}, {\"time\": \"2016-04-19T00:00:00\", \"y\": 1, \"fcst\": null, \"fcst_lower_05\": null, \"fcst_lower_25\": null, \"fcst_upper_75\": null, \"fcst_upper_95\": null}, {\"time\": \"2016-04-20T00:00:00\", \"y\": 1, \"fcst\": null, \"fcst_lower_05\": null, \"fcst_lower_25\": null, \"fcst_upper_75\": null, \"fcst_upper_95\": null}, {\"time\": \"2016-04-21T00:00:00\", \"y\": 1, \"fcst\": null, \"fcst_lower_05\": null, \"fcst_lower_25\": null, \"fcst_upper_75\": null, \"fcst_upper_95\": null}, {\"time\": \"2016-04-22T00:00:00\", \"y\": 1, \"fcst\": null, \"fcst_lower_05\": null, \"fcst_lower_25\": null, \"fcst_upper_75\": null, \"fcst_upper_95\": null}, {\"time\": \"2016-04-23T00:00:00\", \"y\": 2, \"fcst\": null, \"fcst_lower_05\": null, \"fcst_lower_25\": null, \"fcst_upper_75\": null, \"fcst_upper_95\": null}, {\"time\": \"2016-04-24T00:00:00\", \"y\": 0, \"fcst\": null, \"fcst_lower_05\": null, \"fcst_lower_25\": null, \"fcst_upper_75\": null, \"fcst_upper_95\": null}, {\"time\": \"2016-04-25T00:00:00\", \"y\": 0, \"fcst\": 1.036353349685669, \"fcst_lower_05\": -3.6492464542388916, \"fcst_lower_25\": -0.5731934309005737, \"fcst_upper_75\": 2.9281816482543945, \"fcst_upper_95\": 4.447103500366211}, {\"time\": \"2016-04-26T00:00:00\", \"y\": 1, \"fcst\": 1.1681970357894897, \"fcst_lower_05\": -16.048458099365234, \"fcst_lower_25\": -6.717967987060547, \"fcst_upper_75\": 9.483760833740234, \"fcst_upper_95\": 19.417436599731445}, {\"time\": \"2016-04-27T00:00:00\", \"y\": 2, \"fcst\": -3.053758144378662, \"fcst_lower_05\": -15.711738586425781, \"fcst_lower_25\": -8.13373851776123, \"fcst_upper_75\": 2.150803565979004, \"fcst_upper_95\": 10.051214218139648}, {\"time\": \"2016-04-28T00:00:00\", \"y\": 3, \"fcst\": 1.0490038394927979, \"fcst_lower_05\": -18.07723045349121, \"fcst_lower_25\": -5.881337642669678, \"fcst_upper_75\": 8.208113670349121, \"fcst_upper_95\": 14.467789649963379}, {\"time\": \"2016-04-29T00:00:00\", \"y\": 0, \"fcst\": -0.010668821632862091, \"fcst_lower_05\": -21.660930633544922, \"fcst_lower_25\": -9.5720796585083, \"fcst_upper_75\": 9.915926933288574, \"fcst_upper_95\": 27.51888656616211}, {\"time\": \"2016-04-30T00:00:00\", \"y\": 2, \"fcst\": 0.6545213460922241, \"fcst_lower_05\": -10.515758514404297, \"fcst_lower_25\": -4.22466516494751, \"fcst_upper_75\": 6.243916034698486, \"fcst_upper_95\": 11.219444274902344}, {\"time\": \"2016-05-01T00:00:00\", \"y\": 3, \"fcst\": 1.3955994844436646, \"fcst_lower_05\": -8.30993938446045, \"fcst_lower_25\": -2.7031407356262207, \"fcst_upper_75\": 6.2401814460754395, \"fcst_upper_95\": 10.24386978149414}, {\"time\": \"2016-05-02T00:00:00\", \"y\": 1, \"fcst\": -7.201749324798584, \"fcst_lower_05\": -61.38704299926758, \"fcst_lower_25\": -28.891700744628906, \"fcst_upper_75\": 14.565974235534668, \"fcst_upper_95\": 43.01255798339844}, {\"time\": \"2016-05-03T00:00:00\", \"y\": 1, \"fcst\": 6.373783111572266, \"fcst_lower_05\": -54.495460510253906, \"fcst_lower_25\": -20.181507110595703, \"fcst_upper_75\": 33.46802520751953, \"fcst_upper_95\": 74.79388427734375}, {\"time\": \"2016-05-04T00:00:00\", \"y\": 1, \"fcst\": -0.8718830943107605, \"fcst_lower_05\": -9.164926528930664, \"fcst_lower_25\": -4.815046310424805, \"fcst_upper_75\": 2.792607307434082, \"fcst_upper_95\": 7.601141929626465}, {\"time\": \"2016-05-05T00:00:00\", \"y\": 0, \"fcst\": 2.675431251525879, \"fcst_lower_05\": -22.605422973632812, \"fcst_lower_25\": -9.391497611999512, \"fcst_upper_75\": 14.06575870513916, \"fcst_upper_95\": 33.53064727783203}, {\"time\": \"2016-05-06T00:00:00\", \"y\": 0, \"fcst\": 0.007173393853008747, \"fcst_lower_05\": -4.840873718261719, \"fcst_lower_25\": -1.88327956199646, \"fcst_upper_75\": 2.0650136470794678, \"fcst_upper_95\": 4.454137802124023}, {\"time\": \"2016-05-07T00:00:00\", \"y\": 2, \"fcst\": -0.9834067821502686, \"fcst_lower_05\": -8.332809448242188, \"fcst_lower_25\": -3.7451119422912598, \"fcst_upper_75\": 1.7771157026290894, \"fcst_upper_95\": 5.9316086769104}, {\"time\": \"2016-05-08T00:00:00\", \"y\": 1, \"fcst\": -0.2703910171985626, \"fcst_lower_05\": -1.3732467889785767, \"fcst_lower_25\": -0.7838244438171387, \"fcst_upper_75\": 0.03753675892949104, \"fcst_upper_95\": 0.9672644734382629}, {\"time\": \"2016-05-09T00:00:00\", \"y\": 1, \"fcst\": 15.421496391296387, \"fcst_lower_05\": -182.24176025390625, \"fcst_lower_25\": -67.67268371582031, \"fcst_upper_75\": 102.7503433227539, \"fcst_upper_95\": 213.00698852539062}, {\"time\": \"2016-05-10T00:00:00\", \"y\": 1, \"fcst\": -0.08481588214635849, \"fcst_lower_05\": -5.460785865783691, \"fcst_lower_25\": -2.7163188457489014, \"fcst_upper_75\": 2.3684940338134766, \"fcst_upper_95\": 5.518956661224365}, {\"time\": \"2016-05-11T00:00:00\", \"y\": 1, \"fcst\": 1.7093276977539062, \"fcst_lower_05\": -18.0114803314209, \"fcst_lower_25\": -6.481377601623535, \"fcst_upper_75\": 8.820906639099121, \"fcst_upper_95\": 21.698501586914062}, {\"time\": \"2016-05-12T00:00:00\", \"y\": 2, \"fcst\": 3.709809195950875e-11, \"fcst_lower_05\": -1.5349314042012452e-09, \"fcst_lower_25\": -7.186604644715544e-10, \"fcst_upper_75\": 8.617112023934226e-10, \"fcst_upper_95\": 1.943246008551114e-09}, {\"time\": \"2016-05-13T00:00:00\", \"y\": 0, \"fcst\": 0.0977584645152092, \"fcst_lower_05\": -2.801384687423706, \"fcst_lower_25\": -1.4999943971633911, \"fcst_upper_75\": 1.6420191526412964, \"fcst_upper_95\": 3.336125612258911}, {\"time\": \"2016-05-14T00:00:00\", \"y\": 0, \"fcst\": -0.29278841614723206, \"fcst_lower_05\": -8.96815013885498, \"fcst_lower_25\": -3.8215529918670654, \"fcst_upper_75\": 2.7625510692596436, \"fcst_upper_95\": 6.313007831573486}, {\"time\": \"2016-05-15T00:00:00\", \"y\": 0, \"fcst\": -0.011333204805850983, \"fcst_lower_05\": -0.38026368618011475, \"fcst_lower_25\": -0.15627892315387726, \"fcst_upper_75\": 0.12702630460262299, \"fcst_upper_95\": 0.31678450107574463}, {\"time\": \"2016-05-16T00:00:00\", \"y\": 0, \"fcst\": 0.03218773752450943, \"fcst_lower_05\": -2.3904569149017334, \"fcst_lower_25\": -1.0255035161972046, \"fcst_upper_75\": 1.0305660963058472, \"fcst_upper_95\": 2.452214002609253}, {\"time\": \"2016-05-17T00:00:00\", \"y\": 1, \"fcst\": -0.39856675267219543, \"fcst_lower_05\": -4.383663654327393, \"fcst_lower_25\": -1.6531109809875488, \"fcst_upper_75\": 1.077817678451538, \"fcst_upper_95\": 3.5000569820404053}, {\"time\": \"2016-05-18T00:00:00\", \"y\": 0, \"fcst\": -0.2631244659423828, \"fcst_lower_05\": -4.14411735534668, \"fcst_lower_25\": -1.8437159061431885, \"fcst_upper_75\": 1.3627147674560547, \"fcst_upper_95\": 4.003392219543457}, {\"time\": \"2016-05-19T00:00:00\", \"y\": 0, \"fcst\": 0.46716025471687317, \"fcst_lower_05\": -1.7846860885620117, \"fcst_lower_25\": -0.29761263728141785, \"fcst_upper_75\": 1.2849458456039429, \"fcst_upper_95\": 2.207566022872925}, {\"time\": \"2016-05-20T00:00:00\", \"y\": 2, \"fcst\": -2.2852072715759277, \"fcst_lower_05\": -32.70193099975586, \"fcst_lower_25\": -20.171791076660156, \"fcst_upper_75\": 12.749975204467773, \"fcst_upper_95\": 29.48405647277832}, {\"time\": \"2016-05-21T00:00:00\", \"y\": 2, \"fcst\": -0.36201393604278564, \"fcst_lower_05\": -3.3177130222320557, \"fcst_lower_25\": -1.2898955345153809, \"fcst_upper_75\": 0.6555922031402588, \"fcst_upper_95\": 2.1809239387512207}, {\"time\": \"2016-05-22T00:00:00\", \"y\": 2, \"fcst\": -0.04473350569605827, \"fcst_lower_05\": -131.99420166015625, \"fcst_lower_25\": -46.74674987792969, \"fcst_upper_75\": 28.72443199157715, \"fcst_upper_95\": 126.09796142578125}], \"data-302bc33366dfe1498bc0394fc8325ea5\": [{\"time\": \"2016-04-25T00:00:00\"}]}}, {\"mode\": \"vega-lite\"});\n",
       "</script>"
      ],
      "text/plain": [
       "alt.LayerChart(...)"
      ]
     },
     "execution_count": 30,
     "metadata": {},
     "output_type": "execute_result"
    }
   ],
   "source": [
    "plot_index = 2  # 2, 4, 8\n",
    "plot_id = test_sampled_ids[plot_index]\n",
    "\n",
    "y = target[[plot_id]].reset_index()\n",
    "y.columns = [\"time\", \"y\"]\n",
    "y[\"time\"] = pd.to_datetime(y[\"time\"])\n",
    "\n",
    "forecast = pd.DataFrame(\n",
    "    [forecasts[0].mean[plot_index][-test_steps:]]\n",
    "    + [forecasts[0].quantile(p)[plot_index][-test_steps:] for p in [0.05, 0.25, 0.75, 0.95]],\n",
    "    columns=forecasts[0].index,\n",
    ").T.reset_index()\n",
    "forecast.columns = [\n",
    "    \"time\",\n",
    "    \"fcst\",\n",
    "    \"fcst_lower_05\",\n",
    "    \"fcst_lower_25\",\n",
    "    \"fcst_upper_75\",\n",
    "    \"fcst_upper_95\",\n",
    "]\n",
    "\n",
    "source = y.merge(forecast, how=\"left\")\n",
    "plot_forecast(\n",
    "    source, test_steps, plot_id=plot_id, model_name=\"DeepVAR\", start_date=\"2015-05-23\"\n",
    ")"
   ]
  },
  {
   "cell_type": "markdown",
   "id": "3decfb94-68e3-43a0-9fa9-61522595226f",
   "metadata": {},
   "source": [
    "# DeepAR: Prediction"
   ]
  },
  {
   "cell_type": "code",
   "execution_count": 31,
   "id": "5488e7ec-c421-4ebe-86ec-0d64f9880fd4",
   "metadata": {},
   "outputs": [],
   "source": [
    "feature_names = [\"event_name_1\", \"event_type_1\", \"event_name_2\", \"event_type_2\"]\n",
    "events = calendar[[\"date\"] + feature_names].fillna(\"NA\")\n",
    "train = events[events[\"date\"] < dates[-test_steps]][feature_names]\n",
    "\n",
    "encoder = HashingEncoder(drop_invariant=True)\n",
    "_ = encoder.fit(train)\n",
    "encoded = encoder.transform(events[feature_names])\n",
    "events = pd.concat([events[[\"date\"]], encoded], axis=1)\n",
    "\n",
    "feat_dynamic_cat = events.merge(time_related).set_index(\"date\")\n",
    "\n",
    "scaler = MinMaxScaler()\n",
    "scaled = scaler.fit_transform(feat_dynamic_cat)\n",
    "feat_dynamic_cat = pd.DataFrame(\n",
    "    scaled, columns=feat_dynamic_cat.columns, index=feat_dynamic_cat.index\n",
    ")"
   ]
  },
  {
   "cell_type": "code",
   "execution_count": 32,
   "id": "d4599568-2a70-41a8-9578-28dd87ab7bfd",
   "metadata": {},
   "outputs": [],
   "source": [
    "prices = (\n",
    "    df_train_eval[[\"id\", \"store_id\", \"item_id\"]]\n",
    "    .merge(selling_prices, how=\"left\")\n",
    "    .drop([\"store_id\", \"item_id\"], axis=1)\n",
    ")\n",
    "week_to_date = calendar[[\"date\", \"wm_yr_wk\"]].drop_duplicates()\n",
    "prices = week_to_date.merge(prices, how=\"left\").drop(\n",
    "    [\"wm_yr_wk\"], axis=1\n",
    ")\n",
    "\n",
    "scaler = MinMaxScaler()\n",
    "train = prices[prices[\"date\"] < dates[-test_steps]][[\"sell_price\"]]\n",
    "\n",
    "_ = scaler.fit(train)\n",
    "prices[\"sell_price\"] = scaler.transform(prices[[\"sell_price\"]])\n",
    "prices = prices.pivot(index=\"date\", columns=\"id\", values=\"sell_price\")\n",
    "prices = prices.fillna(method=\"bfill\")\n",
    "\n",
    "feat_dynamic_real = pd.concat([prices, snap], axis=1)"
   ]
  },
  {
   "cell_type": "code",
   "execution_count": 33,
   "id": "638d0ca7-6209-4301-8eb1-f11c7803eb66",
   "metadata": {},
   "outputs": [],
   "source": [
    "train_list = []\n",
    "for each_id in all_ids:\n",
    "    dict_by_id = {\n",
    "        FieldName.TARGET: target[each_id].values,\n",
    "        FieldName.START: target.index[0],\n",
    "        FieldName.FEAT_DYNAMIC_REAL: split_into_n_array(\n",
    "            feat_dynamic_cat.iloc[:-test_steps],\n",
    "            n_feat_dynamic_cat,\n",
    "        )\n",
    "        + split_into_n_array(\n",
    "            feat_dynamic_real[each_id].iloc[:-test_steps],\n",
    "            n_feat_dynamic_real,\n",
    "        ),\n",
    "        FieldName.FEAT_STATIC_CAT: feat_static_cat[each_id].values,\n",
    "    }\n",
    "    train_list.append(dict_by_id)\n",
    "\n",
    "test_list = []\n",
    "for each_id in all_ids:\n",
    "    dict_by_id = {\n",
    "        FieldName.TARGET: np.append(\n",
    "            target[each_id].values, np.repeat(np.nan, test_steps)\n",
    "        ),\n",
    "        FieldName.START: target.index[0],\n",
    "        FieldName.FEAT_DYNAMIC_REAL: split_into_n_array(\n",
    "            feat_dynamic_cat,\n",
    "            n_feat_dynamic_cat,\n",
    "        )\n",
    "        + split_into_n_array(\n",
    "            feat_dynamic_real[each_id],\n",
    "            n_feat_dynamic_real,\n",
    "        ),\n",
    "        FieldName.FEAT_STATIC_CAT: feat_static_cat[each_id].values,\n",
    "    }\n",
    "    test_list.append(dict_by_id)\n",
    "\n",
    "train_dataset = ListDataset(train_list, freq=\"D\")\n",
    "test_dataset = ListDataset(test_list, freq=\"D\")"
   ]
  },
  {
   "cell_type": "code",
   "execution_count": 34,
   "id": "7e2d6b7a-4c6c-47e1-bd5f-7b8ca1b0aba0",
   "metadata": {},
   "outputs": [],
   "source": [
    "trainer = Trainer(\n",
    "    ctx=device,\n",
    "    epochs=200,\n",
    "    num_batches_per_epoch=50,\n",
    "    learning_rate=0.001,\n",
    "    hybridize=True,\n",
    ")"
   ]
  },
  {
   "cell_type": "code",
   "execution_count": 35,
   "id": "11339b98-262e-4575-883a-a83e0d5e69cb",
   "metadata": {},
   "outputs": [],
   "source": [
    "deepar_estimator = DeepAREstimator(\n",
    "    freq=\"D\", \n",
    "    prediction_length=test_steps,\n",
    "    trainer=trainer,\n",
    "    context_length=2 * test_steps,\n",
    "    num_layers=2,\n",
    "    num_cells=40,\n",
    "    cell_type=\"lstm\",\n",
    "    dropout_rate=0.2,\n",
    "    use_feat_dynamic_real=True,\n",
    "    use_feat_static_cat=True,\n",
    "    use_feat_static_real=False,\n",
    "    cardinality=cardinality,\n",
    "    distr_output=NegativeBinomialOutput(),  \n",
    "    # distr_output=PoissonOutput(), \n",
    "    batch_size=30,\n",
    ")"
   ]
  },
  {
   "cell_type": "code",
   "execution_count": 36,
   "id": "37a3930c-7a7a-4bec-8efb-90a97758924c",
   "metadata": {},
   "outputs": [
    {
     "name": "stderr",
     "output_type": "stream",
     "text": [
      "100%|██████████| 50/50 [00:05<00:00,  9.60it/s, epoch=1/200, avg_epoch_loss=0.855]\n",
      "100%|██████████| 50/50 [00:04<00:00, 10.50it/s, epoch=2/200, avg_epoch_loss=1.18]\n",
      "100%|██████████| 50/50 [00:04<00:00, 10.52it/s, epoch=3/200, avg_epoch_loss=0.872]\n",
      "100%|██████████| 50/50 [00:04<00:00, 10.60it/s, epoch=4/200, avg_epoch_loss=0.868]\n",
      "100%|██████████| 50/50 [00:05<00:00,  9.62it/s, epoch=5/200, avg_epoch_loss=1.03]\n",
      "100%|██████████| 50/50 [00:04<00:00, 10.25it/s, epoch=6/200, avg_epoch_loss=1.2]\n",
      "100%|██████████| 50/50 [00:04<00:00, 10.29it/s, epoch=7/200, avg_epoch_loss=0.905]\n",
      "100%|██████████| 50/50 [00:04<00:00, 10.45it/s, epoch=8/200, avg_epoch_loss=0.748]\n",
      "100%|██████████| 50/50 [00:04<00:00, 10.49it/s, epoch=9/200, avg_epoch_loss=0.825]\n",
      "100%|██████████| 50/50 [00:04<00:00, 10.27it/s, epoch=10/200, avg_epoch_loss=0.807]\n",
      "100%|██████████| 50/50 [00:04<00:00, 10.48it/s, epoch=11/200, avg_epoch_loss=0.953]\n",
      "100%|██████████| 50/50 [00:04<00:00, 10.50it/s, epoch=12/200, avg_epoch_loss=0.874]\n",
      "100%|██████████| 50/50 [00:04<00:00, 10.32it/s, epoch=13/200, avg_epoch_loss=0.927]\n",
      "100%|██████████| 50/50 [00:05<00:00,  9.82it/s, epoch=14/200, avg_epoch_loss=0.794]\n",
      "100%|██████████| 50/50 [00:04<00:00, 10.22it/s, epoch=15/200, avg_epoch_loss=0.871]\n",
      "100%|██████████| 50/50 [00:04<00:00, 10.11it/s, epoch=16/200, avg_epoch_loss=0.766]\n",
      "100%|██████████| 50/50 [00:04<00:00, 10.07it/s, epoch=17/200, avg_epoch_loss=0.838]\n",
      "100%|██████████| 50/50 [00:04<00:00, 10.35it/s, epoch=18/200, avg_epoch_loss=0.771]\n",
      "100%|██████████| 50/50 [00:04<00:00, 10.41it/s, epoch=19/200, avg_epoch_loss=0.866]\n",
      "100%|██████████| 50/50 [00:04<00:00, 10.29it/s, epoch=20/200, avg_epoch_loss=0.77]\n",
      "100%|██████████| 50/50 [00:04<00:00, 10.56it/s, epoch=21/200, avg_epoch_loss=0.984]\n",
      "100%|██████████| 50/50 [00:04<00:00, 10.53it/s, epoch=22/200, avg_epoch_loss=0.907]\n",
      "100%|██████████| 50/50 [00:04<00:00, 10.64it/s, epoch=23/200, avg_epoch_loss=1.02]\n",
      "100%|██████████| 50/50 [00:04<00:00, 10.61it/s, epoch=24/200, avg_epoch_loss=0.788]\n",
      "100%|██████████| 50/50 [00:04<00:00, 10.59it/s, epoch=25/200, avg_epoch_loss=0.976]\n",
      "100%|██████████| 50/50 [00:04<00:00, 10.54it/s, epoch=26/200, avg_epoch_loss=1.02]\n",
      "100%|██████████| 50/50 [00:04<00:00, 10.55it/s, epoch=27/200, avg_epoch_loss=1.06]\n",
      "100%|██████████| 50/50 [00:04<00:00, 10.58it/s, epoch=28/200, avg_epoch_loss=0.646]\n",
      "100%|██████████| 50/50 [00:04<00:00, 10.57it/s, epoch=29/200, avg_epoch_loss=0.877]\n",
      "100%|██████████| 50/50 [00:05<00:00, 10.00it/s, epoch=30/200, avg_epoch_loss=0.734]\n",
      "100%|██████████| 50/50 [00:05<00:00,  9.91it/s, epoch=31/200, avg_epoch_loss=0.933]\n",
      "100%|██████████| 50/50 [00:05<00:00,  9.91it/s, epoch=32/200, avg_epoch_loss=0.811]\n",
      "100%|██████████| 50/50 [00:04<00:00, 10.05it/s, epoch=33/200, avg_epoch_loss=0.999]\n",
      "100%|██████████| 50/50 [00:04<00:00, 10.49it/s, epoch=34/200, avg_epoch_loss=0.734]\n",
      "100%|██████████| 50/50 [00:04<00:00, 10.44it/s, epoch=35/200, avg_epoch_loss=0.988]\n",
      "100%|██████████| 50/50 [00:04<00:00, 10.43it/s, epoch=36/200, avg_epoch_loss=0.737]\n",
      "100%|██████████| 50/50 [00:04<00:00, 10.36it/s, epoch=37/200, avg_epoch_loss=0.894]\n",
      "100%|██████████| 50/50 [00:04<00:00, 10.56it/s, epoch=38/200, avg_epoch_loss=0.694]\n",
      "100%|██████████| 50/50 [00:04<00:00, 10.51it/s, epoch=39/200, avg_epoch_loss=0.985]\n",
      "100%|██████████| 50/50 [00:04<00:00, 10.22it/s, epoch=40/200, avg_epoch_loss=0.67]\n",
      "100%|██████████| 50/50 [00:04<00:00, 10.51it/s, epoch=41/200, avg_epoch_loss=1.02]\n",
      "100%|██████████| 50/50 [00:04<00:00, 10.31it/s, epoch=42/200, avg_epoch_loss=0.783]\n",
      "100%|██████████| 50/50 [00:04<00:00, 10.18it/s, epoch=43/200, avg_epoch_loss=1.18]\n",
      "100%|██████████| 50/50 [00:05<00:00,  9.65it/s, epoch=44/200, avg_epoch_loss=0.804]\n",
      "100%|██████████| 50/50 [00:04<00:00, 10.09it/s, epoch=45/200, avg_epoch_loss=0.894]\n",
      "100%|██████████| 50/50 [00:04<00:00, 10.54it/s, epoch=46/200, avg_epoch_loss=0.945]\n",
      "100%|██████████| 50/50 [00:04<00:00, 10.61it/s, epoch=47/200, avg_epoch_loss=1.31]\n",
      "100%|██████████| 50/50 [00:04<00:00, 10.57it/s, epoch=48/200, avg_epoch_loss=0.635]\n",
      "100%|██████████| 50/50 [00:04<00:00, 10.58it/s, epoch=49/200, avg_epoch_loss=0.864]\n",
      "100%|██████████| 50/50 [00:04<00:00, 10.48it/s, epoch=50/200, avg_epoch_loss=0.703]\n",
      "100%|██████████| 50/50 [00:04<00:00, 10.65it/s, epoch=51/200, avg_epoch_loss=0.912]\n",
      "100%|██████████| 50/50 [00:04<00:00, 10.62it/s, epoch=52/200, avg_epoch_loss=0.813]\n",
      "100%|██████████| 50/50 [00:04<00:00, 10.64it/s, epoch=53/200, avg_epoch_loss=1.01]\n",
      "100%|██████████| 50/50 [00:04<00:00, 10.39it/s, epoch=54/200, avg_epoch_loss=0.777]\n",
      "100%|██████████| 50/50 [00:04<00:00, 10.02it/s, epoch=55/200, avg_epoch_loss=0.936]\n",
      "100%|██████████| 50/50 [00:04<00:00, 10.14it/s, epoch=56/200, avg_epoch_loss=0.75]\n",
      "100%|██████████| 50/50 [00:04<00:00, 10.21it/s, epoch=57/200, avg_epoch_loss=0.87]\n",
      "100%|██████████| 50/50 [00:04<00:00, 10.49it/s, epoch=58/200, avg_epoch_loss=0.702]\n",
      "100%|██████████| 50/50 [00:04<00:00, 10.56it/s, epoch=59/200, avg_epoch_loss=0.916]\n",
      "100%|██████████| 50/50 [00:04<00:00, 10.56it/s, epoch=60/200, avg_epoch_loss=0.726]\n",
      "100%|██████████| 50/50 [00:04<00:00, 10.25it/s, epoch=61/200, avg_epoch_loss=0.951]\n",
      "100%|██████████| 50/50 [00:04<00:00, 10.61it/s, epoch=62/200, avg_epoch_loss=0.901]\n",
      "100%|██████████| 50/50 [00:04<00:00, 10.51it/s, epoch=63/200, avg_epoch_loss=1.01]\n",
      "100%|██████████| 50/50 [00:04<00:00, 10.28it/s, epoch=64/200, avg_epoch_loss=0.944]\n",
      "100%|██████████| 50/50 [00:04<00:00, 10.40it/s, epoch=65/200, avg_epoch_loss=0.792]\n",
      "100%|██████████| 50/50 [00:04<00:00, 10.24it/s, epoch=66/200, avg_epoch_loss=1]\n",
      "100%|██████████| 50/50 [00:04<00:00, 10.63it/s, epoch=67/200, avg_epoch_loss=1.16]\n",
      "100%|██████████| 50/50 [00:04<00:00, 10.61it/s, epoch=68/200, avg_epoch_loss=0.808]\n",
      "100%|██████████| 50/50 [00:04<00:00, 10.13it/s, epoch=69/200, avg_epoch_loss=0.777]\n",
      "100%|██████████| 50/50 [00:04<00:00, 10.28it/s, epoch=70/200, avg_epoch_loss=0.822]\n",
      "100%|██████████| 50/50 [00:05<00:00,  9.83it/s, epoch=71/200, avg_epoch_loss=0.799]\n",
      "100%|██████████| 50/50 [00:04<00:00, 10.20it/s, epoch=72/200, avg_epoch_loss=0.888]\n",
      "100%|██████████| 50/50 [00:04<00:00, 10.59it/s, epoch=73/200, avg_epoch_loss=0.864]\n",
      "100%|██████████| 50/50 [00:04<00:00, 10.59it/s, epoch=74/200, avg_epoch_loss=0.896]\n",
      "100%|██████████| 50/50 [00:04<00:00, 10.62it/s, epoch=75/200, avg_epoch_loss=0.78]\n",
      "100%|██████████| 50/50 [00:04<00:00, 10.57it/s, epoch=76/200, avg_epoch_loss=0.909]\n",
      "100%|██████████| 50/50 [00:04<00:00, 10.64it/s, epoch=77/200, avg_epoch_loss=0.755]\n",
      "100%|██████████| 50/50 [00:04<00:00, 10.60it/s, epoch=78/200, avg_epoch_loss=0.828]\n",
      "100%|██████████| 50/50 [00:04<00:00, 10.65it/s, epoch=79/200, avg_epoch_loss=0.785]\n",
      "100%|██████████| 50/50 [00:04<00:00, 10.69it/s, epoch=80/200, avg_epoch_loss=0.882]\n",
      "100%|██████████| 50/50 [00:04<00:00, 10.67it/s, epoch=81/200, avg_epoch_loss=0.712]\n",
      "100%|██████████| 50/50 [00:04<00:00, 10.62it/s, epoch=82/200, avg_epoch_loss=1]\n",
      "100%|██████████| 50/50 [00:04<00:00, 10.62it/s, epoch=83/200, avg_epoch_loss=0.882]\n",
      "100%|██████████| 50/50 [00:04<00:00, 10.69it/s, epoch=84/200, avg_epoch_loss=1.03]\n",
      "100%|██████████| 50/50 [00:04<00:00, 10.65it/s, epoch=85/200, avg_epoch_loss=0.776]\n",
      "100%|██████████| 50/50 [00:04<00:00, 10.74it/s, epoch=86/200, avg_epoch_loss=0.979]\n",
      "100%|██████████| 50/50 [00:04<00:00, 10.20it/s, epoch=87/200, avg_epoch_loss=1.02]\n",
      "100%|██████████| 50/50 [00:05<00:00,  9.16it/s, epoch=88/200, avg_epoch_loss=1.14]"
     ]
    },
    {
     "name": "stdout",
     "output_type": "stream",
     "text": [
      "Early stopping based on learning rate scheduler callback (min_lr was reached).\n",
      "CPU times: user 7min 8s, sys: 16.4 s, total: 7min 24s\n",
      "Wall time: 7min 17s\n"
     ]
    },
    {
     "name": "stderr",
     "output_type": "stream",
     "text": [
      "\n"
     ]
    }
   ],
   "source": [
    "%%time\n",
    "deepar_predictor = deepar_estimator.train(train_dataset)"
   ]
  },
  {
   "cell_type": "code",
   "execution_count": 37,
   "id": "12c2d95d-6766-4a24-98f0-cf4b1e217680",
   "metadata": {},
   "outputs": [
    {
     "name": "stdout",
     "output_type": "stream",
     "text": [
      "CPU times: user 16min 3s, sys: 2min 29s, total: 18min 33s\n",
      "Wall time: 16min 26s\n"
     ]
    }
   ],
   "source": [
    "%%time\n",
    "forecast_iter, ts_iter = make_evaluation_predictions( \n",
    "    dataset=test_dataset,\n",
    "    predictor=deepar_predictor, \n",
    "    num_samples=100,\n",
    ") \n",
    "forecasts = list(forecast_iter)\n",
    "tss = list(ts_iter)"
   ]
  },
  {
   "cell_type": "code",
   "execution_count": 38,
   "id": "8c9cc279-f6f8-45f3-8c43-4adfa734f17c",
   "metadata": {},
   "outputs": [],
   "source": [
    "column_names = [\"F\" + str(i) for i in range(1, 29)]\n",
    "valid_submission = df_train_eval.loc[\n",
    "    :, [\"id\"] + date_names[-test_steps:]\n",
    "]\n",
    "valid_submission.columns = [\"id\"] + column_names\n",
    "valid_submission[\"id\"] = valid_submission[\"id\"].str.replace(\"evaluation\", \"validation\")\n",
    "eval_submission = pd.DataFrame(\n",
    "    [forecast.mean for forecast in forecasts],\n",
    "    columns=column_names,\n",
    "    index=all_ids,\n",
    ").reset_index()\n",
    "eval_submission.columns = [\"id\"] + eval_submission.columns[1:].tolist()\n",
    "submission = pd.concat([valid_submission, eval_submission])\n",
    "submission.to_csv(\"submission.csv\", index=False)"
   ]
  }
 ],
 "metadata": {
  "kernelspec": {
   "display_name": "Python 3",
   "language": "python",
   "name": "python3"
  },
  "language_info": {
   "codemirror_mode": {
    "name": "ipython",
    "version": 3
   },
   "file_extension": ".py",
   "mimetype": "text/x-python",
   "name": "python",
   "nbconvert_exporter": "python",
   "pygments_lexer": "ipython3",
   "version": "3.7.10"
  }
 },
 "nbformat": 4,
 "nbformat_minor": 5
}
